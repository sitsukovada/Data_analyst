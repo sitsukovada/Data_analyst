{
 "cells": [
  {
   "cell_type": "markdown",
   "metadata": {},
   "source": [
    "# Принятие решений в бизнесе"
   ]
  },
  {
   "cell_type": "markdown",
   "metadata": {},
   "source": [
    "Цель проекта: увеличение выручки крупного интернет-магазина."
   ]
  },
  {
   "cell_type": "markdown",
   "metadata": {},
   "source": [
    "Для достижения цели необходимо приоритизировать гипотезы, запустить A/B-тест и проанализировать результаты.\n",
    " \n",
    " **Часть1** \n",
    " \n",
    " *Приоритизация гипотез*\n",
    " \n",
    "В файле /datasets/hypothesis.csv 9 гипотез по увеличению выручки интернет-магазина с указанными параметрами Reach, Impact, Confidence, Effort.\n",
    "\n",
    "Задача\n",
    "\n",
    "* Примените фреймворк ICE для приоритизации гипотез. Отсортируйте их по убыванию приоритета.\n",
    "\n",
    "* Примените фреймворк RICE для приоритизации гипотез. Отсортируйте их по убыванию приоритета.\n",
    "\n",
    "* Укажите, как изменилась приоритизация гипотез при применении RICE вместо ICE. Объясните, почему так произошло.\n",
    "\n",
    "**Часть 2**\n",
    "\n",
    "*Анализ A/B-теста*\n",
    "\n",
    "Мы провели A/B-тест и получили результаты, которые описаны в файлах /datasets/orders.csv и /datasets/visitors.csv.\n",
    "\n",
    "Задача\n",
    "\n",
    "Проанализируйте A/B-тест:\n",
    "\n",
    "1. Постройте график кумулятивной выручки по группам. Сделайте выводы и предположения.\n",
    "\n",
    "2. Постройте график кумулятивного среднего чека по группам. Сделайте выводы и предположения.\n",
    "\n",
    "3. Постройте график относительного изменения кумулятивного среднего чека группы B к группе A. Сделайте выводы и предположения.\n",
    "\n",
    "4. Постройте график кумулятивного среднего количества заказов на посетителя по группам. Сделайте выводы и предположения.\n",
    "\n",
    "5. Постройте график относительного изменения кумулятивного среднего количества заказов на посетителя группы B к группе A. Сделайте выводы и предположения.\n",
    "\n",
    "6. Постройте точечный график количества заказов по пользователям. Сделайте выводы и предположения.\n",
    "\n",
    "7. Посчитайте 95-й и 99-й перцентили количества заказов на пользователя. Выберите границу для определения аномальных пользователей.\n",
    "\n",
    "8. Постройте точечный график стоимостей заказов. Сделайте выводы и предположения.\n",
    "\n",
    "9. Посчитайте 95-й и 99-й перцентили стоимости заказов. Выберите границу для определения аномальных заказов.\n",
    "\n",
    "10. Посчитайте статистическую значимость различий в среднем количестве заказов на посетителя между группами по «сырым» данным. Сделайте выводы и предположения.\n",
    "\n",
    "11. Посчитайте статистическую значимость различий в среднем чеке заказа между группами по «сырым» данным. Сделайте выводы и предположения.\n",
    "\n",
    "12. Посчитайте статистическую значимость различий в среднем количестве заказов на посетителя между группами по «очищенным» данным. Сделайте выводы и предположения.\n",
    "\n",
    "13. Посчитайте статистическую значимость различий в среднем чеке заказа между группами по «очищенным» данным. Сделайте выводы и предположения.\n",
    "\n",
    "14. Примите решение по результатам теста."
   ]
  },
  {
   "cell_type": "markdown",
   "metadata": {},
   "source": [
    "**Описание данных**\n",
    "\n",
    "Данные для первой части \n",
    "\n",
    "Файл /datasets/hypothesis.csv. Скачать датасет\n",
    "\n",
    "Hypothesis — краткое описание гипотезы;\n",
    "\n",
    "Reach — охват пользователей по 10-балльной шкале;\n",
    "\n",
    "Impact — влияние на пользователей по 10-балльной шкале;\n",
    "\n",
    "Confidence — уверенность в гипотезе по 10-балльной шкале;\n",
    "\n",
    "Efforts — затраты ресурсов на проверку гипотезы по 10-балльной шкале. Чем больше значение Efforts, тем дороже проверка гипотезы.\n",
    "\n",
    "\n",
    "\n",
    "\n",
    "\n",
    "Данные для второй части\n",
    "\n",
    "Файл /datasets/orders.csv. Скачать датасет\n",
    "\n",
    "transactionId — идентификатор заказа;\n",
    "\n",
    "visitorId — идентификатор пользователя, совершившего заказ;\n",
    "\n",
    "date — дата, когда был совершён заказ;\n",
    "\n",
    "revenue — выручка заказа;\n",
    "\n",
    "group — группа A/B-теста, в которую попал заказ.\n",
    "\n",
    "Файл /datasets/visitors.csv. Скачать датасет\n",
    "\n",
    "date — дата;\n",
    "\n",
    "group — группа A/B-теста;\n",
    "\n",
    "visitors — количество пользователей в указанную дату в указанной группе A/B-теста"
   ]
  },
  {
   "cell_type": "markdown",
   "metadata": {},
   "source": [
    "### Загрузка данных и подготовка их к анализу"
   ]
  },
  {
   "cell_type": "code",
   "execution_count": 383,
   "metadata": {},
   "outputs": [],
   "source": [
    "import pandas as pd\n",
    "import scipy.stats as stats\n",
    "import datetime as dt\n",
    "import numpy as np\n"
   ]
  },
  {
   "cell_type": "code",
   "execution_count": 384,
   "metadata": {},
   "outputs": [],
   "source": [
    "pd.options.display.max_colwidth = 100"
   ]
  },
  {
   "cell_type": "code",
   "execution_count": 385,
   "metadata": {},
   "outputs": [],
   "source": [
    "hypothesis = pd.read_csv('/datasets/hypothesis.csv', sep=',')\n",
    "orders = pd.read_csv('/datasets/orders.csv', sep=',')\n",
    "visitors = pd.read_csv('/datasets/visitors.csv', sep=',')"
   ]
  },
  {
   "cell_type": "code",
   "execution_count": 386,
   "metadata": {
    "scrolled": true
   },
   "outputs": [
    {
     "data": {
      "text/html": [
       "<div>\n",
       "<style scoped>\n",
       "    .dataframe tbody tr th:only-of-type {\n",
       "        vertical-align: middle;\n",
       "    }\n",
       "\n",
       "    .dataframe tbody tr th {\n",
       "        vertical-align: top;\n",
       "    }\n",
       "\n",
       "    .dataframe thead th {\n",
       "        text-align: right;\n",
       "    }\n",
       "</style>\n",
       "<table border=\"1\" class=\"dataframe\">\n",
       "  <thead>\n",
       "    <tr style=\"text-align: right;\">\n",
       "      <th></th>\n",
       "      <th>Hypothesis</th>\n",
       "      <th>Reach</th>\n",
       "      <th>Impact</th>\n",
       "      <th>Confidence</th>\n",
       "      <th>Efforts</th>\n",
       "    </tr>\n",
       "  </thead>\n",
       "  <tbody>\n",
       "    <tr>\n",
       "      <th>0</th>\n",
       "      <td>Добавить два новых канала привлечения трафика, что позволит привлекать на 30% больше пользователей</td>\n",
       "      <td>3</td>\n",
       "      <td>10</td>\n",
       "      <td>8</td>\n",
       "      <td>6</td>\n",
       "    </tr>\n",
       "    <tr>\n",
       "      <th>1</th>\n",
       "      <td>Запустить собственную службу доставки, что сократит срок доставки заказов</td>\n",
       "      <td>2</td>\n",
       "      <td>5</td>\n",
       "      <td>4</td>\n",
       "      <td>10</td>\n",
       "    </tr>\n",
       "    <tr>\n",
       "      <th>2</th>\n",
       "      <td>Добавить блоки рекомендаций товаров на сайт интернет магазина, чтобы повысить конверсию и средни...</td>\n",
       "      <td>8</td>\n",
       "      <td>3</td>\n",
       "      <td>7</td>\n",
       "      <td>3</td>\n",
       "    </tr>\n",
       "    <tr>\n",
       "      <th>3</th>\n",
       "      <td>Изменить структура категорий, что увеличит конверсию, т.к. пользователи быстрее найдут нужный товар</td>\n",
       "      <td>8</td>\n",
       "      <td>3</td>\n",
       "      <td>3</td>\n",
       "      <td>8</td>\n",
       "    </tr>\n",
       "    <tr>\n",
       "      <th>4</th>\n",
       "      <td>Изменить цвет фона главной страницы, чтобы увеличить вовлеченность пользователей</td>\n",
       "      <td>3</td>\n",
       "      <td>1</td>\n",
       "      <td>1</td>\n",
       "      <td>1</td>\n",
       "    </tr>\n",
       "  </tbody>\n",
       "</table>\n",
       "</div>"
      ],
      "text/plain": [
       "                                                                                            Hypothesis  \\\n",
       "0   Добавить два новых канала привлечения трафика, что позволит привлекать на 30% больше пользователей   \n",
       "1                            Запустить собственную службу доставки, что сократит срок доставки заказов   \n",
       "2  Добавить блоки рекомендаций товаров на сайт интернет магазина, чтобы повысить конверсию и средни...   \n",
       "3  Изменить структура категорий, что увеличит конверсию, т.к. пользователи быстрее найдут нужный товар   \n",
       "4                     Изменить цвет фона главной страницы, чтобы увеличить вовлеченность пользователей   \n",
       "\n",
       "   Reach  Impact  Confidence  Efforts  \n",
       "0      3      10           8        6  \n",
       "1      2       5           4       10  \n",
       "2      8       3           7        3  \n",
       "3      8       3           3        8  \n",
       "4      3       1           1        1  "
      ]
     },
     "execution_count": 386,
     "metadata": {},
     "output_type": "execute_result"
    }
   ],
   "source": [
    "hypothesis.head()"
   ]
  },
  {
   "cell_type": "code",
   "execution_count": 387,
   "metadata": {},
   "outputs": [
    {
     "data": {
      "text/html": [
       "<div>\n",
       "<style scoped>\n",
       "    .dataframe tbody tr th:only-of-type {\n",
       "        vertical-align: middle;\n",
       "    }\n",
       "\n",
       "    .dataframe tbody tr th {\n",
       "        vertical-align: top;\n",
       "    }\n",
       "\n",
       "    .dataframe thead th {\n",
       "        text-align: right;\n",
       "    }\n",
       "</style>\n",
       "<table border=\"1\" class=\"dataframe\">\n",
       "  <thead>\n",
       "    <tr style=\"text-align: right;\">\n",
       "      <th></th>\n",
       "      <th>transactionId</th>\n",
       "      <th>visitorId</th>\n",
       "      <th>date</th>\n",
       "      <th>revenue</th>\n",
       "      <th>group</th>\n",
       "    </tr>\n",
       "  </thead>\n",
       "  <tbody>\n",
       "    <tr>\n",
       "      <th>0</th>\n",
       "      <td>3667963787</td>\n",
       "      <td>3312258926</td>\n",
       "      <td>2019-08-15</td>\n",
       "      <td>1650</td>\n",
       "      <td>B</td>\n",
       "    </tr>\n",
       "    <tr>\n",
       "      <th>1</th>\n",
       "      <td>2804400009</td>\n",
       "      <td>3642806036</td>\n",
       "      <td>2019-08-15</td>\n",
       "      <td>730</td>\n",
       "      <td>B</td>\n",
       "    </tr>\n",
       "    <tr>\n",
       "      <th>2</th>\n",
       "      <td>2961555356</td>\n",
       "      <td>4069496402</td>\n",
       "      <td>2019-08-15</td>\n",
       "      <td>400</td>\n",
       "      <td>A</td>\n",
       "    </tr>\n",
       "    <tr>\n",
       "      <th>3</th>\n",
       "      <td>3797467345</td>\n",
       "      <td>1196621759</td>\n",
       "      <td>2019-08-15</td>\n",
       "      <td>9759</td>\n",
       "      <td>B</td>\n",
       "    </tr>\n",
       "    <tr>\n",
       "      <th>4</th>\n",
       "      <td>2282983706</td>\n",
       "      <td>2322279887</td>\n",
       "      <td>2019-08-15</td>\n",
       "      <td>2308</td>\n",
       "      <td>B</td>\n",
       "    </tr>\n",
       "  </tbody>\n",
       "</table>\n",
       "</div>"
      ],
      "text/plain": [
       "   transactionId   visitorId        date  revenue group\n",
       "0     3667963787  3312258926  2019-08-15     1650     B\n",
       "1     2804400009  3642806036  2019-08-15      730     B\n",
       "2     2961555356  4069496402  2019-08-15      400     A\n",
       "3     3797467345  1196621759  2019-08-15     9759     B\n",
       "4     2282983706  2322279887  2019-08-15     2308     B"
      ]
     },
     "execution_count": 387,
     "metadata": {},
     "output_type": "execute_result"
    }
   ],
   "source": [
    "orders.head()"
   ]
  },
  {
   "cell_type": "code",
   "execution_count": 388,
   "metadata": {},
   "outputs": [
    {
     "data": {
      "text/html": [
       "<div>\n",
       "<style scoped>\n",
       "    .dataframe tbody tr th:only-of-type {\n",
       "        vertical-align: middle;\n",
       "    }\n",
       "\n",
       "    .dataframe tbody tr th {\n",
       "        vertical-align: top;\n",
       "    }\n",
       "\n",
       "    .dataframe thead th {\n",
       "        text-align: right;\n",
       "    }\n",
       "</style>\n",
       "<table border=\"1\" class=\"dataframe\">\n",
       "  <thead>\n",
       "    <tr style=\"text-align: right;\">\n",
       "      <th></th>\n",
       "      <th>date</th>\n",
       "      <th>group</th>\n",
       "      <th>visitors</th>\n",
       "    </tr>\n",
       "  </thead>\n",
       "  <tbody>\n",
       "    <tr>\n",
       "      <th>0</th>\n",
       "      <td>2019-08-01</td>\n",
       "      <td>A</td>\n",
       "      <td>719</td>\n",
       "    </tr>\n",
       "    <tr>\n",
       "      <th>1</th>\n",
       "      <td>2019-08-02</td>\n",
       "      <td>A</td>\n",
       "      <td>619</td>\n",
       "    </tr>\n",
       "    <tr>\n",
       "      <th>2</th>\n",
       "      <td>2019-08-03</td>\n",
       "      <td>A</td>\n",
       "      <td>507</td>\n",
       "    </tr>\n",
       "    <tr>\n",
       "      <th>3</th>\n",
       "      <td>2019-08-04</td>\n",
       "      <td>A</td>\n",
       "      <td>717</td>\n",
       "    </tr>\n",
       "    <tr>\n",
       "      <th>4</th>\n",
       "      <td>2019-08-05</td>\n",
       "      <td>A</td>\n",
       "      <td>756</td>\n",
       "    </tr>\n",
       "  </tbody>\n",
       "</table>\n",
       "</div>"
      ],
      "text/plain": [
       "         date group  visitors\n",
       "0  2019-08-01     A       719\n",
       "1  2019-08-02     A       619\n",
       "2  2019-08-03     A       507\n",
       "3  2019-08-04     A       717\n",
       "4  2019-08-05     A       756"
      ]
     },
     "execution_count": 388,
     "metadata": {},
     "output_type": "execute_result"
    }
   ],
   "source": [
    "visitors.head()"
   ]
  },
  {
   "cell_type": "markdown",
   "metadata": {},
   "source": [
    "Приведем их к нижнему регистру датафрейм hypothesis"
   ]
  },
  {
   "cell_type": "code",
   "execution_count": 389,
   "metadata": {},
   "outputs": [],
   "source": [
    "hypothesis.columns = hypothesis.columns.str.lower()"
   ]
  },
  {
   "cell_type": "code",
   "execution_count": 390,
   "metadata": {},
   "outputs": [
    {
     "data": {
      "text/html": [
       "<div>\n",
       "<style scoped>\n",
       "    .dataframe tbody tr th:only-of-type {\n",
       "        vertical-align: middle;\n",
       "    }\n",
       "\n",
       "    .dataframe tbody tr th {\n",
       "        vertical-align: top;\n",
       "    }\n",
       "\n",
       "    .dataframe thead th {\n",
       "        text-align: right;\n",
       "    }\n",
       "</style>\n",
       "<table border=\"1\" class=\"dataframe\">\n",
       "  <thead>\n",
       "    <tr style=\"text-align: right;\">\n",
       "      <th></th>\n",
       "      <th>hypothesis</th>\n",
       "      <th>reach</th>\n",
       "      <th>impact</th>\n",
       "      <th>confidence</th>\n",
       "      <th>efforts</th>\n",
       "    </tr>\n",
       "  </thead>\n",
       "  <tbody>\n",
       "    <tr>\n",
       "      <th>0</th>\n",
       "      <td>Добавить два новых канала привлечения трафика, что позволит привлекать на 30% больше пользователей</td>\n",
       "      <td>3</td>\n",
       "      <td>10</td>\n",
       "      <td>8</td>\n",
       "      <td>6</td>\n",
       "    </tr>\n",
       "    <tr>\n",
       "      <th>1</th>\n",
       "      <td>Запустить собственную службу доставки, что сократит срок доставки заказов</td>\n",
       "      <td>2</td>\n",
       "      <td>5</td>\n",
       "      <td>4</td>\n",
       "      <td>10</td>\n",
       "    </tr>\n",
       "    <tr>\n",
       "      <th>2</th>\n",
       "      <td>Добавить блоки рекомендаций товаров на сайт интернет магазина, чтобы повысить конверсию и средни...</td>\n",
       "      <td>8</td>\n",
       "      <td>3</td>\n",
       "      <td>7</td>\n",
       "      <td>3</td>\n",
       "    </tr>\n",
       "    <tr>\n",
       "      <th>3</th>\n",
       "      <td>Изменить структура категорий, что увеличит конверсию, т.к. пользователи быстрее найдут нужный товар</td>\n",
       "      <td>8</td>\n",
       "      <td>3</td>\n",
       "      <td>3</td>\n",
       "      <td>8</td>\n",
       "    </tr>\n",
       "    <tr>\n",
       "      <th>4</th>\n",
       "      <td>Изменить цвет фона главной страницы, чтобы увеличить вовлеченность пользователей</td>\n",
       "      <td>3</td>\n",
       "      <td>1</td>\n",
       "      <td>1</td>\n",
       "      <td>1</td>\n",
       "    </tr>\n",
       "  </tbody>\n",
       "</table>\n",
       "</div>"
      ],
      "text/plain": [
       "                                                                                            hypothesis  \\\n",
       "0   Добавить два новых канала привлечения трафика, что позволит привлекать на 30% больше пользователей   \n",
       "1                            Запустить собственную службу доставки, что сократит срок доставки заказов   \n",
       "2  Добавить блоки рекомендаций товаров на сайт интернет магазина, чтобы повысить конверсию и средни...   \n",
       "3  Изменить структура категорий, что увеличит конверсию, т.к. пользователи быстрее найдут нужный товар   \n",
       "4                     Изменить цвет фона главной страницы, чтобы увеличить вовлеченность пользователей   \n",
       "\n",
       "   reach  impact  confidence  efforts  \n",
       "0      3      10           8        6  \n",
       "1      2       5           4       10  \n",
       "2      8       3           7        3  \n",
       "3      8       3           3        8  \n",
       "4      3       1           1        1  "
      ]
     },
     "execution_count": 390,
     "metadata": {},
     "output_type": "execute_result"
    }
   ],
   "source": [
    "hypothesis.head()"
   ]
  },
  {
   "cell_type": "markdown",
   "metadata": {},
   "source": [
    "Проверим тип данных"
   ]
  },
  {
   "cell_type": "code",
   "execution_count": 391,
   "metadata": {},
   "outputs": [
    {
     "name": "stdout",
     "output_type": "stream",
     "text": [
      "<class 'pandas.core.frame.DataFrame'>\n",
      "RangeIndex: 9 entries, 0 to 8\n",
      "Data columns (total 5 columns):\n",
      " #   Column      Non-Null Count  Dtype \n",
      "---  ------      --------------  ----- \n",
      " 0   hypothesis  9 non-null      object\n",
      " 1   reach       9 non-null      int64 \n",
      " 2   impact      9 non-null      int64 \n",
      " 3   confidence  9 non-null      int64 \n",
      " 4   efforts     9 non-null      int64 \n",
      "dtypes: int64(4), object(1)\n",
      "memory usage: 488.0+ bytes\n"
     ]
    }
   ],
   "source": [
    "hypothesis.info()"
   ]
  },
  {
   "cell_type": "code",
   "execution_count": 392,
   "metadata": {},
   "outputs": [
    {
     "name": "stdout",
     "output_type": "stream",
     "text": [
      "<class 'pandas.core.frame.DataFrame'>\n",
      "RangeIndex: 1197 entries, 0 to 1196\n",
      "Data columns (total 5 columns):\n",
      " #   Column         Non-Null Count  Dtype \n",
      "---  ------         --------------  ----- \n",
      " 0   transactionId  1197 non-null   int64 \n",
      " 1   visitorId      1197 non-null   int64 \n",
      " 2   date           1197 non-null   object\n",
      " 3   revenue        1197 non-null   int64 \n",
      " 4   group          1197 non-null   object\n",
      "dtypes: int64(3), object(2)\n",
      "memory usage: 46.9+ KB\n"
     ]
    }
   ],
   "source": [
    "orders.info()"
   ]
  },
  {
   "cell_type": "code",
   "execution_count": 393,
   "metadata": {},
   "outputs": [
    {
     "name": "stdout",
     "output_type": "stream",
     "text": [
      "<class 'pandas.core.frame.DataFrame'>\n",
      "RangeIndex: 62 entries, 0 to 61\n",
      "Data columns (total 3 columns):\n",
      " #   Column    Non-Null Count  Dtype \n",
      "---  ------    --------------  ----- \n",
      " 0   date      62 non-null     object\n",
      " 1   group     62 non-null     object\n",
      " 2   visitors  62 non-null     int64 \n",
      "dtypes: int64(1), object(2)\n",
      "memory usage: 1.6+ KB\n"
     ]
    }
   ],
   "source": [
    "visitors.info()"
   ]
  },
  {
   "cell_type": "markdown",
   "metadata": {},
   "source": [
    "Неверный тип данных приведен в колонке date датафреймов visitors и orders."
   ]
  },
  {
   "cell_type": "code",
   "execution_count": 394,
   "metadata": {},
   "outputs": [],
   "source": [
    "visitors['date'] = pd.to_datetime(visitors['date'])"
   ]
  },
  {
   "cell_type": "code",
   "execution_count": 395,
   "metadata": {},
   "outputs": [],
   "source": [
    "orders['date'] = pd.to_datetime(orders['date'])"
   ]
  },
  {
   "cell_type": "code",
   "execution_count": 396,
   "metadata": {},
   "outputs": [
    {
     "name": "stdout",
     "output_type": "stream",
     "text": [
      "<class 'pandas.core.frame.DataFrame'>\n",
      "RangeIndex: 1197 entries, 0 to 1196\n",
      "Data columns (total 5 columns):\n",
      " #   Column         Non-Null Count  Dtype         \n",
      "---  ------         --------------  -----         \n",
      " 0   transactionId  1197 non-null   int64         \n",
      " 1   visitorId      1197 non-null   int64         \n",
      " 2   date           1197 non-null   datetime64[ns]\n",
      " 3   revenue        1197 non-null   int64         \n",
      " 4   group          1197 non-null   object        \n",
      "dtypes: datetime64[ns](1), int64(3), object(1)\n",
      "memory usage: 46.9+ KB\n"
     ]
    }
   ],
   "source": [
    "orders.info()"
   ]
  },
  {
   "cell_type": "code",
   "execution_count": 397,
   "metadata": {},
   "outputs": [
    {
     "name": "stdout",
     "output_type": "stream",
     "text": [
      "<class 'pandas.core.frame.DataFrame'>\n",
      "RangeIndex: 62 entries, 0 to 61\n",
      "Data columns (total 3 columns):\n",
      " #   Column    Non-Null Count  Dtype         \n",
      "---  ------    --------------  -----         \n",
      " 0   date      62 non-null     datetime64[ns]\n",
      " 1   group     62 non-null     object        \n",
      " 2   visitors  62 non-null     int64         \n",
      "dtypes: datetime64[ns](1), int64(1), object(1)\n",
      "memory usage: 1.6+ KB\n"
     ]
    }
   ],
   "source": [
    "visitors.info()"
   ]
  },
  {
   "cell_type": "markdown",
   "metadata": {},
   "source": [
    "Проверим наличие пропусков"
   ]
  },
  {
   "cell_type": "code",
   "execution_count": 398,
   "metadata": {},
   "outputs": [
    {
     "data": {
      "text/plain": [
       "hypothesis    0\n",
       "reach         0\n",
       "impact        0\n",
       "confidence    0\n",
       "efforts       0\n",
       "dtype: int64"
      ]
     },
     "execution_count": 398,
     "metadata": {},
     "output_type": "execute_result"
    }
   ],
   "source": [
    "hypothesis.isna().sum()"
   ]
  },
  {
   "cell_type": "code",
   "execution_count": 399,
   "metadata": {},
   "outputs": [
    {
     "data": {
      "text/plain": [
       "date        0\n",
       "group       0\n",
       "visitors    0\n",
       "dtype: int64"
      ]
     },
     "execution_count": 399,
     "metadata": {},
     "output_type": "execute_result"
    }
   ],
   "source": [
    "visitors.isna().sum()"
   ]
  },
  {
   "cell_type": "code",
   "execution_count": 400,
   "metadata": {},
   "outputs": [
    {
     "data": {
      "text/plain": [
       "transactionId    0\n",
       "visitorId        0\n",
       "date             0\n",
       "revenue          0\n",
       "group            0\n",
       "dtype: int64"
      ]
     },
     "execution_count": 400,
     "metadata": {},
     "output_type": "execute_result"
    }
   ],
   "source": [
    "orders.isna().sum()"
   ]
  },
  {
   "cell_type": "markdown",
   "metadata": {},
   "source": [
    "Пропуски отсутствуют"
   ]
  },
  {
   "cell_type": "markdown",
   "metadata": {},
   "source": [
    "Проверим на наличие явных дубликатов"
   ]
  },
  {
   "cell_type": "code",
   "execution_count": 401,
   "metadata": {},
   "outputs": [
    {
     "data": {
      "text/plain": [
       "0"
      ]
     },
     "execution_count": 401,
     "metadata": {},
     "output_type": "execute_result"
    }
   ],
   "source": [
    "hypothesis.duplicated().sum()"
   ]
  },
  {
   "cell_type": "code",
   "execution_count": 402,
   "metadata": {},
   "outputs": [
    {
     "data": {
      "text/plain": [
       "0"
      ]
     },
     "execution_count": 402,
     "metadata": {},
     "output_type": "execute_result"
    }
   ],
   "source": [
    "visitors.duplicated().sum()"
   ]
  },
  {
   "cell_type": "code",
   "execution_count": 403,
   "metadata": {},
   "outputs": [
    {
     "data": {
      "text/plain": [
       "0"
      ]
     },
     "execution_count": 403,
     "metadata": {},
     "output_type": "execute_result"
    }
   ],
   "source": [
    "orders.duplicated().sum()"
   ]
  },
  {
   "cell_type": "markdown",
   "metadata": {},
   "source": [
    "Проверим на наличие неполных дубликатов"
   ]
  },
  {
   "cell_type": "code",
   "execution_count": 404,
   "metadata": {},
   "outputs": [
    {
     "name": "stdout",
     "output_type": "stream",
     "text": [
      "                                                                                            hypothesis  \\\n",
      "0   Добавить два новых канала привлечения трафика, что позволит привлекать на 30% больше пользователей   \n",
      "1                            Запустить собственную службу доставки, что сократит срок доставки заказов   \n",
      "2  Добавить блоки рекомендаций товаров на сайт интернет магазина, чтобы повысить конверсию и средни...   \n",
      "3  Изменить структура категорий, что увеличит конверсию, т.к. пользователи быстрее найдут нужный товар   \n",
      "4                     Изменить цвет фона главной страницы, чтобы увеличить вовлеченность пользователей   \n",
      "5             Добавить страницу отзывов клиентов о магазине, что позволит увеличить количество заказов   \n",
      "6  Показать на главной странице баннеры с актуальными акциями и распродажами, чтобы увеличить конве...   \n",
      "7     Добавить форму подписки на все основные страницы, чтобы собрать базу клиентов для email-рассылок   \n",
      "8                                              Запустить акцию, дающую скидку на товар в день рождения   \n",
      "\n",
      "   reach  impact  confidence  efforts  duplicates  \n",
      "0      3      10           8        6       False  \n",
      "1      2       5           4       10       False  \n",
      "2      8       3           7        3       False  \n",
      "3      8       3           3        8       False  \n",
      "4      3       1           1        1       False  \n",
      "5      3       2           2        3       False  \n",
      "6      5       3           8        3       False  \n",
      "7     10       7           8        5       False  \n",
      "8      1       9           9        5       False  \n"
     ]
    }
   ],
   "source": [
    "hypothesis['duplicates'] =hypothesis.duplicated(keep=False)\n",
    "print(hypothesis)"
   ]
  },
  {
   "cell_type": "code",
   "execution_count": 405,
   "metadata": {},
   "outputs": [
    {
     "name": "stdout",
     "output_type": "stream",
     "text": [
      "      transactionId   visitorId       date  revenue group  duplicates\n",
      "0        3667963787  3312258926 2019-08-15     1650     B       False\n",
      "1        2804400009  3642806036 2019-08-15      730     B       False\n",
      "2        2961555356  4069496402 2019-08-15      400     A       False\n",
      "3        3797467345  1196621759 2019-08-15     9759     B       False\n",
      "4        2282983706  2322279887 2019-08-15     2308     B       False\n",
      "...             ...         ...        ...      ...   ...         ...\n",
      "1192     2662137336  3733762160 2019-08-14     6490     B       False\n",
      "1193     2203539145   370388673 2019-08-14     3190     A       False\n",
      "1194     1807773912   573423106 2019-08-14    10550     A       False\n",
      "1195     1947021204  1614305549 2019-08-14      100     A       False\n",
      "1196     3936777065  2108080724 2019-08-15   202740     B       False\n",
      "\n",
      "[1197 rows x 6 columns]\n"
     ]
    }
   ],
   "source": [
    "orders['duplicates'] = orders.duplicated(keep=False)\n",
    "print(orders)"
   ]
  },
  {
   "cell_type": "code",
   "execution_count": 406,
   "metadata": {},
   "outputs": [
    {
     "data": {
      "text/html": [
       "<div>\n",
       "<style scoped>\n",
       "    .dataframe tbody tr th:only-of-type {\n",
       "        vertical-align: middle;\n",
       "    }\n",
       "\n",
       "    .dataframe tbody tr th {\n",
       "        vertical-align: top;\n",
       "    }\n",
       "\n",
       "    .dataframe thead th {\n",
       "        text-align: right;\n",
       "    }\n",
       "</style>\n",
       "<table border=\"1\" class=\"dataframe\">\n",
       "  <thead>\n",
       "    <tr style=\"text-align: right;\">\n",
       "      <th></th>\n",
       "      <th>transactionId</th>\n",
       "      <th>visitorId</th>\n",
       "      <th>date</th>\n",
       "      <th>revenue</th>\n",
       "      <th>group</th>\n",
       "      <th>duplicates</th>\n",
       "    </tr>\n",
       "  </thead>\n",
       "  <tbody>\n",
       "  </tbody>\n",
       "</table>\n",
       "</div>"
      ],
      "text/plain": [
       "Empty DataFrame\n",
       "Columns: [transactionId, visitorId, date, revenue, group, duplicates]\n",
       "Index: []"
      ]
     },
     "execution_count": 406,
     "metadata": {},
     "output_type": "execute_result"
    }
   ],
   "source": [
    "orders.query('duplicates == \"True\"')"
   ]
  },
  {
   "cell_type": "code",
   "execution_count": 407,
   "metadata": {},
   "outputs": [
    {
     "name": "stdout",
     "output_type": "stream",
     "text": [
      "         date group  visitors  duplicates\n",
      "0  2019-08-01     A       719       False\n",
      "1  2019-08-02     A       619       False\n",
      "2  2019-08-03     A       507       False\n",
      "3  2019-08-04     A       717       False\n",
      "4  2019-08-05     A       756       False\n",
      "..        ...   ...       ...         ...\n",
      "57 2019-08-27     B       720       False\n",
      "58 2019-08-28     B       654       False\n",
      "59 2019-08-29     B       531       False\n",
      "60 2019-08-30     B       490       False\n",
      "61 2019-08-31     B       718       False\n",
      "\n",
      "[62 rows x 4 columns]\n"
     ]
    }
   ],
   "source": [
    "visitors['duplicates'] = visitors.duplicated(keep=False)\n",
    "print(visitors)"
   ]
  },
  {
   "cell_type": "code",
   "execution_count": 408,
   "metadata": {},
   "outputs": [
    {
     "data": {
      "text/html": [
       "<div>\n",
       "<style scoped>\n",
       "    .dataframe tbody tr th:only-of-type {\n",
       "        vertical-align: middle;\n",
       "    }\n",
       "\n",
       "    .dataframe tbody tr th {\n",
       "        vertical-align: top;\n",
       "    }\n",
       "\n",
       "    .dataframe thead th {\n",
       "        text-align: right;\n",
       "    }\n",
       "</style>\n",
       "<table border=\"1\" class=\"dataframe\">\n",
       "  <thead>\n",
       "    <tr style=\"text-align: right;\">\n",
       "      <th></th>\n",
       "      <th>date</th>\n",
       "      <th>group</th>\n",
       "      <th>visitors</th>\n",
       "      <th>duplicates</th>\n",
       "    </tr>\n",
       "  </thead>\n",
       "  <tbody>\n",
       "  </tbody>\n",
       "</table>\n",
       "</div>"
      ],
      "text/plain": [
       "Empty DataFrame\n",
       "Columns: [date, group, visitors, duplicates]\n",
       "Index: []"
      ]
     },
     "execution_count": 408,
     "metadata": {},
     "output_type": "execute_result"
    }
   ],
   "source": [
    "visitors.query('duplicates == \"True\"')"
   ]
  },
  {
   "cell_type": "markdown",
   "metadata": {},
   "source": [
    "Неполные дубликаты отсутствуют"
   ]
  },
  {
   "cell_type": "markdown",
   "metadata": {},
   "source": [
    "Проверим на наличие неявных дубликатов"
   ]
  },
  {
   "cell_type": "code",
   "execution_count": 409,
   "metadata": {},
   "outputs": [
    {
     "data": {
      "text/plain": [
       "array(['Добавить два новых канала привлечения трафика, что позволит привлекать на 30% больше пользователей',\n",
       "       'Запустить собственную службу доставки, что сократит срок доставки заказов',\n",
       "       'Добавить блоки рекомендаций товаров на сайт интернет магазина, чтобы повысить конверсию и средний чек заказа',\n",
       "       'Изменить структура категорий, что увеличит конверсию, т.к. пользователи быстрее найдут нужный товар',\n",
       "       'Изменить цвет фона главной страницы, чтобы увеличить вовлеченность пользователей',\n",
       "       'Добавить страницу отзывов клиентов о магазине, что позволит увеличить количество заказов',\n",
       "       'Показать на главной странице баннеры с актуальными акциями и распродажами, чтобы увеличить конверсию',\n",
       "       'Добавить форму подписки на все основные страницы, чтобы собрать базу клиентов для email-рассылок',\n",
       "       'Запустить акцию, дающую скидку на товар в день рождения'],\n",
       "      dtype=object)"
      ]
     },
     "execution_count": 409,
     "metadata": {},
     "output_type": "execute_result"
    }
   ],
   "source": [
    "hypothesis['hypothesis'].unique()"
   ]
  },
  {
   "cell_type": "markdown",
   "metadata": {},
   "source": [
    "Неявные дубликаты отсутствуют"
   ]
  },
  {
   "cell_type": "markdown",
   "metadata": {},
   "source": [
    "В ходе проведенной преобработки информации нименования столбцов в датафрейме hypothesis приведены к нижнему регистру, тип данных заменен в колонке date датафреймов visitors и orders. Пропуски и дубликаты отсутствуют."
   ]
  },
  {
   "cell_type": "code",
   "execution_count": 410,
   "metadata": {},
   "outputs": [
    {
     "data": {
      "text/plain": [
       "B    640\n",
       "A    557\n",
       "Name: group, dtype: int64"
      ]
     },
     "execution_count": 410,
     "metadata": {},
     "output_type": "execute_result"
    }
   ],
   "source": [
    "orders['group'].value_counts() "
   ]
  },
  {
   "cell_type": "markdown",
   "metadata": {},
   "source": [
    "В таблице о заказах рразница в количестве пользователей составляет 15 %. Количество групп совпадает."
   ]
  },
  {
   "cell_type": "code",
   "execution_count": 411,
   "metadata": {},
   "outputs": [
    {
     "name": "stdout",
     "output_type": "stream",
     "text": [
      "Дата начала теста: 2019-08-01 00:00:00\n",
      "Дата окончания теста: 2019-08-31 00:00:00\n"
     ]
    }
   ],
   "source": [
    "print('Дата начала теста:', orders['date'].min())\n",
    "      \n",
    "print('Дата окончания теста:', orders['date'].max())"
   ]
  },
  {
   "cell_type": "markdown",
   "metadata": {},
   "source": [
    "Длительность теста - с 01.08 по 31.08"
   ]
  },
  {
   "cell_type": "markdown",
   "metadata": {},
   "source": [
    "Вероятность попадания пользователей в обе группы - по таблице с заказами"
   ]
  },
  {
   "cell_type": "code",
   "execution_count": 412,
   "metadata": {},
   "outputs": [
    {
     "name": "stdout",
     "output_type": "stream",
     "text": [
      "Количество пользователей, попавших в обе группы: 58\n"
     ]
    }
   ],
   "source": [
    "uniq_users = orders.groupby(['visitorId']).agg({'group' : 'nunique', 'transactionId' : 'count', 'revenue' : 'sum'})\\\n",
    ".reset_index()\n",
    "print(f\"Количество пользователей, попавших в обе группы: {uniq_users[uniq_users['group'] != 1]['visitorId'].count()}\")"
   ]
  },
  {
   "cell_type": "markdown",
   "metadata": {},
   "source": [
    "Количество пользователей, попавших в обе группы: 58, это 4,8 % от общего количества пользователей в обеих группах, на дальнейший анализ это не должно повлиять."
   ]
  },
  {
   "cell_type": "markdown",
   "metadata": {},
   "source": [
    "### Приоритизация гипотез"
   ]
  },
  {
   "cell_type": "markdown",
   "metadata": {},
   "source": [
    "#### Применим фреймворк ICE для приоритизации гипотез"
   ]
  },
  {
   "cell_type": "code",
   "execution_count": 413,
   "metadata": {},
   "outputs": [
    {
     "name": "stdout",
     "output_type": "stream",
     "text": [
      "                                                                                            hypothesis  \\\n",
      "0   Добавить два новых канала привлечения трафика, что позволит привлекать на 30% больше пользователей   \n",
      "1                            Запустить собственную службу доставки, что сократит срок доставки заказов   \n",
      "2  Добавить блоки рекомендаций товаров на сайт интернет магазина, чтобы повысить конверсию и средни...   \n",
      "3  Изменить структура категорий, что увеличит конверсию, т.к. пользователи быстрее найдут нужный товар   \n",
      "4                     Изменить цвет фона главной страницы, чтобы увеличить вовлеченность пользователей   \n",
      "5             Добавить страницу отзывов клиентов о магазине, что позволит увеличить количество заказов   \n",
      "6  Показать на главной странице баннеры с актуальными акциями и распродажами, чтобы увеличить конве...   \n",
      "7     Добавить форму подписки на все основные страницы, чтобы собрать базу клиентов для email-рассылок   \n",
      "8                                              Запустить акцию, дающую скидку на товар в день рождения   \n",
      "\n",
      "   reach  impact  confidence  efforts  duplicates  \n",
      "0      3      10           8        6       False  \n",
      "1      2       5           4       10       False  \n",
      "2      8       3           7        3       False  \n",
      "3      8       3           3        8       False  \n",
      "4      3       1           1        1       False  \n",
      "5      3       2           2        3       False  \n",
      "6      5       3           8        3       False  \n",
      "7     10       7           8        5       False  \n",
      "8      1       9           9        5       False  \n",
      "                                                                                            hypothesis  \\\n",
      "8                                              Запустить акцию, дающую скидку на товар в день рождения   \n",
      "0   Добавить два новых канала привлечения трафика, что позволит привлекать на 30% больше пользователей   \n",
      "7     Добавить форму подписки на все основные страницы, чтобы собрать базу клиентов для email-рассылок   \n",
      "6  Показать на главной странице баннеры с актуальными акциями и распродажами, чтобы увеличить конве...   \n",
      "2  Добавить блоки рекомендаций товаров на сайт интернет магазина, чтобы повысить конверсию и средни...   \n",
      "1                            Запустить собственную службу доставки, что сократит срок доставки заказов   \n",
      "5             Добавить страницу отзывов клиентов о магазине, что позволит увеличить количество заказов   \n",
      "3  Изменить структура категорий, что увеличит конверсию, т.к. пользователи быстрее найдут нужный товар   \n",
      "4                     Изменить цвет фона главной страницы, чтобы увеличить вовлеченность пользователей   \n",
      "\n",
      "     ICE  \n",
      "8  16.20  \n",
      "0  13.33  \n",
      "7  11.20  \n",
      "6   8.00  \n",
      "2   7.00  \n",
      "1   2.00  \n",
      "5   1.33  \n",
      "3   1.12  \n",
      "4   1.00  \n"
     ]
    }
   ],
   "source": [
    "print(hypothesis)\n",
    "hypothesis['ICE'] = round((hypothesis['impact'] * hypothesis['confidence'])/hypothesis['efforts'], 2) \n",
    "print(hypothesis[['hypothesis', 'ICE']].sort_values(by='ICE', ascending=False))"
   ]
  },
  {
   "cell_type": "markdown",
   "metadata": {},
   "source": [
    "Наиболее перспективными гипотезы по ICE: \n",
    "\n",
    "\"Запустить акцию, дающую скидку на товар в день рождения\", \n",
    "\n",
    "\"Добавить два новых канала привлечения трафика, что позволит привлекать на 30% больше пользователей\", \n",
    "\n",
    "\"Добавить форму подписки на все основные страницы, чтобы собрать базу клиентов для email-рассылок\",\n",
    "\n",
    "\"Показать на главной странице баннеры с актуальными акциями и распродажами, чтобы увеличить конверсию\",\n",
    "\n",
    "\"Добавить блоки рекомендаций товаров на сайт интернет магазина, чтобы повысить конверсию и средний чек\". \n",
    "\n",
    "Рассмотрим подробнее гипотезу 8 \"Запустить акцию, дающую скидку на товар в день рождения\".У компонентов impact и confidence - почти максимальные показатели, данные компоненты показывают, насколько вы уверены в оценках других параметров и насколько сильно изменение повлияет на охваченных пользователей.\n",
    "компонет efforts - отвечает за стоимость проведения - он средний, например, организовать рекламную рассылку или добавить привлекательный баннер на сайт, сообщающий об акции, не предролагает больших затрат."
   ]
  },
  {
   "cell_type": "markdown",
   "metadata": {},
   "source": [
    "#### Применим фреймворк RICE для приоритизации гипотез"
   ]
  },
  {
   "cell_type": "code",
   "execution_count": 414,
   "metadata": {},
   "outputs": [
    {
     "name": "stdout",
     "output_type": "stream",
     "text": [
      "                                                                                            hypothesis  \\\n",
      "0   Добавить два новых канала привлечения трафика, что позволит привлекать на 30% больше пользователей   \n",
      "1                            Запустить собственную службу доставки, что сократит срок доставки заказов   \n",
      "2  Добавить блоки рекомендаций товаров на сайт интернет магазина, чтобы повысить конверсию и средни...   \n",
      "3  Изменить структура категорий, что увеличит конверсию, т.к. пользователи быстрее найдут нужный товар   \n",
      "4                     Изменить цвет фона главной страницы, чтобы увеличить вовлеченность пользователей   \n",
      "5             Добавить страницу отзывов клиентов о магазине, что позволит увеличить количество заказов   \n",
      "6  Показать на главной странице баннеры с актуальными акциями и распродажами, чтобы увеличить конве...   \n",
      "7     Добавить форму подписки на все основные страницы, чтобы собрать базу клиентов для email-рассылок   \n",
      "8                                              Запустить акцию, дающую скидку на товар в день рождения   \n",
      "\n",
      "   reach  impact  confidence  efforts  duplicates    ICE  \n",
      "0      3      10           8        6       False  13.33  \n",
      "1      2       5           4       10       False   2.00  \n",
      "2      8       3           7        3       False   7.00  \n",
      "3      8       3           3        8       False   1.12  \n",
      "4      3       1           1        1       False   1.00  \n",
      "5      3       2           2        3       False   1.33  \n",
      "6      5       3           8        3       False   8.00  \n",
      "7     10       7           8        5       False  11.20  \n",
      "8      1       9           9        5       False  16.20  \n",
      "                                                                                            hypothesis  \\\n",
      "7     Добавить форму подписки на все основные страницы, чтобы собрать базу клиентов для email-рассылок   \n",
      "2  Добавить блоки рекомендаций товаров на сайт интернет магазина, чтобы повысить конверсию и средни...   \n",
      "0   Добавить два новых канала привлечения трафика, что позволит привлекать на 30% больше пользователей   \n",
      "6  Показать на главной странице баннеры с актуальными акциями и распродажами, чтобы увеличить конве...   \n",
      "8                                              Запустить акцию, дающую скидку на товар в день рождения   \n",
      "3  Изменить структура категорий, что увеличит конверсию, т.к. пользователи быстрее найдут нужный товар   \n",
      "1                            Запустить собственную службу доставки, что сократит срок доставки заказов   \n",
      "5             Добавить страницу отзывов клиентов о магазине, что позволит увеличить количество заказов   \n",
      "4                     Изменить цвет фона главной страницы, чтобы увеличить вовлеченность пользователей   \n",
      "\n",
      "    RICE  \n",
      "7  112.0  \n",
      "2   56.0  \n",
      "0   40.0  \n",
      "6   40.0  \n",
      "8   16.2  \n",
      "3    9.0  \n",
      "1    4.0  \n",
      "5    4.0  \n",
      "4    3.0  \n"
     ]
    }
   ],
   "source": [
    "print(hypothesis)\n",
    "hypothesis['RICE'] = (hypothesis['reach'] * hypothesis['impact'] * hypothesis['confidence']) / hypothesis['efforts']\n",
    "print(hypothesis[['hypothesis', 'RICE']].sort_values(by='RICE', ascending=False))"
   ]
  },
  {
   "cell_type": "markdown",
   "metadata": {},
   "source": [
    "Из полученного результата можно наблюдать то, что наиболее перспективные гипотезы по RICE:\n",
    "\n",
    "\"Добавить форму подписки на все основные страницы, чтобы собрать базу клиентов для email-рассылок\", \n",
    "\n",
    "\"Добавить блоки рекомендаций товаров на сайт интернет магазина, чтобы повысить конверсию и средний чек\", \n",
    "\n",
    "\"Добавить два новых канала привлечения трафика, что позволит привлекать на 30% больше пользователей\", \n",
    "\n",
    "\"Показать на главной странице баннеры с актуальными акциями и распродажами, чтобы увеличить конверсию\", \n",
    "\n",
    "\"Запустить акцию, дающую скидку на товар в день рождения\".\n",
    "\n",
    "Разберем также гипотезу 8 \"Запустить акцию, дающую скидку на товар в день рождения\". В данном случае Reach = 1, что меньше, чем у остальных гипотез.Параметр Reach отчечает за охват пользователей."
   ]
  },
  {
   "cell_type": "markdown",
   "metadata": {},
   "source": [
    "#### Изменение приоритизации гипотез при применении RICE вместо ICE"
   ]
  },
  {
   "cell_type": "markdown",
   "metadata": {},
   "source": [
    "При приминении RICE вместо ICE гипотеза 8 переместилась на последнее место пятерки перспективных гипотез, гипотеза 2 вышла на второе место, 0 гипотеза поднялась выше на одну позицию, место гипотезы 6 осталось неизменным. Изменения приоритизации  объясняются тем, что в случае фреймворка ICE  не учитывался охват пользователей Reach в отличие от RICE, в то время как это важная составляющая оценки гипотез."
   ]
  },
  {
   "cell_type": "markdown",
   "metadata": {},
   "source": [
    "### Анализ A/B-теста"
   ]
  },
  {
   "cell_type": "markdown",
   "metadata": {},
   "source": [
    "#### Построим график кумулятивной выручки по группам"
   ]
  },
  {
   "cell_type": "markdown",
   "metadata": {},
   "source": [
    "Cоздадим датафреймы с уникальными агрегироваными кумулятивными данными по каждый таблице:"
   ]
  },
  {
   "cell_type": "code",
   "execution_count": 415,
   "metadata": {},
   "outputs": [
    {
     "data": {
      "text/html": [
       "<div>\n",
       "<style scoped>\n",
       "    .dataframe tbody tr th:only-of-type {\n",
       "        vertical-align: middle;\n",
       "    }\n",
       "\n",
       "    .dataframe tbody tr th {\n",
       "        vertical-align: top;\n",
       "    }\n",
       "\n",
       "    .dataframe thead th {\n",
       "        text-align: right;\n",
       "    }\n",
       "</style>\n",
       "<table border=\"1\" class=\"dataframe\">\n",
       "  <thead>\n",
       "    <tr style=\"text-align: right;\">\n",
       "      <th></th>\n",
       "      <th>date</th>\n",
       "      <th>group</th>\n",
       "      <th>orders</th>\n",
       "      <th>buyers</th>\n",
       "      <th>revenue</th>\n",
       "      <th>visitors</th>\n",
       "    </tr>\n",
       "  </thead>\n",
       "  <tbody>\n",
       "    <tr>\n",
       "      <th>0</th>\n",
       "      <td>2019-08-01</td>\n",
       "      <td>A</td>\n",
       "      <td>24</td>\n",
       "      <td>20</td>\n",
       "      <td>148579</td>\n",
       "      <td>719</td>\n",
       "    </tr>\n",
       "    <tr>\n",
       "      <th>1</th>\n",
       "      <td>2019-08-01</td>\n",
       "      <td>B</td>\n",
       "      <td>21</td>\n",
       "      <td>20</td>\n",
       "      <td>101217</td>\n",
       "      <td>713</td>\n",
       "    </tr>\n",
       "    <tr>\n",
       "      <th>2</th>\n",
       "      <td>2019-08-02</td>\n",
       "      <td>A</td>\n",
       "      <td>44</td>\n",
       "      <td>38</td>\n",
       "      <td>242401</td>\n",
       "      <td>1338</td>\n",
       "    </tr>\n",
       "    <tr>\n",
       "      <th>3</th>\n",
       "      <td>2019-08-02</td>\n",
       "      <td>B</td>\n",
       "      <td>45</td>\n",
       "      <td>43</td>\n",
       "      <td>266748</td>\n",
       "      <td>1294</td>\n",
       "    </tr>\n",
       "    <tr>\n",
       "      <th>4</th>\n",
       "      <td>2019-08-03</td>\n",
       "      <td>A</td>\n",
       "      <td>68</td>\n",
       "      <td>62</td>\n",
       "      <td>354874</td>\n",
       "      <td>1845</td>\n",
       "    </tr>\n",
       "  </tbody>\n",
       "</table>\n",
       "</div>"
      ],
      "text/plain": [
       "        date group  orders  buyers  revenue  visitors\n",
       "0 2019-08-01     A      24      20   148579       719\n",
       "1 2019-08-01     B      21      20   101217       713\n",
       "2 2019-08-02     A      44      38   242401      1338\n",
       "3 2019-08-02     B      45      43   266748      1294\n",
       "4 2019-08-03     A      68      62   354874      1845"
      ]
     },
     "execution_count": 415,
     "metadata": {},
     "output_type": "execute_result"
    }
   ],
   "source": [
    "#создаем массив уникальных пар значений дат и групп теста\n",
    "datesGroups = orders[['date', 'group']].drop_duplicates()\n",
    "\n",
    "#получаем агрегированные кумулятивные по дням данные о заказах \n",
    "ordersAggregated = datesGroups.apply(\n",
    "\n",
    "    lambda x: orders[np.logical_and(orders['date'] <= x['date'], orders['group'] == x['group'])].agg({\n",
    "\n",
    "'date' : 'max',\n",
    "\n",
    "'group' : 'max',\n",
    "\n",
    "'transactionId' : pd.Series.nunique,\n",
    "\n",
    "'visitorId' : pd.Series.nunique,\n",
    "\n",
    "'revenue' : 'sum'}), axis=1).sort_values(by=['date','group']) \n",
    "\n",
    "# получаем агрегированные кумулятивные по дням данные о посетителях интернет-магазина \n",
    "visitorsAggregated = datesGroups.apply(\n",
    "\n",
    "    lambda x: visitors[np.logical_and(visitors['date'] <= x['date'], visitors['group'] == x['group'])].agg({\n",
    "\n",
    "'date' : 'max',\n",
    "\n",
    "'group' : 'max',\n",
    "\n",
    "'visitors' : 'sum'}), axis=1).sort_values(by=['date','group'])\n",
    "\n",
    "#объединям полученные таблицы по дате и группе \n",
    "\n",
    "cumulativeData = ordersAggregated.merge(visitorsAggregated, left_on=['date', 'group'], right_on=['date', 'group'])\n",
    "\n",
    "cumulativeData.columns = ['date', 'group', 'orders', 'buyers', 'revenue', 'visitors']\n",
    "\n",
    "#выведем полученную таблицу\n",
    "cumulativeData.head()"
   ]
  },
  {
   "cell_type": "code",
   "execution_count": 416,
   "metadata": {},
   "outputs": [
    {
     "name": "stdout",
     "output_type": "stream",
     "text": [
      "2019-08-01 00:00:00\n",
      "2019-08-31 00:00:00\n",
      "2019-08-01 00:00:00\n",
      "2019-08-31 00:00:00\n",
      "2019-08-01 00:00:00\n",
      "2019-08-31 00:00:00\n"
     ]
    }
   ],
   "source": [
    "print(cumulativeData['date'].min())\n",
    "print(cumulativeData['date'].max())\n",
    "print(ordersAggregated['date'].min())\n",
    "print(ordersAggregated['date'].max())\n",
    "print(visitorsAggregated['date'].min())\n",
    "print(visitorsAggregated['date'].max())"
   ]
  },
  {
   "cell_type": "markdown",
   "metadata": {},
   "source": [
    "Даты совпали"
   ]
  },
  {
   "cell_type": "markdown",
   "metadata": {},
   "source": [
    "Построим графики кумулятивной выручки по дням по группам."
   ]
  },
  {
   "cell_type": "code",
   "execution_count": 417,
   "metadata": {},
   "outputs": [
    {
     "data": {
      "image/png": "[encoded data removed]",
      "text/plain": [
       "<Figure size 864x576 with 1 Axes>"
      ]
     },
     "metadata": {
      "needs_background": "light"
     },
     "output_type": "display_data"
    }
   ],
   "source": [
    "#зададим размеры графика \n",
    "plt.figure(figsize=(12,8))  \n",
    "\n",
    "# датафрейм с кумулятивным количеством заказов и кумулятивной выручкой по дням в группе А\n",
    "cumulativeRevenueA = cumulativeData[cumulativeData['group']=='A'][['date','revenue', 'orders']]\n",
    "\n",
    "# датафрейм с кумулятивным количеством заказов и кумулятивной выручкой по дням в группе B\n",
    "cumulativeRevenueB = cumulativeData[cumulativeData['group']=='B'][['date','revenue', 'orders']]\n",
    "\n",
    "# строим график выручки группы А\n",
    "plt.plot(cumulativeRevenueA['date'], cumulativeRevenueA['revenue'], label='A')\n",
    "\n",
    "# строим график выручки группы B\n",
    "plt.plot(cumulativeRevenueB['date'], cumulativeRevenueB['revenue'], label='B')\n",
    "\n",
    "# зададим описание графика\n",
    "plt.legend(['Группа А', 'Группа B']) \n",
    "plt.xlabel('Дата')\n",
    "plt.ylabel('Выручка') \n",
    "plt.title('Кумулятивная выручка по дням и группам A/B-тестирования')\n",
    "plt.show() "
   ]
  },
  {
   "cell_type": "markdown",
   "metadata": {},
   "source": [
    "Исходя из графика, можно сказать, что группа B лидирирует на всём периоде у группы B произошёл резкий рост в период с 18 на 19 августа, это может быть связано с тем, что с 18 по 19 было очень много заказов, либо в группу попал анамально дорогой заказ.\n"
   ]
  },
  {
   "cell_type": "markdown",
   "metadata": {},
   "source": [
    "Построим графики для группы B с изменение количества заказов и выручки"
   ]
  },
  {
   "cell_type": "code",
   "execution_count": 418,
   "metadata": {},
   "outputs": [
    {
     "data": {
      "image/png": "[encoded data removed]",
      "text/plain": [
       "<Figure size 864x576 with 1 Axes>"
      ]
     },
     "metadata": {
      "needs_background": "light"
     },
     "output_type": "display_data"
    }
   ],
   "source": [
    "#зададим размеры графика \n",
    "plt.figure(figsize=(12,8)) \n",
    "plt.plot(cumulativeRevenueB['date'], cumulativeRevenueB['orders'])  \n",
    "# зададим описание графика\n",
    "plt.xlabel('Дата')\n",
    "plt.ylabel('Количество заказов') \n",
    "plt.title('Кумулятивное количество заказов по дням в группе B')\n",
    "plt.show() "
   ]
  },
  {
   "cell_type": "markdown",
   "metadata": {},
   "source": [
    "График с количеством заказов ровный, скачков нет"
   ]
  },
  {
   "cell_type": "code",
   "execution_count": 419,
   "metadata": {},
   "outputs": [
    {
     "data": {
      "image/png": "[encoded data removed]",
      "text/plain": [
       "<Figure size 864x576 with 1 Axes>"
      ]
     },
     "metadata": {
      "needs_background": "light"
     },
     "output_type": "display_data"
    }
   ],
   "source": [
    "#зададим размеры графика \n",
    "plt.figure(figsize=(12,8)) \n",
    "plt.plot(cumulativeRevenueB['date'], cumulativeRevenueB['revenue'])  \n",
    "# зададим описание графика\n",
    "plt.xlabel('Дата')\n",
    "plt.ylabel('Выручка') \n",
    "plt.title('Кумулятивная выручка в группе B')\n",
    "plt.show() "
   ]
  },
  {
   "cell_type": "markdown",
   "metadata": {},
   "source": [
    "Из графика с выручкой можно сделать вывод о том, что в группу попал анамально большой заказ."
   ]
  },
  {
   "cell_type": "markdown",
   "metadata": {},
   "source": [
    "#### Построим график кумулятивного среднего чека по группам"
   ]
  },
  {
   "cell_type": "code",
   "execution_count": 420,
   "metadata": {},
   "outputs": [
    {
     "data": {
      "image/png": "[encoded data removed]",
      "text/plain": [
       "<Figure size 864x576 with 1 Axes>"
      ]
     },
     "metadata": {
      "needs_background": "light"
     },
     "output_type": "display_data"
    }
   ],
   "source": [
    "#зададим размеры графика  \n",
    "plt.figure(figsize=(12,8))   \n",
    "\n",
    "#построим графики, что бы получить средний чек, разделим выручку на число заказов\n",
    "plt.plot(cumulativeRevenueA['date'], cumulativeRevenueA['revenue']/cumulativeRevenueA['orders'], label='A')\n",
    "plt.plot(cumulativeRevenueB['date'], cumulativeRevenueB['revenue']/cumulativeRevenueB['orders'], label='B')\n",
    "plt.legend()  \n",
    "\n",
    "# зададим описание графика\n",
    "plt.legend(['Группа А', 'Группа B']) \n",
    "plt.xlabel('Дата')\n",
    "plt.ylabel('Средний чек') \n",
    "plt.title('Кумулятивный средний чек по дням и группам A/B-тестирования')\n",
    "plt.show()  "
   ]
  },
  {
   "cell_type": "markdown",
   "metadata": {},
   "source": [
    "В первой половине теста графики достаточно изменчивы, наблюдаются и рост и падения в обеих группах.\n",
    "На графике среднего чека анамальное значения для группы B в период с 08.17 по 08.21, уже более явное\n",
    "к коцу периода коммулятивный средний чек группы B, выше, чем у А, скорее всего это связано с попаданием анамально большого заказа, к концу периода у группы А есть тенденция к росту, а у B к снижению."
   ]
  },
  {
   "cell_type": "markdown",
   "metadata": {},
   "source": [
    "#### Построим график относительного изменения кумулятивного среднего чека группы B к группе A"
   ]
  },
  {
   "cell_type": "code",
   "execution_count": 421,
   "metadata": {},
   "outputs": [
    {
     "data": {
      "image/png": "[encoded data removed]",
      "text/plain": [
       "<Figure size 864x576 with 1 Axes>"
      ]
     },
     "metadata": {
      "needs_background": "light"
     },
     "output_type": "display_data"
    }
   ],
   "source": [
    "#объеденим по столбцу с датой и зададим суффиксы для каждый группы \n",
    "merged_revenue = cumulativeRevenueA.merge(\n",
    "    cumulativeRevenueB, \n",
    "    left_on='date', right_on='date', \n",
    "    how='left',\n",
    "    suffixes=['_a', '_b']\n",
    ")\n",
    "# зададим размеры графика  \n",
    "plt.figure(figsize=(12,8))   \n",
    "# cтроим отношение средних чеков\n",
    "plt.plot(\n",
    "    merged_revenue['date'],\n",
    "    (merged_revenue['revenue_b']/\n",
    "     merged_revenue['orders_b'])/\n",
    "    (merged_revenue['revenue_a']/\n",
    "     merged_revenue['orders_a'])\n",
    "    -1\n",
    ")\n",
    "\n",
    "# добавляем ось X\n",
    "plt.axhline(y=0, color='black', linestyle='--')  \n",
    "# зададим описание графика \n",
    "plt.xlabel('Дата')\n",
    "plt.ylabel('Отношение') \n",
    "plt.title('Относительное изменение кумулятивного среднего чека группы B к группе A')\n",
    "plt.show()   "
   ]
  },
  {
   "cell_type": "markdown",
   "metadata": {},
   "source": [
    "На графике наблюдаются резкие колебания, возможно, это связано с тем, что именно в пиковый дни на графике, были сделаны анамально дорогие заказы."
   ]
  },
  {
   "cell_type": "markdown",
   "metadata": {},
   "source": [
    "#### Построим график кумулятивного среднего количества заказов на посетителя по группам"
   ]
  },
  {
   "cell_type": "code",
   "execution_count": 422,
   "metadata": {},
   "outputs": [
    {
     "data": {
      "image/png": "[encoded data removed]",
      "text/plain": [
       "<Figure size 864x576 with 1 Axes>"
      ]
     },
     "metadata": {
      "needs_background": "light"
     },
     "output_type": "display_data"
    }
   ],
   "source": [
    "# считаем кумулятивную конверсию\n",
    "cumulativeData['conversion'] = cumulativeData['orders']/cumulativeData['visitors']\n",
    "\n",
    "# отделяем данные по группе A\n",
    "cumulativeDataA = cumulativeData[cumulativeData['group']=='A']\n",
    "\n",
    "# отделяем данные по группе B\n",
    "cumulativeDataB = cumulativeData[cumulativeData['group']=='B']\n",
    "\n",
    "# зададим размеры графика  \n",
    "plt.figure(figsize=(12,8))   \n",
    "\n",
    "# строим графики\n",
    "plt.plot(cumulativeDataA['date'], cumulativeDataA['conversion'], label='A')\n",
    "plt.plot(cumulativeDataB['date'], cumulativeDataB['conversion'], label='B')\n",
    "\n",
    "\n",
    "# зададим описание графика\n",
    "plt.legend(['Группа А', 'Группа B']) \n",
    "# задаем масштаб осей\n",
    "plt.xlabel('Дата')\n",
    "plt.ylabel('Конверсия') \n",
    "plt.title('Кумулятивная конверсии по группам')\n",
    "plt.show()  "
   ]
  },
  {
   "cell_type": "markdown",
   "metadata": {},
   "source": [
    "На грфике видно, что до 5 августа конверсия у группы А была выше, чем у В, но спустя 6 дней со времени запуска теста ситуация изменилась: для А конверсия держалась на уровне от 0.029 до 0.031, для B от 0.034 до 0.036."
   ]
  },
  {
   "cell_type": "markdown",
   "metadata": {},
   "source": [
    "#### Построим график относительного изменения кумулятивного среднего количества заказов на посетителя группы B к группе A"
   ]
  },
  {
   "cell_type": "code",
   "execution_count": 423,
   "metadata": {},
   "outputs": [
    {
     "data": {
      "image/png": "[encoded data removed]",
      "text/plain": [
       "<Figure size 864x576 with 1 Axes>"
      ]
     },
     "metadata": {
      "needs_background": "light"
     },
     "output_type": "display_data"
    }
   ],
   "source": [
    "#объеденим по столбцу с датой и зададим суффиксы для каждый группы  \n",
    "merged_сonversion = cumulativeDataA[['date','conversion']].merge(\n",
    "    cumulativeDataB[['date','conversion']], \n",
    "    left_on='date',\n",
    "    right_on='date', \n",
    "    how='left',\n",
    "    suffixes=['_a', '_b']\n",
    ")\n",
    "# зададим размеры графика  \n",
    "plt.figure(figsize=(12,8))   \n",
    "\n",
    "plt.plot(merged_сonversion['date'],\n",
    "         merged_сonversion['conversion_b']/\n",
    "         merged_сonversion['conversion_a']-1,\n",
    "        )\n",
    "# добавляем ось X c нулевым приростом и отметку в 20% \n",
    "plt.axhline(y=0, color='black', linestyle='--')  \n",
    "plt.axhline(y=0.2, color='grey', linestyle='--') \n",
    "# зададим описание графика \n",
    "plt.xlabel('Дата') \n",
    "plt.title('График относительного изменения кумулятивного среднего чека группы B к группе A') \n",
    "plt.show()"
   ]
  },
  {
   "cell_type": "markdown",
   "metadata": {},
   "source": [
    "Исходя из графика видно, что в начале теста конверсия колебалась, но на 6-й день теста, получили стабильный прирост, который привысил 20% и установился в пределах от 10 до 15 % к концу периода."
   ]
  },
  {
   "cell_type": "markdown",
   "metadata": {},
   "source": [
    "#### Построим точечный график количества заказов по пользователям"
   ]
  },
  {
   "cell_type": "code",
   "execution_count": 424,
   "metadata": {},
   "outputs": [
    {
     "data": {
      "text/html": [
       "<div>\n",
       "<style scoped>\n",
       "    .dataframe tbody tr th:only-of-type {\n",
       "        vertical-align: middle;\n",
       "    }\n",
       "\n",
       "    .dataframe tbody tr th {\n",
       "        vertical-align: top;\n",
       "    }\n",
       "\n",
       "    .dataframe thead th {\n",
       "        text-align: right;\n",
       "    }\n",
       "</style>\n",
       "<table border=\"1\" class=\"dataframe\">\n",
       "  <thead>\n",
       "    <tr style=\"text-align: right;\">\n",
       "      <th></th>\n",
       "      <th>user_id</th>\n",
       "      <th>orders</th>\n",
       "    </tr>\n",
       "  </thead>\n",
       "  <tbody>\n",
       "    <tr>\n",
       "      <th>1023</th>\n",
       "      <td>4256040402</td>\n",
       "      <td>11</td>\n",
       "    </tr>\n",
       "    <tr>\n",
       "      <th>591</th>\n",
       "      <td>2458001652</td>\n",
       "      <td>11</td>\n",
       "    </tr>\n",
       "    <tr>\n",
       "      <th>569</th>\n",
       "      <td>2378935119</td>\n",
       "      <td>9</td>\n",
       "    </tr>\n",
       "    <tr>\n",
       "      <th>487</th>\n",
       "      <td>2038680547</td>\n",
       "      <td>8</td>\n",
       "    </tr>\n",
       "    <tr>\n",
       "      <th>44</th>\n",
       "      <td>199603092</td>\n",
       "      <td>5</td>\n",
       "    </tr>\n",
       "    <tr>\n",
       "      <th>744</th>\n",
       "      <td>3062433592</td>\n",
       "      <td>5</td>\n",
       "    </tr>\n",
       "    <tr>\n",
       "      <th>55</th>\n",
       "      <td>237748145</td>\n",
       "      <td>5</td>\n",
       "    </tr>\n",
       "    <tr>\n",
       "      <th>917</th>\n",
       "      <td>3803269165</td>\n",
       "      <td>5</td>\n",
       "    </tr>\n",
       "    <tr>\n",
       "      <th>299</th>\n",
       "      <td>1230306981</td>\n",
       "      <td>5</td>\n",
       "    </tr>\n",
       "    <tr>\n",
       "      <th>897</th>\n",
       "      <td>3717692402</td>\n",
       "      <td>5</td>\n",
       "    </tr>\n",
       "  </tbody>\n",
       "</table>\n",
       "</div>"
      ],
      "text/plain": [
       "         user_id  orders\n",
       "1023  4256040402      11\n",
       "591   2458001652      11\n",
       "569   2378935119       9\n",
       "487   2038680547       8\n",
       "44     199603092       5\n",
       "744   3062433592       5\n",
       "55     237748145       5\n",
       "917   3803269165       5\n",
       "299   1230306981       5\n",
       "897   3717692402       5"
      ]
     },
     "execution_count": 424,
     "metadata": {},
     "output_type": "execute_result"
    }
   ],
   "source": [
    "#создадим сводную таблицу с количеством закзазов для каждого пользователя \n",
    "ordersByUsers = (\n",
    "    orders.groupby('visitorId', as_index=False)\n",
    "    .agg({'transactionId': 'nunique'})\n",
    ")\n",
    "#переименуем столбцы \n",
    "ordersByUsers.columns = ['user_id', 'orders']\n",
    "#выведем таблицу отсортиованную по убыванию кол-ва заказов \n",
    "ordersByUsers.sort_values(by='orders', ascending=False).head(10) \n",
    "\n"
   ]
  },
  {
   "cell_type": "code",
   "execution_count": 425,
   "metadata": {},
   "outputs": [
    {
     "data": {
      "image/png": "[encoded data removed]",
      "text/plain": [
       "<Figure size 864x576 with 1 Axes>"
      ]
     },
     "metadata": {
      "needs_background": "light"
     },
     "output_type": "display_data"
    }
   ],
   "source": [
    "# серия из чисел от 0 до количества наблюдений в ordersByUsers \n",
    "x_values = pd.Series(range(0, len(ordersByUsers)))\n",
    "# зададим размеры графика  \n",
    "plt.figure(figsize=(12,8)) \n",
    "#построим график \n",
    "plt.scatter(x_values, ordersByUsers['orders'])  \n",
    "# зададим описание графика \n",
    "plt.ylabel('Количество заказов') \n",
    "plt.xlabel('Количество пользователей') \n",
    "plt.title('Распределение по количеству сделанных заказов') \n",
    "plt.show() "
   ]
  },
  {
   "cell_type": "markdown",
   "metadata": {},
   "source": [
    "Наибольшее количество пользователей с 1 и 2 заказами, остальные довольно редкие, наиболее редкое явление - это 11 заказов."
   ]
  },
  {
   "cell_type": "markdown",
   "metadata": {},
   "source": [
    "#### Расчет 95-й и 99-й перцентили количества заказов на пользователя"
   ]
  },
  {
   "cell_type": "code",
   "execution_count": 426,
   "metadata": {},
   "outputs": [
    {
     "name": "stdout",
     "output_type": "stream",
     "text": [
      "[2. 4.]\n"
     ]
    }
   ],
   "source": [
    "# Метод np.percentile('column', [percentile1, percentile2, percentile3]) находит перцентили.\n",
    "print(np.percentile(ordersByUsers['orders'], [95, 99])) "
   ]
  },
  {
   "cell_type": "markdown",
   "metadata": {},
   "source": [
    "Результат:\n",
    "\n",
    "не более 5 % совершили больше 2-ух заказов\n",
    "не более 1 % совершили больше 4-ёх заказов\n",
    "Устанавливаем границу по колличеству заказов на пользователя в 3 шт., заключим её в переменную:"
   ]
  },
  {
   "cell_type": "code",
   "execution_count": 427,
   "metadata": {},
   "outputs": [],
   "source": [
    "orders_user = 3 "
   ]
  },
  {
   "cell_type": "markdown",
   "metadata": {},
   "source": [
    "#### Построим точечный график стоимостей заказов"
   ]
  },
  {
   "cell_type": "code",
   "execution_count": 428,
   "metadata": {},
   "outputs": [
    {
     "data": {
      "text/html": [
       "<div>\n",
       "<style scoped>\n",
       "    .dataframe tbody tr th:only-of-type {\n",
       "        vertical-align: middle;\n",
       "    }\n",
       "\n",
       "    .dataframe tbody tr th {\n",
       "        vertical-align: top;\n",
       "    }\n",
       "\n",
       "    .dataframe thead th {\n",
       "        text-align: right;\n",
       "    }\n",
       "</style>\n",
       "<table border=\"1\" class=\"dataframe\">\n",
       "  <thead>\n",
       "    <tr style=\"text-align: right;\">\n",
       "      <th></th>\n",
       "      <th>visitorId</th>\n",
       "      <th>revenue</th>\n",
       "    </tr>\n",
       "  </thead>\n",
       "  <tbody>\n",
       "    <tr>\n",
       "      <th>425</th>\n",
       "      <td>1920142716</td>\n",
       "      <td>1294500</td>\n",
       "    </tr>\n",
       "    <tr>\n",
       "      <th>1196</th>\n",
       "      <td>2108080724</td>\n",
       "      <td>202740</td>\n",
       "    </tr>\n",
       "    <tr>\n",
       "      <th>858</th>\n",
       "      <td>1316129916</td>\n",
       "      <td>93940</td>\n",
       "    </tr>\n",
       "    <tr>\n",
       "      <th>1136</th>\n",
       "      <td>1307669133</td>\n",
       "      <td>92550</td>\n",
       "    </tr>\n",
       "    <tr>\n",
       "      <th>744</th>\n",
       "      <td>888512513</td>\n",
       "      <td>86620</td>\n",
       "    </tr>\n",
       "    <tr>\n",
       "      <th>682</th>\n",
       "      <td>4266935830</td>\n",
       "      <td>78990</td>\n",
       "    </tr>\n",
       "    <tr>\n",
       "      <th>662</th>\n",
       "      <td>4266935830</td>\n",
       "      <td>78990</td>\n",
       "    </tr>\n",
       "    <tr>\n",
       "      <th>743</th>\n",
       "      <td>4133034833</td>\n",
       "      <td>67990</td>\n",
       "    </tr>\n",
       "    <tr>\n",
       "      <th>1103</th>\n",
       "      <td>1164614297</td>\n",
       "      <td>66350</td>\n",
       "    </tr>\n",
       "    <tr>\n",
       "      <th>1099</th>\n",
       "      <td>148427295</td>\n",
       "      <td>65710</td>\n",
       "    </tr>\n",
       "  </tbody>\n",
       "</table>\n",
       "</div>"
      ],
      "text/plain": [
       "       visitorId  revenue\n",
       "425   1920142716  1294500\n",
       "1196  2108080724   202740\n",
       "858   1316129916    93940\n",
       "1136  1307669133    92550\n",
       "744    888512513    86620\n",
       "682   4266935830    78990\n",
       "662   4266935830    78990\n",
       "743   4133034833    67990\n",
       "1103  1164614297    66350\n",
       "1099   148427295    65710"
      ]
     },
     "execution_count": 428,
     "metadata": {},
     "output_type": "execute_result"
    }
   ],
   "source": [
    "orders[['visitorId', 'revenue']].sort_values(by='revenue', ascending=False).head(10) "
   ]
  },
  {
   "cell_type": "code",
   "execution_count": 429,
   "metadata": {},
   "outputs": [
    {
     "data": {
      "image/png": "[encoded data removed]",
      "text/plain": [
       "<Figure size 864x576 with 1 Axes>"
      ]
     },
     "metadata": {
      "needs_background": "light"
     },
     "output_type": "display_data"
    }
   ],
   "source": [
    "# серия из чисел от 0 до количества наблюдений в orders \n",
    "x_values = pd.Series(range(0, len(orders['revenue'])))\n",
    "# зададим размеры графика  \n",
    "plt.figure(figsize=(12,8)) \n",
    "#построим график \n",
    "scattter_plot = plt.scatter(x_values, orders['revenue'])  \n",
    "# зададим описание графика \n",
    "plt.ylabel('Стоимость заказов') \n",
    "plt.xlabel('Количество пользователей') \n",
    "plt.title('Распределение по сумме сделанных заказов') \n",
    "plt.show() "
   ]
  },
  {
   "cell_type": "markdown",
   "metadata": {},
   "source": [
    "Можно заметить, что есть выброс максимально выше 1.2 млн. Поставим ограничение 100 000."
   ]
  },
  {
   "cell_type": "code",
   "execution_count": 430,
   "metadata": {},
   "outputs": [
    {
     "data": {
      "image/png": "[encoded data removed]",
      "text/plain": [
       "<Figure size 864x576 with 1 Axes>"
      ]
     },
     "metadata": {
      "needs_background": "light"
     },
     "output_type": "display_data"
    }
   ],
   "source": [
    "# серия из чисел от 0 до количества наблюдений в orders \n",
    "x_values = pd.Series(range(0, len(orders['revenue'])))\n",
    "# зададим размеры графика  \n",
    "plt.figure(figsize=(12,8))\n",
    "#построим график \n",
    "plt.scatter(x_values, orders['revenue'])\n",
    "#срежем очевидно анамальные заказы \n",
    "plt.ylim(0, 100000) \n",
    "# зададим описание графика \n",
    "plt.ylabel('Стоимость заказов') \n",
    "plt.xlabel('Количество пользователей') \n",
    "plt.title('Распределение по сумме сделанных заказов') \n",
    "plt.show()  "
   ]
  },
  {
   "cell_type": "markdown",
   "metadata": {},
   "source": [
    "Основные значения лежат в пределах до 20000, по графику всё ещё сложно найти границу анамально большого заказа."
   ]
  },
  {
   "cell_type": "markdown",
   "metadata": {},
   "source": [
    "#### Расчет 95-й и 99-й перцентили стоимости заказов.Оценка границы для определения аномальных заказов."
   ]
  },
  {
   "cell_type": "code",
   "execution_count": 431,
   "metadata": {},
   "outputs": [
    {
     "name": "stdout",
     "output_type": "stream",
     "text": [
      "[28000.  58233.2]\n"
     ]
    }
   ],
   "source": [
    "print(np.percentile(orders['revenue'], [95, 99]))   "
   ]
  },
  {
   "cell_type": "markdown",
   "metadata": {},
   "source": [
    "Результат:\n",
    "\n",
    "не более 5 % заказов стомостью более 28000 рублей\n",
    "не более 1 % заказов стомостью более 58233 рублей\n",
    "Устанавливаем границу по сумме заказа в 30000 рублей, добавим её в переменную:"
   ]
  },
  {
   "cell_type": "code",
   "execution_count": 432,
   "metadata": {},
   "outputs": [],
   "source": [
    "border_order  = 30000"
   ]
  },
  {
   "cell_type": "markdown",
   "metadata": {},
   "source": [
    "#### Расчет статистической значимости различий в среднем количестве заказов на посетителя между группами по «сырым» данным"
   ]
  },
  {
   "cell_type": "markdown",
   "metadata": {},
   "source": [
    "Соберем все данные по заказам и визитам (а также добавим кумулятивные показатели) в одну таблицу. Для этого создадим несколько таблиц и затем объединим их:"
   ]
  },
  {
   "cell_type": "code",
   "execution_count": 433,
   "metadata": {},
   "outputs": [
    {
     "data": {
      "text/html": [
       "<div>\n",
       "<style scoped>\n",
       "    .dataframe tbody tr th:only-of-type {\n",
       "        vertical-align: middle;\n",
       "    }\n",
       "\n",
       "    .dataframe tbody tr th {\n",
       "        vertical-align: top;\n",
       "    }\n",
       "\n",
       "    .dataframe thead th {\n",
       "        text-align: right;\n",
       "    }\n",
       "</style>\n",
       "<table border=\"1\" class=\"dataframe\">\n",
       "  <thead>\n",
       "    <tr style=\"text-align: right;\">\n",
       "      <th></th>\n",
       "      <th>date</th>\n",
       "      <th>group</th>\n",
       "      <th>visitors</th>\n",
       "      <th>duplicates</th>\n",
       "    </tr>\n",
       "  </thead>\n",
       "  <tbody>\n",
       "    <tr>\n",
       "      <th>0</th>\n",
       "      <td>2019-08-01</td>\n",
       "      <td>A</td>\n",
       "      <td>719</td>\n",
       "      <td>False</td>\n",
       "    </tr>\n",
       "    <tr>\n",
       "      <th>1</th>\n",
       "      <td>2019-08-02</td>\n",
       "      <td>A</td>\n",
       "      <td>619</td>\n",
       "      <td>False</td>\n",
       "    </tr>\n",
       "  </tbody>\n",
       "</table>\n",
       "</div>"
      ],
      "text/plain": [
       "        date group  visitors  duplicates\n",
       "0 2019-08-01     A       719       False\n",
       "1 2019-08-02     A       619       False"
      ]
     },
     "execution_count": 433,
     "metadata": {},
     "output_type": "execute_result"
    }
   ],
   "source": [
    "visitors.head(2)"
   ]
  },
  {
   "cell_type": "code",
   "execution_count": 434,
   "metadata": {},
   "outputs": [
    {
     "data": {
      "text/html": [
       "<div>\n",
       "<style scoped>\n",
       "    .dataframe tbody tr th:only-of-type {\n",
       "        vertical-align: middle;\n",
       "    }\n",
       "\n",
       "    .dataframe tbody tr th {\n",
       "        vertical-align: top;\n",
       "    }\n",
       "\n",
       "    .dataframe thead th {\n",
       "        text-align: right;\n",
       "    }\n",
       "</style>\n",
       "<table border=\"1\" class=\"dataframe\">\n",
       "  <thead>\n",
       "    <tr style=\"text-align: right;\">\n",
       "      <th></th>\n",
       "      <th>transactionId</th>\n",
       "      <th>visitorId</th>\n",
       "      <th>date</th>\n",
       "      <th>revenue</th>\n",
       "      <th>group</th>\n",
       "      <th>duplicates</th>\n",
       "    </tr>\n",
       "  </thead>\n",
       "  <tbody>\n",
       "    <tr>\n",
       "      <th>0</th>\n",
       "      <td>3667963787</td>\n",
       "      <td>3312258926</td>\n",
       "      <td>2019-08-15</td>\n",
       "      <td>1650</td>\n",
       "      <td>B</td>\n",
       "      <td>False</td>\n",
       "    </tr>\n",
       "    <tr>\n",
       "      <th>1</th>\n",
       "      <td>2804400009</td>\n",
       "      <td>3642806036</td>\n",
       "      <td>2019-08-15</td>\n",
       "      <td>730</td>\n",
       "      <td>B</td>\n",
       "      <td>False</td>\n",
       "    </tr>\n",
       "  </tbody>\n",
       "</table>\n",
       "</div>"
      ],
      "text/plain": [
       "   transactionId   visitorId       date  revenue group  duplicates\n",
       "0     3667963787  3312258926 2019-08-15     1650     B       False\n",
       "1     2804400009  3642806036 2019-08-15      730     B       False"
      ]
     },
     "execution_count": 434,
     "metadata": {},
     "output_type": "execute_result"
    }
   ],
   "source": [
    "orders.head(2)"
   ]
  },
  {
   "cell_type": "code",
   "execution_count": 435,
   "metadata": {},
   "outputs": [],
   "source": [
    "visitorsADaily = visitors[visitors['group']=='A'][['date', 'visitors']]\n",
    "visitorsADaily.columns = ['date', 'visitorsPerDateA']\n",
    "\n",
    "visitorsACummulative = visitorsADaily.apply(lambda x: visitorsADaily[visitorsADaily['date'] <= x['date']]. \\\n",
    "                                            agg({'date' : 'max', 'visitorsPerDateA' : 'sum'}), axis=1)\n",
    "visitorsACummulative.columns = ['date', 'visitorsCummulativeA']\n",
    "\n",
    "visitorsBDaily = visitors[visitors['group']=='B'][['date', 'visitors']]\n",
    "visitorsBDaily.columns = ['date', 'visitorsPerDateB']\n",
    "\n",
    "visitorsBCummulative = visitorsBDaily.apply(lambda x: visitorsBDaily[visitorsBDaily['date'] <= x['date']]. \\\n",
    "                                            agg({'date' : 'max', 'visitorsPerDateB' : 'sum'}), axis=1)\n",
    "visitorsBCummulative.columns = ['date', 'visitorsCummulativeB']\n",
    "\n",
    "\n",
    "ordersADaily = orders[orders['group']=='A'][['date', 'transactionId', 'visitorId', 'revenue']]\\\n",
    "    .groupby('date', as_index=False)\\\n",
    "    .agg({'transactionId' : pd.Series.nunique, 'revenue' : 'sum'})\n",
    "ordersADaily.columns = ['date', 'ordersPerDateA', 'revenuePerDateA']\n",
    "\n",
    "ordersACummulative = ordersADaily.apply(\n",
    "    lambda x: \\\n",
    "        ordersADaily[ordersADaily['date'] <= x['date']]\\\n",
    "            .agg({\n",
    "                'date' : 'max',\n",
    "                'ordersPerDateA' : 'sum',\n",
    "                'revenuePerDateA' : 'sum'}), axis=1).sort_values(by=['date'])\n",
    "ordersACummulative.columns = ['date', 'ordersCummulativeA', 'revenueCummulativeA']\n",
    "\n",
    "ordersBDaily = orders[orders['group']=='B'][['date', 'transactionId', 'visitorId', 'revenue']]\\\n",
    "    .groupby('date', as_index=False)\\\n",
    "    .agg({'transactionId' : pd.Series.nunique, 'revenue' : 'sum'})\n",
    "ordersBDaily.columns = ['date', 'ordersPerDateB', 'revenuePerDateB']\n",
    "\n",
    "ordersBCummulative = ordersBDaily.apply(\n",
    "    lambda x: \\\n",
    "        ordersBDaily[ordersBDaily['date'] <= x['date']]\\\n",
    "            .agg({\n",
    "                'date' : 'max',\n",
    "                'ordersPerDateB' : 'sum',\n",
    "                'revenuePerDateB' : 'sum'}), axis=1).sort_values(by=['date'])\n",
    "ordersBCummulative.columns = ['date', 'ordersCummulativeB', 'revenueCummulativeB']"
   ]
  },
  {
   "cell_type": "markdown",
   "metadata": {},
   "source": [
    "Объединим всё в одну таблицу:"
   ]
  },
  {
   "cell_type": "code",
   "execution_count": 436,
   "metadata": {},
   "outputs": [
    {
     "data": {
      "text/html": [
       "<div>\n",
       "<style scoped>\n",
       "    .dataframe tbody tr th:only-of-type {\n",
       "        vertical-align: middle;\n",
       "    }\n",
       "\n",
       "    .dataframe tbody tr th {\n",
       "        vertical-align: top;\n",
       "    }\n",
       "\n",
       "    .dataframe thead th {\n",
       "        text-align: right;\n",
       "    }\n",
       "</style>\n",
       "<table border=\"1\" class=\"dataframe\">\n",
       "  <thead>\n",
       "    <tr style=\"text-align: right;\">\n",
       "      <th></th>\n",
       "      <th>date</th>\n",
       "      <th>ordersPerDateA</th>\n",
       "      <th>revenuePerDateA</th>\n",
       "      <th>ordersPerDateB</th>\n",
       "      <th>revenuePerDateB</th>\n",
       "      <th>ordersCummulativeA</th>\n",
       "      <th>revenueCummulativeA</th>\n",
       "      <th>ordersCummulativeB</th>\n",
       "      <th>revenueCummulativeB</th>\n",
       "      <th>visitorsPerDateA</th>\n",
       "      <th>visitorsPerDateB</th>\n",
       "      <th>visitorsCummulativeA</th>\n",
       "      <th>visitorsCummulativeB</th>\n",
       "    </tr>\n",
       "  </thead>\n",
       "  <tbody>\n",
       "    <tr>\n",
       "      <th>14</th>\n",
       "      <td>2019-08-15</td>\n",
       "      <td>15</td>\n",
       "      <td>88205</td>\n",
       "      <td>31</td>\n",
       "      <td>342499</td>\n",
       "      <td>283</td>\n",
       "      <td>1979057</td>\n",
       "      <td>339</td>\n",
       "      <td>2367945</td>\n",
       "      <td>628</td>\n",
       "      <td>544</td>\n",
       "      <td>9686</td>\n",
       "      <td>9600</td>\n",
       "    </tr>\n",
       "    <tr>\n",
       "      <th>27</th>\n",
       "      <td>2019-08-28</td>\n",
       "      <td>17</td>\n",
       "      <td>101122</td>\n",
       "      <td>28</td>\n",
       "      <td>96008</td>\n",
       "      <td>512</td>\n",
       "      <td>3615820</td>\n",
       "      <td>576</td>\n",
       "      <td>5328268</td>\n",
       "      <td>594</td>\n",
       "      <td>654</td>\n",
       "      <td>16970</td>\n",
       "      <td>17177</td>\n",
       "    </tr>\n",
       "    <tr>\n",
       "      <th>4</th>\n",
       "      <td>2019-08-05</td>\n",
       "      <td>25</td>\n",
       "      <td>124218</td>\n",
       "      <td>23</td>\n",
       "      <td>92428</td>\n",
       "      <td>109</td>\n",
       "      <td>549917</td>\n",
       "      <td>101</td>\n",
       "      <td>581995</td>\n",
       "      <td>756</td>\n",
       "      <td>707</td>\n",
       "      <td>3318</td>\n",
       "      <td>3280</td>\n",
       "    </tr>\n",
       "  </tbody>\n",
       "</table>\n",
       "</div>"
      ],
      "text/plain": [
       "         date  ordersPerDateA  revenuePerDateA  ordersPerDateB  \\\n",
       "14 2019-08-15              15            88205              31   \n",
       "27 2019-08-28              17           101122              28   \n",
       "4  2019-08-05              25           124218              23   \n",
       "\n",
       "    revenuePerDateB  ordersCummulativeA  revenueCummulativeA  \\\n",
       "14           342499                 283              1979057   \n",
       "27            96008                 512              3615820   \n",
       "4             92428                 109               549917   \n",
       "\n",
       "    ordersCummulativeB  revenueCummulativeB  visitorsPerDateA  \\\n",
       "14                 339              2367945               628   \n",
       "27                 576              5328268               594   \n",
       "4                  101               581995               756   \n",
       "\n",
       "    visitorsPerDateB  visitorsCummulativeA  visitorsCummulativeB  \n",
       "14               544                  9686                  9600  \n",
       "27               654                 16970                 17177  \n",
       "4                707                  3318                  3280  "
      ]
     },
     "execution_count": 436,
     "metadata": {},
     "output_type": "execute_result"
    }
   ],
   "source": [
    "data = ordersADaily.merge(ordersBDaily, left_on='date', right_on='date', how='left')\\\n",
    "    .merge(ordersACummulative, left_on='date', right_on='date', how='left')\\\n",
    "    .merge(ordersBCummulative, left_on='date', right_on='date', how='left')\\\n",
    "    .merge(visitorsADaily, left_on='date', right_on='date', how='left')\\\n",
    "    .merge(visitorsBDaily, left_on='date', right_on='date', how='left')\\\n",
    "    .merge(visitorsACummulative, left_on='date', right_on='date', how='left')\\\n",
    "    .merge(visitorsBCummulative, left_on='date', right_on='date', how='left')\n",
    "data.sample(3)"
   ]
  },
  {
   "cell_type": "markdown",
   "metadata": {},
   "source": [
    "Применим критерий и отформатируем p-value, округлив его до трёх знаков после запятой. В sampleA сохраним выборку, где каждый элемент — число заказов определённого пользователя, в том числе ноль. Значит, число элементов sampleA — это количество пользователей, сумма всех элементов — количество заказов. Чтобы получить конверсию в группе, поделим сумму заказов на число пользователей — найдём среднее в выборке sampleA методом mean(). Аналогично найдём конверсию группы B: SampleB.mean().\n",
    "Выведем относительный прирост конверсии группы B: конверсия группы B / конверсия группы A - 1. Округлим до трёх знаков после запятой (пороговое значение возьмём равное 5%).\n",
    "\n",
    "Нулевая гипотеза: статистически значимых различий в конверсии между группами нет.\n",
    "\n",
    "Альтернативная гипотеза:статистически значимые различия есть."
   ]
  },
  {
   "cell_type": "code",
   "execution_count": 437,
   "metadata": {},
   "outputs": [
    {
     "name": "stdout",
     "output_type": "stream",
     "text": [
      "alpha = 0.05\n",
      "p-value = 0.017\n",
      "Относительный показатель 'B' и 'A' = 0.138\n"
     ]
    }
   ],
   "source": [
    "ordersByUsersA = orders[orders['group']=='A'].groupby('visitorId', as_index=False).agg({'transactionId' : pd.Series.nunique})\n",
    "ordersByUsersA.columns = ['visitorId', 'orders']\n",
    "\n",
    "ordersByUsersB = orders[orders['group']=='B'].groupby('visitorId', as_index=False).agg({'transactionId' : pd.Series.nunique})\n",
    "ordersByUsersB.columns = ['visitorId', 'orders']\n",
    "\n",
    "sampleA = pd.concat([ordersByUsersA['orders'],\\\n",
    "                     pd.Series(0, index=np.arange(data['visitorsPerDateA'].sum() - len(ordersByUsersA['orders'])), \\\n",
    "                               name='orders')],axis=0)\n",
    "\n",
    "sampleB = pd.concat([ordersByUsersB['orders'],\n",
    "                     pd.Series(0, index=np.arange(data['visitorsPerDateB'].sum() - len(ordersByUsersB['orders'])), \\\n",
    "                               name='orders')],axis=0)\n",
    "\n",
    "print(\"alpha =\",0.05)\n",
    "print(\"p-value = {0:.3f}\".format(stats.mannwhitneyu(sampleA, sampleB, alternative = 'two-sided')[1]))\n",
    "print(\"Относительный показатель 'B' и 'A' = {0:.3f}\".format(sampleB.mean()/sampleA.mean()-1)) "
   ]
  },
  {
   "cell_type": "markdown",
   "metadata": {},
   "source": [
    "Вывод: p-value = 0.017 меньше 0.05. Значит, нулевую гипотезу о том, что статистически значимых различий в конверсии между группами нет, - отвергаем. Это значит: по «сырым» данным различия в конверсии групп A и B есть. А относительный выигрыш группы \"B\" над \"A\" равен 13.8%."
   ]
  },
  {
   "cell_type": "markdown",
   "metadata": {},
   "source": [
    "#### Посчитаем статистическую значимость различий в среднем чеке заказа между группами по «сырым» данным"
   ]
  },
  {
   "cell_type": "markdown",
   "metadata": {},
   "source": [
    "Чтобы рассчитать статистическую значимость различий в среднем чеке, передадим критерию mannwhitneyu() данные о выручке с заказов."
   ]
  },
  {
   "cell_type": "markdown",
   "metadata": {},
   "source": [
    "Нулевая гипотеза: статистически значимых различий в средних чеках между группами нет; \n",
    "\n",
    "Альтернативная гипотеза: статистически значимые различия есть."
   ]
  },
  {
   "cell_type": "code",
   "execution_count": 438,
   "metadata": {},
   "outputs": [
    {
     "name": "stdout",
     "output_type": "stream",
     "text": [
      "alpha = 0.05\n",
      "p-value = 0.729\n",
      "Относительный показатель 'B' и 'A' = 0.259\n"
     ]
    }
   ],
   "source": [
    "print(\"alpha =\",0.05)\n",
    "print(\"p-value = {0:.3f}\".format(stats.mannwhitneyu(orders[orders['group']=='A']['revenue'], \\\n",
    "                                                    orders[orders['group']=='B']['revenue'], alternative = 'two-sided')[1]))\n",
    "print(\"Относительный показатель 'B' и 'A' = {0:.3f}\"\\\n",
    "      .format(orders[orders['group']=='B']['revenue'].mean()/orders[orders['group']=='A']['revenue'].mean()-1)) "
   ]
  },
  {
   "cell_type": "markdown",
   "metadata": {},
   "source": [
    "P-value значительно больше 0.05. Не получается отвергнуть нулевую гипотезу, в среднем чеке есть различия. То есть средние чеки по \"сырым\" данным схожи. И при этом, средний чек группы B выше среднего чека группы A на 26%."
   ]
  },
  {
   "cell_type": "markdown",
   "metadata": {},
   "source": [
    "#### Расчет статистической значимости различий в среднем количестве заказов на посетителя между группами по «очищенным» данным "
   ]
  },
  {
   "cell_type": "markdown",
   "metadata": {},
   "source": [
    "Вспомним - из предыдущих пунктов мы приняли за аномальных пользователей тех, кто совершил больше 3 заказов или совершил заказ дороже 58233.2 рублей. Сделаем срезы пользователей с числом заказов больше 2 — usersWithManyOrders и пользователей, совершивших заказы дороже 58233.2 — usersWithExpensiveOrders. Объединим их в таблице abnormalUsers. Узнаем, сколько всего аномальных пользователей методом shape()."
   ]
  },
  {
   "cell_type": "code",
   "execution_count": 439,
   "metadata": {},
   "outputs": [
    {
     "name": "stdout",
     "output_type": "stream",
     "text": [
      "1099    148427295\n",
      "18      199603092\n",
      "23      237748145\n",
      "37      249864742\n",
      "68      457167155\n",
      "Name: visitorId, dtype: int64\n",
      "Количество пользователей, имеющих анамальные значения = 31\n"
     ]
    }
   ],
   "source": [
    "usersWithManyOrders = pd.concat([ordersByUsersA[ordersByUsersA['orders'] > 2]['visitorId'], \\\n",
    "                                 ordersByUsersB[ordersByUsersB['orders'] > 2]['visitorId']], axis = 0)\n",
    "usersWithExpensiveOrders = orders[orders['revenue'] > 58233.2]['visitorId']\n",
    "abnormalUsers = pd.concat([usersWithManyOrders, usersWithExpensiveOrders], axis = 0).drop_duplicates().sort_values()\n",
    "print(abnormalUsers.head(5))\n",
    "print(\"Количество пользователей, имеющих анамальные значения =\" ,len(abnormalUsers)) "
   ]
  },
  {
   "cell_type": "markdown",
   "metadata": {},
   "source": [
    "Узнаем, как их действия повлияли на результаты теста. Посчитаем статистическую значимость различий в конверсии между группами теста по очищенным данным. Сначала подготовим выборки количества заказов по пользователям по группам теста:"
   ]
  },
  {
   "cell_type": "code",
   "execution_count": 440,
   "metadata": {},
   "outputs": [],
   "source": [
    "sampleAFiltered = pd.concat([ordersByUsersA[np.logical_not(ordersByUsersA['visitorId'].isin(abnormalUsers))]['orders'], \\\n",
    "                             pd.Series(0, index=np.arange(data['visitorsPerDateA'].sum() - len(ordersByUsersA['orders'])), \\\n",
    "                                       name='orders')],axis=0)\n",
    "\n",
    "sampleBFiltered = pd.concat([ordersByUsersB[np.logical_not(ordersByUsersB['visitorId'].isin(abnormalUsers))]['orders'], \\\n",
    "                             pd.Series(0, index=np.arange(data['visitorsPerDateB'].sum() - len(ordersByUsersB['orders'])), \\\n",
    "                                       name='orders')],axis=0) \n",
    "# sampleAFiltered.value_counts() , sampleBFiltered.value_counts()"
   ]
  },
  {
   "cell_type": "markdown",
   "metadata": {},
   "source": [
    "Применим статистический критерий Манна-Уитни к полученным выборкам.\n",
    "\n",
    "Нулевая гипотеза: статистически значимых различий в конверсии между группами нет; \n",
    "Альтернативная гипотеза: статистически значимые различия есть."
   ]
  },
  {
   "cell_type": "code",
   "execution_count": 441,
   "metadata": {},
   "outputs": [
    {
     "name": "stdout",
     "output_type": "stream",
     "text": [
      "alpha = 0.05\n",
      "p-value = 0.010\n",
      "Относительный показатель 'B' и 'A' = 0.174\n"
     ]
    }
   ],
   "source": [
    "print(\"alpha =\",0.05)\n",
    "print(\"p-value = {0:.3f}\".format(stats.mannwhitneyu(sampleAFiltered, sampleBFiltered, alternative = 'two-sided')[1]))\n",
    "print(\"Относительный показатель 'B' и 'A' = {0:.3f}\".format(sampleBFiltered.mean()/sampleAFiltered.mean()-1)) "
   ]
  },
  {
   "cell_type": "markdown",
   "metadata": {},
   "source": [
    "Вывод: p-value = 0.01 меньше 0.05. Значит, нулевую гипотезу о том, что статистически значимых различий в конверсии между группами нет,  отвергаем. И по «очищенным» данным различия в конверсии групп A и B есть. А относительный выигрыш группы \"B\" над \"A\" равен 17,4% (выше, чем с «сырыми» данными - 13.8%)."
   ]
  },
  {
   "cell_type": "markdown",
   "metadata": {},
   "source": [
    "#### Расчет статистической значимости различий в среднем чеке заказа"
   ]
  },
  {
   "cell_type": "markdown",
   "metadata": {},
   "source": [
    "Рассмотрим, произошло ли что-нибудь с результатами по среднему чеку.\n",
    "\n",
    "Нулевая гипотеза: статистически значимых различий в средних чеках между группами нет; \n",
    "\n",
    "Альтернативная гипотеза: статистически значимые различия есть.\n",
    "\n"
   ]
  },
  {
   "cell_type": "code",
   "execution_count": 442,
   "metadata": {},
   "outputs": [
    {
     "name": "stdout",
     "output_type": "stream",
     "text": [
      "alpha = 0.05\n",
      "p-value = 0.798\n",
      "Относительный показатель 'B' и 'A' = -0.020\n"
     ]
    }
   ],
   "source": [
    "print(\"alpha =\",0.05)\n",
    "print(\"p-value = {0:.3f}\".format(stats.mannwhitneyu(\n",
    "    orders[np.logical_and(\n",
    "        orders['group']=='A',\n",
    "        np.logical_not(orders['visitorId'].isin(abnormalUsers)))]['revenue'],\n",
    "    orders[np.logical_and(\n",
    "        orders['group']=='B',\n",
    "        np.logical_not(orders['visitorId'].isin(abnormalUsers)))]['revenue'], alternative = 'two-sided')[1]))\n",
    "\n",
    "print(\"Относительный показатель 'B' и 'A' = {0:.3f}\".format(\n",
    "    orders[np.logical_and(orders['group']=='B',np.logical_not(orders['visitorId'].isin(abnormalUsers)))]['revenue'].mean()/\n",
    "    orders[np.logical_and(\n",
    "        orders['group']=='A',\n",
    "        np.logical_not(orders['visitorId'].isin(abnormalUsers)))]['revenue'].mean() - 1)) "
   ]
  },
  {
   "cell_type": "markdown",
   "metadata": {},
   "source": [
    "P-value значительно больше 0.05. Значит, причин отвергать нулевую гипотезу и считать, что в среднем чеке есть различия,тоже нет (как и с \"Сырыми\" данными). А вот средний чек группы B оказался незначительно (на 2%) ниже среднего чека группы A, в то время как по \"сырым\" данным, он был выше на 26%, скорее всего здесь сыграл роль анамольный заказ больше 1,2 млн."
   ]
  },
  {
   "cell_type": "markdown",
   "metadata": {},
   "source": [
    "#### Примите решение по результатам теста и объясните его. Варианты решений:\n",
    "1. Остановить тест, зафиксировать победу одной из групп.\n",
    "2. Остановить тест, зафиксировать отсутствие различий между группами.\n",
    "3. Продолжить тест."
   ]
  },
  {
   "cell_type": "markdown",
   "metadata": {},
   "source": [
    "По результатам тестирования, которое длилось месяц, было выявлено:\n",
    "\n",
    "И по \"сырым\" и по \"очищенным\" данным различия в конверсии групп A и B есть. Относительный выигрыш группы \"B\" над \"A\" равен 17,4% по \"очищенным\" и 13.8% по \"сырым\" данным.\n",
    "\n",
    "Оказалось, что и по \"сырым\" и по \"очищенным\" данным различия в средних чеках групп A и B отстутствуют, несмотря на то, что средний чек группы B оказался незначительно (на 2%) ниже среднего чека группы A по \"очищенным\" данным, в то время как по \"сырым\" данным, он был выше на 26% из-за аномального заказа на сумму больше 1,2 млн.Аномальный заказ убрали и чеки сравнялись."
   ]
  },
  {
   "cell_type": "markdown",
   "metadata": {},
   "source": [
    "Проведя тестирование, мы получили однозначные результаты. Исходя из этого, мы можем сделать вывод, что тестирование можно остановить и утверждать о победе группы B. Группа B является значительно более эффективной по конверсии, хотя по среднему чеку группа A практически не отличается от группы B."
   ]
  }
 ],
 "metadata": {
  "ExecuteTimeLog": [
   {
    "duration": 109,
    "start_time": "2023-08-08T13:51:23.738Z"
   },
   {
    "duration": 3,
    "start_time": "2023-08-08T13:52:42.346Z"
   },
   {
    "duration": 2,
    "start_time": "2023-08-08T13:53:23.587Z"
   },
   {
    "duration": 26,
    "start_time": "2023-08-08T13:53:59.720Z"
   },
   {
    "duration": 7,
    "start_time": "2023-08-08T13:54:11.794Z"
   },
   {
    "duration": 9,
    "start_time": "2023-08-08T13:54:26.605Z"
   },
   {
    "duration": 10,
    "start_time": "2023-08-08T13:56:19.564Z"
   },
   {
    "duration": 9,
    "start_time": "2023-08-08T13:58:05.238Z"
   },
   {
    "duration": 13,
    "start_time": "2023-08-08T14:00:04.220Z"
   },
   {
    "duration": 6,
    "start_time": "2023-08-08T14:01:30.351Z"
   },
   {
    "duration": 6,
    "start_time": "2023-08-08T14:01:34.075Z"
   },
   {
    "duration": 118,
    "start_time": "2023-08-08T14:05:18.600Z"
   },
   {
    "duration": 8,
    "start_time": "2023-08-08T14:35:25.551Z"
   },
   {
    "duration": 9,
    "start_time": "2023-08-08T14:44:45.506Z"
   },
   {
    "duration": 2,
    "start_time": "2023-08-08T18:37:49.578Z"
   },
   {
    "duration": 27,
    "start_time": "2023-08-08T18:37:57.773Z"
   },
   {
    "duration": 7,
    "start_time": "2023-08-08T18:38:06.416Z"
   },
   {
    "duration": 2,
    "start_time": "2023-08-08T18:39:53.097Z"
   },
   {
    "duration": 8,
    "start_time": "2023-08-08T18:40:01.798Z"
   },
   {
    "duration": 11,
    "start_time": "2023-08-08T18:42:24.062Z"
   },
   {
    "duration": 79,
    "start_time": "2023-08-08T18:42:44.739Z"
   },
   {
    "duration": 5,
    "start_time": "2023-08-08T18:44:43.713Z"
   },
   {
    "duration": 76,
    "start_time": "2023-08-08T18:45:58.235Z"
   },
   {
    "duration": 4,
    "start_time": "2023-08-08T18:46:18.421Z"
   },
   {
    "duration": 4,
    "start_time": "2023-08-08T18:47:46.116Z"
   },
   {
    "duration": 7,
    "start_time": "2023-08-08T18:48:03.317Z"
   },
   {
    "duration": 4,
    "start_time": "2023-08-08T18:49:28.974Z"
   },
   {
    "duration": 9,
    "start_time": "2023-08-08T18:52:29.951Z"
   },
   {
    "duration": 10,
    "start_time": "2023-08-08T18:53:08.371Z"
   },
   {
    "duration": 368,
    "start_time": "2023-08-08T18:58:49.164Z"
   },
   {
    "duration": 205,
    "start_time": "2023-08-08T19:41:08.950Z"
   },
   {
    "duration": 159,
    "start_time": "2023-08-08T19:42:26.003Z"
   },
   {
    "duration": 76,
    "start_time": "2023-08-08T19:42:52.544Z"
   },
   {
    "duration": 8,
    "start_time": "2023-08-08T19:43:09.790Z"
   },
   {
    "duration": 7,
    "start_time": "2023-08-08T19:44:32.620Z"
   },
   {
    "duration": 8,
    "start_time": "2023-08-08T19:45:34.633Z"
   },
   {
    "duration": 3,
    "start_time": "2023-08-08T19:47:23.759Z"
   },
   {
    "duration": 10,
    "start_time": "2023-08-08T19:47:24.903Z"
   },
   {
    "duration": 9,
    "start_time": "2023-08-08T19:47:51.227Z"
   },
   {
    "duration": 8,
    "start_time": "2023-08-08T19:48:26.441Z"
   },
   {
    "duration": 10,
    "start_time": "2023-08-08T19:51:00.158Z"
   },
   {
    "duration": 4,
    "start_time": "2023-08-08T19:55:12.275Z"
   },
   {
    "duration": 5,
    "start_time": "2023-08-08T19:55:37.790Z"
   },
   {
    "duration": 10,
    "start_time": "2023-08-08T19:55:51.599Z"
   },
   {
    "duration": 8,
    "start_time": "2023-08-08T19:56:26.453Z"
   },
   {
    "duration": 6,
    "start_time": "2023-08-08T19:56:55.109Z"
   },
   {
    "duration": 6,
    "start_time": "2023-08-08T19:57:17.490Z"
   },
   {
    "duration": 7,
    "start_time": "2023-08-08T19:57:44.555Z"
   },
   {
    "duration": 4,
    "start_time": "2023-08-08T19:58:06.957Z"
   },
   {
    "duration": 5,
    "start_time": "2023-08-08T19:58:23.782Z"
   },
   {
    "duration": 5,
    "start_time": "2023-08-08T19:58:43.392Z"
   },
   {
    "duration": 6,
    "start_time": "2023-08-08T19:59:11.594Z"
   },
   {
    "duration": 9,
    "start_time": "2023-08-08T19:59:48.821Z"
   },
   {
    "duration": 8,
    "start_time": "2023-08-08T20:00:34.935Z"
   },
   {
    "duration": 8,
    "start_time": "2023-08-08T20:01:19.671Z"
   },
   {
    "duration": 8,
    "start_time": "2023-08-08T20:01:50.786Z"
   },
   {
    "duration": 4,
    "start_time": "2023-08-08T20:02:54.670Z"
   },
   {
    "duration": 8,
    "start_time": "2023-08-08T20:07:45.733Z"
   },
   {
    "duration": 12,
    "start_time": "2023-08-08T20:08:24.677Z"
   },
   {
    "duration": 602,
    "start_time": "2023-08-09T11:10:40.360Z"
   },
   {
    "duration": 323,
    "start_time": "2023-08-09T11:11:33.723Z"
   },
   {
    "duration": 78,
    "start_time": "2023-08-09T11:13:09.556Z"
   },
   {
    "duration": 401,
    "start_time": "2023-08-09T11:13:35.487Z"
   },
   {
    "duration": 23,
    "start_time": "2023-08-09T11:14:00.794Z"
   },
   {
    "duration": 96,
    "start_time": "2023-08-09T11:15:57.370Z"
   },
   {
    "duration": 22,
    "start_time": "2023-08-09T11:16:26.364Z"
   },
   {
    "duration": 250,
    "start_time": "2023-08-09T11:28:53.137Z"
   },
   {
    "duration": 287,
    "start_time": "2023-08-09T11:30:15.212Z"
   },
   {
    "duration": 303,
    "start_time": "2023-08-09T11:35:24.433Z"
   },
   {
    "duration": 233,
    "start_time": "2023-08-09T11:35:50.762Z"
   },
   {
    "duration": 217,
    "start_time": "2023-08-09T11:38:30.001Z"
   },
   {
    "duration": 269,
    "start_time": "2023-08-09T11:38:35.144Z"
   },
   {
    "duration": 15,
    "start_time": "2023-08-09T11:39:39.201Z"
   },
   {
    "duration": 265,
    "start_time": "2023-08-09T11:44:21.446Z"
   },
   {
    "duration": 277,
    "start_time": "2023-08-09T12:15:09.205Z"
   },
   {
    "duration": 3,
    "start_time": "2023-08-09T12:17:05.801Z"
   },
   {
    "duration": 85,
    "start_time": "2023-08-09T12:17:05.805Z"
   },
   {
    "duration": 6,
    "start_time": "2023-08-09T12:17:05.892Z"
   },
   {
    "duration": 36,
    "start_time": "2023-08-09T12:17:05.899Z"
   },
   {
    "duration": 37,
    "start_time": "2023-08-09T12:17:05.937Z"
   },
   {
    "duration": 26,
    "start_time": "2023-08-09T12:17:05.975Z"
   },
   {
    "duration": 29,
    "start_time": "2023-08-09T12:17:06.002Z"
   },
   {
    "duration": 35,
    "start_time": "2023-08-09T12:17:06.032Z"
   },
   {
    "duration": 29,
    "start_time": "2023-08-09T12:17:06.069Z"
   },
   {
    "duration": 29,
    "start_time": "2023-08-09T12:17:06.099Z"
   },
   {
    "duration": 27,
    "start_time": "2023-08-09T12:17:06.129Z"
   },
   {
    "duration": 29,
    "start_time": "2023-08-09T12:17:06.157Z"
   },
   {
    "duration": 31,
    "start_time": "2023-08-09T12:17:06.188Z"
   },
   {
    "duration": 36,
    "start_time": "2023-08-09T12:17:06.220Z"
   },
   {
    "duration": 27,
    "start_time": "2023-08-09T12:17:06.257Z"
   },
   {
    "duration": 33,
    "start_time": "2023-08-09T12:17:06.286Z"
   },
   {
    "duration": 37,
    "start_time": "2023-08-09T12:17:06.321Z"
   },
   {
    "duration": 21,
    "start_time": "2023-08-09T12:17:06.359Z"
   },
   {
    "duration": 33,
    "start_time": "2023-08-09T12:17:06.381Z"
   },
   {
    "duration": 37,
    "start_time": "2023-08-09T12:17:06.415Z"
   },
   {
    "duration": 42,
    "start_time": "2023-08-09T12:17:06.454Z"
   },
   {
    "duration": 48,
    "start_time": "2023-08-09T12:17:06.498Z"
   },
   {
    "duration": 47,
    "start_time": "2023-08-09T12:17:06.548Z"
   },
   {
    "duration": 33,
    "start_time": "2023-08-09T12:17:06.597Z"
   },
   {
    "duration": 42,
    "start_time": "2023-08-09T12:17:06.632Z"
   },
   {
    "duration": 15,
    "start_time": "2023-08-09T12:17:06.675Z"
   },
   {
    "duration": 20,
    "start_time": "2023-08-09T12:17:06.691Z"
   },
   {
    "duration": 17,
    "start_time": "2023-08-09T12:17:06.713Z"
   },
   {
    "duration": 308,
    "start_time": "2023-08-09T12:24:13.731Z"
   },
   {
    "duration": 254,
    "start_time": "2023-08-09T12:24:23.811Z"
   },
   {
    "duration": 196,
    "start_time": "2023-08-09T12:29:30.467Z"
   },
   {
    "duration": 179,
    "start_time": "2023-08-09T12:30:40.785Z"
   },
   {
    "duration": 172,
    "start_time": "2023-08-09T12:31:15.061Z"
   },
   {
    "duration": 100,
    "start_time": "2023-08-09T12:32:11.268Z"
   },
   {
    "duration": 194,
    "start_time": "2023-08-09T12:36:58.679Z"
   },
   {
    "duration": 323,
    "start_time": "2023-08-09T12:48:01.201Z"
   },
   {
    "duration": 321,
    "start_time": "2023-08-09T12:48:11.273Z"
   },
   {
    "duration": 9,
    "start_time": "2023-08-09T12:49:03.568Z"
   },
   {
    "duration": 10,
    "start_time": "2023-08-09T12:53:51.624Z"
   },
   {
    "duration": 270,
    "start_time": "2023-08-09T12:54:48.200Z"
   },
   {
    "duration": 132,
    "start_time": "2023-08-09T12:59:50.909Z"
   },
   {
    "duration": 9,
    "start_time": "2023-08-09T13:01:41.986Z"
   },
   {
    "duration": 228,
    "start_time": "2023-08-09T13:03:35.864Z"
   },
   {
    "duration": 9,
    "start_time": "2023-08-09T13:09:55.776Z"
   },
   {
    "duration": 280,
    "start_time": "2023-08-09T13:10:27.971Z"
   },
   {
    "duration": 10,
    "start_time": "2023-08-09T13:22:58.668Z"
   },
   {
    "duration": 10,
    "start_time": "2023-08-09T13:24:45.220Z"
   },
   {
    "duration": 13,
    "start_time": "2023-08-09T13:25:26.158Z"
   },
   {
    "duration": 12,
    "start_time": "2023-08-09T13:27:06.794Z"
   },
   {
    "duration": 9,
    "start_time": "2023-08-09T13:27:48.011Z"
   },
   {
    "duration": 13,
    "start_time": "2023-08-09T13:28:49.703Z"
   },
   {
    "duration": 7,
    "start_time": "2023-08-09T13:29:45.197Z"
   },
   {
    "duration": 168,
    "start_time": "2023-08-09T13:29:54.598Z"
   },
   {
    "duration": 4,
    "start_time": "2023-08-09T13:40:11.791Z"
   },
   {
    "duration": 3,
    "start_time": "2023-08-09T13:52:18.854Z"
   },
   {
    "duration": 79,
    "start_time": "2023-08-09T13:52:56.202Z"
   },
   {
    "duration": 2,
    "start_time": "2023-08-09T13:54:44.422Z"
   },
   {
    "duration": 2,
    "start_time": "2023-08-09T13:55:58.788Z"
   },
   {
    "duration": 156,
    "start_time": "2023-08-09T13:57:48.356Z"
   },
   {
    "duration": 9,
    "start_time": "2023-08-09T13:59:37.206Z"
   },
   {
    "duration": 143,
    "start_time": "2023-08-09T13:59:38.452Z"
   },
   {
    "duration": 144,
    "start_time": "2023-08-09T14:00:49.498Z"
   },
   {
    "duration": 147,
    "start_time": "2023-08-09T14:03:16.569Z"
   },
   {
    "duration": 149,
    "start_time": "2023-08-09T14:04:27.337Z"
   },
   {
    "duration": 186,
    "start_time": "2023-08-09T14:04:31.990Z"
   },
   {
    "duration": 4,
    "start_time": "2023-08-09T14:07:07.840Z"
   },
   {
    "duration": 3,
    "start_time": "2023-08-09T14:08:49.902Z"
   },
   {
    "duration": 13,
    "start_time": "2023-08-09T14:13:23.565Z"
   },
   {
    "duration": 121,
    "start_time": "2023-08-09T14:14:28.364Z"
   },
   {
    "duration": 126,
    "start_time": "2023-08-09T14:16:51.935Z"
   },
   {
    "duration": 1564,
    "start_time": "2023-08-09T14:18:13.758Z"
   },
   {
    "duration": 8,
    "start_time": "2023-08-09T14:19:07.029Z"
   },
   {
    "duration": 7,
    "start_time": "2023-08-09T14:19:56.777Z"
   },
   {
    "duration": 1343,
    "start_time": "2023-08-09T14:22:42.470Z"
   },
   {
    "duration": 7,
    "start_time": "2023-08-09T14:23:59.168Z"
   },
   {
    "duration": 83,
    "start_time": "2023-08-09T14:24:16.318Z"
   },
   {
    "duration": 13,
    "start_time": "2023-08-09T14:30:01.033Z"
   },
   {
    "duration": 13,
    "start_time": "2023-08-09T14:30:28.088Z"
   },
   {
    "duration": 1469,
    "start_time": "2023-08-09T14:33:19.819Z"
   },
   {
    "duration": 1563,
    "start_time": "2023-08-09T14:40:16.871Z"
   },
   {
    "duration": 1874,
    "start_time": "2023-08-10T11:02:40.692Z"
   },
   {
    "duration": 2262,
    "start_time": "2023-08-10T11:08:36.775Z"
   },
   {
    "duration": 3,
    "start_time": "2023-08-10T11:09:15.787Z"
   },
   {
    "duration": 137,
    "start_time": "2023-08-10T11:09:15.792Z"
   },
   {
    "duration": 8,
    "start_time": "2023-08-10T11:09:15.930Z"
   },
   {
    "duration": 37,
    "start_time": "2023-08-10T11:09:15.947Z"
   },
   {
    "duration": 30,
    "start_time": "2023-08-10T11:09:15.987Z"
   },
   {
    "duration": 15,
    "start_time": "2023-08-10T11:09:16.018Z"
   },
   {
    "duration": 43,
    "start_time": "2023-08-10T11:09:16.034Z"
   },
   {
    "duration": 33,
    "start_time": "2023-08-10T11:09:16.079Z"
   },
   {
    "duration": 13,
    "start_time": "2023-08-10T11:09:16.114Z"
   },
   {
    "duration": 48,
    "start_time": "2023-08-10T11:09:16.129Z"
   },
   {
    "duration": 11,
    "start_time": "2023-08-10T11:09:16.179Z"
   },
   {
    "duration": 17,
    "start_time": "2023-08-10T11:09:16.191Z"
   },
   {
    "duration": 26,
    "start_time": "2023-08-10T11:09:16.209Z"
   },
   {
    "duration": 41,
    "start_time": "2023-08-10T11:09:16.238Z"
   },
   {
    "duration": 14,
    "start_time": "2023-08-10T11:09:16.281Z"
   },
   {
    "duration": 12,
    "start_time": "2023-08-10T11:09:16.297Z"
   },
   {
    "duration": 12,
    "start_time": "2023-08-10T11:09:16.311Z"
   },
   {
    "duration": 19,
    "start_time": "2023-08-10T11:09:16.325Z"
   },
   {
    "duration": 36,
    "start_time": "2023-08-10T11:09:16.346Z"
   },
   {
    "duration": 8,
    "start_time": "2023-08-10T11:09:16.384Z"
   },
   {
    "duration": 8,
    "start_time": "2023-08-10T11:09:16.394Z"
   },
   {
    "duration": 14,
    "start_time": "2023-08-10T11:09:16.404Z"
   },
   {
    "duration": 9,
    "start_time": "2023-08-10T11:09:16.420Z"
   },
   {
    "duration": 38,
    "start_time": "2023-08-10T11:09:16.431Z"
   },
   {
    "duration": 27,
    "start_time": "2023-08-10T11:09:16.471Z"
   },
   {
    "duration": 7,
    "start_time": "2023-08-10T11:09:16.500Z"
   },
   {
    "duration": 18,
    "start_time": "2023-08-10T11:09:16.508Z"
   },
   {
    "duration": 35,
    "start_time": "2023-08-10T11:09:16.527Z"
   },
   {
    "duration": 325,
    "start_time": "2023-08-10T11:09:16.567Z"
   },
   {
    "duration": 233,
    "start_time": "2023-08-10T11:09:16.894Z"
   },
   {
    "duration": 226,
    "start_time": "2023-08-10T11:09:17.128Z"
   },
   {
    "duration": 175,
    "start_time": "2023-08-10T11:09:17.356Z"
   },
   {
    "duration": 220,
    "start_time": "2023-08-10T11:09:17.544Z"
   },
   {
    "duration": 307,
    "start_time": "2023-08-10T11:09:17.766Z"
   },
   {
    "duration": 229,
    "start_time": "2023-08-10T11:09:18.074Z"
   },
   {
    "duration": 373,
    "start_time": "2023-08-10T11:09:18.305Z"
   },
   {
    "duration": 12,
    "start_time": "2023-08-10T11:09:18.680Z"
   },
   {
    "duration": 163,
    "start_time": "2023-08-10T11:09:18.693Z"
   },
   {
    "duration": 5,
    "start_time": "2023-08-10T11:09:18.857Z"
   },
   {
    "duration": 14,
    "start_time": "2023-08-10T11:09:18.863Z"
   },
   {
    "duration": 9,
    "start_time": "2023-08-10T11:09:18.880Z"
   },
   {
    "duration": 173,
    "start_time": "2023-08-10T11:09:18.890Z"
   },
   {
    "duration": 244,
    "start_time": "2023-08-10T11:09:19.064Z"
   },
   {
    "duration": 4,
    "start_time": "2023-08-10T11:09:19.310Z"
   },
   {
    "duration": 8,
    "start_time": "2023-08-10T11:09:19.315Z"
   },
   {
    "duration": 168,
    "start_time": "2023-08-10T11:09:19.324Z"
   },
   {
    "duration": 2000,
    "start_time": "2023-08-10T11:09:27.406Z"
   },
   {
    "duration": 272,
    "start_time": "2023-08-10T11:10:25.346Z"
   },
   {
    "duration": 8,
    "start_time": "2023-08-10T11:14:58.006Z"
   },
   {
    "duration": 8,
    "start_time": "2023-08-10T11:15:09.791Z"
   },
   {
    "duration": 167,
    "start_time": "2023-08-10T11:15:45.129Z"
   },
   {
    "duration": 51,
    "start_time": "2023-08-10T11:16:37.258Z"
   },
   {
    "duration": 203,
    "start_time": "2023-08-10T11:25:13.811Z"
   },
   {
    "duration": 163,
    "start_time": "2023-08-10T11:27:20.172Z"
   },
   {
    "duration": 410,
    "start_time": "2023-08-10T11:29:00.971Z"
   },
   {
    "duration": 197,
    "start_time": "2023-08-10T11:29:11.016Z"
   },
   {
    "duration": 23,
    "start_time": "2023-08-10T11:38:02.548Z"
   },
   {
    "duration": 143,
    "start_time": "2023-08-10T11:38:34.849Z"
   },
   {
    "duration": 10,
    "start_time": "2023-08-10T11:38:43.522Z"
   },
   {
    "duration": 2095,
    "start_time": "2023-08-10T11:55:06.977Z"
   },
   {
    "duration": 2276,
    "start_time": "2023-08-10T11:55:39.932Z"
   },
   {
    "duration": 12,
    "start_time": "2023-08-10T11:55:50.976Z"
   },
   {
    "duration": 7,
    "start_time": "2023-08-10T11:56:30.703Z"
   },
   {
    "duration": 12,
    "start_time": "2023-08-10T11:57:30.032Z"
   },
   {
    "duration": 111,
    "start_time": "2023-08-10T11:58:41.683Z"
   },
   {
    "duration": 11,
    "start_time": "2023-08-10T11:59:00.313Z"
   },
   {
    "duration": 7,
    "start_time": "2023-08-10T12:18:05.274Z"
   },
   {
    "duration": 25,
    "start_time": "2023-08-10T12:18:08.366Z"
   },
   {
    "duration": 15,
    "start_time": "2023-08-10T12:22:52.666Z"
   },
   {
    "duration": 2,
    "start_time": "2023-08-10T13:00:16.132Z"
   },
   {
    "duration": 99,
    "start_time": "2023-08-10T13:00:16.136Z"
   },
   {
    "duration": 12,
    "start_time": "2023-08-10T13:00:16.237Z"
   },
   {
    "duration": 36,
    "start_time": "2023-08-10T13:00:16.251Z"
   },
   {
    "duration": 15,
    "start_time": "2023-08-10T13:00:16.289Z"
   },
   {
    "duration": 8,
    "start_time": "2023-08-10T13:00:16.305Z"
   },
   {
    "duration": 19,
    "start_time": "2023-08-10T13:00:16.314Z"
   },
   {
    "duration": 22,
    "start_time": "2023-08-10T13:00:16.335Z"
   },
   {
    "duration": 24,
    "start_time": "2023-08-10T13:00:16.361Z"
   },
   {
    "duration": 16,
    "start_time": "2023-08-10T13:00:16.387Z"
   },
   {
    "duration": 6,
    "start_time": "2023-08-10T13:00:16.405Z"
   },
   {
    "duration": 10,
    "start_time": "2023-08-10T13:00:16.412Z"
   },
   {
    "duration": 35,
    "start_time": "2023-08-10T13:00:16.424Z"
   },
   {
    "duration": 12,
    "start_time": "2023-08-10T13:00:16.464Z"
   },
   {
    "duration": 9,
    "start_time": "2023-08-10T13:00:16.478Z"
   },
   {
    "duration": 15,
    "start_time": "2023-08-10T13:00:16.489Z"
   },
   {
    "duration": 8,
    "start_time": "2023-08-10T13:00:16.505Z"
   },
   {
    "duration": 10,
    "start_time": "2023-08-10T13:00:16.515Z"
   },
   {
    "duration": 9,
    "start_time": "2023-08-10T13:00:16.539Z"
   },
   {
    "duration": 21,
    "start_time": "2023-08-10T13:00:16.550Z"
   },
   {
    "duration": 24,
    "start_time": "2023-08-10T13:00:16.572Z"
   },
   {
    "duration": 12,
    "start_time": "2023-08-10T13:00:16.598Z"
   },
   {
    "duration": 20,
    "start_time": "2023-08-10T13:00:16.611Z"
   },
   {
    "duration": 20,
    "start_time": "2023-08-10T13:00:16.632Z"
   },
   {
    "duration": 23,
    "start_time": "2023-08-10T13:00:16.654Z"
   },
   {
    "duration": 12,
    "start_time": "2023-08-10T13:00:16.679Z"
   },
   {
    "duration": 21,
    "start_time": "2023-08-10T13:00:16.693Z"
   },
   {
    "duration": 12,
    "start_time": "2023-08-10T13:00:16.715Z"
   },
   {
    "duration": 349,
    "start_time": "2023-08-10T13:00:16.729Z"
   },
   {
    "duration": 233,
    "start_time": "2023-08-10T13:00:17.079Z"
   },
   {
    "duration": 200,
    "start_time": "2023-08-10T13:00:17.314Z"
   },
   {
    "duration": 200,
    "start_time": "2023-08-10T13:00:17.515Z"
   },
   {
    "duration": 310,
    "start_time": "2023-08-10T13:00:17.716Z"
   },
   {
    "duration": 356,
    "start_time": "2023-08-10T13:00:18.028Z"
   },
   {
    "duration": 249,
    "start_time": "2023-08-10T13:00:18.386Z"
   },
   {
    "duration": 350,
    "start_time": "2023-08-10T13:00:18.637Z"
   },
   {
    "duration": 11,
    "start_time": "2023-08-10T13:00:18.988Z"
   },
   {
    "duration": 197,
    "start_time": "2023-08-10T13:00:19.001Z"
   },
   {
    "duration": 5,
    "start_time": "2023-08-10T13:00:19.200Z"
   },
   {
    "duration": 13,
    "start_time": "2023-08-10T13:00:19.207Z"
   },
   {
    "duration": 18,
    "start_time": "2023-08-10T13:00:19.223Z"
   },
   {
    "duration": 205,
    "start_time": "2023-08-10T13:00:19.243Z"
   },
   {
    "duration": 184,
    "start_time": "2023-08-10T13:00:19.450Z"
   },
   {
    "duration": 13,
    "start_time": "2023-08-10T13:00:19.652Z"
   },
   {
    "duration": 12,
    "start_time": "2023-08-10T13:00:19.667Z"
   },
   {
    "duration": 20,
    "start_time": "2023-08-10T13:00:19.681Z"
   },
   {
    "duration": 44,
    "start_time": "2023-08-10T13:00:19.703Z"
   },
   {
    "duration": 223,
    "start_time": "2023-08-10T13:00:19.748Z"
   },
   {
    "duration": 28,
    "start_time": "2023-08-10T13:00:19.973Z"
   },
   {
    "duration": 184,
    "start_time": "2023-08-10T13:00:20.003Z"
   },
   {
    "duration": 12,
    "start_time": "2023-08-10T13:00:20.189Z"
   },
   {
    "duration": 34,
    "start_time": "2023-08-10T13:00:20.202Z"
   },
   {
    "duration": 37,
    "start_time": "2023-08-10T13:00:20.237Z"
   },
   {
    "duration": 51,
    "start_time": "2023-08-10T13:00:20.276Z"
   },
   {
    "duration": 66,
    "start_time": "2023-08-10T13:00:20.329Z"
   },
   {
    "duration": 3,
    "start_time": "2023-08-11T10:05:12.032Z"
   },
   {
    "duration": 101,
    "start_time": "2023-08-11T10:05:24.329Z"
   },
   {
    "duration": 15,
    "start_time": "2023-08-11T10:05:25.059Z"
   },
   {
    "duration": 268,
    "start_time": "2023-08-11T10:06:28.321Z"
   },
   {
    "duration": 9,
    "start_time": "2023-08-11T10:14:27.869Z"
   },
   {
    "duration": 5,
    "start_time": "2023-08-11T10:14:50.629Z"
   },
   {
    "duration": 5,
    "start_time": "2023-08-11T10:35:02.727Z"
   },
   {
    "duration": 7,
    "start_time": "2023-08-11T10:45:27.781Z"
   },
   {
    "duration": 6,
    "start_time": "2023-08-11T10:46:12.125Z"
   },
   {
    "duration": 9,
    "start_time": "2023-08-11T10:47:14.470Z"
   },
   {
    "duration": 13,
    "start_time": "2023-08-11T10:47:37.071Z"
   },
   {
    "duration": 15,
    "start_time": "2023-08-11T10:50:13.260Z"
   },
   {
    "duration": 2086,
    "start_time": "2023-08-11T10:53:18.074Z"
   },
   {
    "duration": 3,
    "start_time": "2023-08-11T10:53:37.485Z"
   },
   {
    "duration": 25,
    "start_time": "2023-08-11T10:53:37.490Z"
   },
   {
    "duration": 119,
    "start_time": "2023-08-11T10:53:37.517Z"
   },
   {
    "duration": 13,
    "start_time": "2023-08-11T10:53:37.645Z"
   },
   {
    "duration": 26,
    "start_time": "2023-08-11T10:53:37.661Z"
   },
   {
    "duration": 31,
    "start_time": "2023-08-11T10:53:37.689Z"
   },
   {
    "duration": 46,
    "start_time": "2023-08-11T10:53:37.722Z"
   },
   {
    "duration": 43,
    "start_time": "2023-08-11T10:53:37.771Z"
   },
   {
    "duration": 32,
    "start_time": "2023-08-11T10:53:37.816Z"
   },
   {
    "duration": 47,
    "start_time": "2023-08-11T10:53:37.850Z"
   },
   {
    "duration": 53,
    "start_time": "2023-08-11T10:53:37.899Z"
   },
   {
    "duration": 32,
    "start_time": "2023-08-11T10:53:37.953Z"
   },
   {
    "duration": 14,
    "start_time": "2023-08-11T10:53:37.987Z"
   },
   {
    "duration": 18,
    "start_time": "2023-08-11T10:53:38.006Z"
   },
   {
    "duration": 15,
    "start_time": "2023-08-11T10:53:38.026Z"
   },
   {
    "duration": 31,
    "start_time": "2023-08-11T10:53:38.043Z"
   },
   {
    "duration": 18,
    "start_time": "2023-08-11T10:53:38.076Z"
   },
   {
    "duration": 20,
    "start_time": "2023-08-11T10:53:38.097Z"
   },
   {
    "duration": 49,
    "start_time": "2023-08-11T10:53:38.119Z"
   },
   {
    "duration": 12,
    "start_time": "2023-08-11T10:53:38.170Z"
   },
   {
    "duration": 33,
    "start_time": "2023-08-11T10:53:38.184Z"
   },
   {
    "duration": 12,
    "start_time": "2023-08-11T10:53:38.218Z"
   },
   {
    "duration": 70,
    "start_time": "2023-08-11T10:53:38.232Z"
   },
   {
    "duration": 27,
    "start_time": "2023-08-11T10:53:38.304Z"
   },
   {
    "duration": 63,
    "start_time": "2023-08-11T10:53:38.333Z"
   },
   {
    "duration": 31,
    "start_time": "2023-08-11T10:53:38.398Z"
   },
   {
    "duration": 50,
    "start_time": "2023-08-11T10:53:38.432Z"
   },
   {
    "duration": 23,
    "start_time": "2023-08-11T10:53:38.484Z"
   },
   {
    "duration": 59,
    "start_time": "2023-08-11T10:53:38.510Z"
   },
   {
    "duration": 33,
    "start_time": "2023-08-11T10:53:38.570Z"
   },
   {
    "duration": 78,
    "start_time": "2023-08-11T10:53:38.605Z"
   },
   {
    "duration": 489,
    "start_time": "2023-08-11T10:53:38.685Z"
   },
   {
    "duration": 237,
    "start_time": "2023-08-11T10:53:39.176Z"
   },
   {
    "duration": 233,
    "start_time": "2023-08-11T10:53:39.415Z"
   },
   {
    "duration": 268,
    "start_time": "2023-08-11T10:53:39.651Z"
   },
   {
    "duration": 267,
    "start_time": "2023-08-11T10:53:39.921Z"
   },
   {
    "duration": 392,
    "start_time": "2023-08-11T10:53:40.190Z"
   },
   {
    "duration": 246,
    "start_time": "2023-08-11T10:53:40.584Z"
   },
   {
    "duration": 351,
    "start_time": "2023-08-11T10:53:40.837Z"
   },
   {
    "duration": 15,
    "start_time": "2023-08-11T10:53:41.190Z"
   },
   {
    "duration": 205,
    "start_time": "2023-08-11T10:53:41.211Z"
   },
   {
    "duration": 5,
    "start_time": "2023-08-11T10:53:41.417Z"
   },
   {
    "duration": 25,
    "start_time": "2023-08-11T10:53:41.423Z"
   },
   {
    "duration": 30,
    "start_time": "2023-08-11T10:53:41.449Z"
   },
   {
    "duration": 184,
    "start_time": "2023-08-11T10:53:41.481Z"
   },
   {
    "duration": 238,
    "start_time": "2023-08-11T10:53:41.667Z"
   },
   {
    "duration": 7,
    "start_time": "2023-08-11T10:53:41.907Z"
   },
   {
    "duration": 63,
    "start_time": "2023-08-11T10:53:41.920Z"
   },
   {
    "duration": 47,
    "start_time": "2023-08-11T10:53:41.985Z"
   },
   {
    "duration": 56,
    "start_time": "2023-08-11T10:53:42.034Z"
   },
   {
    "duration": 254,
    "start_time": "2023-08-11T10:53:42.099Z"
   },
   {
    "duration": 31,
    "start_time": "2023-08-11T10:53:42.354Z"
   },
   {
    "duration": 191,
    "start_time": "2023-08-11T10:53:42.387Z"
   },
   {
    "duration": 12,
    "start_time": "2023-08-11T10:53:42.580Z"
   },
   {
    "duration": 24,
    "start_time": "2023-08-11T10:53:42.594Z"
   },
   {
    "duration": 28,
    "start_time": "2023-08-11T10:53:42.620Z"
   },
   {
    "duration": 54,
    "start_time": "2023-08-11T10:53:42.649Z"
   },
   {
    "duration": 16,
    "start_time": "2023-08-11T10:53:42.705Z"
   },
   {
    "duration": 6,
    "start_time": "2023-08-11T11:50:37.313Z"
   },
   {
    "duration": 3,
    "start_time": "2023-08-11T11:57:31.963Z"
   },
   {
    "duration": 4,
    "start_time": "2023-08-11T11:57:56.796Z"
   },
   {
    "duration": 101,
    "start_time": "2023-08-11T12:01:51.381Z"
   },
   {
    "duration": 15,
    "start_time": "2023-08-11T12:03:09.754Z"
   },
   {
    "duration": 15,
    "start_time": "2023-08-11T12:03:47.810Z"
   },
   {
    "duration": 11,
    "start_time": "2023-08-11T12:06:45.006Z"
   },
   {
    "duration": 10,
    "start_time": "2023-08-11T12:06:53.113Z"
   },
   {
    "duration": 89,
    "start_time": "2023-08-11T12:07:08.571Z"
   },
   {
    "duration": 10,
    "start_time": "2023-08-11T12:08:22.785Z"
   },
   {
    "duration": 9,
    "start_time": "2023-08-11T12:08:31.520Z"
   },
   {
    "duration": 8,
    "start_time": "2023-08-11T12:08:51.459Z"
   },
   {
    "duration": 8,
    "start_time": "2023-08-11T12:09:17.788Z"
   },
   {
    "duration": 518,
    "start_time": "2023-08-11T12:20:07.846Z"
   },
   {
    "duration": 158,
    "start_time": "2023-08-11T12:20:12.908Z"
   },
   {
    "duration": 293,
    "start_time": "2023-08-11T12:20:24.384Z"
   },
   {
    "duration": 364,
    "start_time": "2023-08-11T12:21:44.259Z"
   },
   {
    "duration": 3,
    "start_time": "2023-08-11T12:23:47.883Z"
   },
   {
    "duration": 31,
    "start_time": "2023-08-11T12:23:47.888Z"
   },
   {
    "duration": 86,
    "start_time": "2023-08-11T12:23:47.921Z"
   },
   {
    "duration": 7,
    "start_time": "2023-08-11T12:23:48.009Z"
   },
   {
    "duration": 15,
    "start_time": "2023-08-11T12:23:48.018Z"
   },
   {
    "duration": 33,
    "start_time": "2023-08-11T12:23:48.034Z"
   },
   {
    "duration": 11,
    "start_time": "2023-08-11T12:23:48.069Z"
   },
   {
    "duration": 13,
    "start_time": "2023-08-11T12:23:48.082Z"
   },
   {
    "duration": 26,
    "start_time": "2023-08-11T12:23:48.098Z"
   },
   {
    "duration": 17,
    "start_time": "2023-08-11T12:23:48.126Z"
   },
   {
    "duration": 23,
    "start_time": "2023-08-11T12:23:48.146Z"
   },
   {
    "duration": 6,
    "start_time": "2023-08-11T12:23:48.170Z"
   },
   {
    "duration": 10,
    "start_time": "2023-08-11T12:23:48.178Z"
   },
   {
    "duration": 14,
    "start_time": "2023-08-11T12:23:48.191Z"
   },
   {
    "duration": 27,
    "start_time": "2023-08-11T12:23:48.207Z"
   },
   {
    "duration": 28,
    "start_time": "2023-08-11T12:23:48.235Z"
   },
   {
    "duration": 16,
    "start_time": "2023-08-11T12:23:48.264Z"
   },
   {
    "duration": 10,
    "start_time": "2023-08-11T12:23:48.281Z"
   },
   {
    "duration": 9,
    "start_time": "2023-08-11T12:23:48.293Z"
   },
   {
    "duration": 20,
    "start_time": "2023-08-11T12:23:48.303Z"
   },
   {
    "duration": 36,
    "start_time": "2023-08-11T12:23:48.324Z"
   },
   {
    "duration": 38,
    "start_time": "2023-08-11T12:23:48.362Z"
   },
   {
    "duration": 46,
    "start_time": "2023-08-11T12:23:48.402Z"
   },
   {
    "duration": 35,
    "start_time": "2023-08-11T12:23:48.449Z"
   },
   {
    "duration": 19,
    "start_time": "2023-08-11T12:23:48.486Z"
   },
   {
    "duration": 20,
    "start_time": "2023-08-11T12:23:48.507Z"
   },
   {
    "duration": 35,
    "start_time": "2023-08-11T12:23:48.528Z"
   },
   {
    "duration": 25,
    "start_time": "2023-08-11T12:23:48.565Z"
   },
   {
    "duration": 8,
    "start_time": "2023-08-11T12:23:48.592Z"
   },
   {
    "duration": 17,
    "start_time": "2023-08-11T12:23:48.602Z"
   },
   {
    "duration": 13,
    "start_time": "2023-08-11T12:23:48.620Z"
   },
   {
    "duration": 42,
    "start_time": "2023-08-11T12:23:48.635Z"
   },
   {
    "duration": 348,
    "start_time": "2023-08-11T12:23:48.680Z"
   },
   {
    "duration": 16,
    "start_time": "2023-08-11T12:23:49.030Z"
   },
   {
    "duration": 251,
    "start_time": "2023-08-11T12:23:49.047Z"
   },
   {
    "duration": 205,
    "start_time": "2023-08-11T12:23:49.300Z"
   },
   {
    "duration": 274,
    "start_time": "2023-08-11T12:23:49.507Z"
   },
   {
    "duration": 297,
    "start_time": "2023-08-11T12:23:49.783Z"
   },
   {
    "duration": 393,
    "start_time": "2023-08-11T12:23:50.082Z"
   },
   {
    "duration": 252,
    "start_time": "2023-08-11T12:23:50.477Z"
   },
   {
    "duration": 409,
    "start_time": "2023-08-11T12:23:50.733Z"
   },
   {
    "duration": 22,
    "start_time": "2023-08-11T12:23:51.145Z"
   },
   {
    "duration": 210,
    "start_time": "2023-08-11T12:23:51.170Z"
   },
   {
    "duration": 6,
    "start_time": "2023-08-11T12:23:51.382Z"
   },
   {
    "duration": 59,
    "start_time": "2023-08-11T12:23:51.390Z"
   },
   {
    "duration": 47,
    "start_time": "2023-08-11T12:23:51.451Z"
   },
   {
    "duration": 209,
    "start_time": "2023-08-11T12:23:51.499Z"
   },
   {
    "duration": 219,
    "start_time": "2023-08-11T12:23:51.709Z"
   },
   {
    "duration": 13,
    "start_time": "2023-08-11T12:23:51.930Z"
   },
   {
    "duration": 80,
    "start_time": "2023-08-11T12:23:51.945Z"
   },
   {
    "duration": 55,
    "start_time": "2023-08-11T12:23:52.027Z"
   },
   {
    "duration": 37,
    "start_time": "2023-08-11T12:23:52.084Z"
   },
   {
    "duration": 242,
    "start_time": "2023-08-11T12:23:52.123Z"
   },
   {
    "duration": 249,
    "start_time": "2023-08-11T12:23:52.367Z"
   },
   {
    "duration": 187,
    "start_time": "2023-08-11T12:23:52.619Z"
   },
   {
    "duration": 11,
    "start_time": "2023-08-11T12:23:52.808Z"
   },
   {
    "duration": 66,
    "start_time": "2023-08-11T12:23:52.821Z"
   },
   {
    "duration": 28,
    "start_time": "2023-08-11T12:23:52.889Z"
   },
   {
    "duration": 82,
    "start_time": "2023-08-11T12:23:52.919Z"
   },
   {
    "duration": 40,
    "start_time": "2023-08-11T12:23:53.003Z"
   }
  ],
  "kernelspec": {
   "display_name": "Python 3 (ipykernel)",
   "language": "python",
   "name": "python3"
  },
  "language_info": {
   "codemirror_mode": {
    "name": "ipython",
    "version": 3
   },
   "file_extension": ".py",
   "mimetype": "text/x-python",
   "name": "python",
   "nbconvert_exporter": "python",
   "pygments_lexer": "ipython3",
   "version": "3.11.4"
  },
  "toc": {
   "base_numbering": 1,
   "nav_menu": {},
   "number_sections": true,
   "sideBar": true,
   "skip_h1_title": true,
   "title_cell": "Table of Contents",
   "title_sidebar": "Contents",
   "toc_cell": false,
   "toc_position": {},
   "toc_section_display": true,
   "toc_window_display": false
  }
 },
 "nbformat": 4,
 "nbformat_minor": 2
}
