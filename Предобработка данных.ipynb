{
 "cells": [
  {
   "cell_type": "markdown",
   "id": "366c716f",
   "metadata": {},
   "source": [
    "# Исследование надежности заемщиков."
   ]
  },
  {
   "cell_type": "markdown",
   "id": "a8744cb2",
   "metadata": {},
   "source": [
    "### Шаг 1. Обзор данных"
   ]
  },
  {
   "cell_type": "markdown",
   "id": "3c9f838e",
   "metadata": {
    "deletable": false,
    "editable": false,
    "id": "3c9f838e"
   },
   "source": [
   ]
  },
  {
   "cell_type": "code",
   "execution_count": 3,
   "id": "77a68a90",
   "metadata": {
    "deletable": false,
    "id": "77a68a90"
   },
   "outputs": [],
   "source": [
    "import pandas as pd\n",
    "\n",
    "try:\n",
    "    data = pd.read_csv('/datasets/data.csv')\n",
    "except:\n",
    "    data = pd.read_csv('https://code.s3.yandex.net/datasets/data.csv')"
   ]
  },
  {
   "cell_type": "markdown",
   "id": "45365635",
   "metadata": {
    "deletable": false,
    "editable": false,
    "id": "45365635"
   },
   "source": [
   ]
  },
  {
   "cell_type": "code",
   "execution_count": 4,
   "id": "b0451a9a",
   "metadata": {
    "deletable": false,
    "id": "b0451a9a",
    "outputId": "1a8f3ef2-d323-4ec2-ddf7-89670b5944c4"
   },
   "outputs": [
    {
     "data": {
      "text/html": [
       "<div>\n",
       "<style scoped>\n",
       "    .dataframe tbody tr th:only-of-type {\n",
       "        vertical-align: middle;\n",
       "    }\n",
       "\n",
       "    .dataframe tbody tr th {\n",
       "        vertical-align: top;\n",
       "    }\n",
       "\n",
       "    .dataframe thead th {\n",
       "        text-align: right;\n",
       "    }\n",
       "</style>\n",
       "<table border=\"1\" class=\"dataframe\">\n",
       "  <thead>\n",
       "    <tr style=\"text-align: right;\">\n",
       "      <th></th>\n",
       "      <th>children</th>\n",
       "      <th>days_employed</th>\n",
       "      <th>dob_years</th>\n",
       "      <th>education</th>\n",
       "      <th>education_id</th>\n",
       "      <th>family_status</th>\n",
       "      <th>family_status_id</th>\n",
       "      <th>gender</th>\n",
       "      <th>income_type</th>\n",
       "      <th>debt</th>\n",
       "      <th>total_income</th>\n",
       "      <th>purpose</th>\n",
       "    </tr>\n",
       "  </thead>\n",
       "  <tbody>\n",
       "    <tr>\n",
       "      <th>0</th>\n",
       "      <td>1</td>\n",
       "      <td>-8437.673028</td>\n",
       "      <td>42</td>\n",
       "      <td>высшее</td>\n",
       "      <td>0</td>\n",
       "      <td>женат / замужем</td>\n",
       "      <td>0</td>\n",
       "      <td>F</td>\n",
       "      <td>сотрудник</td>\n",
       "      <td>0</td>\n",
       "      <td>253875.639453</td>\n",
       "      <td>покупка жилья</td>\n",
       "    </tr>\n",
       "    <tr>\n",
       "      <th>1</th>\n",
       "      <td>1</td>\n",
       "      <td>-4024.803754</td>\n",
       "      <td>36</td>\n",
       "      <td>среднее</td>\n",
       "      <td>1</td>\n",
       "      <td>женат / замужем</td>\n",
       "      <td>0</td>\n",
       "      <td>F</td>\n",
       "      <td>сотрудник</td>\n",
       "      <td>0</td>\n",
       "      <td>112080.014102</td>\n",
       "      <td>приобретение автомобиля</td>\n",
       "    </tr>\n",
       "    <tr>\n",
       "      <th>2</th>\n",
       "      <td>0</td>\n",
       "      <td>-5623.422610</td>\n",
       "      <td>33</td>\n",
       "      <td>Среднее</td>\n",
       "      <td>1</td>\n",
       "      <td>женат / замужем</td>\n",
       "      <td>0</td>\n",
       "      <td>M</td>\n",
       "      <td>сотрудник</td>\n",
       "      <td>0</td>\n",
       "      <td>145885.952297</td>\n",
       "      <td>покупка жилья</td>\n",
       "    </tr>\n",
       "    <tr>\n",
       "      <th>3</th>\n",
       "      <td>3</td>\n",
       "      <td>-4124.747207</td>\n",
       "      <td>32</td>\n",
       "      <td>среднее</td>\n",
       "      <td>1</td>\n",
       "      <td>женат / замужем</td>\n",
       "      <td>0</td>\n",
       "      <td>M</td>\n",
       "      <td>сотрудник</td>\n",
       "      <td>0</td>\n",
       "      <td>267628.550329</td>\n",
       "      <td>дополнительное образование</td>\n",
       "    </tr>\n",
       "    <tr>\n",
       "      <th>4</th>\n",
       "      <td>0</td>\n",
       "      <td>340266.072047</td>\n",
       "      <td>53</td>\n",
       "      <td>среднее</td>\n",
       "      <td>1</td>\n",
       "      <td>гражданский брак</td>\n",
       "      <td>1</td>\n",
       "      <td>F</td>\n",
       "      <td>пенсионер</td>\n",
       "      <td>0</td>\n",
       "      <td>158616.077870</td>\n",
       "      <td>сыграть свадьбу</td>\n",
       "    </tr>\n",
       "    <tr>\n",
       "      <th>5</th>\n",
       "      <td>0</td>\n",
       "      <td>-926.185831</td>\n",
       "      <td>27</td>\n",
       "      <td>высшее</td>\n",
       "      <td>0</td>\n",
       "      <td>гражданский брак</td>\n",
       "      <td>1</td>\n",
       "      <td>M</td>\n",
       "      <td>компаньон</td>\n",
       "      <td>0</td>\n",
       "      <td>255763.565419</td>\n",
       "      <td>покупка жилья</td>\n",
       "    </tr>\n",
       "    <tr>\n",
       "      <th>6</th>\n",
       "      <td>0</td>\n",
       "      <td>-2879.202052</td>\n",
       "      <td>43</td>\n",
       "      <td>высшее</td>\n",
       "      <td>0</td>\n",
       "      <td>женат / замужем</td>\n",
       "      <td>0</td>\n",
       "      <td>F</td>\n",
       "      <td>компаньон</td>\n",
       "      <td>0</td>\n",
       "      <td>240525.971920</td>\n",
       "      <td>операции с жильем</td>\n",
       "    </tr>\n",
       "    <tr>\n",
       "      <th>7</th>\n",
       "      <td>0</td>\n",
       "      <td>-152.779569</td>\n",
       "      <td>50</td>\n",
       "      <td>СРЕДНЕЕ</td>\n",
       "      <td>1</td>\n",
       "      <td>женат / замужем</td>\n",
       "      <td>0</td>\n",
       "      <td>M</td>\n",
       "      <td>сотрудник</td>\n",
       "      <td>0</td>\n",
       "      <td>135823.934197</td>\n",
       "      <td>образование</td>\n",
       "    </tr>\n",
       "    <tr>\n",
       "      <th>8</th>\n",
       "      <td>2</td>\n",
       "      <td>-6929.865299</td>\n",
       "      <td>35</td>\n",
       "      <td>ВЫСШЕЕ</td>\n",
       "      <td>0</td>\n",
       "      <td>гражданский брак</td>\n",
       "      <td>1</td>\n",
       "      <td>F</td>\n",
       "      <td>сотрудник</td>\n",
       "      <td>0</td>\n",
       "      <td>95856.832424</td>\n",
       "      <td>на проведение свадьбы</td>\n",
       "    </tr>\n",
       "    <tr>\n",
       "      <th>9</th>\n",
       "      <td>0</td>\n",
       "      <td>-2188.756445</td>\n",
       "      <td>41</td>\n",
       "      <td>среднее</td>\n",
       "      <td>1</td>\n",
       "      <td>женат / замужем</td>\n",
       "      <td>0</td>\n",
       "      <td>M</td>\n",
       "      <td>сотрудник</td>\n",
       "      <td>0</td>\n",
       "      <td>144425.938277</td>\n",
       "      <td>покупка жилья для семьи</td>\n",
       "    </tr>\n",
       "    <tr>\n",
       "      <th>10</th>\n",
       "      <td>2</td>\n",
       "      <td>-4171.483647</td>\n",
       "      <td>36</td>\n",
       "      <td>высшее</td>\n",
       "      <td>0</td>\n",
       "      <td>женат / замужем</td>\n",
       "      <td>0</td>\n",
       "      <td>M</td>\n",
       "      <td>компаньон</td>\n",
       "      <td>0</td>\n",
       "      <td>113943.491460</td>\n",
       "      <td>покупка недвижимости</td>\n",
       "    </tr>\n",
       "    <tr>\n",
       "      <th>11</th>\n",
       "      <td>0</td>\n",
       "      <td>-792.701887</td>\n",
       "      <td>40</td>\n",
       "      <td>среднее</td>\n",
       "      <td>1</td>\n",
       "      <td>женат / замужем</td>\n",
       "      <td>0</td>\n",
       "      <td>F</td>\n",
       "      <td>сотрудник</td>\n",
       "      <td>0</td>\n",
       "      <td>77069.234271</td>\n",
       "      <td>покупка коммерческой недвижимости</td>\n",
       "    </tr>\n",
       "    <tr>\n",
       "      <th>12</th>\n",
       "      <td>0</td>\n",
       "      <td>NaN</td>\n",
       "      <td>65</td>\n",
       "      <td>среднее</td>\n",
       "      <td>1</td>\n",
       "      <td>гражданский брак</td>\n",
       "      <td>1</td>\n",
       "      <td>M</td>\n",
       "      <td>пенсионер</td>\n",
       "      <td>0</td>\n",
       "      <td>NaN</td>\n",
       "      <td>сыграть свадьбу</td>\n",
       "    </tr>\n",
       "    <tr>\n",
       "      <th>13</th>\n",
       "      <td>0</td>\n",
       "      <td>-1846.641941</td>\n",
       "      <td>54</td>\n",
       "      <td>неоконченное высшее</td>\n",
       "      <td>2</td>\n",
       "      <td>женат / замужем</td>\n",
       "      <td>0</td>\n",
       "      <td>F</td>\n",
       "      <td>сотрудник</td>\n",
       "      <td>0</td>\n",
       "      <td>130458.228857</td>\n",
       "      <td>приобретение автомобиля</td>\n",
       "    </tr>\n",
       "    <tr>\n",
       "      <th>14</th>\n",
       "      <td>0</td>\n",
       "      <td>-1844.956182</td>\n",
       "      <td>56</td>\n",
       "      <td>высшее</td>\n",
       "      <td>0</td>\n",
       "      <td>гражданский брак</td>\n",
       "      <td>1</td>\n",
       "      <td>F</td>\n",
       "      <td>компаньон</td>\n",
       "      <td>1</td>\n",
       "      <td>165127.911772</td>\n",
       "      <td>покупка жилой недвижимости</td>\n",
       "    </tr>\n",
       "    <tr>\n",
       "      <th>15</th>\n",
       "      <td>1</td>\n",
       "      <td>-972.364419</td>\n",
       "      <td>26</td>\n",
       "      <td>среднее</td>\n",
       "      <td>1</td>\n",
       "      <td>женат / замужем</td>\n",
       "      <td>0</td>\n",
       "      <td>F</td>\n",
       "      <td>сотрудник</td>\n",
       "      <td>0</td>\n",
       "      <td>116820.904450</td>\n",
       "      <td>строительство собственной недвижимости</td>\n",
       "    </tr>\n",
       "    <tr>\n",
       "      <th>16</th>\n",
       "      <td>0</td>\n",
       "      <td>-1719.934226</td>\n",
       "      <td>35</td>\n",
       "      <td>среднее</td>\n",
       "      <td>1</td>\n",
       "      <td>женат / замужем</td>\n",
       "      <td>0</td>\n",
       "      <td>F</td>\n",
       "      <td>сотрудник</td>\n",
       "      <td>0</td>\n",
       "      <td>289202.704229</td>\n",
       "      <td>недвижимость</td>\n",
       "    </tr>\n",
       "    <tr>\n",
       "      <th>17</th>\n",
       "      <td>0</td>\n",
       "      <td>-2369.999720</td>\n",
       "      <td>33</td>\n",
       "      <td>высшее</td>\n",
       "      <td>0</td>\n",
       "      <td>гражданский брак</td>\n",
       "      <td>1</td>\n",
       "      <td>M</td>\n",
       "      <td>сотрудник</td>\n",
       "      <td>0</td>\n",
       "      <td>90410.586745</td>\n",
       "      <td>строительство недвижимости</td>\n",
       "    </tr>\n",
       "    <tr>\n",
       "      <th>18</th>\n",
       "      <td>0</td>\n",
       "      <td>400281.136913</td>\n",
       "      <td>53</td>\n",
       "      <td>среднее</td>\n",
       "      <td>1</td>\n",
       "      <td>вдовец / вдова</td>\n",
       "      <td>2</td>\n",
       "      <td>F</td>\n",
       "      <td>пенсионер</td>\n",
       "      <td>0</td>\n",
       "      <td>56823.777243</td>\n",
       "      <td>на покупку подержанного автомобиля</td>\n",
       "    </tr>\n",
       "    <tr>\n",
       "      <th>19</th>\n",
       "      <td>0</td>\n",
       "      <td>-10038.818549</td>\n",
       "      <td>48</td>\n",
       "      <td>СРЕДНЕЕ</td>\n",
       "      <td>1</td>\n",
       "      <td>в разводе</td>\n",
       "      <td>3</td>\n",
       "      <td>F</td>\n",
       "      <td>сотрудник</td>\n",
       "      <td>0</td>\n",
       "      <td>242831.107982</td>\n",
       "      <td>на покупку своего автомобиля</td>\n",
       "    </tr>\n",
       "  </tbody>\n",
       "</table>\n",
       "</div>"
      ],
      "text/plain": [
       "    children  days_employed  dob_years            education  education_id  \\\n",
       "0          1   -8437.673028         42               высшее             0   \n",
       "1          1   -4024.803754         36              среднее             1   \n",
       "2          0   -5623.422610         33              Среднее             1   \n",
       "3          3   -4124.747207         32              среднее             1   \n",
       "4          0  340266.072047         53              среднее             1   \n",
       "5          0    -926.185831         27               высшее             0   \n",
       "6          0   -2879.202052         43               высшее             0   \n",
       "7          0    -152.779569         50              СРЕДНЕЕ             1   \n",
       "8          2   -6929.865299         35               ВЫСШЕЕ             0   \n",
       "9          0   -2188.756445         41              среднее             1   \n",
       "10         2   -4171.483647         36               высшее             0   \n",
       "11         0    -792.701887         40              среднее             1   \n",
       "12         0            NaN         65              среднее             1   \n",
       "13         0   -1846.641941         54  неоконченное высшее             2   \n",
       "14         0   -1844.956182         56               высшее             0   \n",
       "15         1    -972.364419         26              среднее             1   \n",
       "16         0   -1719.934226         35              среднее             1   \n",
       "17         0   -2369.999720         33               высшее             0   \n",
       "18         0  400281.136913         53              среднее             1   \n",
       "19         0  -10038.818549         48              СРЕДНЕЕ             1   \n",
       "\n",
       "       family_status  family_status_id gender income_type  debt  \\\n",
       "0    женат / замужем                 0      F   сотрудник     0   \n",
       "1    женат / замужем                 0      F   сотрудник     0   \n",
       "2    женат / замужем                 0      M   сотрудник     0   \n",
       "3    женат / замужем                 0      M   сотрудник     0   \n",
       "4   гражданский брак                 1      F   пенсионер     0   \n",
       "5   гражданский брак                 1      M   компаньон     0   \n",
       "6    женат / замужем                 0      F   компаньон     0   \n",
       "7    женат / замужем                 0      M   сотрудник     0   \n",
       "8   гражданский брак                 1      F   сотрудник     0   \n",
       "9    женат / замужем                 0      M   сотрудник     0   \n",
       "10   женат / замужем                 0      M   компаньон     0   \n",
       "11   женат / замужем                 0      F   сотрудник     0   \n",
       "12  гражданский брак                 1      M   пенсионер     0   \n",
       "13   женат / замужем                 0      F   сотрудник     0   \n",
       "14  гражданский брак                 1      F   компаньон     1   \n",
       "15   женат / замужем                 0      F   сотрудник     0   \n",
       "16   женат / замужем                 0      F   сотрудник     0   \n",
       "17  гражданский брак                 1      M   сотрудник     0   \n",
       "18    вдовец / вдова                 2      F   пенсионер     0   \n",
       "19         в разводе                 3      F   сотрудник     0   \n",
       "\n",
       "     total_income                                 purpose  \n",
       "0   253875.639453                           покупка жилья  \n",
       "1   112080.014102                 приобретение автомобиля  \n",
       "2   145885.952297                           покупка жилья  \n",
       "3   267628.550329              дополнительное образование  \n",
       "4   158616.077870                         сыграть свадьбу  \n",
       "5   255763.565419                           покупка жилья  \n",
       "6   240525.971920                       операции с жильем  \n",
       "7   135823.934197                             образование  \n",
       "8    95856.832424                   на проведение свадьбы  \n",
       "9   144425.938277                 покупка жилья для семьи  \n",
       "10  113943.491460                    покупка недвижимости  \n",
       "11   77069.234271       покупка коммерческой недвижимости  \n",
       "12            NaN                         сыграть свадьбу  \n",
       "13  130458.228857                 приобретение автомобиля  \n",
       "14  165127.911772              покупка жилой недвижимости  \n",
       "15  116820.904450  строительство собственной недвижимости  \n",
       "16  289202.704229                            недвижимость  \n",
       "17   90410.586745              строительство недвижимости  \n",
       "18   56823.777243      на покупку подержанного автомобиля  \n",
       "19  242831.107982            на покупку своего автомобиля  "
      ]
     },
     "execution_count": 4,
     "metadata": {},
     "output_type": "execute_result"
    }
   ],
   "source": [
    "data.head(20)"
   ]
  },
  {
   "cell_type": "markdown",
   "id": "0ed8f27f",
   "metadata": {
    "deletable": false,
    "editable": false,
    "id": "0ed8f27f"
   },
   "source": [
   ]
  },
  {
   "cell_type": "code",
   "execution_count": 5,
   "id": "ab3f863b",
   "metadata": {
    "deletable": false,
    "id": "ab3f863b",
    "outputId": "15376089-8dad-46c9-b520-c05248d43158"
   },
   "outputs": [
    {
     "name": "stdout",
     "output_type": "stream",
     "text": [
      "<class 'pandas.core.frame.DataFrame'>\n",
      "RangeIndex: 21525 entries, 0 to 21524\n",
      "Data columns (total 12 columns):\n",
      " #   Column            Non-Null Count  Dtype  \n",
      "---  ------            --------------  -----  \n",
      " 0   children          21525 non-null  int64  \n",
      " 1   days_employed     19351 non-null  float64\n",
      " 2   dob_years         21525 non-null  int64  \n",
      " 3   education         21525 non-null  object \n",
      " 4   education_id      21525 non-null  int64  \n",
      " 5   family_status     21525 non-null  object \n",
      " 6   family_status_id  21525 non-null  int64  \n",
      " 7   gender            21525 non-null  object \n",
      " 8   income_type       21525 non-null  object \n",
      " 9   debt              21525 non-null  int64  \n",
      " 10  total_income      19351 non-null  float64\n",
      " 11  purpose           21525 non-null  object \n",
      "dtypes: float64(2), int64(5), object(5)\n",
      "memory usage: 2.0+ MB\n"
     ]
    }
   ],
   "source": [
    "data.info()"
   ]
  },
  {
   "cell_type": "markdown",
   "id": "60e3e22d",
   "metadata": {
    "deletable": false,
    "editable": false,
    "id": "60e3e22d"
   },
   "source": [
    "## Предобработка данных"
   ]
  },
  {
   "cell_type": "markdown",
   "id": "03dc170c",
   "metadata": {
    "deletable": false,
    "editable": false,
    "id": "03dc170c"
   },
   "source": [
   ]
  },
  {
   "cell_type": "markdown",
   "id": "a4f54eef",
   "metadata": {
    "deletable": false,
    "editable": false,
    "id": "a4f54eef"
   },
   "source": [
    "**Выведем количество пропущенных значений для каждого столбца. Используем комбинацию двух методов.**"
   ]
  },
  {
   "cell_type": "code",
   "execution_count": 6,
   "id": "2dc372b2",
   "metadata": {
    "deletable": false,
    "id": "2dc372b2",
    "outputId": "81f4d817-781c-465c-ed15-91ce4446810d"
   },
   "outputs": [
    {
     "data": {
      "text/plain": [
       "children               0\n",
       "days_employed       2174\n",
       "dob_years              0\n",
       "education              0\n",
       "education_id           0\n",
       "family_status          0\n",
       "family_status_id       0\n",
       "gender                 0\n",
       "income_type            0\n",
       "debt                   0\n",
       "total_income        2174\n",
       "purpose                0\n",
       "dtype: int64"
      ]
     },
     "execution_count": 6,
     "metadata": {},
     "output_type": "execute_result"
    }
   ],
   "source": [
    "data.isna().sum()"
   ]
  },
  {
   "cell_type": "markdown",
   "id": "14f011b1",
   "metadata": {
    "deletable": false,
    "editable": false,
    "id": "14f011b1"
   },
   "source": [
    "**В двух столбцах есть пропущенные значения. Один из них — `days_employed`. Пропуски в этом столбце мы обработаеем на следующем этапе. Другой столбец с пропущенными значениями — `total_income` — хранит данные о доходах. На сумму дохода сильнее всего влияет тип занятости, поэтому заполним пропуски в этом столбце медианным значением по каждому типу из столбца `income_type`.**"
   ]
  },
  {
   "cell_type": "code",
   "execution_count": 7,
   "id": "bdabfb6e",
   "metadata": {
    "deletable": false,
    "id": "bdabfb6e"
   },
   "outputs": [],
   "source": [
    "for t in data['income_type'].unique():\n",
    "    data.loc[(data['income_type'] == t) & (data['total_income'].isna()), 'total_income'] = \\\n",
    "    data.loc[(data['income_type'] == t), 'total_income'].median()"
   ]
  },
  {
   "cell_type": "markdown",
   "id": "5be34059",
   "metadata": {
    "deletable": false,
    "editable": false,
    "id": "5be34059"
   },
   "source": [
   ]
  },
  {
   "cell_type": "markdown",
   "id": "a87606cb",
   "metadata": {
    "deletable": false,
    "editable": false,
    "id": "a87606cb"
   },
   "source": [
    "**В данных могут встречаться артефакты (аномалии) — значения, которые не отражают действительность и появились по какой-то ошибке. таким артефактом будет отрицательное количество дней трудового стажа в столбце `days_employed`. Для реальных данных это нормально. Обработаем значения в этом столбце: заменим все отрицательные значения положительными с помощью метода `abs()`.**"
   ]
  },
  {
   "cell_type": "code",
   "execution_count": 8,
   "id": "020c46cc",
   "metadata": {
    "deletable": false,
    "id": "020c46cc"
   },
   "outputs": [],
   "source": [
    "data['days_employed'] = data['days_employed'].abs()"
   ]
  },
  {
   "cell_type": "markdown",
   "id": "45538a3a",
   "metadata": {
    "deletable": false,
    "editable": false,
    "id": "45538a3a"
   },
   "source": [
    "**Для каждого типа занятости выведем медианное значение трудового стажа `days_employed` в днях.**"
   ]
  },
  {
   "cell_type": "code",
   "execution_count": 9,
   "id": "cd3e6328",
   "metadata": {
    "deletable": false,
    "id": "cd3e6328",
    "outputId": "801ef80e-522b-4668-f34e-565af7432bcf"
   },
   "outputs": [
    {
     "data": {
      "text/plain": [
       "income_type\n",
       "безработный        366413.652744\n",
       "в декрете            3296.759962\n",
       "госслужащий          2689.368353\n",
       "компаньон            1547.382223\n",
       "пенсионер          365213.306266\n",
       "предприниматель       520.848083\n",
       "сотрудник            1574.202821\n",
       "студент               578.751554\n",
       "Name: days_employed, dtype: float64"
      ]
     },
     "execution_count": 9,
     "metadata": {},
     "output_type": "execute_result"
    }
   ],
   "source": [
    "data.groupby('income_type')['days_employed'].agg('median')"
   ]
  },
  {
   "cell_type": "markdown",
   "id": "90c5f058",
   "metadata": {
    "deletable": false,
    "editable": false,
    "id": "90c5f058"
   },
   "source": [
    "У двух типов (безработные и пенсионеры) получатся аномально большие значения. Исправить такие значения сложно, поэтому оставьте их как есть."
   ]
  },
  {
   "cell_type": "markdown",
   "id": "9652e50d",
   "metadata": {
    "deletable": false,
    "editable": false,
    "id": "9652e50d"
   },
   "source": [
    "**Выведем перечень уникальных значений столбца `children`.**"
   ]
  },
  {
   "cell_type": "code",
   "execution_count": 10,
   "id": "dbb37b8e",
   "metadata": {
    "deletable": false,
    "id": "dbb37b8e",
    "outputId": "6975b15c-7f95-4697-d16d-a0c79b657b03"
   },
   "outputs": [
    {
     "data": {
      "text/plain": [
       "array([ 1,  0,  3,  2, -1,  4, 20,  5], dtype=int64)"
      ]
     },
     "execution_count": 10,
     "metadata": {},
     "output_type": "execute_result"
    }
   ],
   "source": [
    "data['children'].unique()"
   ]
  },
  {
   "cell_type": "markdown",
   "id": "2b8b0715",
   "metadata": {
    "deletable": false,
    "editable": false,
    "id": "2b8b0715"
   },
   "source": [
    "**В столбце `children` есть два аномальных значения. Удалим строки, в которых встречаются такие аномальные значения из датафрейма `data`.**"
   ]
  },
  {
   "cell_type": "code",
   "execution_count": 11,
   "id": "20009df8",
   "metadata": {
    "deletable": false,
    "id": "20009df8"
   },
   "outputs": [],
   "source": [
    "data = data[(data['children'] != -1) & (data['children'] != 20)]"
   ]
  },
  {
   "cell_type": "markdown",
   "id": "8c6ac9f1",
   "metadata": {
    "deletable": false,
    "editable": false,
    "id": "8c6ac9f1"
   },
   "source": [
    "**Ещё раз выведем перечень уникальных значений столбца `children`, чтобы убедиться, что артефакты удалены.**"
   ]
  },
  {
   "cell_type": "code",
   "execution_count": 12,
   "id": "07337b81",
   "metadata": {
    "deletable": false,
    "id": "07337b81",
    "outputId": "b2097101-d49d-44d9-901b-32a65c9463d1"
   },
   "outputs": [
    {
     "data": {
      "text/plain": [
       "array([1, 0, 3, 2, 4, 5], dtype=int64)"
      ]
     },
     "execution_count": 12,
     "metadata": {},
     "output_type": "execute_result"
    }
   ],
   "source": [
    "data['children'].unique()"
   ]
  },
  {
   "cell_type": "markdown",
   "id": "ee3f52d4",
   "metadata": {
    "deletable": false,
    "editable": false,
    "id": "ee3f52d4"
   },
   "source": [
   ]
  },
  {
   "cell_type": "markdown",
   "id": "a700b0e4",
   "metadata": {
    "deletable": false,
    "editable": false,
    "id": "a700b0e4"
   },
   "source": [
    "**Заполним пропуски в столбце `days_employed` медианными значениями по каждого типа занятости `income_type`.**"
   ]
  },
  {
   "cell_type": "code",
   "execution_count": 13,
   "id": "61946b83",
   "metadata": {
    "deletable": false,
    "id": "61946b83"
   },
   "outputs": [],
   "source": [
    "for t in data['income_type'].unique():\n",
    "    data.loc[(data['income_type'] == t) & (data['days_employed'].isna()), 'days_employed'] = \\\n",
    "    data.loc[(data['income_type'] == t), 'days_employed'].median()"
   ]
  },
  {
   "cell_type": "markdown",
   "id": "550dcd9b",
   "metadata": {
    "deletable": false,
    "editable": false,
    "id": "550dcd9b"
   },
   "source": [
    "**Убедимся, что все пропуски заполнены. Провериим себя и ещё раз выведем количество пропущенных значений для каждого столбца с помощью двух методов.**"
   ]
  },
  {
   "cell_type": "code",
   "execution_count": 14,
   "id": "937c7014",
   "metadata": {
    "deletable": false,
    "id": "937c7014",
    "outputId": "8da1e4e1-358e-4e87-98c9-f261bce0a7b2"
   },
   "outputs": [
    {
     "data": {
      "text/plain": [
       "children            0\n",
       "days_employed       0\n",
       "dob_years           0\n",
       "education           0\n",
       "education_id        0\n",
       "family_status       0\n",
       "family_status_id    0\n",
       "gender              0\n",
       "income_type         0\n",
       "debt                0\n",
       "total_income        0\n",
       "purpose             0\n",
       "dtype: int64"
      ]
     },
     "execution_count": 14,
     "metadata": {},
     "output_type": "execute_result"
    }
   ],
   "source": [
    "data.isna().sum()"
   ]
  },
  {
   "cell_type": "markdown",
   "id": "d522e295",
   "metadata": {
    "deletable": false,
    "editable": false,
    "id": "d522e295"
   },
   "source": [
    "### Изменение типов данных"
   ]
  },
  {
   "cell_type": "markdown",
   "id": "c229c581",
   "metadata": {
    "deletable": false,
    "editable": false,
    "id": "c229c581"
   },
   "source": [
    "**Заменим вещественный тип данных в столбце `total_income` на целочисленный с помощью метода `astype()`.**"
   ]
  },
  {
   "cell_type": "code",
   "execution_count": 15,
   "id": "31036462",
   "metadata": {
    "deletable": false,
    "id": "31036462"
   },
   "outputs": [],
   "source": [
    "data['total_income'] = data['total_income'].astype(int)"
   ]
  },
  {
   "cell_type": "markdown",
   "id": "b8e3d1d9",
   "metadata": {
    "deletable": false,
    "editable": false,
    "id": "b8e3d1d9"
   },
   "source": [
   ]
  },
  {
   "cell_type": "markdown",
   "id": "9be53c49",
   "metadata": {
    "deletable": false,
    "editable": false,
    "id": "9be53c49"
   },
   "source": [
    "**Обработаем неявные дубликаты в столбце `education`. В этом столбце есть одни и те же значения, но записанные по-разному: с использованием заглавных и строчных букв. Приведем их к нижнему регистру.**"
   ]
  },
  {
   "cell_type": "code",
   "execution_count": 16,
   "id": "d89e73e1",
   "metadata": {
    "deletable": false,
    "id": "d89e73e1"
   },
   "outputs": [],
   "source": [
    "data['education'] = data['education'].str.lower()"
   ]
  },
  {
   "cell_type": "markdown",
   "id": "01d4500e",
   "metadata": {
    "deletable": false,
    "editable": false,
    "id": "01d4500e"
   },
   "source": [
    "**Выведем на экран количество строк-дубликатов в данных. Если такие строки присутствуют, удалим их.**"
   ]
  },
  {
   "cell_type": "code",
   "execution_count": 17,
   "id": "e10efb23",
   "metadata": {
    "deletable": false,
    "id": "e10efb23",
    "outputId": "9684deba-1934-42d1-99e1-cda61740f822"
   },
   "outputs": [
    {
     "data": {
      "text/plain": [
       "71"
      ]
     },
     "execution_count": 17,
     "metadata": {},
     "output_type": "execute_result"
    }
   ],
   "source": [
    "data.duplicated().sum()"
   ]
  },
  {
   "cell_type": "code",
   "execution_count": 18,
   "id": "df853f20",
   "metadata": {
    "deletable": false,
    "id": "df853f20"
   },
   "outputs": [],
   "source": [
    "data = data.drop_duplicates()"
   ]
  },
  {
   "cell_type": "markdown",
   "id": "627be38f",
   "metadata": {
    "deletable": false,
    "editable": false,
    "id": "627be38f"
   },
   "source": [
    "### Категоризация данных"
   ]
  },
  {
   "cell_type": "markdown",
   "id": "4684c3e0",
   "metadata": {
    "deletable": false,
    "editable": false,
    "id": "4684c3e0"
   },
   "source": [
    "**Задание 16. На основании диапазонов, указанных ниже, создайте в датафрейме `data` столбец `total_income_category` с категориями:**\n",
    "\n",
    "- 0–30000 — `'E'`;\n",
    "- 30001–50000 — `'D'`;\n",
    "- 50001–200000 — `'C'`;\n",
    "- 200001–1000000 — `'B'`;\n",
    "- 1000001 и выше — `'A'`.\n",
    "\n",
    "\n",
    "**Например, кредитополучателю с доходом 25000 нужно назначить категорию `'E'`, а клиенту, получающему 235000, — `'B'`. Используйте собственную функцию с именем `categorize_income()` и метод `apply()`.**"
   ]
  },
  {
   "cell_type": "code",
   "execution_count": 19,
   "id": "78965238",
   "metadata": {
    "deletable": false,
    "id": "78965238"
   },
   "outputs": [],
   "source": [
    "def categorize_income(income):\n",
    "    try:\n",
    "        if 0 <= income <= 30000:\n",
    "            return 'E'\n",
    "        elif 30001 <= income <= 50000:\n",
    "            return 'D'\n",
    "        elif 50001 <= income <= 200000:\n",
    "            return 'C'\n",
    "        elif 200001 <= income <= 1000000:\n",
    "            return 'B'\n",
    "        elif income >= 1000001:\n",
    "            return 'A'\n",
    "    except:\n",
    "        pass"
   ]
  },
  {
   "cell_type": "code",
   "execution_count": 20,
   "id": "0980ada1",
   "metadata": {
    "deletable": false,
    "id": "0980ada1"
   },
   "outputs": [],
   "source": [
    "data['total_income_category'] = data['total_income'].apply(categorize_income)"
   ]
  },
  {
   "cell_type": "markdown",
   "id": "9917bba0",
   "metadata": {
    "deletable": false,
    "editable": false,
    "id": "9917bba0"
   },
   "source": [
    "**Задание 17. Выведите на экран перечень уникальных целей взятия кредита из столбца `purpose`.**"
   ]
  },
  {
   "cell_type": "code",
   "execution_count": 21,
   "id": "ee07b65e",
   "metadata": {
    "deletable": false,
    "id": "ee07b65e",
    "outputId": "673c12d9-7d7e-4ae0-9812-c622c89dd244"
   },
   "outputs": [
    {
     "data": {
      "text/plain": [
       "array(['покупка жилья', 'приобретение автомобиля',\n",
       "       'дополнительное образование', 'сыграть свадьбу',\n",
       "       'операции с жильем', 'образование', 'на проведение свадьбы',\n",
       "       'покупка жилья для семьи', 'покупка недвижимости',\n",
       "       'покупка коммерческой недвижимости', 'покупка жилой недвижимости',\n",
       "       'строительство собственной недвижимости', 'недвижимость',\n",
       "       'строительство недвижимости', 'на покупку подержанного автомобиля',\n",
       "       'на покупку своего автомобиля',\n",
       "       'операции с коммерческой недвижимостью',\n",
       "       'строительство жилой недвижимости', 'жилье',\n",
       "       'операции со своей недвижимостью', 'автомобили',\n",
       "       'заняться образованием', 'сделка с подержанным автомобилем',\n",
       "       'получение образования', 'автомобиль', 'свадьба',\n",
       "       'получение дополнительного образования', 'покупка своего жилья',\n",
       "       'операции с недвижимостью', 'получение высшего образования',\n",
       "       'свой автомобиль', 'сделка с автомобилем',\n",
       "       'профильное образование', 'высшее образование',\n",
       "       'покупка жилья для сдачи', 'на покупку автомобиля', 'ремонт жилью',\n",
       "       'заняться высшим образованием'], dtype=object)"
      ]
     },
     "execution_count": 21,
     "metadata": {},
     "output_type": "execute_result"
    }
   ],
   "source": [
    "data['purpose'].unique()"
   ]
  },
  {
   "cell_type": "markdown",
   "id": "52b79d56",
   "metadata": {
    "deletable": false,
    "editable": false,
    "id": "52b79d56"
   },
   "source": [
    "**Задание 18. Создайте функцию, которая на основании данных из столбца `purpose` сформирует новый столбец `purpose_category`, в который войдут следующие категории:**\n",
    "\n",
    "- `'операции с автомобилем'`,\n",
    "- `'операции с недвижимостью'`,\n",
    "- `'проведение свадьбы'`,\n",
    "- `'получение образования'`.\n",
    "\n",
    "**Например, если в столбце `purpose` находится подстрока `'на покупку автомобиля'`, то в столбце `purpose_category` должна появиться строка `'операции с автомобилем'`.**\n",
    "\n",
    "**Используйте собственную функцию с именем `categorize_purpose()` и метод `apply()`. Изучите данные в столбце `purpose` и определите, какие подстроки помогут вам правильно определить категорию.**"
   ]
  },
  {
   "cell_type": "code",
   "execution_count": 22,
   "id": "be41da5d",
   "metadata": {
    "deletable": false,
    "id": "be41da5d"
   },
   "outputs": [],
   "source": [
    "def categorize_purpose(row):\n",
    "    try:\n",
    "        if 'автом' in row:\n",
    "            return 'операции с автомобилем'\n",
    "        elif 'жил' in row or 'недвиж' in row:\n",
    "            return 'операции с недвижимостью'\n",
    "        elif 'свад' in row:\n",
    "            return 'проведение свадьбы'\n",
    "        elif 'образов' in row:\n",
    "            return 'получение образования'\n",
    "    except:\n",
    "        return 'нет категории'"
   ]
  },
  {
   "cell_type": "code",
   "execution_count": 23,
   "id": "94c4a19a",
   "metadata": {
    "deletable": false,
    "id": "94c4a19a"
   },
   "outputs": [],
   "source": [
    "data['purpose_category'] = data['purpose'].apply(categorize_purpose)"
   ]
  },
  {
   "cell_type": "markdown",
   "id": "3d596c34",
   "metadata": {
    "deletable": false,
    "editable": false,
    "id": "3d596c34"
   },
   "source": [
    "### Шаг 3. Исследуйте данные и ответьте на вопросы"
   ]
  },
  {
   "cell_type": "markdown",
   "id": "648db036",
   "metadata": {
    "deletable": false,
    "editable": false,
    "id": "648db036"
   },
   "source": [
    "#### 3.1 Есть ли зависимость между количеством детей и возвратом кредита в срок?"
   ]
  },
  {
   "cell_type": "code",
   "execution_count": 29,
   "id": "7fcff25e",
   "metadata": {
    "deletable": false,
    "id": "7fcff25e"
   },
   "outputs": [
    {
     "data": {
      "text/html": [
       "<div>\n",
       "<style scoped>\n",
       "    .dataframe tbody tr th:only-of-type {\n",
       "        vertical-align: middle;\n",
       "    }\n",
       "\n",
       "    .dataframe tbody tr th {\n",
       "        vertical-align: top;\n",
       "    }\n",
       "\n",
       "    .dataframe thead th {\n",
       "        text-align: right;\n",
       "    }\n",
       "</style>\n",
       "<table border=\"1\" class=\"dataframe\">\n",
       "  <thead>\n",
       "    <tr style=\"text-align: right;\">\n",
       "      <th></th>\n",
       "      <th>count_children</th>\n",
       "      <th>sum_children</th>\n",
       "      <th>result_children</th>\n",
       "    </tr>\n",
       "    <tr>\n",
       "      <th>children</th>\n",
       "      <th></th>\n",
       "      <th></th>\n",
       "      <th></th>\n",
       "    </tr>\n",
       "  </thead>\n",
       "  <tbody>\n",
       "    <tr>\n",
       "      <th>0</th>\n",
       "      <td>14091</td>\n",
       "      <td>1063</td>\n",
       "      <td>7.54</td>\n",
       "    </tr>\n",
       "    <tr>\n",
       "      <th>1</th>\n",
       "      <td>4808</td>\n",
       "      <td>444</td>\n",
       "      <td>9.23</td>\n",
       "    </tr>\n",
       "    <tr>\n",
       "      <th>2</th>\n",
       "      <td>2052</td>\n",
       "      <td>194</td>\n",
       "      <td>9.45</td>\n",
       "    </tr>\n",
       "    <tr>\n",
       "      <th>3</th>\n",
       "      <td>330</td>\n",
       "      <td>27</td>\n",
       "      <td>8.18</td>\n",
       "    </tr>\n",
       "    <tr>\n",
       "      <th>4</th>\n",
       "      <td>41</td>\n",
       "      <td>4</td>\n",
       "      <td>9.76</td>\n",
       "    </tr>\n",
       "    <tr>\n",
       "      <th>5</th>\n",
       "      <td>9</td>\n",
       "      <td>0</td>\n",
       "      <td>0.00</td>\n",
       "    </tr>\n",
       "  </tbody>\n",
       "</table>\n",
       "</div>"
      ],
      "text/plain": [
       "          count_children  sum_children  result_children\n",
       "children                                               \n",
       "0                  14091          1063             7.54\n",
       "1                   4808           444             9.23\n",
       "2                   2052           194             9.45\n",
       "3                    330            27             8.18\n",
       "4                     41             4             9.76\n",
       "5                      9             0             0.00"
      ]
     },
     "execution_count": 29,
     "metadata": {},
     "output_type": "execute_result"
    }
   ],
   "source": [
    "debt_children = pd.DataFrame()\n",
    "#посчитаем количество значений наличия задолженности по возврату кредитов по категории children \n",
    "debt_children['count_children'] = data.groupby('children')['debt'].count() \n",
    "#посчитаем сумму задолженности по возврату кредитов по категории children \n",
    "debt_children['sum_children'] = data.groupby('children')['debt'].sum()\n",
    "#посчитаем процетное соотношение\n",
    "debt_children['result_children'] = round(debt_children['sum_children'] / debt_children['count_children'] * 100, 2) \n",
    "debt_children\n"
   ]
  },
  {
   "cell_type": "markdown",
   "id": "2eb9088e",
   "metadata": {
    "deletable": false,
    "id": "2eb9088e"
   },
   "source": [
    "**Вывод:** Из сформированной таблицы можно сделать вывод, что наиболее высокий процент задолжности (9,76) у семей, имеющих 4 детей, но при этом задолженность семей без детей ниже только на 2,22 %.  "
   ]
  },
  {
   "cell_type": "markdown",
   "id": "74c9b3a7",
   "metadata": {
    "deletable": false,
    "editable": false,
    "id": "74c9b3a7"
   },
   "source": [
    "#### 3.2 Есть ли зависимость между семейным положением и возвратом кредита в срок?"
   ]
  },
  {
   "cell_type": "code",
   "execution_count": 28,
   "id": "8098ab3b",
   "metadata": {
    "deletable": false,
    "id": "8098ab3b"
   },
   "outputs": [
    {
     "data": {
      "text/html": [
       "<div>\n",
       "<style scoped>\n",
       "    .dataframe tbody tr th:only-of-type {\n",
       "        vertical-align: middle;\n",
       "    }\n",
       "\n",
       "    .dataframe tbody tr th {\n",
       "        vertical-align: top;\n",
       "    }\n",
       "\n",
       "    .dataframe thead th {\n",
       "        text-align: right;\n",
       "    }\n",
       "</style>\n",
       "<table border=\"1\" class=\"dataframe\">\n",
       "  <thead>\n",
       "    <tr style=\"text-align: right;\">\n",
       "      <th></th>\n",
       "      <th>family_status_count</th>\n",
       "      <th>family_status_sum</th>\n",
       "      <th>result_family_status</th>\n",
       "    </tr>\n",
       "    <tr>\n",
       "      <th>family_status</th>\n",
       "      <th></th>\n",
       "      <th></th>\n",
       "      <th></th>\n",
       "    </tr>\n",
       "  </thead>\n",
       "  <tbody>\n",
       "    <tr>\n",
       "      <th>Не женат / не замужем</th>\n",
       "      <td>2796</td>\n",
       "      <td>273</td>\n",
       "      <td>9.76</td>\n",
       "    </tr>\n",
       "    <tr>\n",
       "      <th>в разводе</th>\n",
       "      <td>1189</td>\n",
       "      <td>84</td>\n",
       "      <td>7.06</td>\n",
       "    </tr>\n",
       "    <tr>\n",
       "      <th>вдовец / вдова</th>\n",
       "      <td>951</td>\n",
       "      <td>63</td>\n",
       "      <td>6.62</td>\n",
       "    </tr>\n",
       "    <tr>\n",
       "      <th>гражданский брак</th>\n",
       "      <td>4134</td>\n",
       "      <td>385</td>\n",
       "      <td>9.31</td>\n",
       "    </tr>\n",
       "    <tr>\n",
       "      <th>женат / замужем</th>\n",
       "      <td>12261</td>\n",
       "      <td>927</td>\n",
       "      <td>7.56</td>\n",
       "    </tr>\n",
       "  </tbody>\n",
       "</table>\n",
       "</div>"
      ],
      "text/plain": [
       "                       family_status_count  family_status_sum  \\\n",
       "family_status                                                   \n",
       "Не женат / не замужем                 2796                273   \n",
       "в разводе                             1189                 84   \n",
       "вдовец / вдова                         951                 63   \n",
       "гражданский брак                      4134                385   \n",
       "женат / замужем                      12261                927   \n",
       "\n",
       "                       result_family_status  \n",
       "family_status                                \n",
       "Не женат / не замужем                  9.76  \n",
       "в разводе                              7.06  \n",
       "вдовец / вдова                         6.62  \n",
       "гражданский брак                       9.31  \n",
       "женат / замужем                        7.56  "
      ]
     },
     "execution_count": 28,
     "metadata": {},
     "output_type": "execute_result"
    }
   ],
   "source": [
    "debt_family_status = pd.DataFrame()\n",
    "#посчитаем количество значений наличия задолженности по возврату кредитов по категории family_status \n",
    "debt_family_status['family_status_count'] = data.groupby('family_status')['debt'].count()\n",
    " #посчитаем сумму задолженности по возврату кредитов по категории family_status \n",
    "debt_family_status['family_status_sum'] = data.groupby('family_status')['debt'].sum()\n",
    "#посчитаем процетное соотношение\n",
    "debt_family_status['result_family_status'] = round(debt_family_status['family_status_sum'] /\\\n",
    "                                                   debt_family_status['family_status_count'] * 100, 2) \n",
    "debt_family_status"
   ]
  },
  {
   "cell_type": "markdown",
   "id": "c389ca63",
   "metadata": {
    "deletable": false,
    "id": "c389ca63"
   },
   "source": [
    "**Вывод:** Глядя на таблицу, можно заметить, люди, находящиеся в разводе и вдовы/вдовцы исправнее выплачивают кредиты, чем люди не в браке и не бывавшие в браке."
   ]
  },
  {
   "cell_type": "markdown",
   "id": "9529de68",
   "metadata": {
    "deletable": false,
    "editable": false,
    "id": "9529de68"
   },
   "source": [
    "#### 3.3 Есть ли зависимость между уровнем дохода и возвратом кредита в срок?"
   ]
  },
  {
   "cell_type": "code",
   "execution_count": 26,
   "id": "8787f44a",
   "metadata": {
    "deletable": false,
    "id": "8787f44a"
   },
   "outputs": [
    {
     "data": {
      "text/html": [
       "<div>\n",
       "<style scoped>\n",
       "    .dataframe tbody tr th:only-of-type {\n",
       "        vertical-align: middle;\n",
       "    }\n",
       "\n",
       "    .dataframe tbody tr th {\n",
       "        vertical-align: top;\n",
       "    }\n",
       "\n",
       "    .dataframe thead th {\n",
       "        text-align: right;\n",
       "    }\n",
       "</style>\n",
       "<table border=\"1\" class=\"dataframe\">\n",
       "  <thead>\n",
       "    <tr style=\"text-align: right;\">\n",
       "      <th></th>\n",
       "      <th>sum</th>\n",
       "      <th>count</th>\n",
       "      <th>ratio</th>\n",
       "    </tr>\n",
       "    <tr>\n",
       "      <th>total_income_category</th>\n",
       "      <th></th>\n",
       "      <th></th>\n",
       "      <th></th>\n",
       "    </tr>\n",
       "  </thead>\n",
       "  <tbody>\n",
       "    <tr>\n",
       "      <th>A</th>\n",
       "      <td>2</td>\n",
       "      <td>25</td>\n",
       "      <td>8.00</td>\n",
       "    </tr>\n",
       "    <tr>\n",
       "      <th>B</th>\n",
       "      <td>354</td>\n",
       "      <td>5014</td>\n",
       "      <td>7.06</td>\n",
       "    </tr>\n",
       "    <tr>\n",
       "      <th>C</th>\n",
       "      <td>1353</td>\n",
       "      <td>15921</td>\n",
       "      <td>8.50</td>\n",
       "    </tr>\n",
       "    <tr>\n",
       "      <th>D</th>\n",
       "      <td>21</td>\n",
       "      <td>349</td>\n",
       "      <td>6.02</td>\n",
       "    </tr>\n",
       "    <tr>\n",
       "      <th>E</th>\n",
       "      <td>2</td>\n",
       "      <td>22</td>\n",
       "      <td>9.09</td>\n",
       "    </tr>\n",
       "  </tbody>\n",
       "</table>\n",
       "</div>"
      ],
      "text/plain": [
       "                        sum  count  ratio\n",
       "total_income_category                    \n",
       "A                         2     25   8.00\n",
       "B                       354   5014   7.06\n",
       "C                      1353  15921   8.50\n",
       "D                        21    349   6.02\n",
       "E                         2     22   9.09"
      ]
     },
     "execution_count": 26,
     "metadata": {},
     "output_type": "execute_result"
    }
   ],
   "source": [
    "debt_total_income = pd.DataFrame()\n",
    "debt_total_income['sum'] = data.groupby('total_income_category')['debt'].sum()\n",
    "debt_total_income['count'] = data.groupby('total_income_category')['debt'].count()\n",
    "debt_total_income['ratio'] = round(debt_total_income['sum'] / debt_total_income['count'] * 100, 2)\n",
    "debt_total_income.sort_values('total_income_category', ascending = True)\n",
    "\n"
   ]
  },
  {
   "cell_type": "markdown",
   "id": "6dd14b57",
   "metadata": {
    "deletable": false,
    "id": "6dd14b57"
   },
   "source": [
    "**Вывод:** Самая высокая возвратность у людей с доходом от 30 до 50 тысяч.Люди с доходом от 500 до 1000 тысяч также имеют низкую долю просрочки по кредиту. Люди как с доходом до 300000, так и с доходом от 50 до 200 имеют высокую вероятность, относительно остальных, не вернуть кредит.Возможно это связано с тем, что эти люди имеют детей и еще несколько кредитов, поэтому вероятность невозврата кредита у таких людей выше."
   ]
  },
  {
   "cell_type": "markdown",
   "id": "1dcc9b12",
   "metadata": {
    "deletable": false,
    "editable": false,
    "id": "1dcc9b12"
   },
   "source": [
    "#### 3.4 Как разные цели кредита влияют на его возврат в срок?"
   ]
  },
  {
   "cell_type": "code",
   "execution_count": 30,
   "id": "c602bc8b",
   "metadata": {
    "deletable": false,
    "id": "c602bc8b"
   },
   "outputs": [
    {
     "data": {
      "text/html": [
       "<div>\n",
       "<style scoped>\n",
       "    .dataframe tbody tr th:only-of-type {\n",
       "        vertical-align: middle;\n",
       "    }\n",
       "\n",
       "    .dataframe tbody tr th {\n",
       "        vertical-align: top;\n",
       "    }\n",
       "\n",
       "    .dataframe thead th {\n",
       "        text-align: right;\n",
       "    }\n",
       "</style>\n",
       "<table border=\"1\" class=\"dataframe\">\n",
       "  <thead>\n",
       "    <tr style=\"text-align: right;\">\n",
       "      <th></th>\n",
       "      <th>purpose_category_count</th>\n",
       "      <th>purpose_category_sum</th>\n",
       "      <th>result_purpose</th>\n",
       "    </tr>\n",
       "    <tr>\n",
       "      <th>purpose_category</th>\n",
       "      <th></th>\n",
       "      <th></th>\n",
       "      <th></th>\n",
       "    </tr>\n",
       "  </thead>\n",
       "  <tbody>\n",
       "    <tr>\n",
       "      <th>операции с недвижимостью</th>\n",
       "      <td>10751</td>\n",
       "      <td>780</td>\n",
       "      <td>7.26</td>\n",
       "    </tr>\n",
       "    <tr>\n",
       "      <th>проведение свадьбы</th>\n",
       "      <td>2313</td>\n",
       "      <td>183</td>\n",
       "      <td>7.91</td>\n",
       "    </tr>\n",
       "    <tr>\n",
       "      <th>получение образования</th>\n",
       "      <td>3988</td>\n",
       "      <td>369</td>\n",
       "      <td>9.25</td>\n",
       "    </tr>\n",
       "    <tr>\n",
       "      <th>операции с автомобилем</th>\n",
       "      <td>4279</td>\n",
       "      <td>400</td>\n",
       "      <td>9.35</td>\n",
       "    </tr>\n",
       "  </tbody>\n",
       "</table>\n",
       "</div>"
      ],
      "text/plain": [
       "                          purpose_category_count  purpose_category_sum  \\\n",
       "purpose_category                                                         \n",
       "операции с недвижимостью                   10751                   780   \n",
       "проведение свадьбы                          2313                   183   \n",
       "получение образования                       3988                   369   \n",
       "операции с автомобилем                      4279                   400   \n",
       "\n",
       "                          result_purpose  \n",
       "purpose_category                          \n",
       "операции с недвижимостью            7.26  \n",
       "проведение свадьбы                  7.91  \n",
       "получение образования               9.25  \n",
       "операции с автомобилем              9.35  "
      ]
     },
     "execution_count": 30,
     "metadata": {},
     "output_type": "execute_result"
    }
   ],
   "source": [
    "debt_purpose_category = pd.DataFrame()\n",
    "#посчитаем количество значений наличия задолженности по возврату кредитов по категории purpose_category \n",
    "debt_purpose_category['purpose_category_count'] = data.groupby('purpose_category')['debt'].count()\n",
    "#посчитаем сумму задолженности по возврату кредитов по категории purpose_category \n",
    "debt_purpose_category['purpose_category_sum'] = data.groupby('purpose_category')['debt'].sum() \n",
    " #посчитаем процетное соотношение\n",
    "debt_purpose_category['result_purpose'] = \\\n",
    "round(debt_purpose_category['purpose_category_sum'] / debt_purpose_category['purpose_category_count'] * 100, 2)\n",
    "debt_purpose_category.sort_values('result_purpose', ascending = True)"
   ]
  },
  {
   "cell_type": "markdown",
   "id": "cf05ed63",
   "metadata": {
    "deletable": false,
    "id": "cf05ed63"
   },
   "source": [
    "**Вывод:** Из 4 целевых категорий, кредиты чаще всего платят в срок по операциям с недвижимостью и по проведению свадьбы, разброс между максимальным значением примерно 2%. "
   ]
  },
  {
   "cell_type": "markdown",
   "id": "46c1f10b",
   "metadata": {
    "deletable": false,
    "editable": false,
    "id": "46c1f10b"
   },
   "source": [
    "#### 3.5 Приведите возможные причины появления пропусков в исходных данных."
   ]
  },
  {
   "cell_type": "markdown",
   "id": "3697d2a9",
   "metadata": {
    "deletable": false,
    "id": "3697d2a9"
   },
   "source": [
    "*Ответ:*Пропуски присутствовали в столбцах days_employed и total_income. Чаще всего причиной пропусков является человеческий фактор (либо по ошибке не заполнены, либо не захотели заполнять. Также по двум столбацам количество пропусков одинаковое."
   ]
  },
  {
   "cell_type": "markdown",
   "id": "3137d257",
   "metadata": {
    "deletable": false,
    "editable": false,
    "id": "3137d257"
   },
   "source": [
    "#### 3.6 Объясните, почему заполнить пропуски медианным значением — лучшее решение для количественных переменных."
   ]
  },
  {
   "cell_type": "markdown",
   "id": "cf40012a",
   "metadata": {
    "deletable": false,
    "id": "cf40012a"
   },
   "source": [
    "*Ответ:* Потому что медиана в отличие от среднего арифметического игнорирует выбросы данных."
   ]
  },
  {
   "cell_type": "markdown",
   "id": "57bc304e",
   "metadata": {
    "deletable": false,
    "editable": false,
    "id": "57bc304e"
   },
   "source": [
    "### Шаг 4: общий вывод."
   ]
  },
  {
   "cell_type": "markdown",
   "id": "1ab75d1c",
   "metadata": {
    "deletable": false,
    "id": "1ab75d1c"
   },
   "source": [
    "**Цель исследования:** необходимо выявить влияет ли семейное положение и количество детей клиента на факт погашения кредита в срок. \n",
    "\n",
    "В ходе выполнения исследования выявлено, что в двух столбцах days_employed (общий трудовой стаж в днях) и total_income (ежемесячный доход) были пропущенны значения, total_income — хранит данные о доходах. На сумму дохода сильнее всего влияет тип занятости, поэтому пропуски заполнены в этом столбце медианным значением по каждому типу из столбца income_type (тип занятости).\n",
    "\n",
    "Проведена обработка аномальных значений, обработано отрицательное значение количества дней трудового стажа в столбце days_employed и два аномальных значения в столбце children.\n",
    "\n",
    "В столбце total_income тип данных вещественный заменен на целочисленный.Также в столбце education обработаны неявные дубликаты, так как имелись одни и те же значения, но записанные по-разному: с использованием заглавных и строчных букв. \n",
    "\n",
    "Разберем подробнее каждый фактор влияния на погашение кредита:\n",
    "\n",
    "1) Влияние наличия детей на вероятность просрочки платежа (по количеству детей в семье)\n",
    "\n",
    "Нет детей - 7.54%\n",
    "\n",
    "1 ребенок - 9.23%\n",
    "\n",
    "2 ребенка - 9.45%\n",
    "\n",
    "4 детей - 9.76%\n",
    "\n",
    "Абсолютная разница между минимальным и максимальным значением - 2.22%.\n",
    "\n",
    "Относительная разница между минимальным и максимальным значением - 22.7%.\n",
    "\n",
    "Из этого можно сделать вывод, что чем больше детей у заемщика, тем больше вероятность просрочки. \n",
    "\n",
    "Семьи, у которых 5 детей, и семьи, у которых нет детей, либо не допускают вовсе, либо допускают незначительно просрочку кредита. Это может быть связано с тем, семьи, у которых 5 детей более отвественные, а семьи, которых нет детей более платежеспособны. Люди, имеющие 1 ребенка, допускают просрочку на 2.3% меньше, чем семьи, имеющие двух детей, что подтверждает сделанный вывод.\n",
    "\n",
    "2) Влияние семейного положения на вероятность просрочки платежа\n",
    "\n",
    "не женат / не замужем - 9.76%\n",
    "\n",
    "в разводе - 7.06%\n",
    "\n",
    "вдовец / вдова - 6.62%\n",
    "\n",
    "гражданский брак - 9.31%\n",
    "\n",
    "женат / замужем - 7.56%\n",
    "\n",
    "Абсолютная разница между минимальным и максимальным значением - 3.14%\n",
    "\n",
    "Относительная разница между минимальным и максимальным значением - 32.17%\n",
    "\n",
    "Из этого можно сделать вывод, что люди, находящиеся в разводе и вдовы/вдовцы исправнее выплачивают кредиты, чем люди не в браке и не бывавшие в браке. Объяснить это можно также тем, что первые более платежеспособные, чем семейные люди, либо ответственнее.\n",
    "\n",
    "3) Влияние цели кредита на вероятность возврата кредита в срок \n",
    "\n",
    "операции с недвижемостью - 7.26%\n",
    "\n",
    "проведение свадьбы - 7.91%\n",
    "\n",
    "получение образования - 9.25%\n",
    "\n",
    "операции с автомобилями - 9.35%\n",
    "\n",
    "Абсолютная разница между минимальным и максимальным значением - 2.09%.\n",
    "\n",
    "Относительная разница между минимальным и максимальным значением - 22.35%.\n",
    "\n",
    "Из 4 целевых категорий, кредиты чаще всего платят в срок по операциям с недвижимостью и по проведению свадьбы.\n",
    "\n",
    "4) Влияние уровня дохода на просрочку платежа\n",
    "\n",
    "0 - 30000 - 9.09%\n",
    "\n",
    "От 30001 до 50000 - 6.02%\n",
    "\n",
    "От 50001 до 200000- 8.50%\n",
    "\n",
    "От 200001 до 1000000 - 7.06%\n",
    "\n",
    "От 1000000 и выше - 8.00%\n",
    "\n",
    "Абсолютная разница между минимальным и максимальным значением - 3.07%.\n",
    "\n",
    "Относительная разница между минимальным и максимальным значением - 33.77%.\n",
    "\n",
    "*Вывод:* самая высокая возвратность у людей с доходом от 30 до 50 тысяч.Люди с доходом от 500 до 1000 тысяч также имеют низкую долю просрочки по кредиту. Люди как с доходом до 300000, так и с доходом от 50 до 200 имеют высокую вероятность, относительно остальных, не вернуть кредит.Возможно это связано с тем, что эти люди имеют детей и еще несколько кредитов, поэтому вероятность невозврата кредита у таких людей выше.\n",
    "\n",
    "Из проделанной работы можно сделать вывод, что наиболее платежеспособными являются разведенные, вдовцы/вдовы, либо неженатые люди с доходом выше среднего и неимеющие детей. Наименьшее влияние на погашение кредита оказывают его цели."
   ]
  }
 ],
 "metadata": {
  "ExecuteTimeLog": [
   {
    "duration": 53,
    "start_time": "2023-05-08T07:40:02.777Z"
   },
   {
    "duration": 6,
    "start_time": "2023-05-08T07:40:51.135Z"
   },
   {
    "duration": 8,
    "start_time": "2023-05-08T08:52:57.287Z"
   },
   {
    "duration": 10,
    "start_time": "2023-05-08T08:53:30.689Z"
   },
   {
    "duration": 8,
    "start_time": "2023-05-08T08:54:36.954Z"
   },
   {
    "duration": 519,
    "start_time": "2023-05-08T08:54:46.242Z"
   },
   {
    "duration": 23,
    "start_time": "2023-05-08T08:54:46.764Z"
   },
   {
    "duration": 16,
    "start_time": "2023-05-08T08:54:46.789Z"
   },
   {
    "duration": 12,
    "start_time": "2023-05-08T08:54:46.807Z"
   },
   {
    "duration": 77,
    "start_time": "2023-05-08T08:54:46.822Z"
   },
   {
    "duration": 4,
    "start_time": "2023-05-08T08:54:46.902Z"
   },
   {
    "duration": 13,
    "start_time": "2023-05-08T08:54:46.909Z"
   },
   {
    "duration": 5,
    "start_time": "2023-05-08T08:54:46.925Z"
   },
   {
    "duration": 22,
    "start_time": "2023-05-08T08:54:46.933Z"
   },
   {
    "duration": 26,
    "start_time": "2023-05-08T08:54:46.959Z"
   },
   {
    "duration": 34,
    "start_time": "2023-05-08T08:54:46.987Z"
   },
   {
    "duration": 17,
    "start_time": "2023-05-08T08:54:47.023Z"
   },
   {
    "duration": 11,
    "start_time": "2023-05-08T08:54:47.042Z"
   },
   {
    "duration": 35,
    "start_time": "2023-05-08T08:54:47.055Z"
   },
   {
    "duration": 35,
    "start_time": "2023-05-08T08:54:47.092Z"
   },
   {
    "duration": 20,
    "start_time": "2023-05-08T08:54:47.129Z"
   },
   {
    "duration": 4,
    "start_time": "2023-05-08T08:54:47.151Z"
   },
   {
    "duration": 46,
    "start_time": "2023-05-08T08:54:47.157Z"
   },
   {
    "duration": 9,
    "start_time": "2023-05-08T08:54:47.206Z"
   },
   {
    "duration": 11,
    "start_time": "2023-05-08T08:54:47.218Z"
   },
   {
    "duration": 12,
    "start_time": "2023-05-08T08:54:47.231Z"
   },
   {
    "duration": 18,
    "start_time": "2023-05-08T08:54:47.247Z"
   },
   {
    "duration": 4,
    "start_time": "2023-05-08T08:54:47.267Z"
   },
   {
    "duration": 5,
    "start_time": "2023-05-08T08:54:47.273Z"
   },
   {
    "duration": 3,
    "start_time": "2023-05-08T08:54:47.286Z"
   },
   {
    "duration": 11,
    "start_time": "2023-05-08T08:55:02.426Z"
   },
   {
    "duration": 13,
    "start_time": "2023-05-08T08:55:06.270Z"
   },
   {
    "duration": 10,
    "start_time": "2023-05-08T08:55:55.631Z"
   },
   {
    "duration": 1342,
    "start_time": "2023-05-08T08:58:16.693Z"
   },
   {
    "duration": 1183,
    "start_time": "2023-05-08T08:58:51.759Z"
   },
   {
    "duration": 7,
    "start_time": "2023-05-08T08:59:05.180Z"
   },
   {
    "duration": 64,
    "start_time": "2023-05-08T08:59:20.041Z"
   },
   {
    "duration": 16,
    "start_time": "2023-05-08T08:59:20.107Z"
   },
   {
    "duration": 23,
    "start_time": "2023-05-08T08:59:20.125Z"
   },
   {
    "duration": 10,
    "start_time": "2023-05-08T08:59:20.150Z"
   },
   {
    "duration": 57,
    "start_time": "2023-05-08T08:59:20.162Z"
   },
   {
    "duration": 4,
    "start_time": "2023-05-08T08:59:20.221Z"
   },
   {
    "duration": 30,
    "start_time": "2023-05-08T08:59:20.226Z"
   },
   {
    "duration": 14,
    "start_time": "2023-05-08T08:59:20.258Z"
   },
   {
    "duration": 17,
    "start_time": "2023-05-08T08:59:20.274Z"
   },
   {
    "duration": 20,
    "start_time": "2023-05-08T08:59:20.294Z"
   },
   {
    "duration": 53,
    "start_time": "2023-05-08T08:59:20.316Z"
   },
   {
    "duration": 19,
    "start_time": "2023-05-08T08:59:20.371Z"
   },
   {
    "duration": 6,
    "start_time": "2023-05-08T08:59:20.391Z"
   },
   {
    "duration": 23,
    "start_time": "2023-05-08T08:59:20.399Z"
   },
   {
    "duration": 23,
    "start_time": "2023-05-08T08:59:20.424Z"
   },
   {
    "duration": 43,
    "start_time": "2023-05-08T08:59:20.448Z"
   },
   {
    "duration": 4,
    "start_time": "2023-05-08T08:59:20.492Z"
   },
   {
    "duration": 20,
    "start_time": "2023-05-08T08:59:20.498Z"
   },
   {
    "duration": 8,
    "start_time": "2023-05-08T08:59:20.520Z"
   },
   {
    "duration": 10,
    "start_time": "2023-05-08T08:59:20.531Z"
   },
   {
    "duration": 31,
    "start_time": "2023-05-08T08:59:20.543Z"
   },
   {
    "duration": 14,
    "start_time": "2023-05-08T08:59:20.576Z"
   },
   {
    "duration": 13,
    "start_time": "2023-05-08T08:59:20.592Z"
   },
   {
    "duration": 7,
    "start_time": "2023-05-08T08:59:20.607Z"
   },
   {
    "duration": 4,
    "start_time": "2023-05-08T08:59:20.617Z"
   },
   {
    "duration": 1241,
    "start_time": "2023-05-08T09:11:47.126Z"
   },
   {
    "duration": 8,
    "start_time": "2023-05-08T09:12:48.077Z"
   },
   {
    "duration": 1211,
    "start_time": "2023-05-08T09:13:50.484Z"
   },
   {
    "duration": 81,
    "start_time": "2023-05-08T09:13:58.860Z"
   },
   {
    "duration": 16,
    "start_time": "2023-05-08T09:13:58.943Z"
   },
   {
    "duration": 46,
    "start_time": "2023-05-08T09:13:58.961Z"
   },
   {
    "duration": 16,
    "start_time": "2023-05-08T09:13:59.010Z"
   },
   {
    "duration": 57,
    "start_time": "2023-05-08T09:13:59.028Z"
   },
   {
    "duration": 4,
    "start_time": "2023-05-08T09:13:59.087Z"
   },
   {
    "duration": 39,
    "start_time": "2023-05-08T09:13:59.093Z"
   },
   {
    "duration": 18,
    "start_time": "2023-05-08T09:13:59.133Z"
   },
   {
    "duration": 15,
    "start_time": "2023-05-08T09:13:59.153Z"
   },
   {
    "duration": 7,
    "start_time": "2023-05-08T09:13:59.172Z"
   },
   {
    "duration": 58,
    "start_time": "2023-05-08T09:13:59.182Z"
   },
   {
    "duration": 10,
    "start_time": "2023-05-08T09:13:59.242Z"
   },
   {
    "duration": 3,
    "start_time": "2023-05-08T09:13:59.254Z"
   },
   {
    "duration": 33,
    "start_time": "2023-05-08T09:13:59.259Z"
   },
   {
    "duration": 29,
    "start_time": "2023-05-08T09:13:59.294Z"
   },
   {
    "duration": 21,
    "start_time": "2023-05-08T09:13:59.325Z"
   },
   {
    "duration": 4,
    "start_time": "2023-05-08T09:13:59.348Z"
   },
   {
    "duration": 35,
    "start_time": "2023-05-08T09:13:59.353Z"
   },
   {
    "duration": 9,
    "start_time": "2023-05-08T09:13:59.390Z"
   },
   {
    "duration": 4,
    "start_time": "2023-05-08T09:13:59.401Z"
   },
   {
    "duration": 13,
    "start_time": "2023-05-08T09:13:59.406Z"
   },
   {
    "duration": 18,
    "start_time": "2023-05-08T09:13:59.421Z"
   },
   {
    "duration": 6,
    "start_time": "2023-05-08T09:13:59.441Z"
   },
   {
    "duration": 1208,
    "start_time": "2023-05-08T09:13:59.448Z"
   },
   {
    "duration": 0,
    "start_time": "2023-05-08T09:14:00.658Z"
   },
   {
    "duration": 0,
    "start_time": "2023-05-08T09:14:00.660Z"
   },
   {
    "duration": 0,
    "start_time": "2023-05-08T09:14:00.661Z"
   },
   {
    "duration": 4,
    "start_time": "2023-05-08T09:16:05.449Z"
   },
   {
    "duration": 71,
    "start_time": "2023-05-08T09:18:35.179Z"
   },
   {
    "duration": 18,
    "start_time": "2023-05-08T09:18:35.252Z"
   },
   {
    "duration": 31,
    "start_time": "2023-05-08T09:18:35.273Z"
   },
   {
    "duration": 14,
    "start_time": "2023-05-08T09:18:35.307Z"
   },
   {
    "duration": 37,
    "start_time": "2023-05-08T09:18:35.323Z"
   },
   {
    "duration": 4,
    "start_time": "2023-05-08T09:18:35.385Z"
   },
   {
    "duration": 14,
    "start_time": "2023-05-08T09:18:35.391Z"
   },
   {
    "duration": 7,
    "start_time": "2023-05-08T09:18:35.407Z"
   },
   {
    "duration": 8,
    "start_time": "2023-05-08T09:18:35.415Z"
   },
   {
    "duration": 6,
    "start_time": "2023-05-08T09:18:35.426Z"
   },
   {
    "duration": 72,
    "start_time": "2023-05-08T09:18:35.433Z"
   },
   {
    "duration": 19,
    "start_time": "2023-05-08T09:18:35.508Z"
   },
   {
    "duration": 8,
    "start_time": "2023-05-08T09:18:35.529Z"
   },
   {
    "duration": 14,
    "start_time": "2023-05-08T09:18:35.539Z"
   },
   {
    "duration": 48,
    "start_time": "2023-05-08T09:18:35.555Z"
   },
   {
    "duration": 19,
    "start_time": "2023-05-08T09:18:35.605Z"
   },
   {
    "duration": 4,
    "start_time": "2023-05-08T09:18:35.626Z"
   },
   {
    "duration": 12,
    "start_time": "2023-05-08T09:18:35.632Z"
   },
   {
    "duration": 12,
    "start_time": "2023-05-08T09:18:35.646Z"
   },
   {
    "duration": 27,
    "start_time": "2023-05-08T09:18:35.660Z"
   },
   {
    "duration": 34,
    "start_time": "2023-05-08T09:18:35.690Z"
   },
   {
    "duration": 16,
    "start_time": "2023-05-08T09:18:35.726Z"
   },
   {
    "duration": 8,
    "start_time": "2023-05-08T09:18:35.745Z"
   },
   {
    "duration": 1317,
    "start_time": "2023-05-08T09:18:35.755Z"
   },
   {
    "duration": 0,
    "start_time": "2023-05-08T09:18:37.073Z"
   },
   {
    "duration": 0,
    "start_time": "2023-05-08T09:18:37.075Z"
   },
   {
    "duration": 0,
    "start_time": "2023-05-08T09:18:37.076Z"
   },
   {
    "duration": 0,
    "start_time": "2023-05-08T09:18:37.078Z"
   },
   {
    "duration": 70,
    "start_time": "2023-05-08T09:23:01.157Z"
   },
   {
    "duration": 17,
    "start_time": "2023-05-08T09:23:01.229Z"
   },
   {
    "duration": 60,
    "start_time": "2023-05-08T09:23:01.249Z"
   },
   {
    "duration": 54,
    "start_time": "2023-05-08T09:23:01.312Z"
   },
   {
    "duration": 79,
    "start_time": "2023-05-08T09:23:01.368Z"
   },
   {
    "duration": 5,
    "start_time": "2023-05-08T09:23:01.449Z"
   },
   {
    "duration": 47,
    "start_time": "2023-05-08T09:23:01.457Z"
   },
   {
    "duration": 31,
    "start_time": "2023-05-08T09:23:01.507Z"
   },
   {
    "duration": 140,
    "start_time": "2023-05-08T09:23:01.540Z"
   },
   {
    "duration": 49,
    "start_time": "2023-05-08T09:23:01.685Z"
   },
   {
    "duration": 96,
    "start_time": "2023-05-08T09:23:01.737Z"
   },
   {
    "duration": 17,
    "start_time": "2023-05-08T09:23:01.835Z"
   },
   {
    "duration": 41,
    "start_time": "2023-05-08T09:23:01.854Z"
   },
   {
    "duration": 53,
    "start_time": "2023-05-08T09:23:01.897Z"
   },
   {
    "duration": 54,
    "start_time": "2023-05-08T09:23:01.952Z"
   },
   {
    "duration": 43,
    "start_time": "2023-05-08T09:23:02.008Z"
   },
   {
    "duration": 23,
    "start_time": "2023-05-08T09:23:02.053Z"
   },
   {
    "duration": 40,
    "start_time": "2023-05-08T09:23:02.077Z"
   },
   {
    "duration": 24,
    "start_time": "2023-05-08T09:23:02.118Z"
   },
   {
    "duration": 19,
    "start_time": "2023-05-08T09:23:02.145Z"
   },
   {
    "duration": 79,
    "start_time": "2023-05-08T09:23:02.166Z"
   },
   {
    "duration": 41,
    "start_time": "2023-05-08T09:23:02.247Z"
   },
   {
    "duration": 31,
    "start_time": "2023-05-08T09:23:02.291Z"
   },
   {
    "duration": 1218,
    "start_time": "2023-05-08T09:23:02.324Z"
   },
   {
    "duration": 0,
    "start_time": "2023-05-08T09:23:03.544Z"
   },
   {
    "duration": 0,
    "start_time": "2023-05-08T09:23:03.545Z"
   },
   {
    "duration": 0,
    "start_time": "2023-05-08T09:23:03.546Z"
   },
   {
    "duration": 0,
    "start_time": "2023-05-08T09:23:03.547Z"
   },
   {
    "duration": 8,
    "start_time": "2023-05-08T09:35:54.508Z"
   },
   {
    "duration": 8,
    "start_time": "2023-05-08T09:39:01.874Z"
   },
   {
    "duration": 8,
    "start_time": "2023-05-08T09:51:46.064Z"
   },
   {
    "duration": 70,
    "start_time": "2023-05-08T09:52:09.119Z"
   },
   {
    "duration": 16,
    "start_time": "2023-05-08T09:52:09.192Z"
   },
   {
    "duration": 21,
    "start_time": "2023-05-08T09:52:09.210Z"
   },
   {
    "duration": 10,
    "start_time": "2023-05-08T09:52:09.234Z"
   },
   {
    "duration": 63,
    "start_time": "2023-05-08T09:52:09.246Z"
   },
   {
    "duration": 3,
    "start_time": "2023-05-08T09:52:09.311Z"
   },
   {
    "duration": 24,
    "start_time": "2023-05-08T09:52:09.316Z"
   },
   {
    "duration": 5,
    "start_time": "2023-05-08T09:52:09.341Z"
   },
   {
    "duration": 16,
    "start_time": "2023-05-08T09:52:09.347Z"
   },
   {
    "duration": 18,
    "start_time": "2023-05-08T09:52:09.366Z"
   },
   {
    "duration": 35,
    "start_time": "2023-05-08T09:52:09.385Z"
   },
   {
    "duration": 12,
    "start_time": "2023-05-08T09:52:09.422Z"
   },
   {
    "duration": 17,
    "start_time": "2023-05-08T09:52:09.435Z"
   },
   {
    "duration": 18,
    "start_time": "2023-05-08T09:52:09.453Z"
   },
   {
    "duration": 27,
    "start_time": "2023-05-08T09:52:09.472Z"
   },
   {
    "duration": 21,
    "start_time": "2023-05-08T09:52:09.500Z"
   },
   {
    "duration": 4,
    "start_time": "2023-05-08T09:52:09.522Z"
   },
   {
    "duration": 29,
    "start_time": "2023-05-08T09:52:09.527Z"
   },
   {
    "duration": 28,
    "start_time": "2023-05-08T09:52:09.557Z"
   },
   {
    "duration": 18,
    "start_time": "2023-05-08T09:52:09.587Z"
   },
   {
    "duration": 58,
    "start_time": "2023-05-08T09:52:09.606Z"
   },
   {
    "duration": 25,
    "start_time": "2023-05-08T09:52:09.666Z"
   },
   {
    "duration": 24,
    "start_time": "2023-05-08T09:52:09.693Z"
   },
   {
    "duration": 0,
    "start_time": "2023-05-08T09:52:09.719Z"
   },
   {
    "duration": 1,
    "start_time": "2023-05-08T09:52:09.719Z"
   },
   {
    "duration": 0,
    "start_time": "2023-05-08T09:52:09.721Z"
   },
   {
    "duration": 0,
    "start_time": "2023-05-08T09:52:09.722Z"
   },
   {
    "duration": 9,
    "start_time": "2023-05-08T10:00:09.514Z"
   },
   {
    "duration": 9,
    "start_time": "2023-05-08T10:03:00.678Z"
   },
   {
    "duration": 9,
    "start_time": "2023-05-08T10:13:37.518Z"
   },
   {
    "duration": 10,
    "start_time": "2023-05-08T10:21:48.499Z"
   },
   {
    "duration": 9,
    "start_time": "2023-05-08T10:22:05.412Z"
   },
   {
    "duration": 20,
    "start_time": "2023-05-08T10:24:39.262Z"
   },
   {
    "duration": 20,
    "start_time": "2023-05-08T10:36:40.503Z"
   },
   {
    "duration": 15,
    "start_time": "2023-05-08T10:37:44.626Z"
   },
   {
    "duration": 79,
    "start_time": "2023-05-08T10:39:52.383Z"
   },
   {
    "duration": 24,
    "start_time": "2023-05-08T10:39:52.466Z"
   },
   {
    "duration": 55,
    "start_time": "2023-05-08T10:39:52.491Z"
   },
   {
    "duration": 13,
    "start_time": "2023-05-08T10:39:52.548Z"
   },
   {
    "duration": 47,
    "start_time": "2023-05-08T10:39:52.563Z"
   },
   {
    "duration": 3,
    "start_time": "2023-05-08T10:39:52.612Z"
   },
   {
    "duration": 38,
    "start_time": "2023-05-08T10:39:52.617Z"
   },
   {
    "duration": 16,
    "start_time": "2023-05-08T10:39:52.657Z"
   },
   {
    "duration": 18,
    "start_time": "2023-05-08T10:39:52.675Z"
   },
   {
    "duration": 19,
    "start_time": "2023-05-08T10:39:52.696Z"
   },
   {
    "duration": 71,
    "start_time": "2023-05-08T10:39:52.717Z"
   },
   {
    "duration": 12,
    "start_time": "2023-05-08T10:39:52.790Z"
   },
   {
    "duration": 34,
    "start_time": "2023-05-08T10:39:52.804Z"
   },
   {
    "duration": 17,
    "start_time": "2023-05-08T10:39:52.840Z"
   },
   {
    "duration": 30,
    "start_time": "2023-05-08T10:39:52.859Z"
   },
   {
    "duration": 18,
    "start_time": "2023-05-08T10:39:52.891Z"
   },
   {
    "duration": 17,
    "start_time": "2023-05-08T10:39:52.911Z"
   },
   {
    "duration": 25,
    "start_time": "2023-05-08T10:39:52.929Z"
   },
   {
    "duration": 12,
    "start_time": "2023-05-08T10:39:52.956Z"
   },
   {
    "duration": 26,
    "start_time": "2023-05-08T10:39:52.969Z"
   },
   {
    "duration": 45,
    "start_time": "2023-05-08T10:39:52.997Z"
   },
   {
    "duration": 22,
    "start_time": "2023-05-08T10:39:53.044Z"
   },
   {
    "duration": 34,
    "start_time": "2023-05-08T10:39:53.068Z"
   },
   {
    "duration": 0,
    "start_time": "2023-05-08T10:39:53.104Z"
   },
   {
    "duration": 0,
    "start_time": "2023-05-08T10:39:53.105Z"
   },
   {
    "duration": 0,
    "start_time": "2023-05-08T10:39:53.106Z"
   },
   {
    "duration": 0,
    "start_time": "2023-05-08T10:39:53.107Z"
   },
   {
    "duration": 23,
    "start_time": "2023-05-08T10:54:03.647Z"
   },
   {
    "duration": 67,
    "start_time": "2023-05-08T10:55:12.044Z"
   },
   {
    "duration": 19,
    "start_time": "2023-05-08T10:55:22.268Z"
   },
   {
    "duration": 9,
    "start_time": "2023-05-08T10:56:00.523Z"
   },
   {
    "duration": 18,
    "start_time": "2023-05-08T10:56:08.550Z"
   },
   {
    "duration": 31,
    "start_time": "2023-05-08T10:56:59.948Z"
   },
   {
    "duration": 635,
    "start_time": "2023-05-08T10:57:54.207Z"
   },
   {
    "duration": 87,
    "start_time": "2023-05-08T10:58:52.135Z"
   },
   {
    "duration": 102,
    "start_time": "2023-05-08T10:59:06.427Z"
   },
   {
    "duration": 71,
    "start_time": "2023-05-08T10:59:14.763Z"
   },
   {
    "duration": 15,
    "start_time": "2023-05-08T10:59:35.676Z"
   },
   {
    "duration": 88,
    "start_time": "2023-05-08T11:02:43.070Z"
   },
   {
    "duration": 93,
    "start_time": "2023-05-08T11:03:20.803Z"
   },
   {
    "duration": 27,
    "start_time": "2023-05-08T11:06:06.433Z"
   },
   {
    "duration": 14,
    "start_time": "2023-05-08T11:18:43.395Z"
   },
   {
    "duration": 18,
    "start_time": "2023-05-08T17:13:02.148Z"
   },
   {
    "duration": 14,
    "start_time": "2023-05-08T17:14:44.870Z"
   },
   {
    "duration": 14,
    "start_time": "2023-05-08T17:17:14.350Z"
   },
   {
    "duration": 18,
    "start_time": "2023-05-08T17:18:43.243Z"
   },
   {
    "duration": 13,
    "start_time": "2023-05-08T17:19:36.068Z"
   },
   {
    "duration": 14,
    "start_time": "2023-05-08T17:20:36.723Z"
   },
   {
    "duration": 8,
    "start_time": "2023-05-08T17:25:23.739Z"
   },
   {
    "duration": 15,
    "start_time": "2023-05-08T17:25:54.454Z"
   },
   {
    "duration": 13,
    "start_time": "2023-05-08T17:26:48.315Z"
   },
   {
    "duration": 7,
    "start_time": "2023-05-08T17:27:40.532Z"
   },
   {
    "duration": 14,
    "start_time": "2023-05-08T17:28:36.109Z"
   },
   {
    "duration": 96,
    "start_time": "2023-05-08T17:33:24.047Z"
   },
   {
    "duration": 20,
    "start_time": "2023-05-08T17:33:24.145Z"
   },
   {
    "duration": 37,
    "start_time": "2023-05-08T17:33:24.167Z"
   },
   {
    "duration": 17,
    "start_time": "2023-05-08T17:33:24.207Z"
   },
   {
    "duration": 67,
    "start_time": "2023-05-08T17:33:24.226Z"
   },
   {
    "duration": 3,
    "start_time": "2023-05-08T17:33:24.296Z"
   },
   {
    "duration": 11,
    "start_time": "2023-05-08T17:33:24.302Z"
   },
   {
    "duration": 5,
    "start_time": "2023-05-08T17:33:24.315Z"
   },
   {
    "duration": 6,
    "start_time": "2023-05-08T17:33:24.322Z"
   },
   {
    "duration": 8,
    "start_time": "2023-05-08T17:33:24.332Z"
   },
   {
    "duration": 67,
    "start_time": "2023-05-08T17:33:24.341Z"
   },
   {
    "duration": 12,
    "start_time": "2023-05-08T17:33:24.409Z"
   },
   {
    "duration": 5,
    "start_time": "2023-05-08T17:33:24.423Z"
   },
   {
    "duration": 20,
    "start_time": "2023-05-08T17:33:24.430Z"
   },
   {
    "duration": 57,
    "start_time": "2023-05-08T17:33:24.455Z"
   },
   {
    "duration": 29,
    "start_time": "2023-05-08T17:33:24.514Z"
   },
   {
    "duration": 5,
    "start_time": "2023-05-08T17:33:24.545Z"
   },
   {
    "duration": 33,
    "start_time": "2023-05-08T17:33:24.553Z"
   },
   {
    "duration": 9,
    "start_time": "2023-05-08T17:33:24.588Z"
   },
   {
    "duration": 4,
    "start_time": "2023-05-08T17:33:24.599Z"
   },
   {
    "duration": 12,
    "start_time": "2023-05-08T17:33:24.605Z"
   },
   {
    "duration": 26,
    "start_time": "2023-05-08T17:33:24.619Z"
   },
   {
    "duration": 0,
    "start_time": "2023-05-08T17:33:24.648Z"
   },
   {
    "duration": 0,
    "start_time": "2023-05-08T17:33:24.650Z"
   },
   {
    "duration": 0,
    "start_time": "2023-05-08T17:33:24.651Z"
   },
   {
    "duration": 0,
    "start_time": "2023-05-08T17:33:24.685Z"
   },
   {
    "duration": 16,
    "start_time": "2023-05-08T17:37:56.765Z"
   },
   {
    "duration": 14,
    "start_time": "2023-05-08T17:38:26.136Z"
   },
   {
    "duration": 13,
    "start_time": "2023-05-08T17:40:36.950Z"
   },
   {
    "duration": 13,
    "start_time": "2023-05-08T17:40:45.010Z"
   },
   {
    "duration": 13,
    "start_time": "2023-05-08T17:44:22.146Z"
   },
   {
    "duration": 14,
    "start_time": "2023-05-08T17:50:34.832Z"
   },
   {
    "duration": 8,
    "start_time": "2023-05-08T17:59:43.275Z"
   },
   {
    "duration": 14,
    "start_time": "2023-05-08T18:00:06.547Z"
   },
   {
    "duration": 77,
    "start_time": "2023-05-08T18:00:22.977Z"
   },
   {
    "duration": 19,
    "start_time": "2023-05-08T18:00:23.056Z"
   },
   {
    "duration": 18,
    "start_time": "2023-05-08T18:00:23.077Z"
   },
   {
    "duration": 9,
    "start_time": "2023-05-08T18:00:23.098Z"
   },
   {
    "duration": 34,
    "start_time": "2023-05-08T18:00:23.109Z"
   },
   {
    "duration": 3,
    "start_time": "2023-05-08T18:00:23.145Z"
   },
   {
    "duration": 10,
    "start_time": "2023-05-08T18:00:23.149Z"
   },
   {
    "duration": 4,
    "start_time": "2023-05-08T18:00:23.160Z"
   },
   {
    "duration": 8,
    "start_time": "2023-05-08T18:00:23.186Z"
   },
   {
    "duration": 4,
    "start_time": "2023-05-08T18:00:23.198Z"
   },
   {
    "duration": 34,
    "start_time": "2023-05-08T18:00:23.204Z"
   },
   {
    "duration": 9,
    "start_time": "2023-05-08T18:00:23.240Z"
   },
   {
    "duration": 4,
    "start_time": "2023-05-08T18:00:23.250Z"
   },
   {
    "duration": 48,
    "start_time": "2023-05-08T18:00:23.255Z"
   },
   {
    "duration": 48,
    "start_time": "2023-05-08T18:00:23.305Z"
   },
   {
    "duration": 45,
    "start_time": "2023-05-08T18:00:23.354Z"
   },
   {
    "duration": 3,
    "start_time": "2023-05-08T18:00:23.401Z"
   },
   {
    "duration": 19,
    "start_time": "2023-05-08T18:00:23.405Z"
   },
   {
    "duration": 5,
    "start_time": "2023-05-08T18:00:23.426Z"
   },
   {
    "duration": 3,
    "start_time": "2023-05-08T18:00:23.433Z"
   },
   {
    "duration": 9,
    "start_time": "2023-05-08T18:00:23.438Z"
   },
   {
    "duration": 16,
    "start_time": "2023-05-08T18:00:23.449Z"
   },
   {
    "duration": 0,
    "start_time": "2023-05-08T18:00:23.467Z"
   },
   {
    "duration": 0,
    "start_time": "2023-05-08T18:00:23.468Z"
   },
   {
    "duration": 0,
    "start_time": "2023-05-08T18:00:23.486Z"
   },
   {
    "duration": 0,
    "start_time": "2023-05-08T18:00:23.487Z"
   },
   {
    "duration": 14,
    "start_time": "2023-05-08T18:01:03.720Z"
   },
   {
    "duration": 13,
    "start_time": "2023-05-08T18:01:25.581Z"
   },
   {
    "duration": 8,
    "start_time": "2023-05-08T18:02:51.522Z"
   },
   {
    "duration": 14,
    "start_time": "2023-05-08T18:03:10.575Z"
   },
   {
    "duration": 13,
    "start_time": "2023-05-08T18:04:28.610Z"
   },
   {
    "duration": 13,
    "start_time": "2023-05-08T18:05:10.457Z"
   },
   {
    "duration": 15,
    "start_time": "2023-05-08T18:06:37.912Z"
   },
   {
    "duration": 16,
    "start_time": "2023-05-08T18:37:01.680Z"
   },
   {
    "duration": 8,
    "start_time": "2023-05-08T18:50:36.336Z"
   },
   {
    "duration": 293,
    "start_time": "2023-05-08T18:52:58.960Z"
   },
   {
    "duration": 20,
    "start_time": "2023-05-08T18:53:33.109Z"
   },
   {
    "duration": 22,
    "start_time": "2023-05-08T18:54:11.818Z"
   },
   {
    "duration": 24,
    "start_time": "2023-05-08T18:54:56.413Z"
   },
   {
    "duration": 22,
    "start_time": "2023-05-08T18:58:22.678Z"
   },
   {
    "duration": 25,
    "start_time": "2023-05-08T18:58:28.305Z"
   },
   {
    "duration": 26,
    "start_time": "2023-05-08T19:00:12.382Z"
   },
   {
    "duration": 19,
    "start_time": "2023-05-08T19:12:18.834Z"
   },
   {
    "duration": 20,
    "start_time": "2023-05-08T19:13:46.908Z"
   },
   {
    "duration": 16,
    "start_time": "2023-05-08T19:16:50.583Z"
   },
   {
    "duration": 15,
    "start_time": "2023-05-08T19:18:25.536Z"
   },
   {
    "duration": 26,
    "start_time": "2023-05-08T19:19:19.783Z"
   },
   {
    "duration": 1143,
    "start_time": "2023-05-09T17:05:46.007Z"
   },
   {
    "duration": 22,
    "start_time": "2023-05-09T17:05:47.152Z"
   },
   {
    "duration": 16,
    "start_time": "2023-05-09T17:05:47.175Z"
   },
   {
    "duration": 19,
    "start_time": "2023-05-09T17:05:47.192Z"
   },
   {
    "duration": 36,
    "start_time": "2023-05-09T17:05:47.213Z"
   },
   {
    "duration": 3,
    "start_time": "2023-05-09T17:05:47.251Z"
   },
   {
    "duration": 12,
    "start_time": "2023-05-09T17:05:47.256Z"
   },
   {
    "duration": 4,
    "start_time": "2023-05-09T17:05:47.269Z"
   },
   {
    "duration": 14,
    "start_time": "2023-05-09T17:05:47.275Z"
   },
   {
    "duration": 8,
    "start_time": "2023-05-09T17:05:47.290Z"
   },
   {
    "duration": 47,
    "start_time": "2023-05-09T17:05:47.299Z"
   },
   {
    "duration": 11,
    "start_time": "2023-05-09T17:05:47.347Z"
   },
   {
    "duration": 6,
    "start_time": "2023-05-09T17:05:47.360Z"
   },
   {
    "duration": 33,
    "start_time": "2023-05-09T17:05:47.368Z"
   },
   {
    "duration": 39,
    "start_time": "2023-05-09T17:05:47.403Z"
   },
   {
    "duration": 18,
    "start_time": "2023-05-09T17:05:47.444Z"
   },
   {
    "duration": 4,
    "start_time": "2023-05-09T17:05:47.463Z"
   },
   {
    "duration": 20,
    "start_time": "2023-05-09T17:05:47.469Z"
   },
   {
    "duration": 5,
    "start_time": "2023-05-09T17:05:47.491Z"
   },
   {
    "duration": 5,
    "start_time": "2023-05-09T17:05:47.498Z"
   },
   {
    "duration": 29,
    "start_time": "2023-05-09T17:05:47.504Z"
   },
   {
    "duration": 13,
    "start_time": "2023-05-09T17:05:47.535Z"
   },
   {
    "duration": 14,
    "start_time": "2023-05-09T17:05:47.550Z"
   },
   {
    "duration": 90,
    "start_time": "2023-05-09T17:05:47.566Z"
   },
   {
    "duration": 0,
    "start_time": "2023-05-09T17:05:47.657Z"
   },
   {
    "duration": 49,
    "start_time": "2023-05-09T20:31:28.132Z"
   },
   {
    "duration": 10,
    "start_time": "2023-05-09T20:37:22.074Z"
   },
   {
    "duration": 547,
    "start_time": "2023-05-09T20:37:56.199Z"
   },
   {
    "duration": 25,
    "start_time": "2023-05-09T20:37:56.748Z"
   },
   {
    "duration": 14,
    "start_time": "2023-05-09T20:37:56.775Z"
   },
   {
    "duration": 10,
    "start_time": "2023-05-09T20:37:56.791Z"
   },
   {
    "duration": 82,
    "start_time": "2023-05-09T20:37:56.803Z"
   },
   {
    "duration": 5,
    "start_time": "2023-05-09T20:37:56.887Z"
   },
   {
    "duration": 14,
    "start_time": "2023-05-09T20:37:56.894Z"
   },
   {
    "duration": 6,
    "start_time": "2023-05-09T20:37:56.910Z"
   },
   {
    "duration": 8,
    "start_time": "2023-05-09T20:37:56.918Z"
   },
   {
    "duration": 32,
    "start_time": "2023-05-09T20:37:56.931Z"
   },
   {
    "duration": 36,
    "start_time": "2023-05-09T20:37:56.964Z"
   },
   {
    "duration": 9,
    "start_time": "2023-05-09T20:37:57.001Z"
   },
   {
    "duration": 4,
    "start_time": "2023-05-09T20:37:57.011Z"
   },
   {
    "duration": 22,
    "start_time": "2023-05-09T20:37:57.016Z"
   },
   {
    "duration": 35,
    "start_time": "2023-05-09T20:37:57.040Z"
   },
   {
    "duration": 16,
    "start_time": "2023-05-09T20:37:57.076Z"
   },
   {
    "duration": 3,
    "start_time": "2023-05-09T20:37:57.094Z"
   },
   {
    "duration": 11,
    "start_time": "2023-05-09T20:37:57.099Z"
   },
   {
    "duration": 7,
    "start_time": "2023-05-09T20:37:57.112Z"
   },
   {
    "duration": 3,
    "start_time": "2023-05-09T20:37:57.121Z"
   },
   {
    "duration": 38,
    "start_time": "2023-05-09T20:37:57.126Z"
   },
   {
    "duration": 21,
    "start_time": "2023-05-09T20:37:57.166Z"
   },
   {
    "duration": 16,
    "start_time": "2023-05-09T20:37:57.189Z"
   },
   {
    "duration": 15,
    "start_time": "2023-05-09T20:37:57.207Z"
   },
   {
    "duration": 42,
    "start_time": "2023-05-09T20:37:57.223Z"
   },
   {
    "duration": 14,
    "start_time": "2023-05-09T20:38:44.731Z"
   },
   {
    "duration": 77,
    "start_time": "2023-05-09T22:33:34.059Z"
   },
   {
    "duration": 81,
    "start_time": "2023-05-09T22:33:44.057Z"
   },
   {
    "duration": 98,
    "start_time": "2023-05-09T22:34:45.737Z"
   },
   {
    "duration": 66,
    "start_time": "2023-05-09T22:35:00.783Z"
   },
   {
    "duration": 0,
    "start_time": "2023-05-09T22:35:00.850Z"
   },
   {
    "duration": 0,
    "start_time": "2023-05-09T22:35:00.851Z"
   },
   {
    "duration": 0,
    "start_time": "2023-05-09T22:35:00.852Z"
   },
   {
    "duration": 0,
    "start_time": "2023-05-09T22:35:00.853Z"
   },
   {
    "duration": 0,
    "start_time": "2023-05-09T22:35:00.854Z"
   },
   {
    "duration": 0,
    "start_time": "2023-05-09T22:35:00.855Z"
   },
   {
    "duration": 0,
    "start_time": "2023-05-09T22:35:00.856Z"
   },
   {
    "duration": 0,
    "start_time": "2023-05-09T22:35:00.857Z"
   },
   {
    "duration": 0,
    "start_time": "2023-05-09T22:35:00.858Z"
   },
   {
    "duration": 0,
    "start_time": "2023-05-09T22:35:00.860Z"
   },
   {
    "duration": 0,
    "start_time": "2023-05-09T22:35:00.861Z"
   },
   {
    "duration": 0,
    "start_time": "2023-05-09T22:35:00.862Z"
   },
   {
    "duration": 0,
    "start_time": "2023-05-09T22:35:00.863Z"
   },
   {
    "duration": 0,
    "start_time": "2023-05-09T22:35:00.864Z"
   },
   {
    "duration": 38,
    "start_time": "2023-05-09T22:35:00.866Z"
   },
   {
    "duration": 55,
    "start_time": "2023-05-09T22:35:00.907Z"
   },
   {
    "duration": 4,
    "start_time": "2023-05-09T22:35:00.964Z"
   },
   {
    "duration": 34,
    "start_time": "2023-05-09T22:35:00.970Z"
   },
   {
    "duration": 26,
    "start_time": "2023-05-09T22:35:01.006Z"
   },
   {
    "duration": 23,
    "start_time": "2023-05-09T22:35:01.033Z"
   },
   {
    "duration": 34,
    "start_time": "2023-05-09T22:35:01.058Z"
   },
   {
    "duration": 37,
    "start_time": "2023-05-09T22:35:01.094Z"
   },
   {
    "duration": 48,
    "start_time": "2023-05-09T22:35:01.134Z"
   },
   {
    "duration": 29,
    "start_time": "2023-05-09T22:35:01.184Z"
   },
   {
    "duration": 27,
    "start_time": "2023-05-09T22:35:01.215Z"
   },
   {
    "duration": 76,
    "start_time": "2023-05-09T22:35:43.790Z"
   },
   {
    "duration": 96,
    "start_time": "2023-05-09T22:35:49.607Z"
   },
   {
    "duration": 86,
    "start_time": "2023-05-09T22:36:03.260Z"
   },
   {
    "duration": 70,
    "start_time": "2023-05-09T22:37:17.207Z"
   },
   {
    "duration": 503,
    "start_time": "2023-05-10T09:11:16.092Z"
   },
   {
    "duration": 28,
    "start_time": "2023-05-10T09:11:16.597Z"
   },
   {
    "duration": 17,
    "start_time": "2023-05-10T09:11:16.627Z"
   },
   {
    "duration": 10,
    "start_time": "2023-05-10T09:11:16.647Z"
   },
   {
    "duration": 69,
    "start_time": "2023-05-10T09:11:16.659Z"
   },
   {
    "duration": 6,
    "start_time": "2023-05-10T09:11:16.730Z"
   },
   {
    "duration": 15,
    "start_time": "2023-05-10T09:11:16.738Z"
   },
   {
    "duration": 5,
    "start_time": "2023-05-10T09:11:16.754Z"
   },
   {
    "duration": 15,
    "start_time": "2023-05-10T09:11:16.760Z"
   },
   {
    "duration": 5,
    "start_time": "2023-05-10T09:11:16.777Z"
   },
   {
    "duration": 62,
    "start_time": "2023-05-10T09:11:16.783Z"
   },
   {
    "duration": 11,
    "start_time": "2023-05-10T09:11:16.846Z"
   },
   {
    "duration": 18,
    "start_time": "2023-05-10T09:11:16.858Z"
   },
   {
    "duration": 26,
    "start_time": "2023-05-10T09:11:16.877Z"
   },
   {
    "duration": 37,
    "start_time": "2023-05-10T09:11:16.904Z"
   },
   {
    "duration": 19,
    "start_time": "2023-05-10T09:11:16.944Z"
   },
   {
    "duration": 4,
    "start_time": "2023-05-10T09:11:16.965Z"
   },
   {
    "duration": 24,
    "start_time": "2023-05-10T09:11:16.972Z"
   },
   {
    "duration": 9,
    "start_time": "2023-05-10T09:11:16.998Z"
   },
   {
    "duration": 8,
    "start_time": "2023-05-10T09:11:17.015Z"
   },
   {
    "duration": 14,
    "start_time": "2023-05-10T09:11:17.025Z"
   },
   {
    "duration": 21,
    "start_time": "2023-05-10T09:11:17.041Z"
   },
   {
    "duration": 22,
    "start_time": "2023-05-10T09:11:17.064Z"
   },
   {
    "duration": 44,
    "start_time": "2023-05-10T09:11:17.088Z"
   },
   {
    "duration": 19,
    "start_time": "2023-05-10T09:11:17.134Z"
   },
   {
    "duration": 506,
    "start_time": "2023-05-10T09:12:16.103Z"
   },
   {
    "duration": 28,
    "start_time": "2023-05-10T09:12:16.611Z"
   },
   {
    "duration": 26,
    "start_time": "2023-05-10T09:12:16.641Z"
   },
   {
    "duration": 14,
    "start_time": "2023-05-10T09:12:16.673Z"
   },
   {
    "duration": 60,
    "start_time": "2023-05-10T09:12:16.689Z"
   },
   {
    "duration": 4,
    "start_time": "2023-05-10T09:12:16.751Z"
   },
   {
    "duration": 15,
    "start_time": "2023-05-10T09:12:16.757Z"
   },
   {
    "duration": 5,
    "start_time": "2023-05-10T09:12:16.774Z"
   },
   {
    "duration": 14,
    "start_time": "2023-05-10T09:12:16.780Z"
   },
   {
    "duration": 14,
    "start_time": "2023-05-10T09:12:16.817Z"
   },
   {
    "duration": 48,
    "start_time": "2023-05-10T09:12:16.833Z"
   },
   {
    "duration": 13,
    "start_time": "2023-05-10T09:12:16.883Z"
   },
   {
    "duration": 11,
    "start_time": "2023-05-10T09:12:16.898Z"
   },
   {
    "duration": 22,
    "start_time": "2023-05-10T09:12:16.915Z"
   },
   {
    "duration": 23,
    "start_time": "2023-05-10T09:12:16.939Z"
   },
   {
    "duration": 18,
    "start_time": "2023-05-10T09:12:16.963Z"
   },
   {
    "duration": 4,
    "start_time": "2023-05-10T09:12:16.982Z"
   },
   {
    "duration": 32,
    "start_time": "2023-05-10T09:12:16.988Z"
   },
   {
    "duration": 8,
    "start_time": "2023-05-10T09:12:17.029Z"
   },
   {
    "duration": 18,
    "start_time": "2023-05-10T09:12:17.039Z"
   },
   {
    "duration": 12,
    "start_time": "2023-05-10T09:12:17.059Z"
   },
   {
    "duration": 18,
    "start_time": "2023-05-10T09:12:17.073Z"
   },
   {
    "duration": 29,
    "start_time": "2023-05-10T09:12:17.093Z"
   },
   {
    "duration": 19,
    "start_time": "2023-05-10T09:12:17.126Z"
   },
   {
    "duration": 18,
    "start_time": "2023-05-10T09:12:17.147Z"
   }
  ],
  "colab": {
   "provenance": []
  },
  "kernelspec": {
   "display_name": "Python 3 (ipykernel)",
   "language": "python",
   "name": "python3"
  },
  "language_info": {
   "codemirror_mode": {
    "name": "ipython",
    "version": 3
   },
   "file_extension": ".py",
   "mimetype": "text/x-python",
   "name": "python",
   "nbconvert_exporter": "python",
   "pygments_lexer": "ipython3",
   "version": "3.11.4"
  },
  "toc": {
   "base_numbering": 1,
   "nav_menu": {},
   "number_sections": true,
   "sideBar": true,
   "skip_h1_title": true,
   "title_cell": "Table of Contents",
   "title_sidebar": "Contents",
   "toc_cell": false,
   "toc_position": {},
   "toc_section_display": true,
   "toc_window_display": true
  }
 },
 "nbformat": 4,
 "nbformat_minor": 5
}
