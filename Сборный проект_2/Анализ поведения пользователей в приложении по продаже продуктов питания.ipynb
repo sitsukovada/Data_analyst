{
 "cells": [
  {
   "cell_type": "markdown",
   "metadata": {},
   "source": [
    "# Анализ поведения пользователей в приложении по продаже продуктов питания"
   ]
  },
  {
   "cell_type": "markdown",
   "metadata": {},
   "source": [
    "**Описание проекта**\n",
    "\n",
    "Получены данные о стартапе, который продаёт продукты питания. Нужно разобраться, как ведут себя пользователи мобильного приложения.\n",
    "\n",
    "Необходимо изучить воронку продаж.\n",
    "Узнайть, как пользователи доходят до покупки.\n",
    "Узнать сколько пользователей доходит до покупки, а сколько — «застревает» на предыдущих шагах. На каких именно?\n",
    "\n",
    "После этого исследуем результаты A/A/B-эксперимента. (Дизайнеры захотели поменять шрифты во всём приложении, а менеджеры испугались, что пользователям будет непривычно. Договорились принять решение по результатам A/A/B-теста.)\n",
    "Пользователей разбили на 3 группы: 2 контрольные со старыми шрифтами и одну экспериментальную — с новыми. Необходимо выяснить, какой шрифт лучше."
   ]
  },
  {
   "cell_type": "markdown",
   "metadata": {},
   "source": [
    "*Для выполнения проекта необходимо*: \n",
    "    \n",
    "**Шаг 1**. Изучить общую информацию в файле /datasets/logs_exp.csv. \n",
    "\n",
    "**Шаг 2**. Подготовить данные\n",
    "- Заменить названия столбцов;\n",
    "- Проверить пропуски и типы данных;\n",
    "- Добавить столбец даты и времени, а также отдельный столбец дат;\n",
    "\n",
    "**Шаг 3**. Изучить и проверить данные:\n",
    "\n",
    "Сколько всего событий в логе?\n",
    "\n",
    "Сколько всего пользователей в логе?\n",
    "\n",
    "Сколько в среднем событий приходится на пользователя?\n",
    "\n",
    "Данными за какой период вы располагаете? Найдите максимальную и минимальную дату. \n",
    "\n",
    "Изучим, как меняется количество данных: построим столбчатую диаграмму, которая отобразит количество событий в зависимости от времени в разрезе групп. \n",
    "\n",
    "Можно ли быть уверенным, что у нас одинаково полные данные за весь период? Технически в логи новых дней по некоторым пользователям могут «доезжать» события из прошлого — это может «перекашивать данные». Необходимо определить, с какого момента данные полные и отбросьте более старые. \n",
    "\n",
    "Данными за какой период времени мы располагаем на самом деле?\n",
    "\n",
    "Много ли событий и пользователей мы потеряли, отбросив старые данные?\n",
    "\n",
    "Необходимо проверить, что у нас есть пользователи из всех трёх экспериментальных групп.\n",
    "\n",
    "**Шаг 4**. Изучить воронку событий\n",
    "Посмотрим, какие события есть в логах, как часто они встречаются. Отсортируем события по частоте.\n",
    "\n",
    "Посчитаем, сколько пользователей совершали каждое из этих событий. Отсортируем события по числу пользователей. Посчитаем долю пользователей, которые хоть раз совершали событие.\n",
    "\n",
    "Предположим, в каком порядке происходят события. Все ли они выстраиваются в последовательную цепочку? \n",
    "\n",
    "По воронке событий посчитаем, какая доля пользователей проходит на следующий шаг воронки (от числа пользователей на предыдущем). То есть для последовательности событий A → B → C посчитайте отношение числа пользователей с событием B к количеству пользователей с событием A, а также отношение числа пользователей с событием C к количеству пользователей с событием B.\n",
    "\n",
    "На каком шаге теряете больше всего пользователей?\n",
    "\n",
    "Какая доля пользователей доходит от первого события до оплаты?\n",
    "\n",
    "**Шаг 5**. Изучить результаты эксперимента\n",
    "\n",
    "Сколько пользователей в каждой экспериментальной группе?\n",
    "\n",
    "Есть 2 контрольные группы для А/А-эксперимента, чтобы проверить корректность всех механизмов и расчётов. Необходимо проверить, находят ли статистические критерии разницу между выборками 246 и 247.\n",
    "\n",
    "Необходимо выбрать самое популярное событие. \n",
    "\n",
    "Посчитаем число пользователей, совершивших это событие в каждой из контрольных групп. \n",
    "\n",
    "Посчитаем долю пользователей, совершивших это событие. Проверим, будет ли отличие между группами статистически достоверным. Проделайте то же самое для всех других событий (удобно обернуть проверку в отдельную функцию). \n",
    "\n",
    "Можно ли сказать, что разбиение на группы работает корректно?\n",
    "\n",
    "Аналогично поступим с группой с изменённым шрифтом. Сравним результаты с каждой из контрольных групп в отдельности по каждому событию. Сравним результаты с объединённой контрольной группой. "
   ]
  },
  {
   "cell_type": "markdown",
   "metadata": {},
   "source": [
    "**Описание данных**\n",
    "\n",
    "Каждая запись в логе — это действие пользователя, или событие. \n",
    "\n",
    "EventName — название события;\n",
    "\n",
    "DeviceIDHash — уникальный идентификатор пользователя;\n",
    "\n",
    "EventTimestamp — время события;\n",
    "\n",
    "ExpId — номер эксперимента: 246 и 247 — контрольные группы, а 248 — экспериментальная."
   ]
  },
  {
   "cell_type": "markdown",
   "metadata": {},
   "source": [
    "## Загрузка данных и подготовка их к анализу"
   ]
  },
  {
   "cell_type": "code",
   "execution_count": 2,
   "metadata": {},
   "outputs": [],
   "source": [
    "import pandas as pd\n",
    "import scipy.stats as st\n",
    "import datetime as dt\n",
    "import numpy as np\n",
    "import matplotlib.pyplot as plt\n",
    "import math \n"
   ]
  },
  {
   "cell_type": "code",
   "execution_count": 3,
   "metadata": {},
   "outputs": [],
   "source": [
    "logs_exp = pd.read_csv('/datasets/logs_exp.csv', sep = '\\t')"
   ]
  },
  {
   "cell_type": "code",
   "execution_count": 4,
   "metadata": {},
   "outputs": [
    {
     "data": {
      "text/html": [
       "<div>\n",
       "<style scoped>\n",
       "    .dataframe tbody tr th:only-of-type {\n",
       "        vertical-align: middle;\n",
       "    }\n",
       "\n",
       "    .dataframe tbody tr th {\n",
       "        vertical-align: top;\n",
       "    }\n",
       "\n",
       "    .dataframe thead th {\n",
       "        text-align: right;\n",
       "    }\n",
       "</style>\n",
       "<table border=\"1\" class=\"dataframe\">\n",
       "  <thead>\n",
       "    <tr style=\"text-align: right;\">\n",
       "      <th></th>\n",
       "      <th>EventName</th>\n",
       "      <th>DeviceIDHash</th>\n",
       "      <th>EventTimestamp</th>\n",
       "      <th>ExpId</th>\n",
       "    </tr>\n",
       "  </thead>\n",
       "  <tbody>\n",
       "    <tr>\n",
       "      <th>0</th>\n",
       "      <td>MainScreenAppear</td>\n",
       "      <td>4575588528974610257</td>\n",
       "      <td>1564029816</td>\n",
       "      <td>246</td>\n",
       "    </tr>\n",
       "    <tr>\n",
       "      <th>1</th>\n",
       "      <td>MainScreenAppear</td>\n",
       "      <td>7416695313311560658</td>\n",
       "      <td>1564053102</td>\n",
       "      <td>246</td>\n",
       "    </tr>\n",
       "    <tr>\n",
       "      <th>2</th>\n",
       "      <td>PaymentScreenSuccessful</td>\n",
       "      <td>3518123091307005509</td>\n",
       "      <td>1564054127</td>\n",
       "      <td>248</td>\n",
       "    </tr>\n",
       "    <tr>\n",
       "      <th>3</th>\n",
       "      <td>CartScreenAppear</td>\n",
       "      <td>3518123091307005509</td>\n",
       "      <td>1564054127</td>\n",
       "      <td>248</td>\n",
       "    </tr>\n",
       "    <tr>\n",
       "      <th>4</th>\n",
       "      <td>PaymentScreenSuccessful</td>\n",
       "      <td>6217807653094995999</td>\n",
       "      <td>1564055322</td>\n",
       "      <td>248</td>\n",
       "    </tr>\n",
       "  </tbody>\n",
       "</table>\n",
       "</div>"
      ],
      "text/plain": [
       "                 EventName         DeviceIDHash  EventTimestamp  ExpId\n",
       "0         MainScreenAppear  4575588528974610257      1564029816    246\n",
       "1         MainScreenAppear  7416695313311560658      1564053102    246\n",
       "2  PaymentScreenSuccessful  3518123091307005509      1564054127    248\n",
       "3         CartScreenAppear  3518123091307005509      1564054127    248\n",
       "4  PaymentScreenSuccessful  6217807653094995999      1564055322    248"
      ]
     },
     "execution_count": 4,
     "metadata": {},
     "output_type": "execute_result"
    }
   ],
   "source": [
    "logs_exp.head()"
   ]
  },
  {
   "cell_type": "markdown",
   "metadata": {},
   "source": [
    "Приведем наименования столбцов в соответствии с правилами"
   ]
  },
  {
   "cell_type": "code",
   "execution_count": 5,
   "metadata": {},
   "outputs": [],
   "source": [
    "logs_exp = logs_exp.rename(columns={'EventName': 'event_name', 'DeviceIDHash': 'device_id_hash',\\\n",
    "                                    'EventTimestamp':  'event_time_stamp', 'ExpId': 'exp_id'})"
   ]
  },
  {
   "cell_type": "code",
   "execution_count": 6,
   "metadata": {},
   "outputs": [
    {
     "data": {
      "text/html": [
       "<div>\n",
       "<style scoped>\n",
       "    .dataframe tbody tr th:only-of-type {\n",
       "        vertical-align: middle;\n",
       "    }\n",
       "\n",
       "    .dataframe tbody tr th {\n",
       "        vertical-align: top;\n",
       "    }\n",
       "\n",
       "    .dataframe thead th {\n",
       "        text-align: right;\n",
       "    }\n",
       "</style>\n",
       "<table border=\"1\" class=\"dataframe\">\n",
       "  <thead>\n",
       "    <tr style=\"text-align: right;\">\n",
       "      <th></th>\n",
       "      <th>event_name</th>\n",
       "      <th>device_id_hash</th>\n",
       "      <th>event_time_stamp</th>\n",
       "      <th>exp_id</th>\n",
       "    </tr>\n",
       "  </thead>\n",
       "  <tbody>\n",
       "    <tr>\n",
       "      <th>0</th>\n",
       "      <td>MainScreenAppear</td>\n",
       "      <td>4575588528974610257</td>\n",
       "      <td>1564029816</td>\n",
       "      <td>246</td>\n",
       "    </tr>\n",
       "    <tr>\n",
       "      <th>1</th>\n",
       "      <td>MainScreenAppear</td>\n",
       "      <td>7416695313311560658</td>\n",
       "      <td>1564053102</td>\n",
       "      <td>246</td>\n",
       "    </tr>\n",
       "    <tr>\n",
       "      <th>2</th>\n",
       "      <td>PaymentScreenSuccessful</td>\n",
       "      <td>3518123091307005509</td>\n",
       "      <td>1564054127</td>\n",
       "      <td>248</td>\n",
       "    </tr>\n",
       "    <tr>\n",
       "      <th>3</th>\n",
       "      <td>CartScreenAppear</td>\n",
       "      <td>3518123091307005509</td>\n",
       "      <td>1564054127</td>\n",
       "      <td>248</td>\n",
       "    </tr>\n",
       "    <tr>\n",
       "      <th>4</th>\n",
       "      <td>PaymentScreenSuccessful</td>\n",
       "      <td>6217807653094995999</td>\n",
       "      <td>1564055322</td>\n",
       "      <td>248</td>\n",
       "    </tr>\n",
       "  </tbody>\n",
       "</table>\n",
       "</div>"
      ],
      "text/plain": [
       "                event_name       device_id_hash  event_time_stamp  exp_id\n",
       "0         MainScreenAppear  4575588528974610257        1564029816     246\n",
       "1         MainScreenAppear  7416695313311560658        1564053102     246\n",
       "2  PaymentScreenSuccessful  3518123091307005509        1564054127     248\n",
       "3         CartScreenAppear  3518123091307005509        1564054127     248\n",
       "4  PaymentScreenSuccessful  6217807653094995999        1564055322     248"
      ]
     },
     "execution_count": 6,
     "metadata": {},
     "output_type": "execute_result"
    }
   ],
   "source": [
    "logs_exp.head()"
   ]
  },
  {
   "cell_type": "markdown",
   "metadata": {},
   "source": [
    "Проверим тип данных"
   ]
  },
  {
   "cell_type": "code",
   "execution_count": 7,
   "metadata": {},
   "outputs": [
    {
     "name": "stdout",
     "output_type": "stream",
     "text": [
      "<class 'pandas.core.frame.DataFrame'>\n",
      "RangeIndex: 244126 entries, 0 to 244125\n",
      "Data columns (total 4 columns):\n",
      " #   Column            Non-Null Count   Dtype \n",
      "---  ------            --------------   ----- \n",
      " 0   event_name        244126 non-null  object\n",
      " 1   device_id_hash    244126 non-null  int64 \n",
      " 2   event_time_stamp  244126 non-null  int64 \n",
      " 3   exp_id            244126 non-null  int64 \n",
      "dtypes: int64(3), object(1)\n",
      "memory usage: 7.5+ MB\n"
     ]
    }
   ],
   "source": [
    "logs_exp.info()"
   ]
  },
  {
   "cell_type": "markdown",
   "metadata": {},
   "source": [
    "Мне кажется, что в колонке  event_time_stamp должен стоять тип данных даты, но при его изменении не получилось добавить колонки с датой и временем, поэтому оставлю так, как есть."
   ]
  },
  {
   "cell_type": "markdown",
   "metadata": {},
   "source": [
    "Проверим наличие пропусков"
   ]
  },
  {
   "cell_type": "code",
   "execution_count": 8,
   "metadata": {},
   "outputs": [
    {
     "data": {
      "text/plain": [
       "event_name          0\n",
       "device_id_hash      0\n",
       "event_time_stamp    0\n",
       "exp_id              0\n",
       "dtype: int64"
      ]
     },
     "execution_count": 8,
     "metadata": {},
     "output_type": "execute_result"
    }
   ],
   "source": [
    "logs_exp.isna().sum()"
   ]
  },
  {
   "cell_type": "markdown",
   "metadata": {},
   "source": [
    "Пропуски отсутствуют"
   ]
  },
  {
   "cell_type": "markdown",
   "metadata": {},
   "source": [
    "Проверим на наличие явных дубликатов"
   ]
  },
  {
   "cell_type": "code",
   "execution_count": 9,
   "metadata": {},
   "outputs": [
    {
     "data": {
      "text/plain": [
       "413"
      ]
     },
     "execution_count": 9,
     "metadata": {},
     "output_type": "execute_result"
    }
   ],
   "source": [
    "logs_exp.duplicated().sum()"
   ]
  },
  {
   "cell_type": "code",
   "execution_count": 10,
   "metadata": {},
   "outputs": [],
   "source": [
    "logs_exp = logs_exp.drop_duplicates().reset_index(drop=True) "
   ]
  },
  {
   "cell_type": "code",
   "execution_count": 11,
   "metadata": {},
   "outputs": [
    {
     "data": {
      "text/plain": [
       "0"
      ]
     },
     "execution_count": 11,
     "metadata": {},
     "output_type": "execute_result"
    }
   ],
   "source": [
    "logs_exp.duplicated().sum()"
   ]
  },
  {
   "cell_type": "markdown",
   "metadata": {},
   "source": [
    "Добавим столбец даты и времени, а также отдельный столбец дат"
   ]
  },
  {
   "cell_type": "code",
   "execution_count": 12,
   "metadata": {},
   "outputs": [],
   "source": [
    "logs_exp['date_time'] = pd.to_datetime(logs_exp['event_time_stamp'], unit='s') \n",
    "logs_exp['date'] = logs_exp['date_time'].dt.date\n",
    "logs_exp['date'] = pd.to_datetime(logs_exp['date'])"
   ]
  },
  {
   "cell_type": "code",
   "execution_count": 13,
   "metadata": {},
   "outputs": [
    {
     "data": {
      "text/html": [
       "<div>\n",
       "<style scoped>\n",
       "    .dataframe tbody tr th:only-of-type {\n",
       "        vertical-align: middle;\n",
       "    }\n",
       "\n",
       "    .dataframe tbody tr th {\n",
       "        vertical-align: top;\n",
       "    }\n",
       "\n",
       "    .dataframe thead th {\n",
       "        text-align: right;\n",
       "    }\n",
       "</style>\n",
       "<table border=\"1\" class=\"dataframe\">\n",
       "  <thead>\n",
       "    <tr style=\"text-align: right;\">\n",
       "      <th></th>\n",
       "      <th>event_name</th>\n",
       "      <th>device_id_hash</th>\n",
       "      <th>event_time_stamp</th>\n",
       "      <th>exp_id</th>\n",
       "      <th>date_time</th>\n",
       "      <th>date</th>\n",
       "    </tr>\n",
       "  </thead>\n",
       "  <tbody>\n",
       "    <tr>\n",
       "      <th>0</th>\n",
       "      <td>MainScreenAppear</td>\n",
       "      <td>4575588528974610257</td>\n",
       "      <td>1564029816</td>\n",
       "      <td>246</td>\n",
       "      <td>2019-07-25 04:43:36</td>\n",
       "      <td>2019-07-25</td>\n",
       "    </tr>\n",
       "    <tr>\n",
       "      <th>1</th>\n",
       "      <td>MainScreenAppear</td>\n",
       "      <td>7416695313311560658</td>\n",
       "      <td>1564053102</td>\n",
       "      <td>246</td>\n",
       "      <td>2019-07-25 11:11:42</td>\n",
       "      <td>2019-07-25</td>\n",
       "    </tr>\n",
       "    <tr>\n",
       "      <th>2</th>\n",
       "      <td>PaymentScreenSuccessful</td>\n",
       "      <td>3518123091307005509</td>\n",
       "      <td>1564054127</td>\n",
       "      <td>248</td>\n",
       "      <td>2019-07-25 11:28:47</td>\n",
       "      <td>2019-07-25</td>\n",
       "    </tr>\n",
       "    <tr>\n",
       "      <th>3</th>\n",
       "      <td>CartScreenAppear</td>\n",
       "      <td>3518123091307005509</td>\n",
       "      <td>1564054127</td>\n",
       "      <td>248</td>\n",
       "      <td>2019-07-25 11:28:47</td>\n",
       "      <td>2019-07-25</td>\n",
       "    </tr>\n",
       "    <tr>\n",
       "      <th>4</th>\n",
       "      <td>PaymentScreenSuccessful</td>\n",
       "      <td>6217807653094995999</td>\n",
       "      <td>1564055322</td>\n",
       "      <td>248</td>\n",
       "      <td>2019-07-25 11:48:42</td>\n",
       "      <td>2019-07-25</td>\n",
       "    </tr>\n",
       "  </tbody>\n",
       "</table>\n",
       "</div>"
      ],
      "text/plain": [
       "                event_name       device_id_hash  event_time_stamp  exp_id  \\\n",
       "0         MainScreenAppear  4575588528974610257        1564029816     246   \n",
       "1         MainScreenAppear  7416695313311560658        1564053102     246   \n",
       "2  PaymentScreenSuccessful  3518123091307005509        1564054127     248   \n",
       "3         CartScreenAppear  3518123091307005509        1564054127     248   \n",
       "4  PaymentScreenSuccessful  6217807653094995999        1564055322     248   \n",
       "\n",
       "            date_time       date  \n",
       "0 2019-07-25 04:43:36 2019-07-25  \n",
       "1 2019-07-25 11:11:42 2019-07-25  \n",
       "2 2019-07-25 11:28:47 2019-07-25  \n",
       "3 2019-07-25 11:28:47 2019-07-25  \n",
       "4 2019-07-25 11:48:42 2019-07-25  "
      ]
     },
     "execution_count": 13,
     "metadata": {},
     "output_type": "execute_result"
    }
   ],
   "source": [
    "logs_exp.head()"
   ]
  },
  {
   "cell_type": "code",
   "execution_count": 14,
   "metadata": {},
   "outputs": [
    {
     "name": "stdout",
     "output_type": "stream",
     "text": [
      "<class 'pandas.core.frame.DataFrame'>\n",
      "RangeIndex: 243713 entries, 0 to 243712\n",
      "Data columns (total 6 columns):\n",
      " #   Column            Non-Null Count   Dtype         \n",
      "---  ------            --------------   -----         \n",
      " 0   event_name        243713 non-null  object        \n",
      " 1   device_id_hash    243713 non-null  int64         \n",
      " 2   event_time_stamp  243713 non-null  int64         \n",
      " 3   exp_id            243713 non-null  int64         \n",
      " 4   date_time         243713 non-null  datetime64[ns]\n",
      " 5   date              243713 non-null  datetime64[ns]\n",
      "dtypes: datetime64[ns](2), int64(3), object(1)\n",
      "memory usage: 11.2+ MB\n"
     ]
    }
   ],
   "source": [
    "logs_exp.info()"
   ]
  },
  {
   "cell_type": "code",
   "execution_count": 15,
   "metadata": {},
   "outputs": [
    {
     "data": {
      "text/html": [
       "<div>\n",
       "<style scoped>\n",
       "    .dataframe tbody tr th:only-of-type {\n",
       "        vertical-align: middle;\n",
       "    }\n",
       "\n",
       "    .dataframe tbody tr th {\n",
       "        vertical-align: top;\n",
       "    }\n",
       "\n",
       "    .dataframe thead th {\n",
       "        text-align: right;\n",
       "    }\n",
       "</style>\n",
       "<table border=\"1\" class=\"dataframe\">\n",
       "  <thead>\n",
       "    <tr style=\"text-align: right;\">\n",
       "      <th></th>\n",
       "      <th>event_name</th>\n",
       "      <th>device_id_hash</th>\n",
       "      <th>event_time_stamp</th>\n",
       "      <th>exp_id</th>\n",
       "      <th>date_time</th>\n",
       "      <th>date</th>\n",
       "    </tr>\n",
       "  </thead>\n",
       "  <tbody>\n",
       "    <tr>\n",
       "      <th>0</th>\n",
       "      <td>MainScreenAppear</td>\n",
       "      <td>4575588528974610257</td>\n",
       "      <td>1564029816</td>\n",
       "      <td>246</td>\n",
       "      <td>2019-07-25 04:43:36</td>\n",
       "      <td>2019-07-25</td>\n",
       "    </tr>\n",
       "    <tr>\n",
       "      <th>1</th>\n",
       "      <td>MainScreenAppear</td>\n",
       "      <td>7416695313311560658</td>\n",
       "      <td>1564053102</td>\n",
       "      <td>246</td>\n",
       "      <td>2019-07-25 11:11:42</td>\n",
       "      <td>2019-07-25</td>\n",
       "    </tr>\n",
       "    <tr>\n",
       "      <th>2</th>\n",
       "      <td>PaymentScreenSuccessful</td>\n",
       "      <td>3518123091307005509</td>\n",
       "      <td>1564054127</td>\n",
       "      <td>248</td>\n",
       "      <td>2019-07-25 11:28:47</td>\n",
       "      <td>2019-07-25</td>\n",
       "    </tr>\n",
       "    <tr>\n",
       "      <th>3</th>\n",
       "      <td>CartScreenAppear</td>\n",
       "      <td>3518123091307005509</td>\n",
       "      <td>1564054127</td>\n",
       "      <td>248</td>\n",
       "      <td>2019-07-25 11:28:47</td>\n",
       "      <td>2019-07-25</td>\n",
       "    </tr>\n",
       "    <tr>\n",
       "      <th>4</th>\n",
       "      <td>PaymentScreenSuccessful</td>\n",
       "      <td>6217807653094995999</td>\n",
       "      <td>1564055322</td>\n",
       "      <td>248</td>\n",
       "      <td>2019-07-25 11:48:42</td>\n",
       "      <td>2019-07-25</td>\n",
       "    </tr>\n",
       "  </tbody>\n",
       "</table>\n",
       "</div>"
      ],
      "text/plain": [
       "                event_name       device_id_hash  event_time_stamp  exp_id  \\\n",
       "0         MainScreenAppear  4575588528974610257        1564029816     246   \n",
       "1         MainScreenAppear  7416695313311560658        1564053102     246   \n",
       "2  PaymentScreenSuccessful  3518123091307005509        1564054127     248   \n",
       "3         CartScreenAppear  3518123091307005509        1564054127     248   \n",
       "4  PaymentScreenSuccessful  6217807653094995999        1564055322     248   \n",
       "\n",
       "            date_time       date  \n",
       "0 2019-07-25 04:43:36 2019-07-25  \n",
       "1 2019-07-25 11:11:42 2019-07-25  \n",
       "2 2019-07-25 11:28:47 2019-07-25  \n",
       "3 2019-07-25 11:28:47 2019-07-25  \n",
       "4 2019-07-25 11:48:42 2019-07-25  "
      ]
     },
     "execution_count": 15,
     "metadata": {},
     "output_type": "execute_result"
    }
   ],
   "source": [
    "logs_exp.head()"
   ]
  },
  {
   "cell_type": "markdown",
   "metadata": {},
   "source": [
    "Итак, в ходе подготовки данных к анализу, заменены наименования столбцов в соответствии с правилами, проверен тип данных, удалены дубликаты, пропускив датафрейме отсуствуют, а также добавлен столбец даты и времени, а также отдельный столбец дат."
   ]
  },
  {
   "cell_type": "markdown",
   "metadata": {},
   "source": [
    "## Изучим и проверим данные"
   ]
  },
  {
   "cell_type": "markdown",
   "metadata": {},
   "source": [
    "**Сколько всего событий в логе?**"
   ]
  },
  {
   "cell_type": "code",
   "execution_count": 16,
   "metadata": {},
   "outputs": [
    {
     "data": {
      "text/plain": [
       "243713"
      ]
     },
     "execution_count": 16,
     "metadata": {},
     "output_type": "execute_result"
    }
   ],
   "source": [
    "logs_exp['event_name'].value_counts().sum() "
   ]
  },
  {
   "cell_type": "code",
   "execution_count": 17,
   "metadata": {},
   "outputs": [
    {
     "data": {
      "text/plain": [
       "MainScreenAppear           119101\n",
       "OffersScreenAppear          46808\n",
       "CartScreenAppear            42668\n",
       "PaymentScreenSuccessful     34118\n",
       "Tutorial                     1018\n",
       "Name: event_name, dtype: int64"
      ]
     },
     "execution_count": 17,
     "metadata": {},
     "output_type": "execute_result"
    }
   ],
   "source": [
    "logs_exp['event_name'].value_counts()"
   ]
  },
  {
   "cell_type": "markdown",
   "metadata": {},
   "source": [
    "Общее количество событий 243713, наибольшее количество у MainScreenAppear (49%), наименьшее у Tutorial (4%)."
   ]
  },
  {
   "cell_type": "markdown",
   "metadata": {},
   "source": [
    "**Сколько всего пользователей в логе?**"
   ]
  },
  {
   "cell_type": "code",
   "execution_count": 18,
   "metadata": {},
   "outputs": [
    {
     "name": "stdout",
     "output_type": "stream",
     "text": [
      "Общее количество пользователей: 7551\n"
     ]
    }
   ],
   "source": [
    "print('Общее количество пользователей:',len(logs_exp['device_id_hash'].unique()))"
   ]
  },
  {
   "cell_type": "markdown",
   "metadata": {},
   "source": [
    "**Сколько в среднем событий приходится на пользователя?**"
   ]
  },
  {
   "cell_type": "code",
   "execution_count": 19,
   "metadata": {},
   "outputs": [],
   "source": [
    "event_user = round(logs_exp['event_name'].value_counts().sum() / (len(logs_exp['device_id_hash'].unique())), 2)"
   ]
  },
  {
   "cell_type": "code",
   "execution_count": 20,
   "metadata": {},
   "outputs": [
    {
     "name": "stdout",
     "output_type": "stream",
     "text": [
      "Среднее число событий, приходящихся на одного пользователя 32.28\n"
     ]
    }
   ],
   "source": [
    "print('Среднее число событий, приходящихся на одного пользователя', event_user)"
   ]
  },
  {
   "cell_type": "code",
   "execution_count": 21,
   "metadata": {},
   "outputs": [
    {
     "data": {
      "text/html": [
       "<div>\n",
       "<style scoped>\n",
       "    .dataframe tbody tr th:only-of-type {\n",
       "        vertical-align: middle;\n",
       "    }\n",
       "\n",
       "    .dataframe tbody tr th {\n",
       "        vertical-align: top;\n",
       "    }\n",
       "\n",
       "    .dataframe thead th {\n",
       "        text-align: right;\n",
       "    }\n",
       "</style>\n",
       "<table border=\"1\" class=\"dataframe\">\n",
       "  <thead>\n",
       "    <tr style=\"text-align: right;\">\n",
       "      <th></th>\n",
       "      <th>device_id_hash</th>\n",
       "      <th>event_time_stamp</th>\n",
       "      <th>exp_id</th>\n",
       "    </tr>\n",
       "  </thead>\n",
       "  <tbody>\n",
       "    <tr>\n",
       "      <th>count</th>\n",
       "      <td>2.437130e+05</td>\n",
       "      <td>2.437130e+05</td>\n",
       "      <td>243713.000000</td>\n",
       "    </tr>\n",
       "    <tr>\n",
       "      <th>mean</th>\n",
       "      <td>4.627963e+18</td>\n",
       "      <td>1.564914e+09</td>\n",
       "      <td>247.022161</td>\n",
       "    </tr>\n",
       "    <tr>\n",
       "      <th>std</th>\n",
       "      <td>2.642723e+18</td>\n",
       "      <td>1.771388e+05</td>\n",
       "      <td>0.824420</td>\n",
       "    </tr>\n",
       "    <tr>\n",
       "      <th>min</th>\n",
       "      <td>6.888747e+15</td>\n",
       "      <td>1.564030e+09</td>\n",
       "      <td>246.000000</td>\n",
       "    </tr>\n",
       "    <tr>\n",
       "      <th>25%</th>\n",
       "      <td>2.372212e+18</td>\n",
       "      <td>1.564757e+09</td>\n",
       "      <td>246.000000</td>\n",
       "    </tr>\n",
       "    <tr>\n",
       "      <th>50%</th>\n",
       "      <td>4.623192e+18</td>\n",
       "      <td>1.564919e+09</td>\n",
       "      <td>247.000000</td>\n",
       "    </tr>\n",
       "    <tr>\n",
       "      <th>75%</th>\n",
       "      <td>6.932517e+18</td>\n",
       "      <td>1.565075e+09</td>\n",
       "      <td>248.000000</td>\n",
       "    </tr>\n",
       "    <tr>\n",
       "      <th>max</th>\n",
       "      <td>9.222603e+18</td>\n",
       "      <td>1.565213e+09</td>\n",
       "      <td>248.000000</td>\n",
       "    </tr>\n",
       "  </tbody>\n",
       "</table>\n",
       "</div>"
      ],
      "text/plain": [
       "       device_id_hash  event_time_stamp         exp_id\n",
       "count    2.437130e+05      2.437130e+05  243713.000000\n",
       "mean     4.627963e+18      1.564914e+09     247.022161\n",
       "std      2.642723e+18      1.771388e+05       0.824420\n",
       "min      6.888747e+15      1.564030e+09     246.000000\n",
       "25%      2.372212e+18      1.564757e+09     246.000000\n",
       "50%      4.623192e+18      1.564919e+09     247.000000\n",
       "75%      6.932517e+18      1.565075e+09     248.000000\n",
       "max      9.222603e+18      1.565213e+09     248.000000"
      ]
     },
     "execution_count": 21,
     "metadata": {},
     "output_type": "execute_result"
    }
   ],
   "source": [
    "logs_exp.describe()"
   ]
  },
  {
   "cell_type": "markdown",
   "metadata": {},
   "source": [
    "Все пользователи совершают примерно одинаковое количество событий"
   ]
  },
  {
   "cell_type": "markdown",
   "metadata": {},
   "source": [
    "**Максимальная и минимальная дата события**"
   ]
  },
  {
   "cell_type": "code",
   "execution_count": 22,
   "metadata": {},
   "outputs": [
    {
     "name": "stdout",
     "output_type": "stream",
     "text": [
      "Максимальная дата события: 2019-07-25 00:00:00\n",
      "Минимальная дата события: 2019-08-07 00:00:00\n"
     ]
    }
   ],
   "source": [
    "print('Максимальная дата события:', logs_exp['date'].min())\n",
    "      \n",
    "print('Минимальная дата события:', logs_exp['date'].max())"
   ]
  },
  {
   "cell_type": "markdown",
   "metadata": {},
   "source": [
    "Данными за какой период мы располагаем?"
   ]
  },
  {
   "cell_type": "code",
   "execution_count": 23,
   "metadata": {},
   "outputs": [
    {
     "name": "stdout",
     "output_type": "stream",
     "text": [
      "Период исследуемых данных 13 days 16:31:41\n"
     ]
    }
   ],
   "source": [
    "print('Период исследуемых данных',logs_exp['date_time'].max()-logs_exp['date_time'].min())"
   ]
  },
  {
   "cell_type": "markdown",
   "metadata": {},
   "source": [
    "Построим гистограмму по дате и количетсву событий"
   ]
  },
  {
   "cell_type": "code",
   "execution_count": 24,
   "metadata": {},
   "outputs": [
    {
     "data": {
      "image/png": "[encoded data removed]",
      "text/plain": [
       "<Figure size 1080x216 with 1 Axes>"
      ]
     },
     "metadata": {
      "needs_background": "light"
     },
     "output_type": "display_data"
    }
   ],
   "source": [
    "logs_exp['date_time'].hist(bins = 250, figsize = (15,3))\n",
    "plt.title('Гистограмма по дате и количеству событий')\n",
    "plt.xlabel('Дата')\n",
    "plt.ylabel('Количество событий')\n",
    "plt.xticks(rotation=45)\n",
    "plt.show()"
   ]
  },
  {
   "cell_type": "markdown",
   "metadata": {},
   "source": [
    "По графику видно, что наиболее полные данные с 1 августа 2019 года, до этой даты активность практически отсутствует. Поэтому для анализа будем использовать данные с 1 по 7 августа 2019 г."
   ]
  },
  {
   "cell_type": "markdown",
   "metadata": {},
   "source": [
    "Отбросим более старые данные"
   ]
  },
  {
   "cell_type": "code",
   "execution_count": 25,
   "metadata": {},
   "outputs": [],
   "source": [
    "logs_new = logs_exp.query('date_time >= \"2019-08-01\"')"
   ]
  },
  {
   "cell_type": "markdown",
   "metadata": {},
   "source": [
    "Рассчитаем потерю событий"
   ]
  },
  {
   "cell_type": "code",
   "execution_count": 26,
   "metadata": {},
   "outputs": [
    {
     "data": {
      "text/plain": [
       "2826"
      ]
     },
     "execution_count": 26,
     "metadata": {},
     "output_type": "execute_result"
    }
   ],
   "source": [
    "lost = logs_exp['event_name'].value_counts().sum() - logs_new['event_name'].value_counts().sum()\n",
    "lost"
   ]
  },
  {
   "cell_type": "markdown",
   "metadata": {},
   "source": [
    "Рассчитаем долю потери событий"
   ]
  },
  {
   "cell_type": "code",
   "execution_count": 27,
   "metadata": {},
   "outputs": [
    {
     "name": "stdout",
     "output_type": "stream",
     "text": [
      "Доля потери событий 1.2 %\n"
     ]
    }
   ],
   "source": [
    "lost_ratio = 100 - (logs_new['event_name'].value_counts().sum() / logs_exp['event_name'].value_counts().sum() * 100)\n",
    "print('Доля потери событий', lost_ratio.round(1), '%')"
   ]
  },
  {
   "cell_type": "markdown",
   "metadata": {},
   "source": [
    "Рассчитаем потерю пользователей"
   ]
  },
  {
   "cell_type": "code",
   "execution_count": 28,
   "metadata": {},
   "outputs": [
    {
     "data": {
      "text/plain": [
       "17"
      ]
     },
     "execution_count": 28,
     "metadata": {},
     "output_type": "execute_result"
    }
   ],
   "source": [
    "lost_user = len(logs_exp['device_id_hash'].unique()) - len(logs_new ['device_id_hash'].unique())\n",
    "lost_user"
   ]
  },
  {
   "cell_type": "markdown",
   "metadata": {},
   "source": [
    "Рассчитаем удельный вес потерь пользователей"
   ]
  },
  {
   "cell_type": "code",
   "execution_count": 29,
   "metadata": {},
   "outputs": [
    {
     "name": "stdout",
     "output_type": "stream",
     "text": [
      "Удельный вес потерь пользователей: 0.2 %\n"
     ]
    }
   ],
   "source": [
    "lost_user_ratio = 100 - (len(logs_new['device_id_hash'].unique()) / len(logs_exp['device_id_hash'].unique()) * 100)\n",
    "print('Удельный вес потерь пользователей:', round(lost_user_ratio, 1), '%')"
   ]
  },
  {
   "cell_type": "markdown",
   "metadata": {},
   "source": [
    "Проверим наличие пользователей из трёх экспериментальных групп"
   ]
  },
  {
   "cell_type": "code",
   "execution_count": 30,
   "metadata": {},
   "outputs": [
    {
     "data": {
      "text/html": [
       "<div>\n",
       "<style scoped>\n",
       "    .dataframe tbody tr th:only-of-type {\n",
       "        vertical-align: middle;\n",
       "    }\n",
       "\n",
       "    .dataframe tbody tr th {\n",
       "        vertical-align: top;\n",
       "    }\n",
       "\n",
       "    .dataframe thead th {\n",
       "        text-align: right;\n",
       "    }\n",
       "</style>\n",
       "<table border=\"1\" class=\"dataframe\">\n",
       "  <thead>\n",
       "    <tr style=\"text-align: right;\">\n",
       "      <th></th>\n",
       "      <th>device_id_hash</th>\n",
       "    </tr>\n",
       "    <tr>\n",
       "      <th>exp_id</th>\n",
       "      <th></th>\n",
       "    </tr>\n",
       "  </thead>\n",
       "  <tbody>\n",
       "    <tr>\n",
       "      <th>246</th>\n",
       "      <td>79302</td>\n",
       "    </tr>\n",
       "    <tr>\n",
       "      <th>247</th>\n",
       "      <td>77022</td>\n",
       "    </tr>\n",
       "    <tr>\n",
       "      <th>248</th>\n",
       "      <td>84563</td>\n",
       "    </tr>\n",
       "  </tbody>\n",
       "</table>\n",
       "</div>"
      ],
      "text/plain": [
       "        device_id_hash\n",
       "exp_id                \n",
       "246              79302\n",
       "247              77022\n",
       "248              84563"
      ]
     },
     "execution_count": 30,
     "metadata": {},
     "output_type": "execute_result"
    }
   ],
   "source": [
    "logs_new.pivot_table(index = 'exp_id', values = 'device_id_hash', aggfunc = 'count')"
   ]
  },
  {
   "cell_type": "markdown",
   "metadata": {},
   "source": [
    "Итак, в ходе расчетов. мы получили следующие значения:\n",
    "- Количество событий в логе: 243713;\n",
    "\n",
    "- Количство уникальных пользователей: 7551;\n",
    "\n",
    "- Количество событий в среднем на одного пользователя: 32.28;\n",
    "\n",
    "- Определили минимальную и максимальную дату событий: 2019-07-25 и 2019-08-07 соответственно, однако полные данные оказались лишь 2019-08-01 по 2019-08-07;\n",
    "\n",
    "Обросили неполные данные и посчитали потери:\n",
    "\n",
    "- потеря событий всего 2826 из 243713 (1,2%)\n",
    "\n",
    "- потеря пользователей 17 из 7551 (0,2%)"
   ]
  },
  {
   "cell_type": "markdown",
   "metadata": {},
   "source": [
    "## Изучим воронку событий"
   ]
  },
  {
   "cell_type": "markdown",
   "metadata": {},
   "source": [
    "**Посмотрим, какие события есть в логах, как часто они встречаются. Отсортируем события по частоте**"
   ]
  },
  {
   "cell_type": "code",
   "execution_count": 31,
   "metadata": {},
   "outputs": [
    {
     "data": {
      "text/html": [
       "<div>\n",
       "<style scoped>\n",
       "    .dataframe tbody tr th:only-of-type {\n",
       "        vertical-align: middle;\n",
       "    }\n",
       "\n",
       "    .dataframe tbody tr th {\n",
       "        vertical-align: top;\n",
       "    }\n",
       "\n",
       "    .dataframe thead th {\n",
       "        text-align: right;\n",
       "    }\n",
       "</style>\n",
       "<table border=\"1\" class=\"dataframe\">\n",
       "  <thead>\n",
       "    <tr style=\"text-align: right;\">\n",
       "      <th></th>\n",
       "      <th>count</th>\n",
       "    </tr>\n",
       "    <tr>\n",
       "      <th>event_name</th>\n",
       "      <th></th>\n",
       "    </tr>\n",
       "  </thead>\n",
       "  <tbody>\n",
       "    <tr>\n",
       "      <th>MainScreenAppear</th>\n",
       "      <td>117328</td>\n",
       "    </tr>\n",
       "    <tr>\n",
       "      <th>OffersScreenAppear</th>\n",
       "      <td>46333</td>\n",
       "    </tr>\n",
       "    <tr>\n",
       "      <th>CartScreenAppear</th>\n",
       "      <td>42303</td>\n",
       "    </tr>\n",
       "    <tr>\n",
       "      <th>PaymentScreenSuccessful</th>\n",
       "      <td>33918</td>\n",
       "    </tr>\n",
       "    <tr>\n",
       "      <th>Tutorial</th>\n",
       "      <td>1005</td>\n",
       "    </tr>\n",
       "  </tbody>\n",
       "</table>\n",
       "</div>"
      ],
      "text/plain": [
       "                          count\n",
       "event_name                     \n",
       "MainScreenAppear         117328\n",
       "OffersScreenAppear        46333\n",
       "CartScreenAppear          42303\n",
       "PaymentScreenSuccessful   33918\n",
       "Tutorial                   1005"
      ]
     },
     "execution_count": 31,
     "metadata": {},
     "output_type": "execute_result"
    }
   ],
   "source": [
    "logs_new.groupby('event_name').agg(count = ('exp_id', 'count')).sort_values(by = 'count', ascending=False)"
   ]
  },
  {
   "cell_type": "markdown",
   "metadata": {},
   "source": [
    "**Посчитаем, сколько пользователей совершали каждое из этих событий. Отсортируем события по числу пользователей**. \n",
    "\n",
    "**Посчитаем долю пользователей, которые хоть раз совершали событие**"
   ]
  },
  {
   "cell_type": "code",
   "execution_count": 32,
   "metadata": {},
   "outputs": [
    {
     "data": {
      "text/html": [
       "<div>\n",
       "<style scoped>\n",
       "    .dataframe tbody tr th:only-of-type {\n",
       "        vertical-align: middle;\n",
       "    }\n",
       "\n",
       "    .dataframe tbody tr th {\n",
       "        vertical-align: top;\n",
       "    }\n",
       "\n",
       "    .dataframe thead th {\n",
       "        text-align: right;\n",
       "    }\n",
       "</style>\n",
       "<table border=\"1\" class=\"dataframe\">\n",
       "  <thead>\n",
       "    <tr style=\"text-align: right;\">\n",
       "      <th></th>\n",
       "      <th>event_name</th>\n",
       "      <th>device_id_hash</th>\n",
       "      <th>ratio</th>\n",
       "    </tr>\n",
       "  </thead>\n",
       "  <tbody>\n",
       "    <tr>\n",
       "      <th>0</th>\n",
       "      <td>MainScreenAppear</td>\n",
       "      <td>7419</td>\n",
       "      <td>98.47</td>\n",
       "    </tr>\n",
       "    <tr>\n",
       "      <th>1</th>\n",
       "      <td>OffersScreenAppear</td>\n",
       "      <td>4593</td>\n",
       "      <td>60.96</td>\n",
       "    </tr>\n",
       "    <tr>\n",
       "      <th>2</th>\n",
       "      <td>CartScreenAppear</td>\n",
       "      <td>3734</td>\n",
       "      <td>49.56</td>\n",
       "    </tr>\n",
       "    <tr>\n",
       "      <th>3</th>\n",
       "      <td>PaymentScreenSuccessful</td>\n",
       "      <td>3539</td>\n",
       "      <td>46.97</td>\n",
       "    </tr>\n",
       "    <tr>\n",
       "      <th>4</th>\n",
       "      <td>Tutorial</td>\n",
       "      <td>840</td>\n",
       "      <td>11.15</td>\n",
       "    </tr>\n",
       "  </tbody>\n",
       "</table>\n",
       "</div>"
      ],
      "text/plain": [
       "                event_name  device_id_hash  ratio\n",
       "0         MainScreenAppear            7419  98.47\n",
       "1       OffersScreenAppear            4593  60.96\n",
       "2         CartScreenAppear            3734  49.56\n",
       "3  PaymentScreenSuccessful            3539  46.97\n",
       "4                 Tutorial             840  11.15"
      ]
     },
     "execution_count": 32,
     "metadata": {},
     "output_type": "execute_result"
    }
   ],
   "source": [
    "users_count = logs_new.groupby('event_name')['device_id_hash'].nunique().sort_values(ascending=False).to_frame().reset_index()\n",
    "users_count['ratio'] = round(users_count['device_id_hash'] / logs_new['device_id_hash'].nunique() * 100, 2)\n",
    "users_count"
   ]
  },
  {
   "cell_type": "code",
   "execution_count": 33,
   "metadata": {},
   "outputs": [],
   "source": [
    "logs_new = logs_new.query('event_name != \"Tutorial\"')"
   ]
  },
  {
   "cell_type": "code",
   "execution_count": 34,
   "metadata": {},
   "outputs": [
    {
     "data": {
      "text/plain": [
       "array(['MainScreenAppear', 'OffersScreenAppear', 'CartScreenAppear',\n",
       "       'PaymentScreenSuccessful'], dtype=object)"
      ]
     },
     "execution_count": 34,
     "metadata": {},
     "output_type": "execute_result"
    }
   ],
   "source": [
    "logs_new['event_name'].unique()"
   ]
  },
  {
   "cell_type": "markdown",
   "metadata": {},
   "source": [
    "По полученным данным можно сделать вывод, что чаще всего пользователи видят появление главного экрана - 98,5%. Реже всего пользователи видели инструкцию по пользованию приложением. Разница между переходом в корзину и экраном успешной оплаты составляет 2,6%. "
   ]
  },
  {
   "cell_type": "markdown",
   "metadata": {},
   "source": [
    "**Предположим, в каком порядке происходят события. Все ли они выстраиваются в последовательную цепочку?**"
   ]
  },
  {
   "cell_type": "markdown",
   "metadata": {},
   "source": [
    "Итак, предположим, что события должны идти в этом порядке:\n",
    "\n",
    "\n",
    "1) MainScreenAppear - появление главного экрана;\n",
    "\n",
    "2) OffersScreenAppear - предложение товаров;\n",
    "\n",
    "3) CartScreenAppear - переход в корзину;\n",
    "\n",
    "4) PaymentScreenSuccessful - экран успешной оплаты заказа.\n",
    "\n",
    "Событие Tutorial в нашем исследовании случается реже остальных. Возможно, пользователи не любят читать инструкцию, либо она находится где-то глубоко в настройках. В дальнейшем исследовании данное событие участвовать не будет."
   ]
  },
  {
   "cell_type": "markdown",
   "metadata": {},
   "source": [
    "**Расcчитаем, долю пользователей, которая проходит на следующий шаг воронки (от числа пользователей на предыдущем). То есть для последовательности событий A → B → C посчитаем отношение числа пользователей с событием B к количеству пользователей с событием A, а также отношение числа пользователей с событием C к количеству пользователей с событием B.**"
   ]
  },
  {
   "cell_type": "code",
   "execution_count": 35,
   "metadata": {},
   "outputs": [
    {
     "data": {
      "text/html": [
       "<div>\n",
       "<style scoped>\n",
       "    .dataframe tbody tr th:only-of-type {\n",
       "        vertical-align: middle;\n",
       "    }\n",
       "\n",
       "    .dataframe tbody tr th {\n",
       "        vertical-align: top;\n",
       "    }\n",
       "\n",
       "    .dataframe thead th {\n",
       "        text-align: right;\n",
       "    }\n",
       "</style>\n",
       "<table border=\"1\" class=\"dataframe\">\n",
       "  <thead>\n",
       "    <tr style=\"text-align: right;\">\n",
       "      <th></th>\n",
       "      <th>event_name</th>\n",
       "      <th>device_id_hash</th>\n",
       "    </tr>\n",
       "  </thead>\n",
       "  <tbody>\n",
       "    <tr>\n",
       "      <th>0</th>\n",
       "      <td>MainScreenAppear</td>\n",
       "      <td>7419</td>\n",
       "    </tr>\n",
       "    <tr>\n",
       "      <th>1</th>\n",
       "      <td>OffersScreenAppear</td>\n",
       "      <td>4593</td>\n",
       "    </tr>\n",
       "    <tr>\n",
       "      <th>2</th>\n",
       "      <td>CartScreenAppear</td>\n",
       "      <td>3734</td>\n",
       "    </tr>\n",
       "    <tr>\n",
       "      <th>3</th>\n",
       "      <td>PaymentScreenSuccessful</td>\n",
       "      <td>3539</td>\n",
       "    </tr>\n",
       "  </tbody>\n",
       "</table>\n",
       "</div>"
      ],
      "text/plain": [
       "                event_name  device_id_hash\n",
       "0         MainScreenAppear            7419\n",
       "1       OffersScreenAppear            4593\n",
       "2         CartScreenAppear            3734\n",
       "3  PaymentScreenSuccessful            3539"
      ]
     },
     "execution_count": 35,
     "metadata": {},
     "output_type": "execute_result"
    }
   ],
   "source": [
    "us_count = logs_new.groupby('event_name')['device_id_hash'].nunique().sort_values(ascending=False).reset_index()\n",
    "us_count\n"
   ]
  },
  {
   "cell_type": "code",
   "execution_count": 36,
   "metadata": {},
   "outputs": [
    {
     "data": {
      "text/html": [
       "<div>\n",
       "<style scoped>\n",
       "    .dataframe tbody tr th:only-of-type {\n",
       "        vertical-align: middle;\n",
       "    }\n",
       "\n",
       "    .dataframe tbody tr th {\n",
       "        vertical-align: top;\n",
       "    }\n",
       "\n",
       "    .dataframe thead th {\n",
       "        text-align: right;\n",
       "    }\n",
       "</style>\n",
       "<table border=\"1\" class=\"dataframe\">\n",
       "  <thead>\n",
       "    <tr style=\"text-align: right;\">\n",
       "      <th></th>\n",
       "      <th>event_name</th>\n",
       "      <th>device_id_hash</th>\n",
       "      <th>Кронверсия</th>\n",
       "    </tr>\n",
       "  </thead>\n",
       "  <tbody>\n",
       "    <tr>\n",
       "      <th>0</th>\n",
       "      <td>MainScreenAppear</td>\n",
       "      <td>7419</td>\n",
       "      <td>NaN</td>\n",
       "    </tr>\n",
       "    <tr>\n",
       "      <th>1</th>\n",
       "      <td>OffersScreenAppear</td>\n",
       "      <td>4593</td>\n",
       "      <td>61.91</td>\n",
       "    </tr>\n",
       "    <tr>\n",
       "      <th>2</th>\n",
       "      <td>CartScreenAppear</td>\n",
       "      <td>3734</td>\n",
       "      <td>81.30</td>\n",
       "    </tr>\n",
       "    <tr>\n",
       "      <th>3</th>\n",
       "      <td>PaymentScreenSuccessful</td>\n",
       "      <td>3539</td>\n",
       "      <td>94.78</td>\n",
       "    </tr>\n",
       "  </tbody>\n",
       "</table>\n",
       "</div>"
      ],
      "text/plain": [
       "                event_name  device_id_hash  Кронверсия\n",
       "0         MainScreenAppear            7419         NaN\n",
       "1       OffersScreenAppear            4593       61.91\n",
       "2         CartScreenAppear            3734       81.30\n",
       "3  PaymentScreenSuccessful            3539       94.78"
      ]
     },
     "execution_count": 36,
     "metadata": {},
     "output_type": "execute_result"
    }
   ],
   "source": [
    "us_count['Кронверсия'] = (us_count['device_id_hash'] / us_count['device_id_hash'].shift(1) * 100).round(2)\n",
    "us_count"
   ]
  },
  {
   "cell_type": "markdown",
   "metadata": {},
   "source": [
    "Первый шаг имеет значение Nan так как для него конверсия не рассчитывется."
   ]
  },
  {
   "cell_type": "markdown",
   "metadata": {},
   "source": [
    "**На каком шаге теряете больше всего пользователей?**\n",
    "\n",
    "**Какая доля пользователей доходит от первого события до оплаты?**"
   ]
  },
  {
   "cell_type": "markdown",
   "metadata": {},
   "source": [
    "Из результатов расчета можно сказать, что наиболее большое количество пользователей теряется с этапа MainScreenAppear (Главный экран) до OffersScreenAppear (Появление экрана предложений) - 61%, этап Tutorial я не буду использовать при наблюдении, поэтому с этапа просмотра главного экрана (MainScreenAppear) до этапа оплаты (PaymentScreenSuccessful) доходит только 29%  пользователей. Возможно, это связано с тем, что пользователи проходят мимо инструкции."
   ]
  },
  {
   "cell_type": "markdown",
   "metadata": {},
   "source": [
    "В ходе изучения воронки событий выявлено:\n",
    "    \n",
    "- Как часто встречаются события в логе:\n",
    "\n",
    "MainScreenAppear - 117328 раз;\n",
    "\n",
    "OffersScreenAppear - 46333 раза;\n",
    "\n",
    "CartScreenAppear - 42303 раза;\n",
    "\n",
    "PaymentScreenSuccessful - 33918 раз.\n",
    "\n",
    "\n",
    "- Посчитали, сколько пользователей совершали каждое из этих событий и долю пользователей, которые хоть раз совершали событие:\n",
    "\n",
    "MainScreenAppear - 7419 пользователей (98.47%);\n",
    "\n",
    "OffersScreenAppear - 4593 пользователей (60.96%);\n",
    "\n",
    "СartScreenAppear - 3734 пользователей (49.56%);\n",
    "\n",
    "PaymentScreenSuccessful - 3539 пользователей (46.97%).\n",
    "\n",
    "\n",
    "- Предположили, в каком порядке происходят события:\n",
    "\n",
    "просмотр руководства пользования приложением (Tutorial);\n",
    "\n",
    "открытие главной страницы приложения(MainScreenAppear);\n",
    "\n",
    "выбор товара в каталоге (OffersScreenAppear);\n",
    "\n",
    "добавление товаров в корзину(CartScreenAppear);\n",
    "\n",
    "оплата (PaymentScreenSuccessful).\n",
    "\n",
    "По воронке событий посчитали, какая доля пользователей проходит на следующий шаг воронки (от числа пользователей на предыдущем):\n",
    "\n",
    "на шаге открытия главной страницы приложения(MainScreenAppear) - 7419 пользователей;\n",
    "\n",
    "до шага \"выбор товара в каталоге (OffersScreenAppear)\" доходит 4593 пользователей, доля от предыдущего шага 61,9 %;\n",
    "\n",
    "до шага \"добавление товаров в корзину(CartScreenAppear)\" доходит 37343 пользователей, доля от предыдущего шага 81,3 %;\n",
    "\n",
    "до шага \"оплата (PaymentScreenSuccessful)\" доходит 3539, доля от предыдущего шага 94,8 %.\n",
    "\n",
    "Определили, что больше всего пользователей теряется на первом шаге: доля оплативших товар от тех кто дошел до просмотра корзины  38,1 %.\n",
    "\n",
    "Доля пользователей прошедших от первого события до оплаты 47,7 %."
   ]
  },
  {
   "cell_type": "markdown",
   "metadata": {},
   "source": [
    "## Изучим результаты эксперимента"
   ]
  },
  {
   "cell_type": "markdown",
   "metadata": {},
   "source": [
    "**Сколько пользователей в каждой экспериментальной группе?**"
   ]
  },
  {
   "cell_type": "markdown",
   "metadata": {},
   "source": [
    "Сгруппируем данные для посчета количества пользователей в каждой группе."
   ]
  },
  {
   "cell_type": "code",
   "execution_count": 37,
   "metadata": {},
   "outputs": [
    {
     "data": {
      "text/plain": [
       "exp_id\n",
       "246    2483\n",
       "247    2512\n",
       "248    2535\n",
       "Name: device_id_hash, dtype: int64"
      ]
     },
     "execution_count": 37,
     "metadata": {},
     "output_type": "execute_result"
    }
   ],
   "source": [
    "logs_new.groupby('exp_id')['device_id_hash'].nunique()"
   ]
  },
  {
   "cell_type": "markdown",
   "metadata": {},
   "source": [
    "Количество пользователей почти совпадает в каждой группе, небольшая разница не должна повлиять на результаты исследования."
   ]
  },
  {
   "cell_type": "markdown",
   "metadata": {},
   "source": [
    "**Есть 2 контрольные группы для А/А-эксперимента, чтобы проверить корректность всех механизмов и расчётов. Проверим, находят ли статистические критерии разницу между выборками 246 и 247**"
   ]
  },
  {
   "cell_type": "markdown",
   "metadata": {},
   "source": [
    "Создадим отдельные датасеты с группами"
   ]
  },
  {
   "cell_type": "code",
   "execution_count": 38,
   "metadata": {},
   "outputs": [],
   "source": [
    "ex_group_246 = logs_new.query('exp_id == 246')\n",
    "ex_group_247 = logs_new.query('exp_id == 247')\n",
    "ex_group_248 = logs_new.query('exp_id == 248')"
   ]
  },
  {
   "cell_type": "markdown",
   "metadata": {},
   "source": [
    "Найдем разницу между выборкам 246 и 247"
   ]
  },
  {
   "cell_type": "code",
   "execution_count": 39,
   "metadata": {},
   "outputs": [
    {
     "name": "stdout",
     "output_type": "stream",
     "text": [
      "Разница между выборками 246 и 247 - 1.15%\n"
     ]
    }
   ],
   "source": [
    "group_246 = logs_new.query('exp_id == 246')['device_id_hash'].nunique()\n",
    "group_247 = logs_new.query('exp_id == 247')['device_id_hash'].nunique()\n",
    "ratio = 1 - group_246 / group_247\n",
    "print('Разница между выборками 246 и 247 - {:.2%}'.format(ratio))\n"
   ]
  },
  {
   "cell_type": "markdown",
   "metadata": {},
   "source": [
    "Разница между выборками незначительная"
   ]
  },
  {
   "cell_type": "markdown",
   "metadata": {},
   "source": [
    "Сгруппируем данные"
   ]
  },
  {
   "cell_type": "code",
   "execution_count": 40,
   "metadata": {
    "scrolled": true
   },
   "outputs": [
    {
     "data": {
      "text/html": [
       "<style  type=\"text/css\" >\n",
       "#T_c7100_row0_col0,#T_c7100_row0_col1,#T_c7100_row0_col2{\n",
       "            background-color:  yellow;\n",
       "        }</style><table id=\"T_c7100_\" ><thead>    <tr>        <th class=\"index_name level0\" >exp_id</th>        <th class=\"col_heading level0 col0\" >246</th>        <th class=\"col_heading level0 col1\" >247</th>        <th class=\"col_heading level0 col2\" >248</th>    </tr>    <tr>        <th class=\"index_name level0\" >event_name</th>        <th class=\"blank\" ></th>        <th class=\"blank\" ></th>        <th class=\"blank\" ></th>    </tr></thead><tbody>\n",
       "                <tr>\n",
       "                        <th id=\"T_c7100_level0_row0\" class=\"row_heading level0 row0\" >MainScreenAppear</th>\n",
       "                        <td id=\"T_c7100_row0_col0\" class=\"data row0 col0\" >2450</td>\n",
       "                        <td id=\"T_c7100_row0_col1\" class=\"data row0 col1\" >2476</td>\n",
       "                        <td id=\"T_c7100_row0_col2\" class=\"data row0 col2\" >2493</td>\n",
       "            </tr>\n",
       "            <tr>\n",
       "                        <th id=\"T_c7100_level0_row1\" class=\"row_heading level0 row1\" >OffersScreenAppear</th>\n",
       "                        <td id=\"T_c7100_row1_col0\" class=\"data row1 col0\" >1542</td>\n",
       "                        <td id=\"T_c7100_row1_col1\" class=\"data row1 col1\" >1520</td>\n",
       "                        <td id=\"T_c7100_row1_col2\" class=\"data row1 col2\" >1531</td>\n",
       "            </tr>\n",
       "            <tr>\n",
       "                        <th id=\"T_c7100_level0_row2\" class=\"row_heading level0 row2\" >CartScreenAppear</th>\n",
       "                        <td id=\"T_c7100_row2_col0\" class=\"data row2 col0\" >1266</td>\n",
       "                        <td id=\"T_c7100_row2_col1\" class=\"data row2 col1\" >1238</td>\n",
       "                        <td id=\"T_c7100_row2_col2\" class=\"data row2 col2\" >1230</td>\n",
       "            </tr>\n",
       "            <tr>\n",
       "                        <th id=\"T_c7100_level0_row3\" class=\"row_heading level0 row3\" >PaymentScreenSuccessful</th>\n",
       "                        <td id=\"T_c7100_row3_col0\" class=\"data row3 col0\" >1200</td>\n",
       "                        <td id=\"T_c7100_row3_col1\" class=\"data row3 col1\" >1158</td>\n",
       "                        <td id=\"T_c7100_row3_col2\" class=\"data row3 col2\" >1181</td>\n",
       "            </tr>\n",
       "    </tbody></table>"
      ],
      "text/plain": [
       "<pandas.io.formats.style.Styler at 0x7fc41400b3d0>"
      ]
     },
     "execution_count": 40,
     "metadata": {},
     "output_type": "execute_result"
    }
   ],
   "source": [
    "group = logs_new.pivot_table(index='event_name', values='device_id_hash', columns='exp_id',aggfunc=lambda x: len(x.unique()))\n",
    "\n",
    "group = group.sort_values(by=246, ascending=False)\n",
    "group.style.highlight_max()"
   ]
  },
  {
   "cell_type": "markdown",
   "metadata": {},
   "source": [
    "**Выберем самое популярное событие. Посчитаем число пользователей, совершивших это событие в каждой из контрольных групп. Посчитаем долю пользователей, совершивших это событие. Проверьте, будет ли отличие между группами статистически достоверным. Проделайте то же самое для всех других событий (удобно обернуть проверку в отдельную функцию). Можно ли сказать, что разбиение на группы работает корректно?**"
   ]
  },
  {
   "cell_type": "markdown",
   "metadata": {},
   "source": [
    "MainScreenAppear самое популярное событие. Создадим функцию для определения статистической значимости для каждого шага воронки.\n",
    "Проверим данное событие между группами 246 и 247."
   ]
  },
  {
   "cell_type": "markdown",
   "metadata": {},
   "source": [
    "Сформулируем гипотезы:\n",
    "\n",
    "Нулевая гипотеза: Между долями статистической значимой разницы нет, поведение групп не отличается;\n",
    "\n",
    "Альтернативная гипотеза: Между долями статистическая значимая разница есть, поведение групп отличается."
   ]
  },
  {
   "cell_type": "code",
   "execution_count": 41,
   "metadata": {},
   "outputs": [
    {
     "name": "stdout",
     "output_type": "stream",
     "text": [
      "p-значение:  0.7526703436483038\n",
      "Не получилось отвергнуть нулевую гипотезу, нет оснований считать доли разными\n"
     ]
    }
   ],
   "source": [
    "#критический уровень статистической значимости\n",
    "alpha = 0.05\n",
    "    \n",
    "#количсетво уникальных пользователей совершивших событие в каждой группе \n",
    "un_users_event = np.array([ex_group_246[ex_group_246['event_name'] == 'MainScreenAppear']['device_id_hash'].\\\n",
    "                     nunique(), ex_group_247[ex_group_247['event_name'] == 'MainScreenAppear']['device_id_hash'].nunique()])\n",
    "        \n",
    "#количество уникальных пользователей в группах\n",
    "un_users_group = np.array([ex_group_246['device_id_hash'].nunique(), ex_group_247['device_id_hash'].nunique()])\n",
    "    \n",
    "# пропорция успехов в первой группе:\n",
    "p1 = un_users_event[0]/un_users_group[0]\n",
    "# пропорция успехов во второй группе:\n",
    "p2 = un_users_event[1]/un_users_group[1]\n",
    "    \n",
    "# пропорция успехов в комбинированном датасете:\n",
    "p_combined = (un_users_event[0] + un_users_event[1]) / (un_users_group[0] + un_users_group[1])\n",
    "    \n",
    "# разница пропорций в датасетах\n",
    "difference = p1 - p2\n",
    "    \n",
    "# считаем статистику в ст.отклонениях стандартного нормального распределения\n",
    "z_value = difference / math.sqrt(p_combined * (1 - p_combined) * (1/un_users_group[0] + 1/un_users_group[1]))\n",
    "    \n",
    "# задаем стандартное нормальное распределение (среднее 0, ст.отклонение 1)\n",
    "distr = st.norm(0, 1)  \n",
    "    \n",
    "#Так как распределение статистики нормальное, вызовем метод cdf()\n",
    "#Саму статистику возьмём по модулю методом abs() — чтобы получить правильный результат независимо от её знака.\n",
    "#Это возможно, потому что тест двусторонний. По этой же причине удваиваем результат:\n",
    "p_value = (1 - distr.cdf(abs(z_value))) * 2\n",
    "          \n",
    "print('p-значение: ', p_value)\n",
    "\n",
    "if p_value < alpha:\n",
    "    print('Отвергаем нулевую гипотезу: между долями есть значимая разница')\n",
    "else:\n",
    "    print('Не получилось отвергнуть нулевую гипотезу, нет оснований считать доли разными')"
   ]
  },
  {
   "cell_type": "markdown",
   "metadata": {},
   "source": [
    "Обернем проверку в отдельную функцию"
   ]
  },
  {
   "cell_type": "code",
   "execution_count": 42,
   "metadata": {},
   "outputs": [],
   "source": [
    "#напишем функцию теста статистических различий между группами\n",
    "def check (t1, t2, event_name):\n",
    "    \n",
    "    #критический уровень статистической значимости\n",
    "    alpha = 0.05\n",
    "    \n",
    "    #количсетво уникальных пользователей совершивших событие в каждой группе \n",
    "    un_users_event = np.array([t1[t1['event_name'] == event_name]['device_id_hash'].nunique(), \\\n",
    "                               t2[t2['event_name'] == event_name]['device_id_hash'].nunique()])\n",
    "        \n",
    "    #количество уникальных пользователей в группах\n",
    "    un_users_group = np.array([t1['device_id_hash'].nunique(), t2['device_id_hash'].nunique()])\n",
    "    \n",
    "    # пропорция успехов в первой группе:\n",
    "    p1 = un_users_event[0]/un_users_group[0]\n",
    "    # пропорция успехов во второй группе:\n",
    "    p2 = un_users_event[1]/un_users_group[1]\n",
    "    \n",
    "    # пропорция успехов в комбинированном датасете:\n",
    "    p_combined = (un_users_event[0] + un_users_event[1]) / (un_users_group[0] + un_users_group[1])\n",
    "    \n",
    "    # разница пропорций в датасетах\n",
    "    difference = p1 - p2\n",
    "    \n",
    "    # считаем статистику в ст.отклонениях стандартного нормального распределения\n",
    "    z_value = difference / math.sqrt(p_combined * (1 - p_combined) * (1/un_users_group[0] + 1/un_users_group[1]))\n",
    "    \n",
    "    # задаем стандартное нормальное распределение (среднее 0, ст.отклонение 1)\n",
    "    distr = st.norm(0, 1)  \n",
    "    \n",
    "    #Так как распределение статистики нормальное, вызовем метод cdf()\n",
    "    #Саму статистику возьмём по модулю методом abs() — чтобы получить правильный результат независимо от её знака.\n",
    "    #Это возможно, потому что тест двусторонний. По этой же причине удваиваем результат:\n",
    "    p_value = (1 - distr.cdf(abs(z_value))) * 2\n",
    "    \n",
    "    print(event_name)\n",
    "          \n",
    "    print('p-значение: ', p_value)\n",
    "\n",
    "    if p_value < alpha:\n",
    "        print('Отвергаем нулевую гипотезу: между долями есть значимая разница')\n",
    "    else:\n",
    "        print('Не получилось отвергнуть нулевую гипотезу, нет оснований считать доли разными')\n",
    "    print()"
   ]
  },
  {
   "cell_type": "code",
   "execution_count": 43,
   "metadata": {},
   "outputs": [
    {
     "name": "stdout",
     "output_type": "stream",
     "text": [
      "MainScreenAppear\n",
      "p-значение:  0.7526703436483038\n",
      "Не получилось отвергнуть нулевую гипотезу, нет оснований считать доли разными\n",
      "\n",
      "OffersScreenAppear\n",
      "p-значение:  0.24786096925282264\n",
      "Не получилось отвергнуть нулевую гипотезу, нет оснований считать доли разными\n",
      "\n",
      "CartScreenAppear\n",
      "p-значение:  0.22867643757335676\n",
      "Не получилось отвергнуть нулевую гипотезу, нет оснований считать доли разными\n",
      "\n",
      "PaymentScreenSuccessful\n",
      "p-значение:  0.11446627829276612\n",
      "Не получилось отвергнуть нулевую гипотезу, нет оснований считать доли разными\n",
      "\n"
     ]
    }
   ],
   "source": [
    "#создадим список с уникальными событиями:\n",
    "event_name_array = logs_new['event_name'].unique()\n",
    "#создадим цикл, который будет подставлять в функцию уникальные значения собитый:\n",
    "for event_name in event_name_array:\n",
    "    check(ex_group_246, ex_group_247, event_name)"
   ]
  },
  {
   "cell_type": "markdown",
   "metadata": {},
   "source": [
    "Между выборками 246 и 247 отсутствует статистическая разница, обе эти группы можно считать контрольными. Разбиение на группы работает корректно."
   ]
  },
  {
   "cell_type": "markdown",
   "metadata": {},
   "source": [
    "**Аналогично поступим с группой с изменённым шрифтом. Сравним результаты с каждой из контрольных групп в отдельности по каждому событию. Сравним результаты с объединённой контрольной группой.**"
   ]
  },
  {
   "cell_type": "code",
   "execution_count": 44,
   "metadata": {},
   "outputs": [
    {
     "name": "stdout",
     "output_type": "stream",
     "text": [
      "MainScreenAppear\n",
      "p-значение:  0.3387114076159288\n",
      "Не получилось отвергнуть нулевую гипотезу, нет оснований считать доли разными\n",
      "\n",
      "OffersScreenAppear\n",
      "p-значение:  0.21442476639710506\n",
      "Не получилось отвергнуть нулевую гипотезу, нет оснований считать доли разными\n",
      "\n",
      "CartScreenAppear\n",
      "p-значение:  0.08067367598823139\n",
      "Не получилось отвергнуть нулевую гипотезу, нет оснований считать доли разными\n",
      "\n",
      "PaymentScreenSuccessful\n",
      "p-значение:  0.21693033984516674\n",
      "Не получилось отвергнуть нулевую гипотезу, нет оснований считать доли разными\n",
      "\n"
     ]
    }
   ],
   "source": [
    "#Аналогично проверим 1 контрольную группу 246 с группой с изменным шрифтом 248\n",
    "for event_name in event_name_array:\n",
    "    check(ex_group_246, ex_group_248, event_name)"
   ]
  },
  {
   "cell_type": "markdown",
   "metadata": {},
   "source": [
    "Статистическая разница между группами 246 и 248 отсутствует"
   ]
  },
  {
   "cell_type": "code",
   "execution_count": 45,
   "metadata": {},
   "outputs": [
    {
     "name": "stdout",
     "output_type": "stream",
     "text": [
      "MainScreenAppear\n",
      "p-значение:  0.5194964354051703\n",
      "Не получилось отвергнуть нулевую гипотезу, нет оснований считать доли разными\n",
      "\n",
      "OffersScreenAppear\n",
      "p-значение:  0.9333751305879443\n",
      "Не получилось отвергнуть нулевую гипотезу, нет оснований считать доли разными\n",
      "\n",
      "CartScreenAppear\n",
      "p-значение:  0.5878284605111943\n",
      "Не получилось отвергнуть нулевую гипотезу, нет оснований считать доли разными\n",
      "\n",
      "PaymentScreenSuccessful\n",
      "p-значение:  0.7275718682261119\n",
      "Не получилось отвергнуть нулевую гипотезу, нет оснований считать доли разными\n",
      "\n"
     ]
    }
   ],
   "source": [
    "#Проверим 2 контрольную группу 247 с группой с изменным шрифтом 248\n",
    "for event_name in event_name_array:\n",
    "    check(ex_group_247, ex_group_248, event_name)"
   ]
  },
  {
   "cell_type": "markdown",
   "metadata": {},
   "source": [
    "Статистическая разница между группами 247 и 248 отсутствует"
   ]
  },
  {
   "cell_type": "markdown",
   "metadata": {},
   "source": [
    "Объединим группы"
   ]
  },
  {
   "cell_type": "code",
   "execution_count": 47,
   "metadata": {},
   "outputs": [],
   "source": [
    "ex_group_246_247 = pd.concat([ex_group_246, ex_group_247])"
   ]
  },
  {
   "cell_type": "code",
   "execution_count": 48,
   "metadata": {},
   "outputs": [
    {
     "name": "stdout",
     "output_type": "stream",
     "text": [
      "MainScreenAppear\n",
      "p-значение:  0.3486684291093256\n",
      "Не получилось отвергнуть нулевую гипотезу, нет оснований считать доли разными\n",
      "\n",
      "OffersScreenAppear\n",
      "p-значение:  0.44582745409482394\n",
      "Не получилось отвергнуть нулевую гипотезу, нет оснований считать доли разными\n",
      "\n",
      "CartScreenAppear\n",
      "p-значение:  0.18683558686831558\n",
      "Не получилось отвергнуть нулевую гипотезу, нет оснований считать доли разными\n",
      "\n",
      "PaymentScreenSuccessful\n",
      "p-значение:  0.6107918742187335\n",
      "Не получилось отвергнуть нулевую гипотезу, нет оснований считать доли разными\n",
      "\n"
     ]
    }
   ],
   "source": [
    "#Проверим объедененную контрольную группу с группой с изменным шрифтом 248\n",
    "for event_name in event_name_array:\n",
    "    check(ex_group_246_247, ex_group_248, event_name)"
   ]
  },
  {
   "cell_type": "markdown",
   "metadata": {},
   "source": [
    "Статистическая разница между объединённой контрольной группой и 248 группой отсутствует"
   ]
  },
  {
   "cell_type": "markdown",
   "metadata": {},
   "source": [
    "Итак, гипотеза о том, что изменение шрифта на главной странице как-то повлияет на пользователей, не подтвердилась."
   ]
  },
  {
   "cell_type": "markdown",
   "metadata": {},
   "source": [
    "**Какой уровень значимости вы выбрали при проверке статистических гипотез выше? Посчитайте, сколько проверок статистических гипотез вы сделали. При уровне значимости 0.1 в 10% случаев можно ошибочно отклонить нулевую гипотезу при условии, что она верна. Какой уровень значимости стоит применить? Если вы хотите изменить его, проделайте предыдущие пункты и проверьте свои выводы.**"
   ]
  },
  {
   "cell_type": "markdown",
   "metadata": {},
   "source": [
    "Мною выбран уровень значимости в 0.05, проведено 17 проверок статистических гипотез, из которых 12 относились к сравнению между контрольными группами и экспериментальной группой, в которой применялся измененный шрифт. Для уменьшения вероятности ошибки первого рода (отклонение нулевой гипотезы, когда она верна) стоит выбрать уровень значимости меньше 0.1. "
   ]
  },
  {
   "cell_type": "markdown",
   "metadata": {},
   "source": [
    "В ходе изучения результатов эксперимента выявлено:\n",
    "\n",
    "- количество пользователей в каждой экспериментальной группе\n",
    "\n",
    "246 группа  -  2484 пользователя\n",
    "\n",
    "247 группа  -  2513пользователей\n",
    "\n",
    "248  группа -  2537 пользователей;\n",
    "\n",
    "- Выяснили, что статистические критерии не находят разницу между выборками 246 и 247;\n",
    "\n",
    "- Выбрали самое популярное событие - MainScreenAppear. \n",
    "\n",
    "- Посчитали число пользователей, совершивших это событие в каждой из контрольных групп:\n",
    "\n",
    "246 группа  -  2450 пользователей\n",
    "\n",
    "247 группа  -  2476 пользователей\n",
    "\n",
    "248  группа -  2493  пользователя;\n",
    "\n",
    "- Посчитали долю пользователей, совершивших это событие. Проверели, будет ли отличие между группами статистически достоверным. Проделали то же самое для всех других событий. Выявлено, что между выборками 246 и 247,  246 и 248, 247 и 248, объединённой контрольной группой и 248 группой отсутствует статистическая разница.\n",
    "\n",
    "Для исследования мною выбран уровень значимости в 0.05, проведено 17 проверок статистических гипотез, из которых 12 относились к сравнению между контрольными группами и экспериментальной группой, в которой применялся измененный шрифт. Для уменьшения вероятности ошибки первого рода (отклонение нулевой гипотезы, когда она верна) стоит выбрать уровень значимости меньше 0.1."
   ]
  },
  {
   "cell_type": "markdown",
   "metadata": {},
   "source": [
    "# Вывод"
   ]
  },
  {
   "cell_type": "markdown",
   "metadata": {},
   "source": [
    "Для анализа поведения пользователей в приложении по продаже продуктов питания проведена подготовка данных к анализу, заменены наименования столбцов в соответствии с правилами, проверен тип данных, удалены дубликаты, пропускив датафрейме отсуствуют, а также добавлен столбец даты и времени, а также отдельный столбец дат. далее выяснили, что полные данные с 1 августа 2019 года, до этой даты активность практически отсутствует,  для анализа использовались данные с 1 по 7 августа 2019 г.\n",
    "\n",
    "Проведены расчеты, из которых мы получили следующие значения:\n",
    "\n",
    "Количество событий в логе: 243713;\n",
    "\n",
    "Количство уникальных пользователей: 7551;\n",
    "\n",
    "Количество событий в среднем на одного пользователя:  32.28;\n",
    "\n",
    "Определили минимальную и максимальную дату событий: 2019-07-25 и 2019-08-07 соответственно, однако полные данные оказались лишь 2019-08-01 по 2019-08-07;\n",
    "\n",
    "Обросили неполные данные и посчитали потери:\n",
    "\n",
    "- потеря событий всего 2826 из 243713 (1,2%)\n",
    "\n",
    "- потеря пользователей 17 из 7551 (0,2%).\n",
    "\n",
    "Шаг Tutorial (просмотр инструкции) в нашем исследовании не участвовал.\n",
    " \n",
    "В ходе изучения воронки событий выявлено:\n",
    "\n",
    "Как часто встречаются события в логе:\n",
    "MainScreenAppear - 117328 раз;\n",
    "\n",
    "OffersScreenAppear - 46333 раза;\n",
    "\n",
    "CartScreenAppear - 42303 раза;\n",
    "\n",
    "PaymentScreenSuccessful - 33918 раз.\n",
    "\n",
    "Посчитали, сколько пользователей совершали каждое из этих событий и долю пользователей, которые хоть раз совершали событие:\n",
    "MainScreenAppear - 7419 пользователей (98.47%);\n",
    "\n",
    "OffersScreenAppear - 4593 пользователей (60.96%);\n",
    "\n",
    "СartScreenAppear - 3734 пользователей (49.56%);\n",
    "\n",
    "PaymentScreenSuccessful - 3539 пользователей (46.97%).\n",
    "\n",
    "Предположили, в каком порядке происходят события:\n",
    "просмотр руководства пользования приложением (Tutorial);\n",
    "\n",
    "открытие главной страницы приложения(MainScreenAppear);\n",
    "\n",
    "выбор товара в каталоге (OffersScreenAppear);\n",
    "\n",
    "добавление товаров в корзину(CartScreenAppear);\n",
    "\n",
    "оплата (PaymentScreenSuccessful).\n",
    "\n",
    "По воронке событий посчитали, какая доля пользователей проходит на следующий шаг воронки (от числа пользователей на предыдущем):\n",
    "\n",
    "на шаге открытия главной страницы приложения(MainScreenAppear) - 7419 пользователей;\n",
    "\n",
    "до шага \"выбор товара в каталоге (OffersScreenAppear)\" доходит 4593 пользователей, доля от предыдущего шага 61,9 %;\n",
    "\n",
    "до шага \"добавление товаров в корзину(CartScreenAppear)\" доходит 37343 пользователей, доля от предыдущего шага 81,3 %;\n",
    "\n",
    "до шага \"оплата (PaymentScreenSuccessful)\" доходит 3539, доля от предыдущего шага 94,8 %.\n",
    "\n",
    "Определили, что больше всего пользователей теряется на первом шаге: доля оплативших товар от тех кто дошел до просмотра корзины  38,1 %.\n",
    "\n",
    "Доля пользователей прошедших от первого события до оплаты 47,7 %.\n",
    "\n",
    "Определили, что больше всего пользователей теряется на первом шаге: доля оплативших товар от тех кто дошел до просмотра корзины 61 %.\n",
    "\n",
    "Доля пользователей прошедших от первого события до оплаты 29 %.\n",
    "\n",
    "В ходе изучения результатов эксперимента выявлено:\n",
    "\n",
    "количество пользователей в каждой экспериментальной группе\n",
    "246 группа - 2484 пользователя\n",
    "\n",
    "247 группа - 2513пользователей\n",
    "\n",
    "248 группа - 2537 пользователей;\n",
    "\n",
    "Выяснили, что статистические критерии не находят разницу между выборками 246 и 247;\n",
    "\n",
    "Выбрали самое популярное событие - MainScreenAppear.\n",
    "\n",
    "Посчитали число пользователей, совершивших это событие в каждой из контрольных групп:\n",
    "\n",
    "246 группа - 2450 пользователей\n",
    "\n",
    "247 группа - 2476 пользователей\n",
    "\n",
    "248 группа - 2493 пользователя;\n",
    "\n",
    "Посчитали долю пользователей, совершивших это событие. Проверели, будет ли отличие между группами статистически достоверным. Проделали то же самое для всех других событий. Выявлено, что между выборками 246 и 247, 246 и 248, 247 и 248, объединённой контрольной группой и 248 группой отсутствует статистическая разница.\n",
    "Для исследования мною выбран уровень значимости в 0.05, проведено 17 проверок статистических гипотез, из которых 12 относились к сравнению между контрольными группами и экспериментальной группой, в которой применялся измененный шрифт. Для уменьшения вероятности ошибки первого рода (отклонение нулевой гипотезы, когда она верна) стоит выбрать уровень значимости меньше 0.1."
   ]
  }
 ],
 "metadata": {
  "ExecuteTimeLog": [
   {
    "duration": 904,
    "start_time": "2023-08-14T11:53:13.717Z"
   },
   {
    "duration": 3,
    "start_time": "2023-08-14T11:53:26.780Z"
   },
   {
    "duration": 829,
    "start_time": "2023-08-14T11:54:07.816Z"
   },
   {
    "duration": 17,
    "start_time": "2023-08-14T11:54:21.902Z"
   },
   {
    "duration": 315,
    "start_time": "2023-08-14T11:54:29.104Z"
   },
   {
    "duration": 7,
    "start_time": "2023-08-14T11:54:30.136Z"
   },
   {
    "duration": 322,
    "start_time": "2023-08-14T11:54:52.527Z"
   },
   {
    "duration": 8,
    "start_time": "2023-08-14T11:54:53.210Z"
   },
   {
    "duration": 3,
    "start_time": "2023-08-14T11:55:18.033Z"
   },
   {
    "duration": 321,
    "start_time": "2023-08-14T11:55:18.658Z"
   },
   {
    "duration": 7,
    "start_time": "2023-08-14T11:55:19.072Z"
   },
   {
    "duration": 3,
    "start_time": "2023-08-14T12:01:56.512Z"
   },
   {
    "duration": 97,
    "start_time": "2023-08-14T12:01:57.092Z"
   },
   {
    "duration": 15,
    "start_time": "2023-08-14T12:04:44.094Z"
   },
   {
    "duration": 3,
    "start_time": "2023-08-14T12:06:11.625Z"
   },
   {
    "duration": 8,
    "start_time": "2023-08-14T12:06:19.397Z"
   },
   {
    "duration": 7,
    "start_time": "2023-08-14T12:06:22.960Z"
   },
   {
    "duration": 4,
    "start_time": "2023-08-14T12:06:24.089Z"
   },
   {
    "duration": 7,
    "start_time": "2023-08-14T12:06:24.905Z"
   },
   {
    "duration": 285,
    "start_time": "2023-08-14T12:07:45.035Z"
   },
   {
    "duration": 6,
    "start_time": "2023-08-14T12:07:46.060Z"
   },
   {
    "duration": 327,
    "start_time": "2023-08-14T12:07:52.263Z"
   },
   {
    "duration": 6,
    "start_time": "2023-08-14T12:07:52.838Z"
   },
   {
    "duration": 186,
    "start_time": "2023-08-14T12:17:09.838Z"
   },
   {
    "duration": 13,
    "start_time": "2023-08-14T12:17:12.775Z"
   },
   {
    "duration": 118,
    "start_time": "2023-08-14T12:20:14.985Z"
   },
   {
    "duration": 81,
    "start_time": "2023-08-14T12:20:44.180Z"
   },
   {
    "duration": 8,
    "start_time": "2023-08-14T12:27:05.987Z"
   },
   {
    "duration": 8,
    "start_time": "2023-08-14T12:27:13.218Z"
   },
   {
    "duration": 28,
    "start_time": "2023-08-14T12:28:32.162Z"
   },
   {
    "duration": 80,
    "start_time": "2023-08-14T12:28:59.665Z"
   },
   {
    "duration": 85,
    "start_time": "2023-08-14T12:29:37.131Z"
   },
   {
    "duration": 14,
    "start_time": "2023-08-14T12:29:57.803Z"
   },
   {
    "duration": 76,
    "start_time": "2023-08-14T12:31:09.841Z"
   },
   {
    "duration": 81,
    "start_time": "2023-08-14T12:32:50.839Z"
   },
   {
    "duration": 72,
    "start_time": "2023-08-14T12:33:00.763Z"
   },
   {
    "duration": 75,
    "start_time": "2023-08-14T12:33:49.641Z"
   },
   {
    "duration": 99,
    "start_time": "2023-08-14T12:35:39.222Z"
   },
   {
    "duration": 98,
    "start_time": "2023-08-14T12:35:59.639Z"
   },
   {
    "duration": 94,
    "start_time": "2023-08-14T12:36:16.186Z"
   },
   {
    "duration": 101,
    "start_time": "2023-08-14T12:37:42.583Z"
   },
   {
    "duration": 1233,
    "start_time": "2023-08-14T12:39:02.287Z"
   },
   {
    "duration": 226,
    "start_time": "2023-08-14T12:39:27.404Z"
   },
   {
    "duration": 14,
    "start_time": "2023-08-14T12:39:44.184Z"
   },
   {
    "duration": 23,
    "start_time": "2023-08-14T12:49:56.220Z"
   },
   {
    "duration": 23,
    "start_time": "2023-08-14T12:50:31.014Z"
   },
   {
    "duration": 5,
    "start_time": "2023-08-14T12:52:11.622Z"
   },
   {
    "duration": 169,
    "start_time": "2023-08-14T12:52:11.629Z"
   },
   {
    "duration": 9,
    "start_time": "2023-08-14T12:52:11.800Z"
   },
   {
    "duration": 34,
    "start_time": "2023-08-14T12:52:11.810Z"
   },
   {
    "duration": 35,
    "start_time": "2023-08-14T12:52:11.846Z"
   },
   {
    "duration": 29,
    "start_time": "2023-08-14T12:52:11.882Z"
   },
   {
    "duration": 14,
    "start_time": "2023-08-14T12:52:11.912Z"
   },
   {
    "duration": 78,
    "start_time": "2023-08-14T12:52:11.927Z"
   },
   {
    "duration": 91,
    "start_time": "2023-08-14T12:52:12.007Z"
   },
   {
    "duration": 69,
    "start_time": "2023-08-14T12:52:12.099Z"
   },
   {
    "duration": 231,
    "start_time": "2023-08-14T12:52:12.170Z"
   },
   {
    "duration": 10,
    "start_time": "2023-08-14T12:52:12.402Z"
   },
   {
    "duration": 49,
    "start_time": "2023-08-14T12:52:12.536Z"
   },
   {
    "duration": 7,
    "start_time": "2023-08-14T12:52:41.968Z"
   },
   {
    "duration": 12,
    "start_time": "2023-08-14T12:52:54.908Z"
   },
   {
    "duration": 11,
    "start_time": "2023-08-14T12:54:48.292Z"
   },
   {
    "duration": 186,
    "start_time": "2023-08-14T12:56:41.290Z"
   },
   {
    "duration": 70,
    "start_time": "2023-08-14T12:58:10.500Z"
   },
   {
    "duration": 42,
    "start_time": "2023-08-14T12:58:18.844Z"
   },
   {
    "duration": 3,
    "start_time": "2023-08-14T12:58:30.022Z"
   },
   {
    "duration": 248,
    "start_time": "2023-08-14T12:58:30.027Z"
   },
   {
    "duration": 10,
    "start_time": "2023-08-14T12:58:30.278Z"
   },
   {
    "duration": 54,
    "start_time": "2023-08-14T12:58:30.291Z"
   },
   {
    "duration": 53,
    "start_time": "2023-08-14T12:58:30.347Z"
   },
   {
    "duration": 96,
    "start_time": "2023-08-14T12:58:30.402Z"
   },
   {
    "duration": 89,
    "start_time": "2023-08-14T12:58:30.500Z"
   },
   {
    "duration": 22,
    "start_time": "2023-08-14T12:58:30.591Z"
   },
   {
    "duration": 43,
    "start_time": "2023-08-14T20:04:33.726Z"
   },
   {
    "duration": 5,
    "start_time": "2023-08-14T20:04:44.857Z"
   },
   {
    "duration": 5,
    "start_time": "2023-08-14T20:04:52.112Z"
   },
   {
    "duration": 762,
    "start_time": "2023-08-14T20:04:56.537Z"
   },
   {
    "duration": 491,
    "start_time": "2023-08-14T20:04:57.301Z"
   },
   {
    "duration": 13,
    "start_time": "2023-08-14T20:04:57.793Z"
   },
   {
    "duration": 9,
    "start_time": "2023-08-14T20:04:57.808Z"
   },
   {
    "duration": 13,
    "start_time": "2023-08-14T20:04:57.818Z"
   },
   {
    "duration": 19,
    "start_time": "2023-08-14T20:04:57.832Z"
   },
   {
    "duration": 31,
    "start_time": "2023-08-14T20:04:57.852Z"
   },
   {
    "duration": 28,
    "start_time": "2023-08-14T20:04:57.900Z"
   },
   {
    "duration": 21,
    "start_time": "2023-08-14T20:04:57.930Z"
   },
   {
    "duration": 91,
    "start_time": "2023-08-14T20:04:57.954Z"
   },
   {
    "duration": 72,
    "start_time": "2023-08-14T20:04:58.046Z"
   },
   {
    "duration": 50,
    "start_time": "2023-08-14T20:04:58.120Z"
   },
   {
    "duration": 155,
    "start_time": "2023-08-14T20:04:58.172Z"
   },
   {
    "duration": 8,
    "start_time": "2023-08-14T20:04:58.329Z"
   },
   {
    "duration": 22,
    "start_time": "2023-08-14T20:04:58.339Z"
   },
   {
    "duration": 32,
    "start_time": "2023-08-14T20:04:58.363Z"
   },
   {
    "duration": 5,
    "start_time": "2023-08-14T20:08:44.482Z"
   },
   {
    "duration": 5,
    "start_time": "2023-08-14T20:09:04.961Z"
   },
   {
    "duration": 79,
    "start_time": "2023-08-14T20:09:56.040Z"
   },
   {
    "duration": 7,
    "start_time": "2023-08-14T20:10:12.249Z"
   },
   {
    "duration": 20,
    "start_time": "2023-08-14T20:11:48.055Z"
   },
   {
    "duration": 86,
    "start_time": "2023-08-14T20:12:13.707Z"
   },
   {
    "duration": 19,
    "start_time": "2023-08-14T20:12:25.043Z"
   },
   {
    "duration": 7,
    "start_time": "2023-08-14T20:12:37.677Z"
   },
   {
    "duration": 4,
    "start_time": "2023-08-14T20:13:12.857Z"
   },
   {
    "duration": 19,
    "start_time": "2023-08-14T20:13:30.069Z"
   },
   {
    "duration": 3,
    "start_time": "2023-08-14T20:13:31.325Z"
   },
   {
    "duration": 3,
    "start_time": "2023-08-14T20:14:41.796Z"
   },
   {
    "duration": 3,
    "start_time": "2023-08-14T20:15:28.912Z"
   },
   {
    "duration": 92,
    "start_time": "2023-08-14T20:18:24.200Z"
   },
   {
    "duration": 5,
    "start_time": "2023-08-14T20:19:43.660Z"
   },
   {
    "duration": 27,
    "start_time": "2023-08-14T20:21:11.085Z"
   },
   {
    "duration": 29,
    "start_time": "2023-08-14T20:21:52.108Z"
   },
   {
    "duration": 10,
    "start_time": "2023-08-14T20:22:28.649Z"
   },
   {
    "duration": 153,
    "start_time": "2023-08-14T20:22:29.355Z"
   },
   {
    "duration": 30,
    "start_time": "2023-08-14T20:22:30.472Z"
   },
   {
    "duration": 147,
    "start_time": "2023-08-14T20:22:41.495Z"
   },
   {
    "duration": 34,
    "start_time": "2023-08-14T20:23:14.500Z"
   },
   {
    "duration": 1349,
    "start_time": "2023-08-14T20:23:44.007Z"
   },
   {
    "duration": 0,
    "start_time": "2023-08-14T20:23:45.357Z"
   },
   {
    "duration": 52,
    "start_time": "2023-08-14T20:23:57.593Z"
   },
   {
    "duration": 18,
    "start_time": "2023-08-14T20:23:58.342Z"
   },
   {
    "duration": 9,
    "start_time": "2023-08-14T20:24:14.605Z"
   },
   {
    "duration": 5,
    "start_time": "2023-08-14T20:24:22.456Z"
   },
   {
    "duration": 1319,
    "start_time": "2023-08-14T20:24:45.918Z"
   },
   {
    "duration": 6,
    "start_time": "2023-08-14T20:25:02.168Z"
   },
   {
    "duration": 14,
    "start_time": "2023-08-14T20:26:54.460Z"
   },
   {
    "duration": 14,
    "start_time": "2023-08-14T20:27:10.569Z"
   },
   {
    "duration": 1433,
    "start_time": "2023-08-14T20:27:23.246Z"
   },
   {
    "duration": 1521,
    "start_time": "2023-08-14T20:27:40.329Z"
   },
   {
    "duration": 1327,
    "start_time": "2023-08-14T20:27:55.055Z"
   },
   {
    "duration": 64,
    "start_time": "2023-08-14T20:28:10.657Z"
   },
   {
    "duration": 78,
    "start_time": "2023-08-14T20:28:13.843Z"
   },
   {
    "duration": 19,
    "start_time": "2023-08-14T20:28:17.563Z"
   },
   {
    "duration": 8,
    "start_time": "2023-08-14T20:28:23.899Z"
   },
   {
    "duration": 76,
    "start_time": "2023-08-16T13:19:17.401Z"
   },
   {
    "duration": 973,
    "start_time": "2023-08-16T13:19:24.087Z"
   },
   {
    "duration": 916,
    "start_time": "2023-08-16T13:19:25.063Z"
   },
   {
    "duration": 22,
    "start_time": "2023-08-16T13:19:25.982Z"
   },
   {
    "duration": 77,
    "start_time": "2023-08-16T13:19:26.007Z"
   },
   {
    "duration": 21,
    "start_time": "2023-08-16T13:19:26.088Z"
   },
   {
    "duration": 86,
    "start_time": "2023-08-16T13:19:26.112Z"
   },
   {
    "duration": 72,
    "start_time": "2023-08-16T13:19:26.200Z"
   },
   {
    "duration": 27,
    "start_time": "2023-08-16T13:19:26.274Z"
   },
   {
    "duration": 67,
    "start_time": "2023-08-16T13:19:26.303Z"
   },
   {
    "duration": 107,
    "start_time": "2023-08-16T13:19:26.373Z"
   },
   {
    "duration": 103,
    "start_time": "2023-08-16T13:19:26.483Z"
   },
   {
    "duration": 75,
    "start_time": "2023-08-16T13:19:26.588Z"
   },
   {
    "duration": 112,
    "start_time": "2023-08-16T13:19:26.665Z"
   },
   {
    "duration": 75,
    "start_time": "2023-08-16T13:19:26.780Z"
   },
   {
    "duration": 1177,
    "start_time": "2023-08-16T13:19:26.857Z"
   },
   {
    "duration": 1190,
    "start_time": "2023-08-16T13:19:32.728Z"
   },
   {
    "duration": 19,
    "start_time": "2023-08-16T13:19:59.132Z"
   },
   {
    "duration": 1360,
    "start_time": "2023-08-16T13:21:38.490Z"
   },
   {
    "duration": 15,
    "start_time": "2023-08-16T13:21:40.532Z"
   },
   {
    "duration": 116,
    "start_time": "2023-08-16T13:22:54.829Z"
   },
   {
    "duration": 15,
    "start_time": "2023-08-16T13:22:55.651Z"
   },
   {
    "duration": 1077,
    "start_time": "2023-08-16T19:29:59.502Z"
   },
   {
    "duration": 1079,
    "start_time": "2023-08-16T19:30:00.583Z"
   },
   {
    "duration": 25,
    "start_time": "2023-08-16T19:30:01.665Z"
   },
   {
    "duration": 159,
    "start_time": "2023-08-16T19:30:01.694Z"
   },
   {
    "duration": 30,
    "start_time": "2023-08-16T19:30:01.855Z"
   },
   {
    "duration": 92,
    "start_time": "2023-08-16T19:30:01.887Z"
   },
   {
    "duration": 82,
    "start_time": "2023-08-16T19:30:01.981Z"
   },
   {
    "duration": 54,
    "start_time": "2023-08-16T19:30:02.065Z"
   },
   {
    "duration": 54,
    "start_time": "2023-08-16T19:30:02.128Z"
   },
   {
    "duration": 96,
    "start_time": "2023-08-16T19:30:02.187Z"
   },
   {
    "duration": 138,
    "start_time": "2023-08-16T19:30:02.286Z"
   },
   {
    "duration": 88,
    "start_time": "2023-08-16T19:30:02.431Z"
   },
   {
    "duration": 183,
    "start_time": "2023-08-16T19:30:02.525Z"
   },
   {
    "duration": 36,
    "start_time": "2023-08-16T19:30:02.714Z"
   },
   {
    "duration": 82,
    "start_time": "2023-08-16T19:30:02.759Z"
   },
   {
    "duration": 37,
    "start_time": "2023-08-16T19:30:02.848Z"
   },
   {
    "duration": 87,
    "start_time": "2023-08-16T19:30:02.888Z"
   },
   {
    "duration": 65,
    "start_time": "2023-08-16T19:30:02.979Z"
   },
   {
    "duration": 42,
    "start_time": "2023-08-16T19:30:03.053Z"
   },
   {
    "duration": 58,
    "start_time": "2023-08-16T19:30:03.098Z"
   },
   {
    "duration": 35,
    "start_time": "2023-08-16T19:30:03.162Z"
   },
   {
    "duration": 94,
    "start_time": "2023-08-16T19:30:03.200Z"
   },
   {
    "duration": 161,
    "start_time": "2023-08-16T19:32:07.558Z"
   },
   {
    "duration": 144,
    "start_time": "2023-08-16T19:32:28.884Z"
   },
   {
    "duration": 14,
    "start_time": "2023-08-16T19:32:29.839Z"
   },
   {
    "duration": 13,
    "start_time": "2023-08-16T19:32:37.211Z"
   },
   {
    "duration": 270,
    "start_time": "2023-08-16T19:32:37.229Z"
   },
   {
    "duration": 17,
    "start_time": "2023-08-16T19:32:37.504Z"
   },
   {
    "duration": 72,
    "start_time": "2023-08-16T19:32:37.527Z"
   },
   {
    "duration": 93,
    "start_time": "2023-08-16T19:32:37.605Z"
   },
   {
    "duration": 120,
    "start_time": "2023-08-16T19:32:37.701Z"
   },
   {
    "duration": 84,
    "start_time": "2023-08-16T19:32:37.823Z"
   },
   {
    "duration": 80,
    "start_time": "2023-08-16T19:32:37.910Z"
   },
   {
    "duration": 86,
    "start_time": "2023-08-16T19:32:37.992Z"
   },
   {
    "duration": 169,
    "start_time": "2023-08-16T19:32:38.081Z"
   },
   {
    "duration": 102,
    "start_time": "2023-08-16T19:32:38.258Z"
   },
   {
    "duration": 89,
    "start_time": "2023-08-16T19:32:38.363Z"
   },
   {
    "duration": 123,
    "start_time": "2023-08-16T19:32:38.454Z"
   },
   {
    "duration": 14,
    "start_time": "2023-08-16T19:32:38.580Z"
   },
   {
    "duration": 108,
    "start_time": "2023-08-16T19:32:38.596Z"
   },
   {
    "duration": 45,
    "start_time": "2023-08-16T19:32:38.706Z"
   },
   {
    "duration": 92,
    "start_time": "2023-08-16T19:32:38.755Z"
   },
   {
    "duration": 85,
    "start_time": "2023-08-16T19:32:38.849Z"
   },
   {
    "duration": 46,
    "start_time": "2023-08-16T19:32:38.936Z"
   },
   {
    "duration": 113,
    "start_time": "2023-08-16T19:32:38.985Z"
   },
   {
    "duration": 55,
    "start_time": "2023-08-16T19:32:39.100Z"
   },
   {
    "duration": 98,
    "start_time": "2023-08-16T19:32:39.157Z"
   },
   {
    "duration": 56,
    "start_time": "2023-08-16T19:33:56.843Z"
   },
   {
    "duration": 208,
    "start_time": "2023-08-16T19:35:07.966Z"
   },
   {
    "duration": 37,
    "start_time": "2023-08-16T19:35:08.750Z"
   },
   {
    "duration": 25,
    "start_time": "2023-08-16T19:35:17.642Z"
   },
   {
    "duration": 26,
    "start_time": "2023-08-16T19:35:22.256Z"
   },
   {
    "duration": 38,
    "start_time": "2023-08-16T19:35:24.240Z"
   },
   {
    "duration": 37,
    "start_time": "2023-08-16T19:35:24.938Z"
   },
   {
    "duration": 15,
    "start_time": "2023-08-16T19:35:26.798Z"
   },
   {
    "duration": 63,
    "start_time": "2023-08-16T19:35:27.903Z"
   },
   {
    "duration": 5,
    "start_time": "2023-08-16T19:35:28.376Z"
   },
   {
    "duration": 8,
    "start_time": "2023-08-16T19:35:29.676Z"
   },
   {
    "duration": 9,
    "start_time": "2023-08-16T19:36:46.546Z"
   },
   {
    "duration": 257,
    "start_time": "2023-08-16T19:36:46.558Z"
   },
   {
    "duration": 18,
    "start_time": "2023-08-16T19:36:46.817Z"
   },
   {
    "duration": 92,
    "start_time": "2023-08-16T19:36:46.838Z"
   },
   {
    "duration": 71,
    "start_time": "2023-08-16T19:36:46.933Z"
   },
   {
    "duration": 49,
    "start_time": "2023-08-16T19:36:47.007Z"
   },
   {
    "duration": 196,
    "start_time": "2023-08-16T19:36:54.064Z"
   },
   {
    "duration": 23,
    "start_time": "2023-08-16T19:36:54.701Z"
   },
   {
    "duration": 37,
    "start_time": "2023-08-16T19:37:00.177Z"
   },
   {
    "duration": 19,
    "start_time": "2023-08-16T19:37:01.372Z"
   },
   {
    "duration": 11,
    "start_time": "2023-08-16T19:37:10.505Z"
   },
   {
    "duration": 8,
    "start_time": "2023-08-16T19:40:17.164Z"
   },
   {
    "duration": 1138,
    "start_time": "2023-08-16T19:45:19.756Z"
   },
   {
    "duration": 4,
    "start_time": "2023-08-16T19:46:01.236Z"
   },
   {
    "duration": 290,
    "start_time": "2023-08-16T19:46:07.199Z"
   },
   {
    "duration": 384,
    "start_time": "2023-08-16T19:46:50.091Z"
   },
   {
    "duration": 98,
    "start_time": "2023-08-16T19:47:24.290Z"
   },
   {
    "duration": 551,
    "start_time": "2023-08-16T19:47:30.133Z"
   },
   {
    "duration": 977,
    "start_time": "2023-08-16T19:47:39.861Z"
   },
   {
    "duration": 392,
    "start_time": "2023-08-16T19:47:47.446Z"
   },
   {
    "duration": 521,
    "start_time": "2023-08-16T19:48:23.880Z"
   },
   {
    "duration": 404,
    "start_time": "2023-08-16T19:49:09.185Z"
   },
   {
    "duration": 416,
    "start_time": "2023-08-16T19:50:35.041Z"
   },
   {
    "duration": 738,
    "start_time": "2023-08-16T19:50:45.058Z"
   },
   {
    "duration": 768,
    "start_time": "2023-08-16T19:51:00.246Z"
   },
   {
    "duration": 833,
    "start_time": "2023-08-16T19:51:18.998Z"
   },
   {
    "duration": 52,
    "start_time": "2023-08-16T20:00:37.624Z"
   },
   {
    "duration": 95,
    "start_time": "2023-08-16T20:02:27.660Z"
   },
   {
    "duration": 76,
    "start_time": "2023-08-16T20:02:42.030Z"
   },
   {
    "duration": 162,
    "start_time": "2023-08-16T20:06:23.708Z"
   },
   {
    "duration": 130,
    "start_time": "2023-08-16T20:06:31.999Z"
   },
   {
    "duration": 79,
    "start_time": "2023-08-16T20:06:37.495Z"
   },
   {
    "duration": 76,
    "start_time": "2023-08-16T20:06:54.778Z"
   },
   {
    "duration": 79,
    "start_time": "2023-08-16T20:07:36.923Z"
   },
   {
    "duration": 78,
    "start_time": "2023-08-16T20:07:49.700Z"
   },
   {
    "duration": 94,
    "start_time": "2023-08-16T20:07:55.911Z"
   },
   {
    "duration": 51,
    "start_time": "2023-08-16T20:09:14.762Z"
   },
   {
    "duration": 74,
    "start_time": "2023-08-16T20:09:48.383Z"
   },
   {
    "duration": 123,
    "start_time": "2023-08-16T20:11:25.166Z"
   },
   {
    "duration": 155,
    "start_time": "2023-08-16T20:12:09.804Z"
   },
   {
    "duration": 73,
    "start_time": "2023-08-16T20:12:19.046Z"
   },
   {
    "duration": 105,
    "start_time": "2023-08-16T20:12:28.586Z"
   },
   {
    "duration": 75,
    "start_time": "2023-08-16T20:12:49.346Z"
   },
   {
    "duration": 105,
    "start_time": "2023-08-16T20:15:12.144Z"
   },
   {
    "duration": 125,
    "start_time": "2023-08-16T20:15:37.293Z"
   },
   {
    "duration": 117,
    "start_time": "2023-08-16T20:16:20.526Z"
   },
   {
    "duration": 2193,
    "start_time": "2023-08-16T20:17:20.139Z"
   },
   {
    "duration": 26,
    "start_time": "2023-08-16T20:17:31.007Z"
   },
   {
    "duration": 13,
    "start_time": "2023-08-16T20:18:09.188Z"
   },
   {
    "duration": 12,
    "start_time": "2023-08-16T20:18:25.356Z"
   },
   {
    "duration": 8,
    "start_time": "2023-08-16T20:20:33.605Z"
   },
   {
    "duration": 12,
    "start_time": "2023-08-16T20:20:38.074Z"
   },
   {
    "duration": 34,
    "start_time": "2023-08-16T20:20:41.252Z"
   },
   {
    "duration": 18,
    "start_time": "2023-08-16T20:21:49.758Z"
   },
   {
    "duration": 29,
    "start_time": "2023-08-16T20:22:02.307Z"
   },
   {
    "duration": 10,
    "start_time": "2023-08-16T20:22:11.487Z"
   },
   {
    "duration": 27,
    "start_time": "2023-08-16T20:22:22.409Z"
   },
   {
    "duration": 34,
    "start_time": "2023-08-16T20:27:09.792Z"
   },
   {
    "duration": 13,
    "start_time": "2023-08-16T20:28:27.548Z"
   },
   {
    "duration": 43,
    "start_time": "2023-08-16T20:30:12.535Z"
   },
   {
    "duration": 57,
    "start_time": "2023-08-16T20:30:42.775Z"
   },
   {
    "duration": 18,
    "start_time": "2023-08-16T20:32:04.771Z"
   },
   {
    "duration": 13,
    "start_time": "2023-08-16T20:34:37.236Z"
   },
   {
    "duration": 14,
    "start_time": "2023-08-16T20:34:48.152Z"
   },
   {
    "duration": 107,
    "start_time": "2023-08-16T20:37:06.079Z"
   },
   {
    "duration": 141,
    "start_time": "2023-08-16T20:38:45.434Z"
   },
   {
    "duration": 96,
    "start_time": "2023-08-16T20:38:53.984Z"
   },
   {
    "duration": 111,
    "start_time": "2023-08-16T20:38:59.946Z"
   },
   {
    "duration": 102,
    "start_time": "2023-08-16T20:39:05.567Z"
   },
   {
    "duration": 124,
    "start_time": "2023-08-16T20:39:28.246Z"
   },
   {
    "duration": 13,
    "start_time": "2023-08-16T20:40:39.862Z"
   },
   {
    "duration": 65,
    "start_time": "2023-08-16T20:40:50.468Z"
   },
   {
    "duration": 103,
    "start_time": "2023-08-16T20:42:28.154Z"
   },
   {
    "duration": 61,
    "start_time": "2023-08-17T07:12:43.850Z"
   },
   {
    "duration": 6,
    "start_time": "2023-08-17T07:14:20.602Z"
   },
   {
    "duration": 8,
    "start_time": "2023-08-17T07:15:43.712Z"
   },
   {
    "duration": 1276,
    "start_time": "2023-08-17T07:15:49.140Z"
   },
   {
    "duration": 783,
    "start_time": "2023-08-17T07:15:50.419Z"
   },
   {
    "duration": 13,
    "start_time": "2023-08-17T07:15:51.204Z"
   },
   {
    "duration": 18,
    "start_time": "2023-08-17T07:15:51.219Z"
   },
   {
    "duration": 21,
    "start_time": "2023-08-17T07:15:51.240Z"
   },
   {
    "duration": 31,
    "start_time": "2023-08-17T07:15:51.263Z"
   },
   {
    "duration": 18,
    "start_time": "2023-08-17T07:15:51.296Z"
   },
   {
    "duration": 14,
    "start_time": "2023-08-17T07:15:51.316Z"
   },
   {
    "duration": 80,
    "start_time": "2023-08-17T07:15:51.332Z"
   },
   {
    "duration": 84,
    "start_time": "2023-08-17T07:15:51.414Z"
   },
   {
    "duration": 67,
    "start_time": "2023-08-17T07:15:51.500Z"
   },
   {
    "duration": 112,
    "start_time": "2023-08-17T07:15:51.569Z"
   },
   {
    "duration": 10,
    "start_time": "2023-08-17T07:15:51.683Z"
   },
   {
    "duration": 44,
    "start_time": "2023-08-17T07:15:51.696Z"
   },
   {
    "duration": 21,
    "start_time": "2023-08-17T07:15:51.741Z"
   },
   {
    "duration": 23,
    "start_time": "2023-08-17T07:15:51.764Z"
   },
   {
    "duration": 34,
    "start_time": "2023-08-17T07:15:51.789Z"
   },
   {
    "duration": 31,
    "start_time": "2023-08-17T07:15:51.824Z"
   },
   {
    "duration": 52,
    "start_time": "2023-08-17T07:15:51.857Z"
   },
   {
    "duration": 18,
    "start_time": "2023-08-17T07:15:51.910Z"
   },
   {
    "duration": 65,
    "start_time": "2023-08-17T07:15:51.930Z"
   },
   {
    "duration": 15,
    "start_time": "2023-08-17T07:15:51.997Z"
   },
   {
    "duration": 566,
    "start_time": "2023-08-17T07:15:52.013Z"
   },
   {
    "duration": 20,
    "start_time": "2023-08-17T07:15:52.581Z"
   },
   {
    "duration": 42,
    "start_time": "2023-08-17T07:15:52.603Z"
   },
   {
    "duration": 42,
    "start_time": "2023-08-17T07:15:52.647Z"
   },
   {
    "duration": 17,
    "start_time": "2023-08-17T07:15:52.691Z"
   },
   {
    "duration": 17,
    "start_time": "2023-08-17T07:15:52.710Z"
   },
   {
    "duration": 20,
    "start_time": "2023-08-17T07:15:52.729Z"
   },
   {
    "duration": 53,
    "start_time": "2023-08-17T07:15:52.750Z"
   },
   {
    "duration": 3137,
    "start_time": "2023-08-17T07:15:55.470Z"
   },
   {
    "duration": 58,
    "start_time": "2023-08-17T07:17:09.439Z"
   },
   {
    "duration": 65,
    "start_time": "2023-08-17T08:29:21.632Z"
   },
   {
    "duration": 84,
    "start_time": "2023-08-17T08:29:26.589Z"
   },
   {
    "duration": 30,
    "start_time": "2023-08-17T10:50:56.156Z"
   },
   {
    "duration": 3,
    "start_time": "2023-08-17T11:28:12.638Z"
   },
   {
    "duration": 184,
    "start_time": "2023-08-17T11:28:12.643Z"
   },
   {
    "duration": 8,
    "start_time": "2023-08-17T11:28:12.829Z"
   },
   {
    "duration": 25,
    "start_time": "2023-08-17T11:28:12.839Z"
   },
   {
    "duration": 16,
    "start_time": "2023-08-17T11:28:12.867Z"
   },
   {
    "duration": 30,
    "start_time": "2023-08-17T11:28:12.885Z"
   },
   {
    "duration": 27,
    "start_time": "2023-08-17T11:28:12.917Z"
   },
   {
    "duration": 13,
    "start_time": "2023-08-17T11:28:12.945Z"
   },
   {
    "duration": 55,
    "start_time": "2023-08-17T11:28:12.960Z"
   },
   {
    "duration": 82,
    "start_time": "2023-08-17T11:28:13.017Z"
   },
   {
    "duration": 60,
    "start_time": "2023-08-17T11:28:13.101Z"
   },
   {
    "duration": 104,
    "start_time": "2023-08-17T11:28:13.162Z"
   },
   {
    "duration": 8,
    "start_time": "2023-08-17T11:28:13.268Z"
   },
   {
    "duration": 32,
    "start_time": "2023-08-17T11:28:13.279Z"
   },
   {
    "duration": 8,
    "start_time": "2023-08-17T11:28:13.313Z"
   },
   {
    "duration": 31,
    "start_time": "2023-08-17T11:28:13.323Z"
   },
   {
    "duration": 21,
    "start_time": "2023-08-17T11:28:13.355Z"
   },
   {
    "duration": 7,
    "start_time": "2023-08-17T11:28:13.378Z"
   },
   {
    "duration": 21,
    "start_time": "2023-08-17T11:28:13.387Z"
   },
   {
    "duration": 8,
    "start_time": "2023-08-17T11:28:13.410Z"
   },
   {
    "duration": 11,
    "start_time": "2023-08-17T11:28:13.420Z"
   },
   {
    "duration": 12,
    "start_time": "2023-08-17T11:28:13.433Z"
   },
   {
    "duration": 494,
    "start_time": "2023-08-17T11:28:13.447Z"
   },
   {
    "duration": 24,
    "start_time": "2023-08-17T11:28:13.943Z"
   },
   {
    "duration": 39,
    "start_time": "2023-08-17T11:28:13.969Z"
   },
   {
    "duration": 59,
    "start_time": "2023-08-17T11:28:14.010Z"
   },
   {
    "duration": 13,
    "start_time": "2023-08-17T11:28:14.072Z"
   },
   {
    "duration": 20,
    "start_time": "2023-08-17T11:28:14.086Z"
   },
   {
    "duration": 37,
    "start_time": "2023-08-17T11:28:14.108Z"
   },
   {
    "duration": 45,
    "start_time": "2023-08-17T11:28:14.148Z"
   },
   {
    "duration": 83,
    "start_time": "2023-08-17T11:28:14.196Z"
   },
   {
    "duration": 9,
    "start_time": "2023-08-17T11:36:26.711Z"
   },
   {
    "duration": 30,
    "start_time": "2023-08-17T11:36:43.196Z"
   },
   {
    "duration": 24,
    "start_time": "2023-08-17T11:36:53.249Z"
   },
   {
    "duration": 53,
    "start_time": "2023-08-17T11:40:55.193Z"
   },
   {
    "duration": 3,
    "start_time": "2023-08-17T11:41:08.724Z"
   },
   {
    "duration": 176,
    "start_time": "2023-08-17T11:41:08.729Z"
   },
   {
    "duration": 9,
    "start_time": "2023-08-17T11:41:08.907Z"
   },
   {
    "duration": 14,
    "start_time": "2023-08-17T11:41:08.918Z"
   },
   {
    "duration": 10,
    "start_time": "2023-08-17T11:41:08.934Z"
   },
   {
    "duration": 51,
    "start_time": "2023-08-17T11:41:08.946Z"
   },
   {
    "duration": 18,
    "start_time": "2023-08-17T11:41:08.999Z"
   },
   {
    "duration": 15,
    "start_time": "2023-08-17T11:41:09.019Z"
   },
   {
    "duration": 64,
    "start_time": "2023-08-17T11:41:09.036Z"
   },
   {
    "duration": 70,
    "start_time": "2023-08-17T11:41:09.104Z"
   },
   {
    "duration": 56,
    "start_time": "2023-08-17T11:41:09.176Z"
   },
   {
    "duration": 134,
    "start_time": "2023-08-17T11:41:09.234Z"
   },
   {
    "duration": 11,
    "start_time": "2023-08-17T11:41:09.371Z"
   },
   {
    "duration": 22,
    "start_time": "2023-08-17T11:41:09.384Z"
   },
   {
    "duration": 11,
    "start_time": "2023-08-17T11:41:09.408Z"
   },
   {
    "duration": 46,
    "start_time": "2023-08-17T11:41:09.421Z"
   },
   {
    "duration": 26,
    "start_time": "2023-08-17T11:41:09.469Z"
   },
   {
    "duration": 15,
    "start_time": "2023-08-17T11:41:09.497Z"
   },
   {
    "duration": 28,
    "start_time": "2023-08-17T11:41:09.514Z"
   },
   {
    "duration": 16,
    "start_time": "2023-08-17T11:41:09.544Z"
   },
   {
    "duration": 14,
    "start_time": "2023-08-17T11:41:09.561Z"
   },
   {
    "duration": 13,
    "start_time": "2023-08-17T11:41:09.577Z"
   },
   {
    "duration": 621,
    "start_time": "2023-08-17T11:41:09.592Z"
   },
   {
    "duration": 17,
    "start_time": "2023-08-17T11:41:10.215Z"
   },
   {
    "duration": 57,
    "start_time": "2023-08-17T11:41:10.235Z"
   },
   {
    "duration": 40,
    "start_time": "2023-08-17T11:41:10.294Z"
   },
   {
    "duration": 30,
    "start_time": "2023-08-17T11:41:10.336Z"
   },
   {
    "duration": 10,
    "start_time": "2023-08-17T11:41:10.370Z"
   },
   {
    "duration": 43,
    "start_time": "2023-08-17T11:41:10.382Z"
   },
   {
    "duration": 43,
    "start_time": "2023-08-17T11:41:10.427Z"
   },
   {
    "duration": 61,
    "start_time": "2023-08-17T11:41:10.472Z"
   },
   {
    "duration": 62,
    "start_time": "2023-08-17T11:41:10.535Z"
   },
   {
    "duration": 26,
    "start_time": "2023-08-17T11:42:56.702Z"
   },
   {
    "duration": 27,
    "start_time": "2023-08-17T11:55:34.532Z"
   },
   {
    "duration": 26,
    "start_time": "2023-08-17T11:55:40.330Z"
   },
   {
    "duration": 27,
    "start_time": "2023-08-17T11:56:03.854Z"
   },
   {
    "duration": 4,
    "start_time": "2023-08-17T12:01:04.714Z"
   },
   {
    "duration": 9,
    "start_time": "2023-08-17T12:01:15.091Z"
   },
   {
    "duration": 1156,
    "start_time": "2023-08-17T12:05:56.631Z"
   },
   {
    "duration": 5,
    "start_time": "2023-08-17T12:06:17.587Z"
   },
   {
    "duration": 11,
    "start_time": "2023-08-17T12:06:50.191Z"
   },
   {
    "duration": 4,
    "start_time": "2023-08-17T12:18:50.083Z"
   },
   {
    "duration": 187,
    "start_time": "2023-08-17T12:18:50.090Z"
   },
   {
    "duration": 8,
    "start_time": "2023-08-17T12:18:50.279Z"
   },
   {
    "duration": 10,
    "start_time": "2023-08-17T12:18:50.289Z"
   },
   {
    "duration": 14,
    "start_time": "2023-08-17T12:18:50.301Z"
   },
   {
    "duration": 42,
    "start_time": "2023-08-17T12:18:50.317Z"
   },
   {
    "duration": 21,
    "start_time": "2023-08-17T12:18:50.362Z"
   },
   {
    "duration": 20,
    "start_time": "2023-08-17T12:18:50.385Z"
   },
   {
    "duration": 89,
    "start_time": "2023-08-17T12:18:50.407Z"
   },
   {
    "duration": 96,
    "start_time": "2023-08-17T12:18:50.498Z"
   },
   {
    "duration": 76,
    "start_time": "2023-08-17T12:18:50.596Z"
   },
   {
    "duration": 121,
    "start_time": "2023-08-17T12:18:50.674Z"
   },
   {
    "duration": 11,
    "start_time": "2023-08-17T12:18:50.796Z"
   },
   {
    "duration": 45,
    "start_time": "2023-08-17T12:18:50.810Z"
   },
   {
    "duration": 27,
    "start_time": "2023-08-17T12:18:50.857Z"
   },
   {
    "duration": 83,
    "start_time": "2023-08-17T12:18:50.886Z"
   },
   {
    "duration": 49,
    "start_time": "2023-08-17T12:18:50.971Z"
   },
   {
    "duration": 29,
    "start_time": "2023-08-17T12:18:51.022Z"
   },
   {
    "duration": 38,
    "start_time": "2023-08-17T12:18:51.054Z"
   },
   {
    "duration": 38,
    "start_time": "2023-08-17T12:18:51.094Z"
   },
   {
    "duration": 24,
    "start_time": "2023-08-17T12:18:51.134Z"
   },
   {
    "duration": 25,
    "start_time": "2023-08-17T12:18:51.160Z"
   },
   {
    "duration": 556,
    "start_time": "2023-08-17T12:18:51.187Z"
   },
   {
    "duration": 23,
    "start_time": "2023-08-17T12:18:51.745Z"
   },
   {
    "duration": 46,
    "start_time": "2023-08-17T12:18:51.770Z"
   },
   {
    "duration": 67,
    "start_time": "2023-08-17T12:18:51.818Z"
   },
   {
    "duration": 9,
    "start_time": "2023-08-17T12:18:51.887Z"
   },
   {
    "duration": 13,
    "start_time": "2023-08-17T12:18:51.899Z"
   },
   {
    "duration": 49,
    "start_time": "2023-08-17T12:18:51.914Z"
   },
   {
    "duration": 48,
    "start_time": "2023-08-17T12:18:51.965Z"
   },
   {
    "duration": 80,
    "start_time": "2023-08-17T12:18:52.015Z"
   },
   {
    "duration": 25,
    "start_time": "2023-08-17T12:18:52.096Z"
   },
   {
    "duration": 28,
    "start_time": "2023-08-17T12:21:19.396Z"
   },
   {
    "duration": 4,
    "start_time": "2023-08-17T12:21:30.425Z"
   },
   {
    "duration": 277,
    "start_time": "2023-08-17T12:21:30.432Z"
   },
   {
    "duration": 9,
    "start_time": "2023-08-17T12:21:30.711Z"
   },
   {
    "duration": 95,
    "start_time": "2023-08-17T12:21:30.722Z"
   },
   {
    "duration": 58,
    "start_time": "2023-08-17T12:21:30.821Z"
   },
   {
    "duration": 79,
    "start_time": "2023-08-17T12:21:30.882Z"
   },
   {
    "duration": 69,
    "start_time": "2023-08-17T12:21:30.964Z"
   },
   {
    "duration": 73,
    "start_time": "2023-08-17T12:21:31.035Z"
   },
   {
    "duration": 109,
    "start_time": "2023-08-17T12:21:31.111Z"
   },
   {
    "duration": 120,
    "start_time": "2023-08-17T12:21:31.223Z"
   },
   {
    "duration": 91,
    "start_time": "2023-08-17T12:21:31.346Z"
   },
   {
    "duration": 146,
    "start_time": "2023-08-17T12:21:31.439Z"
   },
   {
    "duration": 15,
    "start_time": "2023-08-17T12:21:31.587Z"
   },
   {
    "duration": 63,
    "start_time": "2023-08-17T12:21:31.606Z"
   },
   {
    "duration": 39,
    "start_time": "2023-08-17T12:21:31.671Z"
   },
   {
    "duration": 54,
    "start_time": "2023-08-17T12:21:31.712Z"
   },
   {
    "duration": 56,
    "start_time": "2023-08-17T12:21:31.769Z"
   },
   {
    "duration": 19,
    "start_time": "2023-08-17T12:21:31.827Z"
   },
   {
    "duration": 48,
    "start_time": "2023-08-17T12:21:31.848Z"
   },
   {
    "duration": 38,
    "start_time": "2023-08-17T12:21:31.898Z"
   },
   {
    "duration": 58,
    "start_time": "2023-08-17T12:21:31.939Z"
   },
   {
    "duration": 53,
    "start_time": "2023-08-17T12:21:31.999Z"
   },
   {
    "duration": 546,
    "start_time": "2023-08-17T12:21:32.055Z"
   },
   {
    "duration": 16,
    "start_time": "2023-08-17T12:21:32.603Z"
   },
   {
    "duration": 53,
    "start_time": "2023-08-17T12:21:32.621Z"
   },
   {
    "duration": 37,
    "start_time": "2023-08-17T12:21:32.676Z"
   },
   {
    "duration": 9,
    "start_time": "2023-08-17T12:21:32.715Z"
   },
   {
    "duration": 36,
    "start_time": "2023-08-17T12:21:32.726Z"
   },
   {
    "duration": 17,
    "start_time": "2023-08-17T12:21:32.764Z"
   },
   {
    "duration": 38,
    "start_time": "2023-08-17T12:21:32.783Z"
   },
   {
    "duration": 115,
    "start_time": "2023-08-17T12:21:32.824Z"
   },
   {
    "duration": 38,
    "start_time": "2023-08-17T12:21:32.941Z"
   },
   {
    "duration": 13,
    "start_time": "2023-08-17T12:23:37.761Z"
   },
   {
    "duration": 14,
    "start_time": "2023-08-17T12:51:23.574Z"
   },
   {
    "duration": 11,
    "start_time": "2023-08-17T12:52:26.684Z"
   },
   {
    "duration": 47,
    "start_time": "2023-08-17T12:52:39.852Z"
   },
   {
    "duration": 20,
    "start_time": "2023-08-17T13:24:26.582Z"
   },
   {
    "duration": 128,
    "start_time": "2023-08-17T13:27:55.683Z"
   },
   {
    "duration": 3,
    "start_time": "2023-08-17T13:28:36.439Z"
   },
   {
    "duration": 130,
    "start_time": "2023-08-17T13:28:41.361Z"
   },
   {
    "duration": 67,
    "start_time": "2023-08-17T13:30:21.022Z"
   },
   {
    "duration": 65,
    "start_time": "2023-08-17T13:30:38.911Z"
   },
   {
    "duration": 69,
    "start_time": "2023-08-17T13:31:00.848Z"
   },
   {
    "duration": 73,
    "start_time": "2023-08-17T13:31:39.446Z"
   },
   {
    "duration": 76,
    "start_time": "2023-08-17T13:32:04.223Z"
   },
   {
    "duration": 78,
    "start_time": "2023-08-17T13:32:11.607Z"
   },
   {
    "duration": 135,
    "start_time": "2023-08-17T13:32:50.450Z"
   },
   {
    "duration": 4,
    "start_time": "2023-08-17T13:33:38.924Z"
   },
   {
    "duration": 83,
    "start_time": "2023-08-17T13:33:56.333Z"
   },
   {
    "duration": 80,
    "start_time": "2023-08-17T13:34:35.049Z"
   },
   {
    "duration": 87,
    "start_time": "2023-08-17T13:35:05.691Z"
   },
   {
    "duration": 4,
    "start_time": "2023-08-17T13:35:21.118Z"
   },
   {
    "duration": 5,
    "start_time": "2023-08-17T13:35:24.367Z"
   },
   {
    "duration": 85,
    "start_time": "2023-08-17T13:35:45.417Z"
   },
   {
    "duration": 3,
    "start_time": "2023-08-17T13:37:25.410Z"
   },
   {
    "duration": 68,
    "start_time": "2023-08-17T13:37:30.517Z"
   },
   {
    "duration": 4,
    "start_time": "2023-08-17T13:38:24.659Z"
   },
   {
    "duration": 56,
    "start_time": "2023-08-17T13:38:29.765Z"
   },
   {
    "duration": 90,
    "start_time": "2023-08-17T13:41:24.224Z"
   },
   {
    "duration": 71,
    "start_time": "2023-08-17T13:41:55.022Z"
   },
   {
    "duration": 72,
    "start_time": "2023-08-17T13:42:14.775Z"
   },
   {
    "duration": 73,
    "start_time": "2023-08-17T13:45:21.527Z"
   },
   {
    "duration": 66,
    "start_time": "2023-08-17T13:48:35.234Z"
   },
   {
    "duration": 11,
    "start_time": "2023-08-17T13:51:49.640Z"
   },
   {
    "duration": 121,
    "start_time": "2023-08-17T13:52:16.732Z"
   },
   {
    "duration": 91,
    "start_time": "2023-08-17T13:52:52.860Z"
   },
   {
    "duration": 85,
    "start_time": "2023-08-17T13:52:59.956Z"
   },
   {
    "duration": 86,
    "start_time": "2023-08-17T13:55:24.352Z"
   },
   {
    "duration": 200,
    "start_time": "2023-08-17T13:56:14.414Z"
   },
   {
    "duration": 23,
    "start_time": "2023-08-17T13:56:55.970Z"
   },
   {
    "duration": 902,
    "start_time": "2023-08-17T13:57:54.908Z"
   },
   {
    "duration": 66,
    "start_time": "2023-08-17T13:58:27.930Z"
   },
   {
    "duration": 16,
    "start_time": "2023-08-17T14:06:26.043Z"
   },
   {
    "duration": 26,
    "start_time": "2023-08-17T14:07:40.376Z"
   },
   {
    "duration": 82,
    "start_time": "2023-08-17T14:13:07.556Z"
   },
   {
    "duration": 7,
    "start_time": "2023-08-17T14:15:50.879Z"
   },
   {
    "duration": 25,
    "start_time": "2023-08-17T14:16:57.532Z"
   },
   {
    "duration": 35,
    "start_time": "2023-08-17T14:17:09.221Z"
   },
   {
    "duration": 111,
    "start_time": "2023-08-17T14:17:29.710Z"
   },
   {
    "duration": 83,
    "start_time": "2023-08-17T14:21:33.552Z"
   },
   {
    "duration": 24,
    "start_time": "2023-08-17T14:22:36.782Z"
   },
   {
    "duration": 48,
    "start_time": "2023-08-17T14:22:59.143Z"
   },
   {
    "duration": 31,
    "start_time": "2023-08-17T14:23:05.358Z"
   },
   {
    "duration": 49,
    "start_time": "2023-08-17T14:23:07.456Z"
   },
   {
    "duration": 101,
    "start_time": "2023-08-17T14:23:54.894Z"
   },
   {
    "duration": 102,
    "start_time": "2023-08-17T14:25:55.008Z"
   },
   {
    "duration": 10,
    "start_time": "2023-08-17T14:29:49.346Z"
   },
   {
    "duration": 135,
    "start_time": "2023-08-17T14:30:45.782Z"
   },
   {
    "duration": 87,
    "start_time": "2023-08-17T14:33:29.907Z"
   },
   {
    "duration": 106,
    "start_time": "2023-08-17T14:44:03.203Z"
   },
   {
    "duration": 1492,
    "start_time": "2023-08-18T14:43:11.549Z"
   },
   {
    "duration": 700,
    "start_time": "2023-08-18T14:43:13.050Z"
   },
   {
    "duration": 13,
    "start_time": "2023-08-18T14:43:13.752Z"
   },
   {
    "duration": 27,
    "start_time": "2023-08-18T14:43:13.768Z"
   },
   {
    "duration": 14,
    "start_time": "2023-08-18T14:43:13.797Z"
   },
   {
    "duration": 65,
    "start_time": "2023-08-18T14:43:13.813Z"
   },
   {
    "duration": 25,
    "start_time": "2023-08-18T14:43:13.881Z"
   },
   {
    "duration": 126,
    "start_time": "2023-08-18T14:43:13.908Z"
   },
   {
    "duration": 105,
    "start_time": "2023-08-18T14:43:14.035Z"
   },
   {
    "duration": 62,
    "start_time": "2023-08-18T14:43:14.142Z"
   },
   {
    "duration": 171,
    "start_time": "2023-08-18T14:43:14.206Z"
   },
   {
    "duration": 11,
    "start_time": "2023-08-18T14:43:14.379Z"
   },
   {
    "duration": 50,
    "start_time": "2023-08-18T14:43:14.393Z"
   },
   {
    "duration": 11,
    "start_time": "2023-08-18T14:43:14.446Z"
   },
   {
    "duration": 37,
    "start_time": "2023-08-18T14:43:14.459Z"
   },
   {
    "duration": 48,
    "start_time": "2023-08-18T14:43:14.500Z"
   },
   {
    "duration": 17,
    "start_time": "2023-08-18T14:43:14.550Z"
   },
   {
    "duration": 25,
    "start_time": "2023-08-18T14:43:14.568Z"
   },
   {
    "duration": 15,
    "start_time": "2023-08-18T14:43:14.595Z"
   },
   {
    "duration": 9,
    "start_time": "2023-08-18T14:43:14.611Z"
   },
   {
    "duration": 15,
    "start_time": "2023-08-18T14:43:14.622Z"
   },
   {
    "duration": 633,
    "start_time": "2023-08-18T14:43:14.639Z"
   },
   {
    "duration": 22,
    "start_time": "2023-08-18T14:43:15.273Z"
   },
   {
    "duration": 68,
    "start_time": "2023-08-18T14:43:15.297Z"
   },
   {
    "duration": 41,
    "start_time": "2023-08-18T14:43:15.366Z"
   },
   {
    "duration": 25,
    "start_time": "2023-08-18T14:43:15.409Z"
   },
   {
    "duration": 11,
    "start_time": "2023-08-18T14:43:15.435Z"
   },
   {
    "duration": 19,
    "start_time": "2023-08-18T14:43:15.450Z"
   },
   {
    "duration": 77,
    "start_time": "2023-08-18T14:43:15.471Z"
   },
   {
    "duration": 67,
    "start_time": "2023-08-18T14:43:15.553Z"
   },
   {
    "duration": 36,
    "start_time": "2023-08-18T14:43:15.622Z"
   },
   {
    "duration": 10,
    "start_time": "2023-08-18T14:43:15.661Z"
   },
   {
    "duration": 66,
    "start_time": "2023-08-18T14:43:15.673Z"
   },
   {
    "duration": 31,
    "start_time": "2023-08-18T14:43:15.743Z"
   },
   {
    "duration": 70,
    "start_time": "2023-08-18T14:43:15.776Z"
   },
   {
    "duration": 127,
    "start_time": "2023-08-18T14:43:15.848Z"
   },
   {
    "duration": 141,
    "start_time": "2023-08-18T14:43:15.977Z"
   },
   {
    "duration": 0,
    "start_time": "2023-08-18T14:43:16.127Z"
   },
   {
    "duration": 0,
    "start_time": "2023-08-18T14:43:16.128Z"
   },
   {
    "duration": 0,
    "start_time": "2023-08-18T14:43:16.129Z"
   },
   {
    "duration": 0,
    "start_time": "2023-08-18T14:43:16.129Z"
   },
   {
    "duration": 0,
    "start_time": "2023-08-18T14:43:16.130Z"
   },
   {
    "duration": 0,
    "start_time": "2023-08-18T14:43:16.130Z"
   },
   {
    "duration": 20,
    "start_time": "2023-08-18T14:44:12.851Z"
   },
   {
    "duration": 125,
    "start_time": "2023-08-18T14:44:12.873Z"
   },
   {
    "duration": 0,
    "start_time": "2023-08-18T14:44:13.000Z"
   },
   {
    "duration": 0,
    "start_time": "2023-08-18T14:44:13.001Z"
   },
   {
    "duration": 0,
    "start_time": "2023-08-18T14:44:13.002Z"
   },
   {
    "duration": 0,
    "start_time": "2023-08-18T14:44:13.003Z"
   },
   {
    "duration": 8,
    "start_time": "2023-08-18T15:23:50.098Z"
   },
   {
    "duration": 8,
    "start_time": "2023-08-18T15:23:51.523Z"
   },
   {
    "duration": 1609,
    "start_time": "2023-08-18T20:34:52.698Z"
   },
   {
    "duration": 77,
    "start_time": "2023-08-18T20:37:13.788Z"
   },
   {
    "duration": 183,
    "start_time": "2023-08-18T20:42:38.222Z"
   },
   {
    "duration": 6,
    "start_time": "2023-08-18T20:42:46.480Z"
   },
   {
    "duration": 1793,
    "start_time": "2023-08-18T20:42:46.488Z"
   },
   {
    "duration": 23,
    "start_time": "2023-08-18T20:42:48.283Z"
   },
   {
    "duration": 12,
    "start_time": "2023-08-18T20:42:48.309Z"
   },
   {
    "duration": 11,
    "start_time": "2023-08-18T20:42:48.324Z"
   },
   {
    "duration": 44,
    "start_time": "2023-08-18T20:42:48.337Z"
   },
   {
    "duration": 33,
    "start_time": "2023-08-18T20:42:48.382Z"
   },
   {
    "duration": 83,
    "start_time": "2023-08-18T20:42:48.417Z"
   },
   {
    "duration": 89,
    "start_time": "2023-08-18T20:42:48.501Z"
   },
   {
    "duration": 81,
    "start_time": "2023-08-18T20:42:48.592Z"
   },
   {
    "duration": 140,
    "start_time": "2023-08-18T20:42:48.674Z"
   },
   {
    "duration": 11,
    "start_time": "2023-08-18T20:42:48.816Z"
   },
   {
    "duration": 50,
    "start_time": "2023-08-18T20:42:48.832Z"
   },
   {
    "duration": 16,
    "start_time": "2023-08-18T20:42:48.885Z"
   },
   {
    "duration": 37,
    "start_time": "2023-08-18T20:42:48.904Z"
   },
   {
    "duration": 67,
    "start_time": "2023-08-18T20:42:48.942Z"
   },
   {
    "duration": 9,
    "start_time": "2023-08-18T20:42:49.011Z"
   },
   {
    "duration": 51,
    "start_time": "2023-08-18T20:42:49.023Z"
   },
   {
    "duration": 8,
    "start_time": "2023-08-18T20:42:49.081Z"
   },
   {
    "duration": 21,
    "start_time": "2023-08-18T20:42:49.090Z"
   },
   {
    "duration": 7,
    "start_time": "2023-08-18T20:42:49.113Z"
   },
   {
    "duration": 689,
    "start_time": "2023-08-18T20:42:49.122Z"
   },
   {
    "duration": 22,
    "start_time": "2023-08-18T20:42:49.812Z"
   },
   {
    "duration": 82,
    "start_time": "2023-08-18T20:42:49.836Z"
   },
   {
    "duration": 37,
    "start_time": "2023-08-18T20:42:49.920Z"
   },
   {
    "duration": 67,
    "start_time": "2023-08-18T20:42:49.958Z"
   },
   {
    "duration": 10,
    "start_time": "2023-08-18T20:42:50.028Z"
   },
   {
    "duration": 21,
    "start_time": "2023-08-18T20:42:50.040Z"
   },
   {
    "duration": 78,
    "start_time": "2023-08-18T20:42:50.063Z"
   },
   {
    "duration": 73,
    "start_time": "2023-08-18T20:42:50.143Z"
   },
   {
    "duration": 17,
    "start_time": "2023-08-18T20:42:50.218Z"
   },
   {
    "duration": 47,
    "start_time": "2023-08-18T20:42:50.237Z"
   },
   {
    "duration": 9,
    "start_time": "2023-08-18T20:42:50.286Z"
   },
   {
    "duration": 44,
    "start_time": "2023-08-18T20:42:50.305Z"
   },
   {
    "duration": 30,
    "start_time": "2023-08-18T20:42:50.351Z"
   },
   {
    "duration": 55,
    "start_time": "2023-08-18T20:42:50.382Z"
   },
   {
    "duration": 113,
    "start_time": "2023-08-18T20:42:50.440Z"
   },
   {
    "duration": 53,
    "start_time": "2023-08-18T20:42:50.555Z"
   },
   {
    "duration": 0,
    "start_time": "2023-08-18T20:42:50.609Z"
   },
   {
    "duration": 0,
    "start_time": "2023-08-18T20:42:50.610Z"
   },
   {
    "duration": 0,
    "start_time": "2023-08-18T20:42:50.611Z"
   },
   {
    "duration": 0,
    "start_time": "2023-08-18T20:42:50.612Z"
   },
   {
    "duration": 0,
    "start_time": "2023-08-18T20:42:50.613Z"
   },
   {
    "duration": 0,
    "start_time": "2023-08-18T20:42:50.614Z"
   },
   {
    "duration": 21,
    "start_time": "2023-08-18T20:43:42.019Z"
   },
   {
    "duration": 5,
    "start_time": "2023-08-18T20:44:44.139Z"
   },
   {
    "duration": 11,
    "start_time": "2023-08-18T20:45:13.256Z"
   },
   {
    "duration": 22,
    "start_time": "2023-08-18T20:45:21.186Z"
   },
   {
    "duration": 8,
    "start_time": "2023-08-18T20:45:34.521Z"
   },
   {
    "duration": 10,
    "start_time": "2023-08-18T20:46:05.314Z"
   },
   {
    "duration": 20,
    "start_time": "2023-08-18T20:46:30.908Z"
   },
   {
    "duration": 128,
    "start_time": "2023-08-18T21:04:50.311Z"
   },
   {
    "duration": 1777,
    "start_time": "2023-08-18T21:05:16.016Z"
   },
   {
    "duration": 110,
    "start_time": "2023-08-18T21:09:51.212Z"
   },
   {
    "duration": 1784,
    "start_time": "2023-08-18T21:10:56.453Z"
   },
   {
    "duration": 102,
    "start_time": "2023-08-18T21:12:29.389Z"
   },
   {
    "duration": 1778,
    "start_time": "2023-08-18T21:12:40.380Z"
   },
   {
    "duration": 1935,
    "start_time": "2023-08-18T21:13:40.004Z"
   },
   {
    "duration": 77,
    "start_time": "2023-08-19T07:08:58.461Z"
   },
   {
    "duration": 7,
    "start_time": "2023-08-19T07:09:38.508Z"
   },
   {
    "duration": 1282,
    "start_time": "2023-08-19T07:09:48.026Z"
   },
   {
    "duration": 824,
    "start_time": "2023-08-19T07:09:49.311Z"
   },
   {
    "duration": 13,
    "start_time": "2023-08-19T07:09:50.137Z"
   },
   {
    "duration": 19,
    "start_time": "2023-08-19T07:09:50.153Z"
   },
   {
    "duration": 9,
    "start_time": "2023-08-19T07:09:50.174Z"
   },
   {
    "duration": 24,
    "start_time": "2023-08-19T07:09:50.185Z"
   },
   {
    "duration": 13,
    "start_time": "2023-08-19T07:09:50.211Z"
   },
   {
    "duration": 89,
    "start_time": "2023-08-19T07:09:50.226Z"
   },
   {
    "duration": 92,
    "start_time": "2023-08-19T07:09:50.316Z"
   },
   {
    "duration": 80,
    "start_time": "2023-08-19T07:09:50.412Z"
   },
   {
    "duration": 116,
    "start_time": "2023-08-19T07:09:50.495Z"
   },
   {
    "duration": 11,
    "start_time": "2023-08-19T07:09:50.613Z"
   },
   {
    "duration": 33,
    "start_time": "2023-08-19T07:09:50.626Z"
   },
   {
    "duration": 9,
    "start_time": "2023-08-19T07:09:50.662Z"
   },
   {
    "duration": 45,
    "start_time": "2023-08-19T07:09:50.673Z"
   },
   {
    "duration": 42,
    "start_time": "2023-08-19T07:09:50.720Z"
   },
   {
    "duration": 49,
    "start_time": "2023-08-19T07:09:50.764Z"
   },
   {
    "duration": 64,
    "start_time": "2023-08-19T07:09:50.815Z"
   },
   {
    "duration": 9,
    "start_time": "2023-08-19T07:09:50.881Z"
   },
   {
    "duration": 65,
    "start_time": "2023-08-19T07:09:50.892Z"
   },
   {
    "duration": 67,
    "start_time": "2023-08-19T07:55:59.754Z"
   },
   {
    "duration": 3,
    "start_time": "2023-08-19T07:56:13.326Z"
   },
   {
    "duration": 182,
    "start_time": "2023-08-19T07:56:13.331Z"
   },
   {
    "duration": 8,
    "start_time": "2023-08-19T07:56:13.515Z"
   },
   {
    "duration": 13,
    "start_time": "2023-08-19T07:56:13.525Z"
   },
   {
    "duration": 15,
    "start_time": "2023-08-19T07:56:13.562Z"
   },
   {
    "duration": 24,
    "start_time": "2023-08-19T07:56:13.579Z"
   },
   {
    "duration": 15,
    "start_time": "2023-08-19T07:56:13.605Z"
   },
   {
    "duration": 82,
    "start_time": "2023-08-19T07:56:13.622Z"
   },
   {
    "duration": 82,
    "start_time": "2023-08-19T07:56:13.707Z"
   },
   {
    "duration": 60,
    "start_time": "2023-08-19T07:56:13.791Z"
   },
   {
    "duration": 119,
    "start_time": "2023-08-19T07:56:13.861Z"
   },
   {
    "duration": 10,
    "start_time": "2023-08-19T07:56:13.982Z"
   },
   {
    "duration": 21,
    "start_time": "2023-08-19T07:56:13.994Z"
   },
   {
    "duration": 10,
    "start_time": "2023-08-19T07:56:14.017Z"
   },
   {
    "duration": 53,
    "start_time": "2023-08-19T07:56:14.029Z"
   },
   {
    "duration": 35,
    "start_time": "2023-08-19T07:56:14.084Z"
   },
   {
    "duration": 15,
    "start_time": "2023-08-19T07:56:14.121Z"
   },
   {
    "duration": 47,
    "start_time": "2023-08-19T07:56:14.139Z"
   },
   {
    "duration": 9,
    "start_time": "2023-08-19T07:56:14.188Z"
   },
   {
    "duration": 67,
    "start_time": "2023-08-19T07:56:14.199Z"
   },
   {
    "duration": 7,
    "start_time": "2023-08-19T07:56:14.272Z"
   },
   {
    "duration": 15,
    "start_time": "2023-08-19T07:56:14.281Z"
   },
   {
    "duration": 656,
    "start_time": "2023-08-19T07:56:14.299Z"
   },
   {
    "duration": 19,
    "start_time": "2023-08-19T07:56:14.965Z"
   },
   {
    "duration": 37,
    "start_time": "2023-08-19T07:56:14.985Z"
   },
   {
    "duration": 64,
    "start_time": "2023-08-19T07:56:15.023Z"
   },
   {
    "duration": 9,
    "start_time": "2023-08-19T07:56:15.089Z"
   },
   {
    "duration": 8,
    "start_time": "2023-08-19T07:56:15.099Z"
   },
   {
    "duration": 28,
    "start_time": "2023-08-19T07:56:15.109Z"
   },
   {
    "duration": 56,
    "start_time": "2023-08-19T07:56:15.139Z"
   },
   {
    "duration": 80,
    "start_time": "2023-08-19T07:56:15.197Z"
   },
   {
    "duration": 20,
    "start_time": "2023-08-19T07:56:15.280Z"
   },
   {
    "duration": 19,
    "start_time": "2023-08-19T07:56:15.303Z"
   },
   {
    "duration": 55,
    "start_time": "2023-08-19T07:56:15.325Z"
   },
   {
    "duration": 9,
    "start_time": "2023-08-19T07:56:15.382Z"
   },
   {
    "duration": 12,
    "start_time": "2023-08-19T07:56:15.393Z"
   },
   {
    "duration": 0,
    "start_time": "2023-08-19T07:56:15.407Z"
   },
   {
    "duration": 0,
    "start_time": "2023-08-19T07:56:15.409Z"
   },
   {
    "duration": 0,
    "start_time": "2023-08-19T07:56:15.411Z"
   },
   {
    "duration": 0,
    "start_time": "2023-08-19T07:56:15.412Z"
   },
   {
    "duration": 0,
    "start_time": "2023-08-19T07:56:15.414Z"
   },
   {
    "duration": 0,
    "start_time": "2023-08-19T07:56:15.415Z"
   },
   {
    "duration": 0,
    "start_time": "2023-08-19T07:56:15.417Z"
   },
   {
    "duration": 0,
    "start_time": "2023-08-19T07:56:15.418Z"
   },
   {
    "duration": 0,
    "start_time": "2023-08-19T07:56:15.420Z"
   },
   {
    "duration": 0,
    "start_time": "2023-08-19T07:56:15.421Z"
   },
   {
    "duration": 1,
    "start_time": "2023-08-19T07:56:15.458Z"
   },
   {
    "duration": 10,
    "start_time": "2023-08-19T07:56:33.692Z"
   },
   {
    "duration": 11,
    "start_time": "2023-08-19T07:57:01.855Z"
   },
   {
    "duration": 10,
    "start_time": "2023-08-19T07:57:08.473Z"
   },
   {
    "duration": 24,
    "start_time": "2023-08-19T07:57:19.809Z"
   },
   {
    "duration": 9,
    "start_time": "2023-08-19T07:57:20.523Z"
   },
   {
    "duration": 10,
    "start_time": "2023-08-19T07:57:21.232Z"
   },
   {
    "duration": 6,
    "start_time": "2023-08-19T08:01:37.228Z"
   },
   {
    "duration": 9,
    "start_time": "2023-08-19T08:01:50.785Z"
   },
   {
    "duration": 11,
    "start_time": "2023-08-19T08:04:39.210Z"
   },
   {
    "duration": 3,
    "start_time": "2023-08-19T08:04:46.535Z"
   },
   {
    "duration": 163,
    "start_time": "2023-08-19T08:04:46.540Z"
   },
   {
    "duration": 7,
    "start_time": "2023-08-19T08:04:46.705Z"
   },
   {
    "duration": 28,
    "start_time": "2023-08-19T08:04:46.714Z"
   },
   {
    "duration": 42,
    "start_time": "2023-08-19T08:04:46.743Z"
   },
   {
    "duration": 27,
    "start_time": "2023-08-19T08:04:46.786Z"
   },
   {
    "duration": 13,
    "start_time": "2023-08-19T08:04:46.815Z"
   },
   {
    "duration": 67,
    "start_time": "2023-08-19T08:04:46.829Z"
   },
   {
    "duration": 77,
    "start_time": "2023-08-19T08:04:46.898Z"
   },
   {
    "duration": 56,
    "start_time": "2023-08-19T08:04:46.977Z"
   },
   {
    "duration": 118,
    "start_time": "2023-08-19T08:04:47.035Z"
   },
   {
    "duration": 20,
    "start_time": "2023-08-19T08:04:47.155Z"
   },
   {
    "duration": 21,
    "start_time": "2023-08-19T08:04:47.177Z"
   },
   {
    "duration": 10,
    "start_time": "2023-08-19T08:04:47.200Z"
   },
   {
    "duration": 35,
    "start_time": "2023-08-19T08:04:47.211Z"
   },
   {
    "duration": 49,
    "start_time": "2023-08-19T08:04:47.247Z"
   },
   {
    "duration": 19,
    "start_time": "2023-08-19T08:04:47.298Z"
   },
   {
    "duration": 28,
    "start_time": "2023-08-19T08:04:47.318Z"
   },
   {
    "duration": 6,
    "start_time": "2023-08-19T08:04:47.348Z"
   },
   {
    "duration": 55,
    "start_time": "2023-08-19T08:04:47.356Z"
   },
   {
    "duration": 6,
    "start_time": "2023-08-19T08:04:47.414Z"
   },
   {
    "duration": 6,
    "start_time": "2023-08-19T08:04:47.422Z"
   },
   {
    "duration": 553,
    "start_time": "2023-08-19T08:04:47.430Z"
   },
   {
    "duration": 15,
    "start_time": "2023-08-19T08:04:47.986Z"
   },
   {
    "duration": 48,
    "start_time": "2023-08-19T08:04:48.002Z"
   },
   {
    "duration": 49,
    "start_time": "2023-08-19T08:04:48.058Z"
   },
   {
    "duration": 24,
    "start_time": "2023-08-19T08:04:48.109Z"
   },
   {
    "duration": 8,
    "start_time": "2023-08-19T08:04:48.135Z"
   },
   {
    "duration": 29,
    "start_time": "2023-08-19T08:04:48.145Z"
   },
   {
    "duration": 39,
    "start_time": "2023-08-19T08:04:48.177Z"
   },
   {
    "duration": 73,
    "start_time": "2023-08-19T08:04:48.218Z"
   },
   {
    "duration": 18,
    "start_time": "2023-08-19T08:04:48.293Z"
   },
   {
    "duration": 18,
    "start_time": "2023-08-19T08:04:48.313Z"
   },
   {
    "duration": 54,
    "start_time": "2023-08-19T08:04:48.332Z"
   },
   {
    "duration": 9,
    "start_time": "2023-08-19T08:04:48.388Z"
   },
   {
    "duration": 12,
    "start_time": "2023-08-19T08:21:12.295Z"
   },
   {
    "duration": 80,
    "start_time": "2023-08-19T08:21:51.556Z"
   },
   {
    "duration": 106,
    "start_time": "2023-08-19T08:30:03.631Z"
   },
   {
    "duration": 69,
    "start_time": "2023-08-19T08:34:57.920Z"
   },
   {
    "duration": 10,
    "start_time": "2023-08-19T08:38:00.068Z"
   },
   {
    "duration": 24,
    "start_time": "2023-08-19T08:38:02.665Z"
   },
   {
    "duration": 3,
    "start_time": "2023-08-19T08:38:08.762Z"
   },
   {
    "duration": 151,
    "start_time": "2023-08-19T08:38:08.768Z"
   },
   {
    "duration": 8,
    "start_time": "2023-08-19T08:38:08.921Z"
   },
   {
    "duration": 28,
    "start_time": "2023-08-19T08:38:08.931Z"
   },
   {
    "duration": 9,
    "start_time": "2023-08-19T08:38:08.961Z"
   },
   {
    "duration": 27,
    "start_time": "2023-08-19T08:38:08.972Z"
   },
   {
    "duration": 27,
    "start_time": "2023-08-19T08:38:09.001Z"
   },
   {
    "duration": 67,
    "start_time": "2023-08-19T08:38:09.030Z"
   },
   {
    "duration": 84,
    "start_time": "2023-08-19T08:38:09.099Z"
   },
   {
    "duration": 94,
    "start_time": "2023-08-19T08:38:09.185Z"
   },
   {
    "duration": 106,
    "start_time": "2023-08-19T08:38:09.281Z"
   },
   {
    "duration": 10,
    "start_time": "2023-08-19T08:38:09.389Z"
   },
   {
    "duration": 22,
    "start_time": "2023-08-19T08:38:09.401Z"
   },
   {
    "duration": 9,
    "start_time": "2023-08-19T08:38:09.424Z"
   },
   {
    "duration": 25,
    "start_time": "2023-08-19T08:38:09.435Z"
   },
   {
    "duration": 31,
    "start_time": "2023-08-19T08:38:09.462Z"
   },
   {
    "duration": 10,
    "start_time": "2023-08-19T08:38:09.495Z"
   },
   {
    "duration": 30,
    "start_time": "2023-08-19T08:38:09.507Z"
   },
   {
    "duration": 6,
    "start_time": "2023-08-19T08:38:09.538Z"
   },
   {
    "duration": 47,
    "start_time": "2023-08-19T08:38:09.546Z"
   },
   {
    "duration": 6,
    "start_time": "2023-08-19T08:38:09.594Z"
   },
   {
    "duration": 6,
    "start_time": "2023-08-19T08:38:09.602Z"
   },
   {
    "duration": 706,
    "start_time": "2023-08-19T08:38:09.610Z"
   },
   {
    "duration": 14,
    "start_time": "2023-08-19T08:38:10.320Z"
   },
   {
    "duration": 47,
    "start_time": "2023-08-19T08:38:10.336Z"
   },
   {
    "duration": 36,
    "start_time": "2023-08-19T08:38:10.385Z"
   },
   {
    "duration": 12,
    "start_time": "2023-08-19T08:38:10.423Z"
   },
   {
    "duration": 27,
    "start_time": "2023-08-19T08:38:10.437Z"
   },
   {
    "duration": 15,
    "start_time": "2023-08-19T08:38:10.466Z"
   },
   {
    "duration": 40,
    "start_time": "2023-08-19T08:38:10.482Z"
   },
   {
    "duration": 83,
    "start_time": "2023-08-19T08:38:10.524Z"
   },
   {
    "duration": 19,
    "start_time": "2023-08-19T08:38:10.609Z"
   },
   {
    "duration": 40,
    "start_time": "2023-08-19T08:38:10.630Z"
   },
   {
    "duration": 25,
    "start_time": "2023-08-19T08:38:10.672Z"
   },
   {
    "duration": 9,
    "start_time": "2023-08-19T08:38:10.699Z"
   },
   {
    "duration": 57,
    "start_time": "2023-08-19T08:38:10.709Z"
   },
   {
    "duration": 22,
    "start_time": "2023-08-19T08:38:10.768Z"
   },
   {
    "duration": 67,
    "start_time": "2023-08-19T08:38:10.793Z"
   },
   {
    "duration": 29,
    "start_time": "2023-08-19T08:38:10.862Z"
   },
   {
    "duration": 0,
    "start_time": "2023-08-19T08:38:10.893Z"
   },
   {
    "duration": 0,
    "start_time": "2023-08-19T08:38:10.894Z"
   },
   {
    "duration": 6,
    "start_time": "2023-08-19T08:38:14.161Z"
   },
   {
    "duration": 41,
    "start_time": "2023-08-19T08:38:15.060Z"
   },
   {
    "duration": 4,
    "start_time": "2023-08-19T08:38:37.294Z"
   },
   {
    "duration": 3,
    "start_time": "2023-08-19T08:38:41.640Z"
   },
   {
    "duration": 25,
    "start_time": "2023-08-19T08:38:53.687Z"
   },
   {
    "duration": 7,
    "start_time": "2023-08-19T08:39:05.467Z"
   },
   {
    "duration": 90,
    "start_time": "2023-08-19T08:39:06.048Z"
   },
   {
    "duration": 68,
    "start_time": "2023-08-19T08:39:39.444Z"
   },
   {
    "duration": 64,
    "start_time": "2023-08-19T08:39:47.226Z"
   },
   {
    "duration": 10,
    "start_time": "2023-08-19T08:39:54.687Z"
   },
   {
    "duration": 8,
    "start_time": "2023-08-19T08:39:59.969Z"
   },
   {
    "duration": 130,
    "start_time": "2023-08-19T08:40:00.488Z"
   },
   {
    "duration": 3,
    "start_time": "2023-08-19T08:51:09.873Z"
   },
   {
    "duration": 188,
    "start_time": "2023-08-19T08:51:09.878Z"
   },
   {
    "duration": 9,
    "start_time": "2023-08-19T08:51:10.069Z"
   },
   {
    "duration": 15,
    "start_time": "2023-08-19T08:51:10.081Z"
   },
   {
    "duration": 8,
    "start_time": "2023-08-19T08:51:10.098Z"
   },
   {
    "duration": 35,
    "start_time": "2023-08-19T08:51:10.108Z"
   },
   {
    "duration": 24,
    "start_time": "2023-08-19T08:51:10.145Z"
   },
   {
    "duration": 64,
    "start_time": "2023-08-19T08:51:10.171Z"
   },
   {
    "duration": 98,
    "start_time": "2023-08-19T08:51:10.239Z"
   },
   {
    "duration": 72,
    "start_time": "2023-08-19T08:51:10.339Z"
   },
   {
    "duration": 116,
    "start_time": "2023-08-19T08:51:10.413Z"
   },
   {
    "duration": 10,
    "start_time": "2023-08-19T08:51:10.531Z"
   },
   {
    "duration": 31,
    "start_time": "2023-08-19T08:51:10.543Z"
   },
   {
    "duration": 10,
    "start_time": "2023-08-19T08:51:10.576Z"
   },
   {
    "duration": 23,
    "start_time": "2023-08-19T08:51:10.587Z"
   },
   {
    "duration": 28,
    "start_time": "2023-08-19T08:51:10.612Z"
   },
   {
    "duration": 6,
    "start_time": "2023-08-19T08:51:10.658Z"
   },
   {
    "duration": 23,
    "start_time": "2023-08-19T08:51:10.666Z"
   },
   {
    "duration": 21,
    "start_time": "2023-08-19T08:51:10.691Z"
   },
   {
    "duration": 48,
    "start_time": "2023-08-19T08:51:10.714Z"
   },
   {
    "duration": 6,
    "start_time": "2023-08-19T08:51:10.763Z"
   },
   {
    "duration": 6,
    "start_time": "2023-08-19T08:51:10.770Z"
   },
   {
    "duration": 522,
    "start_time": "2023-08-19T08:51:10.777Z"
   },
   {
    "duration": 14,
    "start_time": "2023-08-19T08:51:11.302Z"
   },
   {
    "duration": 52,
    "start_time": "2023-08-19T08:51:11.317Z"
   },
   {
    "duration": 36,
    "start_time": "2023-08-19T08:51:11.370Z"
   },
   {
    "duration": 9,
    "start_time": "2023-08-19T08:51:11.408Z"
   },
   {
    "duration": 41,
    "start_time": "2023-08-19T08:51:11.418Z"
   },
   {
    "duration": 15,
    "start_time": "2023-08-19T08:51:11.461Z"
   },
   {
    "duration": 40,
    "start_time": "2023-08-19T08:51:11.477Z"
   },
   {
    "duration": 86,
    "start_time": "2023-08-19T08:51:11.519Z"
   },
   {
    "duration": 20,
    "start_time": "2023-08-19T08:51:11.606Z"
   },
   {
    "duration": 34,
    "start_time": "2023-08-19T08:51:11.628Z"
   },
   {
    "duration": 32,
    "start_time": "2023-08-19T08:51:11.663Z"
   },
   {
    "duration": 10,
    "start_time": "2023-08-19T08:51:11.696Z"
   },
   {
    "duration": 36,
    "start_time": "2023-08-19T08:51:11.707Z"
   },
   {
    "duration": 36,
    "start_time": "2023-08-19T08:51:11.744Z"
   },
   {
    "duration": 52,
    "start_time": "2023-08-19T08:51:11.782Z"
   },
   {
    "duration": 48,
    "start_time": "2023-08-19T08:51:11.835Z"
   },
   {
    "duration": 6,
    "start_time": "2023-08-19T08:51:11.885Z"
   },
   {
    "duration": 109,
    "start_time": "2023-08-19T08:51:11.893Z"
   },
   {
    "duration": 89,
    "start_time": "2023-08-19T08:51:12.004Z"
   },
   {
    "duration": 71,
    "start_time": "2023-08-19T08:51:12.095Z"
   },
   {
    "duration": 6,
    "start_time": "2023-08-19T08:51:12.168Z"
   },
   {
    "duration": 109,
    "start_time": "2023-08-19T08:51:12.176Z"
   },
   {
    "duration": 47,
    "start_time": "2023-08-19T16:04:44.060Z"
   },
   {
    "duration": 1053,
    "start_time": "2023-08-19T16:04:49.483Z"
   },
   {
    "duration": 670,
    "start_time": "2023-08-19T16:04:50.538Z"
   },
   {
    "duration": 11,
    "start_time": "2023-08-19T16:04:51.210Z"
   },
   {
    "duration": 10,
    "start_time": "2023-08-19T16:04:51.223Z"
   },
   {
    "duration": 15,
    "start_time": "2023-08-19T16:04:51.234Z"
   },
   {
    "duration": 27,
    "start_time": "2023-08-19T16:04:51.251Z"
   },
   {
    "duration": 14,
    "start_time": "2023-08-19T16:04:51.280Z"
   },
   {
    "duration": 76,
    "start_time": "2023-08-19T16:04:51.296Z"
   },
   {
    "duration": 79,
    "start_time": "2023-08-19T16:04:51.373Z"
   },
   {
    "duration": 56,
    "start_time": "2023-08-19T16:04:51.455Z"
   },
   {
    "duration": 121,
    "start_time": "2023-08-19T16:04:51.512Z"
   },
   {
    "duration": 8,
    "start_time": "2023-08-19T16:04:51.635Z"
   },
   {
    "duration": 23,
    "start_time": "2023-08-19T16:04:51.649Z"
   },
   {
    "duration": 9,
    "start_time": "2023-08-19T16:04:51.673Z"
   },
   {
    "duration": 23,
    "start_time": "2023-08-19T16:04:51.684Z"
   },
   {
    "duration": 46,
    "start_time": "2023-08-19T16:04:51.708Z"
   },
   {
    "duration": 14,
    "start_time": "2023-08-19T16:04:51.756Z"
   },
   {
    "duration": 24,
    "start_time": "2023-08-19T16:04:51.772Z"
   },
   {
    "duration": 10,
    "start_time": "2023-08-19T16:04:51.798Z"
   },
   {
    "duration": 48,
    "start_time": "2023-08-19T16:04:51.810Z"
   },
   {
    "duration": 5,
    "start_time": "2023-08-19T16:04:51.859Z"
   },
   {
    "duration": 15,
    "start_time": "2023-08-19T16:04:51.866Z"
   },
   {
    "duration": 534,
    "start_time": "2023-08-19T16:04:51.882Z"
   },
   {
    "duration": 14,
    "start_time": "2023-08-19T16:04:52.418Z"
   },
   {
    "duration": 73,
    "start_time": "2023-08-19T16:04:52.434Z"
   },
   {
    "duration": 52,
    "start_time": "2023-08-19T16:04:52.509Z"
   },
   {
    "duration": 9,
    "start_time": "2023-08-19T16:04:52.563Z"
   },
   {
    "duration": 7,
    "start_time": "2023-08-19T16:04:52.575Z"
   },
   {
    "duration": 24,
    "start_time": "2023-08-19T16:04:52.584Z"
   },
   {
    "duration": 60,
    "start_time": "2023-08-19T16:04:52.609Z"
   },
   {
    "duration": 55,
    "start_time": "2023-08-19T16:04:52.671Z"
   },
   {
    "duration": 32,
    "start_time": "2023-08-19T16:04:52.728Z"
   },
   {
    "duration": 17,
    "start_time": "2023-08-19T16:04:52.762Z"
   },
   {
    "duration": 35,
    "start_time": "2023-08-19T16:04:52.781Z"
   },
   {
    "duration": 9,
    "start_time": "2023-08-19T16:04:52.818Z"
   },
   {
    "duration": 23,
    "start_time": "2023-08-19T16:04:52.828Z"
   },
   {
    "duration": 50,
    "start_time": "2023-08-19T16:04:52.853Z"
   },
   {
    "duration": 21,
    "start_time": "2023-08-19T16:04:52.905Z"
   },
   {
    "duration": 100,
    "start_time": "2023-08-19T16:04:52.927Z"
   },
   {
    "duration": 34,
    "start_time": "2023-08-19T16:04:53.028Z"
   },
   {
    "duration": 6,
    "start_time": "2023-08-19T16:04:53.064Z"
   },
   {
    "duration": 98,
    "start_time": "2023-08-19T16:04:53.071Z"
   },
   {
    "duration": 65,
    "start_time": "2023-08-19T16:04:53.171Z"
   },
   {
    "duration": 80,
    "start_time": "2023-08-19T16:04:53.238Z"
   },
   {
    "duration": 6,
    "start_time": "2023-08-19T16:04:53.319Z"
   },
   {
    "duration": 102,
    "start_time": "2023-08-19T16:04:53.326Z"
   },
   {
    "duration": 11,
    "start_time": "2023-08-19T16:12:55.664Z"
   },
   {
    "duration": 14,
    "start_time": "2023-08-19T16:15:03.380Z"
   },
   {
    "duration": 6,
    "start_time": "2023-08-19T16:15:05.587Z"
   },
   {
    "duration": 6,
    "start_time": "2023-08-19T16:15:06.179Z"
   },
   {
    "duration": 7,
    "start_time": "2023-08-19T16:17:01.272Z"
   },
   {
    "duration": 136,
    "start_time": "2023-08-19T16:17:01.930Z"
   },
   {
    "duration": 7,
    "start_time": "2023-08-19T16:17:13.666Z"
   },
   {
    "duration": 19,
    "start_time": "2023-08-19T16:17:13.961Z"
   },
   {
    "duration": 6,
    "start_time": "2023-08-19T16:17:23.803Z"
   },
   {
    "duration": 6,
    "start_time": "2023-08-19T16:17:25.587Z"
   },
   {
    "duration": 31,
    "start_time": "2023-08-19T16:22:35.434Z"
   },
   {
    "duration": 44,
    "start_time": "2023-08-20T07:33:06.173Z"
   },
   {
    "duration": 1427,
    "start_time": "2023-08-20T07:33:12.359Z"
   },
   {
    "duration": 603,
    "start_time": "2023-08-20T07:33:13.789Z"
   },
   {
    "duration": 14,
    "start_time": "2023-08-20T07:33:14.394Z"
   },
   {
    "duration": 9,
    "start_time": "2023-08-20T07:33:14.410Z"
   },
   {
    "duration": 21,
    "start_time": "2023-08-20T07:33:14.421Z"
   },
   {
    "duration": 43,
    "start_time": "2023-08-20T07:33:14.444Z"
   },
   {
    "duration": 23,
    "start_time": "2023-08-20T07:33:14.490Z"
   },
   {
    "duration": 94,
    "start_time": "2023-08-20T07:33:14.514Z"
   },
   {
    "duration": 96,
    "start_time": "2023-08-20T07:33:14.610Z"
   },
   {
    "duration": 85,
    "start_time": "2023-08-20T07:33:14.708Z"
   },
   {
    "duration": 144,
    "start_time": "2023-08-20T07:33:14.795Z"
   },
   {
    "duration": 19,
    "start_time": "2023-08-20T07:33:14.945Z"
   },
   {
    "duration": 20,
    "start_time": "2023-08-20T07:33:14.969Z"
   },
   {
    "duration": 8,
    "start_time": "2023-08-20T07:33:14.991Z"
   },
   {
    "duration": 62,
    "start_time": "2023-08-20T07:33:15.000Z"
   },
   {
    "duration": 38,
    "start_time": "2023-08-20T07:33:15.064Z"
   },
   {
    "duration": 22,
    "start_time": "2023-08-20T07:33:15.104Z"
   },
   {
    "duration": 55,
    "start_time": "2023-08-20T07:33:15.128Z"
   },
   {
    "duration": 10,
    "start_time": "2023-08-20T07:33:15.186Z"
   },
   {
    "duration": 60,
    "start_time": "2023-08-20T07:33:15.198Z"
   },
   {
    "duration": 7,
    "start_time": "2023-08-20T07:33:15.260Z"
   },
   {
    "duration": 7,
    "start_time": "2023-08-20T07:33:15.269Z"
   },
   {
    "duration": 607,
    "start_time": "2023-08-20T07:33:15.279Z"
   },
   {
    "duration": 14,
    "start_time": "2023-08-20T07:33:15.888Z"
   },
   {
    "duration": 78,
    "start_time": "2023-08-20T07:33:15.903Z"
   },
   {
    "duration": 47,
    "start_time": "2023-08-20T07:33:15.982Z"
   },
   {
    "duration": 13,
    "start_time": "2023-08-20T07:33:16.035Z"
   },
   {
    "duration": 14,
    "start_time": "2023-08-20T07:33:16.052Z"
   },
   {
    "duration": 21,
    "start_time": "2023-08-20T07:33:16.070Z"
   },
   {
    "duration": 72,
    "start_time": "2023-08-20T07:33:16.093Z"
   },
   {
    "duration": 75,
    "start_time": "2023-08-20T07:33:16.167Z"
   },
   {
    "duration": 22,
    "start_time": "2023-08-20T07:33:16.248Z"
   },
   {
    "duration": 22,
    "start_time": "2023-08-20T07:33:16.272Z"
   },
   {
    "duration": 24,
    "start_time": "2023-08-20T07:33:16.295Z"
   },
   {
    "duration": 90,
    "start_time": "2023-08-20T07:33:16.334Z"
   },
   {
    "duration": 167,
    "start_time": "2023-08-20T07:33:30.673Z"
   },
   {
    "duration": 11,
    "start_time": "2023-08-20T07:33:36.350Z"
   },
   {
    "duration": 12,
    "start_time": "2023-08-20T07:52:49.918Z"
   },
   {
    "duration": 10,
    "start_time": "2023-08-20T07:52:55.834Z"
   },
   {
    "duration": 184,
    "start_time": "2023-08-20T07:53:07.102Z"
   },
   {
    "duration": 36,
    "start_time": "2023-08-20T08:08:53.065Z"
   },
   {
    "duration": 39,
    "start_time": "2023-08-20T08:09:11.770Z"
   },
   {
    "duration": 1664,
    "start_time": "2023-08-20T08:10:07.747Z"
   },
   {
    "duration": 3,
    "start_time": "2023-08-20T08:10:19.096Z"
   },
   {
    "duration": 184,
    "start_time": "2023-08-20T08:10:19.102Z"
   },
   {
    "duration": 9,
    "start_time": "2023-08-20T08:10:19.289Z"
   },
   {
    "duration": 15,
    "start_time": "2023-08-20T08:10:19.300Z"
   },
   {
    "duration": 19,
    "start_time": "2023-08-20T08:10:19.318Z"
   },
   {
    "duration": 26,
    "start_time": "2023-08-20T08:10:19.339Z"
   },
   {
    "duration": 15,
    "start_time": "2023-08-20T08:10:19.367Z"
   },
   {
    "duration": 76,
    "start_time": "2023-08-20T08:10:19.384Z"
   },
   {
    "duration": 55,
    "start_time": "2023-08-20T08:10:19.461Z"
   },
   {
    "duration": 65,
    "start_time": "2023-08-20T08:10:19.518Z"
   },
   {
    "duration": 122,
    "start_time": "2023-08-20T08:10:19.586Z"
   },
   {
    "duration": 9,
    "start_time": "2023-08-20T08:10:19.710Z"
   },
   {
    "duration": 22,
    "start_time": "2023-08-20T08:10:19.734Z"
   },
   {
    "duration": 10,
    "start_time": "2023-08-20T08:10:19.758Z"
   },
   {
    "duration": 29,
    "start_time": "2023-08-20T08:10:19.769Z"
   },
   {
    "duration": 54,
    "start_time": "2023-08-20T08:10:19.800Z"
   },
   {
    "duration": 20,
    "start_time": "2023-08-20T08:10:19.855Z"
   },
   {
    "duration": 31,
    "start_time": "2023-08-20T08:10:19.876Z"
   },
   {
    "duration": 16,
    "start_time": "2023-08-20T08:10:19.908Z"
   },
   {
    "duration": 47,
    "start_time": "2023-08-20T08:10:19.925Z"
   },
   {
    "duration": 6,
    "start_time": "2023-08-20T08:10:19.974Z"
   },
   {
    "duration": 11,
    "start_time": "2023-08-20T08:10:19.982Z"
   },
   {
    "duration": 494,
    "start_time": "2023-08-20T08:10:19.995Z"
   },
   {
    "duration": 13,
    "start_time": "2023-08-20T08:10:20.491Z"
   },
   {
    "duration": 56,
    "start_time": "2023-08-20T08:10:20.505Z"
   },
   {
    "duration": 41,
    "start_time": "2023-08-20T08:10:20.563Z"
   },
   {
    "duration": 33,
    "start_time": "2023-08-20T08:10:20.607Z"
   },
   {
    "duration": 8,
    "start_time": "2023-08-20T08:10:20.642Z"
   },
   {
    "duration": 30,
    "start_time": "2023-08-20T08:10:20.653Z"
   },
   {
    "duration": 60,
    "start_time": "2023-08-20T08:10:20.685Z"
   },
   {
    "duration": 69,
    "start_time": "2023-08-20T08:10:20.747Z"
   },
   {
    "duration": 28,
    "start_time": "2023-08-20T08:10:20.818Z"
   },
   {
    "duration": 39,
    "start_time": "2023-08-20T08:10:20.848Z"
   },
   {
    "duration": 46,
    "start_time": "2023-08-20T08:10:20.889Z"
   },
   {
    "duration": 8,
    "start_time": "2023-08-20T08:11:56.346Z"
   },
   {
    "duration": 45,
    "start_time": "2023-08-20T08:19:26.737Z"
   },
   {
    "duration": 24,
    "start_time": "2023-08-20T08:19:34.878Z"
   },
   {
    "duration": 10,
    "start_time": "2023-08-20T08:19:58.273Z"
   },
   {
    "duration": 21,
    "start_time": "2023-08-20T08:36:34.438Z"
   },
   {
    "duration": 3,
    "start_time": "2023-08-20T08:36:52.012Z"
   },
   {
    "duration": 188,
    "start_time": "2023-08-20T08:36:52.018Z"
   },
   {
    "duration": 8,
    "start_time": "2023-08-20T08:36:52.208Z"
   },
   {
    "duration": 19,
    "start_time": "2023-08-20T08:36:52.218Z"
   },
   {
    "duration": 43,
    "start_time": "2023-08-20T08:36:52.238Z"
   },
   {
    "duration": 59,
    "start_time": "2023-08-20T08:36:52.283Z"
   },
   {
    "duration": 45,
    "start_time": "2023-08-20T08:36:52.346Z"
   },
   {
    "duration": 79,
    "start_time": "2023-08-20T08:36:52.393Z"
   },
   {
    "duration": 75,
    "start_time": "2023-08-20T08:36:52.475Z"
   },
   {
    "duration": 48,
    "start_time": "2023-08-20T08:36:52.552Z"
   },
   {
    "duration": 122,
    "start_time": "2023-08-20T08:36:52.602Z"
   },
   {
    "duration": 17,
    "start_time": "2023-08-20T08:36:52.725Z"
   },
   {
    "duration": 26,
    "start_time": "2023-08-20T08:36:52.743Z"
   },
   {
    "duration": 24,
    "start_time": "2023-08-20T08:36:52.770Z"
   },
   {
    "duration": 46,
    "start_time": "2023-08-20T08:36:52.797Z"
   },
   {
    "duration": 64,
    "start_time": "2023-08-20T08:36:52.845Z"
   },
   {
    "duration": 21,
    "start_time": "2023-08-20T08:36:52.911Z"
   },
   {
    "duration": 28,
    "start_time": "2023-08-20T08:36:52.934Z"
   },
   {
    "duration": 20,
    "start_time": "2023-08-20T08:36:52.963Z"
   },
   {
    "duration": 45,
    "start_time": "2023-08-20T08:36:52.986Z"
   },
   {
    "duration": 5,
    "start_time": "2023-08-20T08:36:53.033Z"
   },
   {
    "duration": 20,
    "start_time": "2023-08-20T08:36:53.039Z"
   },
   {
    "duration": 549,
    "start_time": "2023-08-20T08:36:53.060Z"
   },
   {
    "duration": 24,
    "start_time": "2023-08-20T08:36:53.613Z"
   },
   {
    "duration": 45,
    "start_time": "2023-08-20T08:36:53.639Z"
   },
   {
    "duration": 56,
    "start_time": "2023-08-20T08:36:53.685Z"
   },
   {
    "duration": 10,
    "start_time": "2023-08-20T08:36:53.743Z"
   },
   {
    "duration": 8,
    "start_time": "2023-08-20T08:36:53.755Z"
   },
   {
    "duration": 19,
    "start_time": "2023-08-20T08:36:53.765Z"
   },
   {
    "duration": 79,
    "start_time": "2023-08-20T08:36:53.786Z"
   },
   {
    "duration": 68,
    "start_time": "2023-08-20T08:36:53.867Z"
   },
   {
    "duration": 15,
    "start_time": "2023-08-20T08:36:53.937Z"
   },
   {
    "duration": 21,
    "start_time": "2023-08-20T08:36:53.954Z"
   },
   {
    "duration": 44,
    "start_time": "2023-08-20T08:36:53.976Z"
   },
   {
    "duration": 21,
    "start_time": "2023-08-20T08:36:54.022Z"
   },
   {
    "duration": 41,
    "start_time": "2023-08-20T08:36:54.045Z"
   },
   {
    "duration": 20,
    "start_time": "2023-08-20T08:36:54.088Z"
   },
   {
    "duration": 127,
    "start_time": "2023-08-20T08:36:54.110Z"
   },
   {
    "duration": 31,
    "start_time": "2023-08-20T08:36:54.238Z"
   },
   {
    "duration": 6,
    "start_time": "2023-08-20T08:38:33.005Z"
   },
   {
    "duration": 52,
    "start_time": "2023-08-20T08:38:35.240Z"
   },
   {
    "duration": 5,
    "start_time": "2023-08-20T08:44:21.198Z"
   },
   {
    "duration": 45,
    "start_time": "2023-08-20T08:44:21.802Z"
   },
   {
    "duration": 9,
    "start_time": "2023-08-20T08:45:03.659Z"
   },
   {
    "duration": 102,
    "start_time": "2023-08-20T08:45:04.446Z"
   },
   {
    "duration": 1242,
    "start_time": "2023-08-20T16:02:27.692Z"
   },
   {
    "duration": 594,
    "start_time": "2023-08-20T16:02:28.936Z"
   },
   {
    "duration": 17,
    "start_time": "2023-08-20T16:02:29.531Z"
   },
   {
    "duration": 9,
    "start_time": "2023-08-20T16:02:29.553Z"
   },
   {
    "duration": 7,
    "start_time": "2023-08-20T16:02:29.564Z"
   },
   {
    "duration": 31,
    "start_time": "2023-08-20T16:02:29.573Z"
   },
   {
    "duration": 50,
    "start_time": "2023-08-20T16:02:29.605Z"
   },
   {
    "duration": 58,
    "start_time": "2023-08-20T16:02:29.657Z"
   },
   {
    "duration": 93,
    "start_time": "2023-08-20T16:02:29.716Z"
   },
   {
    "duration": 84,
    "start_time": "2023-08-20T16:02:29.812Z"
   },
   {
    "duration": 132,
    "start_time": "2023-08-20T16:02:29.898Z"
   },
   {
    "duration": 18,
    "start_time": "2023-08-20T16:02:30.035Z"
   },
   {
    "duration": 72,
    "start_time": "2023-08-20T16:02:30.057Z"
   },
   {
    "duration": 75,
    "start_time": "2023-08-20T16:02:30.130Z"
   },
   {
    "duration": 85,
    "start_time": "2023-08-20T16:02:30.206Z"
   },
   {
    "duration": 75,
    "start_time": "2023-08-20T16:02:30.293Z"
   },
   {
    "duration": 60,
    "start_time": "2023-08-20T16:02:30.369Z"
   },
   {
    "duration": 57,
    "start_time": "2023-08-20T16:02:30.431Z"
   },
   {
    "duration": 54,
    "start_time": "2023-08-20T16:02:30.490Z"
   },
   {
    "duration": 71,
    "start_time": "2023-08-20T16:02:30.547Z"
   },
   {
    "duration": 33,
    "start_time": "2023-08-20T16:02:30.620Z"
   },
   {
    "duration": 48,
    "start_time": "2023-08-20T16:02:30.658Z"
   },
   {
    "duration": 657,
    "start_time": "2023-08-20T16:02:30.708Z"
   },
   {
    "duration": 15,
    "start_time": "2023-08-20T16:02:31.367Z"
   },
   {
    "duration": 90,
    "start_time": "2023-08-20T16:02:31.383Z"
   },
   {
    "duration": 136,
    "start_time": "2023-08-20T16:02:31.475Z"
   },
   {
    "duration": 108,
    "start_time": "2023-08-20T16:02:31.612Z"
   },
   {
    "duration": 77,
    "start_time": "2023-08-20T16:02:31.723Z"
   },
   {
    "duration": 82,
    "start_time": "2023-08-20T16:02:31.801Z"
   },
   {
    "duration": 73,
    "start_time": "2023-08-20T16:02:31.885Z"
   },
   {
    "duration": 61,
    "start_time": "2023-08-20T16:02:31.960Z"
   },
   {
    "duration": 32,
    "start_time": "2023-08-20T16:02:32.022Z"
   },
   {
    "duration": 123,
    "start_time": "2023-08-20T16:02:32.058Z"
   },
   {
    "duration": 30,
    "start_time": "2023-08-20T16:02:32.183Z"
   },
   {
    "duration": 46,
    "start_time": "2023-08-20T16:02:32.215Z"
   },
   {
    "duration": 66,
    "start_time": "2023-08-20T16:02:32.264Z"
   },
   {
    "duration": 45,
    "start_time": "2023-08-20T16:02:32.332Z"
   },
   {
    "duration": 114,
    "start_time": "2023-08-20T16:02:32.379Z"
   },
   {
    "duration": 23,
    "start_time": "2023-08-20T16:02:32.494Z"
   },
   {
    "duration": 35,
    "start_time": "2023-08-20T16:02:32.519Z"
   },
   {
    "duration": 129,
    "start_time": "2023-08-20T16:02:32.560Z"
   },
   {
    "duration": 100,
    "start_time": "2023-08-20T16:02:32.691Z"
   },
   {
    "duration": 79,
    "start_time": "2023-08-20T16:02:32.796Z"
   },
   {
    "duration": 6,
    "start_time": "2023-08-20T16:02:32.877Z"
   },
   {
    "duration": 105,
    "start_time": "2023-08-20T16:02:32.885Z"
   },
   {
    "duration": 87,
    "start_time": "2023-08-20T19:08:17.734Z"
   },
   {
    "duration": 1355,
    "start_time": "2023-08-20T19:08:23.933Z"
   },
   {
    "duration": 1042,
    "start_time": "2023-08-20T19:08:25.291Z"
   },
   {
    "duration": 13,
    "start_time": "2023-08-20T19:08:26.335Z"
   },
   {
    "duration": 12,
    "start_time": "2023-08-20T19:08:26.350Z"
   },
   {
    "duration": 12,
    "start_time": "2023-08-20T19:08:26.364Z"
   },
   {
    "duration": 34,
    "start_time": "2023-08-20T19:08:26.378Z"
   },
   {
    "duration": 21,
    "start_time": "2023-08-20T19:08:26.413Z"
   },
   {
    "duration": 132,
    "start_time": "2023-08-20T19:08:26.437Z"
   },
   {
    "duration": 103,
    "start_time": "2023-08-20T19:08:26.572Z"
   },
   {
    "duration": 70,
    "start_time": "2023-08-20T19:08:26.679Z"
   },
   {
    "duration": 140,
    "start_time": "2023-08-20T19:08:26.751Z"
   },
   {
    "duration": 15,
    "start_time": "2023-08-20T19:08:26.893Z"
   },
   {
    "duration": 63,
    "start_time": "2023-08-20T19:08:26.910Z"
   },
   {
    "duration": 42,
    "start_time": "2023-08-20T19:08:26.975Z"
   },
   {
    "duration": 33,
    "start_time": "2023-08-20T19:08:27.019Z"
   },
   {
    "duration": 34,
    "start_time": "2023-08-20T19:08:27.054Z"
   },
   {
    "duration": 9,
    "start_time": "2023-08-20T19:08:27.090Z"
   },
   {
    "duration": 27,
    "start_time": "2023-08-20T19:08:27.101Z"
   },
   {
    "duration": 11,
    "start_time": "2023-08-20T19:08:27.130Z"
   },
   {
    "duration": 54,
    "start_time": "2023-08-20T19:08:27.143Z"
   },
   {
    "duration": 6,
    "start_time": "2023-08-20T19:08:27.199Z"
   },
   {
    "duration": 11,
    "start_time": "2023-08-20T19:08:27.207Z"
   },
   {
    "duration": 642,
    "start_time": "2023-08-20T19:08:27.220Z"
   },
   {
    "duration": 17,
    "start_time": "2023-08-20T19:08:27.866Z"
   },
   {
    "duration": 41,
    "start_time": "2023-08-20T19:08:27.885Z"
   },
   {
    "duration": 53,
    "start_time": "2023-08-20T19:08:27.928Z"
   },
   {
    "duration": 23,
    "start_time": "2023-08-20T19:08:27.984Z"
   },
   {
    "duration": 14,
    "start_time": "2023-08-20T19:08:28.012Z"
   },
   {
    "duration": 26,
    "start_time": "2023-08-20T19:08:28.028Z"
   },
   {
    "duration": 54,
    "start_time": "2023-08-20T19:08:28.066Z"
   },
   {
    "duration": 75,
    "start_time": "2023-08-20T19:08:28.122Z"
   },
   {
    "duration": 26,
    "start_time": "2023-08-20T19:08:28.200Z"
   },
   {
    "duration": 50,
    "start_time": "2023-08-20T19:08:28.228Z"
   },
   {
    "duration": 36,
    "start_time": "2023-08-20T19:08:28.281Z"
   },
   {
    "duration": 104,
    "start_time": "2023-08-20T19:08:28.319Z"
   },
   {
    "duration": 0,
    "start_time": "2023-08-20T19:08:28.425Z"
   },
   {
    "duration": 0,
    "start_time": "2023-08-20T19:08:28.427Z"
   },
   {
    "duration": 0,
    "start_time": "2023-08-20T19:08:28.428Z"
   },
   {
    "duration": 0,
    "start_time": "2023-08-20T19:08:28.430Z"
   },
   {
    "duration": 0,
    "start_time": "2023-08-20T19:08:28.432Z"
   },
   {
    "duration": 0,
    "start_time": "2023-08-20T19:08:28.433Z"
   },
   {
    "duration": 0,
    "start_time": "2023-08-20T19:08:28.434Z"
   },
   {
    "duration": 0,
    "start_time": "2023-08-20T19:08:28.436Z"
   },
   {
    "duration": 0,
    "start_time": "2023-08-20T19:08:28.437Z"
   },
   {
    "duration": 0,
    "start_time": "2023-08-20T19:08:28.438Z"
   },
   {
    "duration": 4,
    "start_time": "2023-08-20T19:08:56.239Z"
   },
   {
    "duration": 10,
    "start_time": "2023-08-20T19:09:01.297Z"
   },
   {
    "duration": 13,
    "start_time": "2023-08-20T19:09:28.630Z"
   },
   {
    "duration": 39,
    "start_time": "2023-08-20T19:10:49.456Z"
   },
   {
    "duration": 11,
    "start_time": "2023-08-20T19:11:27.154Z"
   },
   {
    "duration": 11,
    "start_time": "2023-08-20T19:11:37.164Z"
   },
   {
    "duration": 5,
    "start_time": "2023-08-20T19:11:45.524Z"
   },
   {
    "duration": 12,
    "start_time": "2023-08-20T19:13:24.100Z"
   },
   {
    "duration": 12,
    "start_time": "2023-08-20T19:13:34.906Z"
   },
   {
    "duration": 27,
    "start_time": "2023-08-20T19:13:38.435Z"
   },
   {
    "duration": 10,
    "start_time": "2023-08-20T19:13:39.181Z"
   },
   {
    "duration": 74,
    "start_time": "2023-08-20T19:14:27.077Z"
   },
   {
    "duration": 52,
    "start_time": "2023-08-20T19:14:32.198Z"
   },
   {
    "duration": 37,
    "start_time": "2023-08-20T19:14:52.207Z"
   },
   {
    "duration": 11,
    "start_time": "2023-08-20T19:15:09.197Z"
   },
   {
    "duration": 66,
    "start_time": "2023-08-20T19:15:20.155Z"
   },
   {
    "duration": 14,
    "start_time": "2023-08-20T19:16:55.284Z"
   },
   {
    "duration": 19,
    "start_time": "2023-08-20T19:17:20.552Z"
   },
   {
    "duration": 16,
    "start_time": "2023-08-20T19:17:31.899Z"
   },
   {
    "duration": 14,
    "start_time": "2023-08-20T19:18:26.933Z"
   },
   {
    "duration": 3,
    "start_time": "2023-08-20T19:18:35.780Z"
   },
   {
    "duration": 161,
    "start_time": "2023-08-20T19:18:35.786Z"
   },
   {
    "duration": 24,
    "start_time": "2023-08-20T19:18:35.949Z"
   },
   {
    "duration": 10,
    "start_time": "2023-08-20T19:18:35.975Z"
   },
   {
    "duration": 12,
    "start_time": "2023-08-20T19:18:35.989Z"
   },
   {
    "duration": 29,
    "start_time": "2023-08-20T19:18:36.003Z"
   },
   {
    "duration": 41,
    "start_time": "2023-08-20T19:18:36.034Z"
   },
   {
    "duration": 99,
    "start_time": "2023-08-20T19:18:36.077Z"
   },
   {
    "duration": 117,
    "start_time": "2023-08-20T19:18:36.179Z"
   },
   {
    "duration": 71,
    "start_time": "2023-08-20T19:18:36.298Z"
   },
   {
    "duration": 117,
    "start_time": "2023-08-20T19:18:36.372Z"
   },
   {
    "duration": 11,
    "start_time": "2023-08-20T19:18:36.490Z"
   },
   {
    "duration": 29,
    "start_time": "2023-08-20T19:18:36.503Z"
   },
   {
    "duration": 26,
    "start_time": "2023-08-20T19:18:36.533Z"
   },
   {
    "duration": 36,
    "start_time": "2023-08-20T19:18:36.567Z"
   },
   {
    "duration": 24,
    "start_time": "2023-08-20T19:18:36.605Z"
   },
   {
    "duration": 10,
    "start_time": "2023-08-20T19:18:36.632Z"
   },
   {
    "duration": 39,
    "start_time": "2023-08-20T19:18:36.668Z"
   },
   {
    "duration": 40,
    "start_time": "2023-08-20T19:18:36.709Z"
   },
   {
    "duration": 75,
    "start_time": "2023-08-20T19:18:36.751Z"
   },
   {
    "duration": 6,
    "start_time": "2023-08-20T19:18:36.828Z"
   },
   {
    "duration": 12,
    "start_time": "2023-08-20T19:18:36.836Z"
   },
   {
    "duration": 595,
    "start_time": "2023-08-20T19:18:36.851Z"
   },
   {
    "duration": 22,
    "start_time": "2023-08-20T19:18:37.448Z"
   },
   {
    "duration": 38,
    "start_time": "2023-08-20T19:18:37.472Z"
   },
   {
    "duration": 65,
    "start_time": "2023-08-20T19:18:37.512Z"
   },
   {
    "duration": 10,
    "start_time": "2023-08-20T19:18:37.579Z"
   },
   {
    "duration": 8,
    "start_time": "2023-08-20T19:18:37.591Z"
   },
   {
    "duration": 48,
    "start_time": "2023-08-20T19:18:37.603Z"
   },
   {
    "duration": 46,
    "start_time": "2023-08-20T19:18:37.652Z"
   },
   {
    "duration": 79,
    "start_time": "2023-08-20T19:18:37.700Z"
   },
   {
    "duration": 20,
    "start_time": "2023-08-20T19:18:37.780Z"
   },
   {
    "duration": 31,
    "start_time": "2023-08-20T19:18:37.801Z"
   },
   {
    "duration": 51,
    "start_time": "2023-08-20T19:18:37.833Z"
   },
   {
    "duration": 19,
    "start_time": "2023-08-20T19:18:37.887Z"
   },
   {
    "duration": 0,
    "start_time": "2023-08-20T19:18:37.908Z"
   },
   {
    "duration": 0,
    "start_time": "2023-08-20T19:18:37.910Z"
   },
   {
    "duration": 0,
    "start_time": "2023-08-20T19:18:37.912Z"
   },
   {
    "duration": 0,
    "start_time": "2023-08-20T19:18:37.914Z"
   },
   {
    "duration": 0,
    "start_time": "2023-08-20T19:18:37.916Z"
   },
   {
    "duration": 0,
    "start_time": "2023-08-20T19:18:37.917Z"
   },
   {
    "duration": 0,
    "start_time": "2023-08-20T19:18:37.919Z"
   },
   {
    "duration": 0,
    "start_time": "2023-08-20T19:18:37.921Z"
   },
   {
    "duration": 0,
    "start_time": "2023-08-20T19:18:37.924Z"
   },
   {
    "duration": 0,
    "start_time": "2023-08-20T19:18:37.926Z"
   },
   {
    "duration": 55,
    "start_time": "2023-08-20T19:20:50.126Z"
   },
   {
    "duration": 1075,
    "start_time": "2023-08-20T19:21:16.889Z"
   },
   {
    "duration": 4,
    "start_time": "2023-08-20T19:21:37.568Z"
   },
   {
    "duration": 176,
    "start_time": "2023-08-20T19:21:37.574Z"
   },
   {
    "duration": 18,
    "start_time": "2023-08-20T19:21:37.752Z"
   },
   {
    "duration": 8,
    "start_time": "2023-08-20T19:21:37.773Z"
   },
   {
    "duration": 9,
    "start_time": "2023-08-20T19:21:37.784Z"
   },
   {
    "duration": 32,
    "start_time": "2023-08-20T19:21:37.795Z"
   },
   {
    "duration": 42,
    "start_time": "2023-08-20T19:21:37.829Z"
   },
   {
    "duration": 62,
    "start_time": "2023-08-20T19:21:37.873Z"
   },
   {
    "duration": 83,
    "start_time": "2023-08-20T19:21:37.938Z"
   },
   {
    "duration": 74,
    "start_time": "2023-08-20T19:21:38.023Z"
   },
   {
    "duration": 135,
    "start_time": "2023-08-20T19:21:38.099Z"
   },
   {
    "duration": 11,
    "start_time": "2023-08-20T19:21:38.236Z"
   },
   {
    "duration": 35,
    "start_time": "2023-08-20T19:21:38.249Z"
   },
   {
    "duration": 15,
    "start_time": "2023-08-20T19:21:38.286Z"
   },
   {
    "duration": 42,
    "start_time": "2023-08-20T19:21:38.303Z"
   },
   {
    "duration": 57,
    "start_time": "2023-08-20T19:21:38.348Z"
   },
   {
    "duration": 13,
    "start_time": "2023-08-20T19:21:38.407Z"
   },
   {
    "duration": 24,
    "start_time": "2023-08-20T19:21:38.422Z"
   },
   {
    "duration": 22,
    "start_time": "2023-08-20T19:21:38.448Z"
   },
   {
    "duration": 64,
    "start_time": "2023-08-20T19:21:38.472Z"
   },
   {
    "duration": 8,
    "start_time": "2023-08-20T19:21:38.538Z"
   },
   {
    "duration": 21,
    "start_time": "2023-08-20T19:21:38.549Z"
   },
   {
    "duration": 715,
    "start_time": "2023-08-20T19:21:38.572Z"
   },
   {
    "duration": 16,
    "start_time": "2023-08-20T19:21:39.291Z"
   },
   {
    "duration": 70,
    "start_time": "2023-08-20T19:21:39.309Z"
   },
   {
    "duration": 44,
    "start_time": "2023-08-20T19:21:39.381Z"
   },
   {
    "duration": 28,
    "start_time": "2023-08-20T19:21:39.427Z"
   },
   {
    "duration": 16,
    "start_time": "2023-08-20T19:21:39.457Z"
   },
   {
    "duration": 17,
    "start_time": "2023-08-20T19:21:39.474Z"
   },
   {
    "duration": 52,
    "start_time": "2023-08-20T19:21:39.492Z"
   },
   {
    "duration": 78,
    "start_time": "2023-08-20T19:21:39.546Z"
   },
   {
    "duration": 50,
    "start_time": "2023-08-20T19:21:39.626Z"
   },
   {
    "duration": 28,
    "start_time": "2023-08-20T19:21:39.679Z"
   },
   {
    "duration": 89,
    "start_time": "2023-08-20T19:21:39.709Z"
   },
   {
    "duration": 1081,
    "start_time": "2023-08-20T19:21:39.800Z"
   },
   {
    "duration": 57,
    "start_time": "2023-08-20T19:22:59.064Z"
   },
   {
    "duration": 79,
    "start_time": "2023-08-20T19:24:08.784Z"
   },
   {
    "duration": 1131,
    "start_time": "2023-08-20T19:24:18.047Z"
   },
   {
    "duration": 65,
    "start_time": "2023-08-20T19:33:18.761Z"
   },
   {
    "duration": 57,
    "start_time": "2023-08-20T19:39:14.216Z"
   },
   {
    "duration": 11,
    "start_time": "2023-08-20T19:39:25.769Z"
   },
   {
    "duration": 4,
    "start_time": "2023-08-20T19:44:50.265Z"
   },
   {
    "duration": 22,
    "start_time": "2023-08-20T19:44:53.261Z"
   },
   {
    "duration": 5,
    "start_time": "2023-08-20T19:45:11.798Z"
   },
   {
    "duration": 59,
    "start_time": "2023-08-20T19:45:19.919Z"
   },
   {
    "duration": 11,
    "start_time": "2023-08-20T19:45:26.920Z"
   },
   {
    "duration": 14,
    "start_time": "2023-08-20T19:45:41.274Z"
   },
   {
    "duration": 18,
    "start_time": "2023-08-20T19:45:43.933Z"
   },
   {
    "duration": 4,
    "start_time": "2023-08-20T19:53:05.753Z"
   },
   {
    "duration": 14,
    "start_time": "2023-08-20T19:53:30.693Z"
   },
   {
    "duration": 6,
    "start_time": "2023-08-20T19:53:53.088Z"
   },
   {
    "duration": 10,
    "start_time": "2023-08-20T19:56:13.065Z"
   },
   {
    "duration": 3,
    "start_time": "2023-08-20T19:56:22.549Z"
   },
   {
    "duration": 162,
    "start_time": "2023-08-20T19:56:22.554Z"
   },
   {
    "duration": 9,
    "start_time": "2023-08-20T19:56:22.717Z"
   },
   {
    "duration": 16,
    "start_time": "2023-08-20T19:56:22.728Z"
   },
   {
    "duration": 41,
    "start_time": "2023-08-20T19:56:22.746Z"
   },
   {
    "duration": 38,
    "start_time": "2023-08-20T19:56:22.789Z"
   },
   {
    "duration": 28,
    "start_time": "2023-08-20T19:56:22.829Z"
   },
   {
    "duration": 74,
    "start_time": "2023-08-20T19:56:22.860Z"
   },
   {
    "duration": 64,
    "start_time": "2023-08-20T19:56:22.937Z"
   },
   {
    "duration": 67,
    "start_time": "2023-08-20T19:56:23.003Z"
   },
   {
    "duration": 124,
    "start_time": "2023-08-20T19:56:23.072Z"
   },
   {
    "duration": 11,
    "start_time": "2023-08-20T19:56:23.198Z"
   },
   {
    "duration": 24,
    "start_time": "2023-08-20T19:56:23.211Z"
   },
   {
    "duration": 12,
    "start_time": "2023-08-20T19:56:23.236Z"
   },
   {
    "duration": 22,
    "start_time": "2023-08-20T19:56:23.267Z"
   },
   {
    "duration": 41,
    "start_time": "2023-08-20T19:56:23.291Z"
   },
   {
    "duration": 8,
    "start_time": "2023-08-20T19:56:23.335Z"
   },
   {
    "duration": 22,
    "start_time": "2023-08-20T19:56:23.367Z"
   },
   {
    "duration": 6,
    "start_time": "2023-08-20T19:56:23.391Z"
   },
   {
    "duration": 42,
    "start_time": "2023-08-20T19:56:23.398Z"
   },
   {
    "duration": 27,
    "start_time": "2023-08-20T19:56:23.442Z"
   },
   {
    "duration": 6,
    "start_time": "2023-08-20T19:56:23.471Z"
   },
   {
    "duration": 571,
    "start_time": "2023-08-20T19:56:23.479Z"
   },
   {
    "duration": 24,
    "start_time": "2023-08-20T19:56:24.054Z"
   },
   {
    "duration": 50,
    "start_time": "2023-08-20T19:56:24.082Z"
   },
   {
    "duration": 56,
    "start_time": "2023-08-20T19:56:24.135Z"
   },
   {
    "duration": 10,
    "start_time": "2023-08-20T19:56:24.193Z"
   },
   {
    "duration": 9,
    "start_time": "2023-08-20T19:56:24.205Z"
   },
   {
    "duration": 16,
    "start_time": "2023-08-20T19:56:24.216Z"
   },
   {
    "duration": 82,
    "start_time": "2023-08-20T19:56:24.234Z"
   },
   {
    "duration": 66,
    "start_time": "2023-08-20T19:56:24.319Z"
   },
   {
    "duration": 20,
    "start_time": "2023-08-20T19:56:24.387Z"
   },
   {
    "duration": 20,
    "start_time": "2023-08-20T19:56:24.409Z"
   },
   {
    "duration": 83,
    "start_time": "2023-08-20T19:56:24.431Z"
   },
   {
    "duration": 10,
    "start_time": "2023-08-20T19:56:24.516Z"
   },
   {
    "duration": 50,
    "start_time": "2023-08-20T19:56:24.528Z"
   },
   {
    "duration": 33,
    "start_time": "2023-08-20T19:56:24.579Z"
   },
   {
    "duration": 132,
    "start_time": "2023-08-20T19:56:24.614Z"
   },
   {
    "duration": 42,
    "start_time": "2023-08-20T19:56:24.748Z"
   },
   {
    "duration": 7,
    "start_time": "2023-08-20T19:56:24.793Z"
   },
   {
    "duration": 108,
    "start_time": "2023-08-20T19:56:24.802Z"
   },
   {
    "duration": 81,
    "start_time": "2023-08-20T19:56:24.913Z"
   },
   {
    "duration": 83,
    "start_time": "2023-08-20T19:56:24.996Z"
   },
   {
    "duration": 6,
    "start_time": "2023-08-20T19:56:25.081Z"
   },
   {
    "duration": 128,
    "start_time": "2023-08-20T19:56:25.089Z"
   },
   {
    "duration": 28,
    "start_time": "2023-08-20T20:05:02.058Z"
   },
   {
    "duration": 27,
    "start_time": "2023-08-20T20:07:23.140Z"
   },
   {
    "duration": 4,
    "start_time": "2023-08-20T20:07:29.649Z"
   },
   {
    "duration": 176,
    "start_time": "2023-08-20T20:07:29.656Z"
   },
   {
    "duration": 9,
    "start_time": "2023-08-20T20:07:29.834Z"
   },
   {
    "duration": 28,
    "start_time": "2023-08-20T20:07:29.845Z"
   },
   {
    "duration": 8,
    "start_time": "2023-08-20T20:07:29.875Z"
   },
   {
    "duration": 32,
    "start_time": "2023-08-20T20:07:29.885Z"
   },
   {
    "duration": 16,
    "start_time": "2023-08-20T20:07:29.919Z"
   },
   {
    "duration": 82,
    "start_time": "2023-08-20T20:07:29.937Z"
   },
   {
    "duration": 92,
    "start_time": "2023-08-20T20:07:30.021Z"
   },
   {
    "duration": 75,
    "start_time": "2023-08-20T20:07:30.115Z"
   },
   {
    "duration": 122,
    "start_time": "2023-08-20T20:07:30.192Z"
   },
   {
    "duration": 10,
    "start_time": "2023-08-20T20:07:30.316Z"
   },
   {
    "duration": 41,
    "start_time": "2023-08-20T20:07:30.328Z"
   },
   {
    "duration": 29,
    "start_time": "2023-08-20T20:07:30.371Z"
   },
   {
    "duration": 79,
    "start_time": "2023-08-20T20:07:30.402Z"
   },
   {
    "duration": 74,
    "start_time": "2023-08-20T20:07:30.483Z"
   },
   {
    "duration": 35,
    "start_time": "2023-08-20T20:07:30.559Z"
   },
   {
    "duration": 53,
    "start_time": "2023-08-20T20:07:30.596Z"
   },
   {
    "duration": 67,
    "start_time": "2023-08-20T20:07:30.650Z"
   },
   {
    "duration": 89,
    "start_time": "2023-08-20T20:07:30.719Z"
   },
   {
    "duration": 7,
    "start_time": "2023-08-20T20:07:30.811Z"
   },
   {
    "duration": 26,
    "start_time": "2023-08-20T20:07:30.821Z"
   },
   {
    "duration": 557,
    "start_time": "2023-08-20T20:07:30.850Z"
   },
   {
    "duration": 17,
    "start_time": "2023-08-20T20:07:31.411Z"
   },
   {
    "duration": 53,
    "start_time": "2023-08-20T20:07:31.430Z"
   },
   {
    "duration": 58,
    "start_time": "2023-08-20T20:07:31.484Z"
   },
   {
    "duration": 26,
    "start_time": "2023-08-20T20:07:31.544Z"
   },
   {
    "duration": 43,
    "start_time": "2023-08-20T20:07:31.571Z"
   },
   {
    "duration": 30,
    "start_time": "2023-08-20T20:07:31.616Z"
   },
   {
    "duration": 47,
    "start_time": "2023-08-20T20:07:31.648Z"
   },
   {
    "duration": 200,
    "start_time": "2023-08-20T20:07:31.697Z"
   },
   {
    "duration": 19,
    "start_time": "2023-08-20T20:07:31.899Z"
   },
   {
    "duration": 34,
    "start_time": "2023-08-20T20:07:31.920Z"
   },
   {
    "duration": 66,
    "start_time": "2023-08-20T20:07:31.955Z"
   },
   {
    "duration": 9,
    "start_time": "2023-08-20T20:07:32.023Z"
   },
   {
    "duration": 56,
    "start_time": "2023-08-20T20:07:32.034Z"
   },
   {
    "duration": 25,
    "start_time": "2023-08-20T20:07:32.091Z"
   },
   {
    "duration": 75,
    "start_time": "2023-08-20T20:07:32.117Z"
   },
   {
    "duration": 26,
    "start_time": "2023-08-20T20:07:32.195Z"
   },
   {
    "duration": 9,
    "start_time": "2023-08-20T20:12:16.163Z"
   },
   {
    "duration": 114,
    "start_time": "2023-08-20T20:12:22.439Z"
   },
   {
    "duration": 7,
    "start_time": "2023-08-20T20:15:53.484Z"
   },
   {
    "duration": 39,
    "start_time": "2023-08-20T20:18:14.846Z"
   },
   {
    "duration": 5143,
    "start_time": "2023-08-20T20:45:57.514Z"
   },
   {
    "duration": 0,
    "start_time": "2023-08-20T20:46:07.654Z"
   },
   {
    "duration": 0,
    "start_time": "2023-08-20T20:46:07.655Z"
   },
   {
    "duration": 4,
    "start_time": "2023-08-20T20:47:29.375Z"
   },
   {
    "duration": 190,
    "start_time": "2023-08-20T20:47:29.382Z"
   },
   {
    "duration": 8,
    "start_time": "2023-08-20T20:47:29.575Z"
   },
   {
    "duration": 6,
    "start_time": "2023-08-20T20:47:29.587Z"
   },
   {
    "duration": 21,
    "start_time": "2023-08-20T20:47:29.595Z"
   },
   {
    "duration": 28,
    "start_time": "2023-08-20T20:47:29.617Z"
   },
   {
    "duration": 31,
    "start_time": "2023-08-20T20:47:29.647Z"
   },
   {
    "duration": 68,
    "start_time": "2023-08-20T20:47:29.680Z"
   },
   {
    "duration": 71,
    "start_time": "2023-08-20T20:47:29.751Z"
   },
   {
    "duration": 66,
    "start_time": "2023-08-20T20:47:29.824Z"
   },
   {
    "duration": 122,
    "start_time": "2023-08-20T20:47:29.892Z"
   },
   {
    "duration": 11,
    "start_time": "2023-08-20T20:47:30.016Z"
   },
   {
    "duration": 56,
    "start_time": "2023-08-20T20:47:30.029Z"
   },
   {
    "duration": 31,
    "start_time": "2023-08-20T20:47:30.087Z"
   },
   {
    "duration": 40,
    "start_time": "2023-08-20T20:47:30.120Z"
   },
   {
    "duration": 69,
    "start_time": "2023-08-20T20:47:30.162Z"
   },
   {
    "duration": 50,
    "start_time": "2023-08-20T20:47:30.233Z"
   },
   {
    "duration": 69,
    "start_time": "2023-08-20T20:47:30.285Z"
   },
   {
    "duration": 37,
    "start_time": "2023-08-20T20:47:30.357Z"
   },
   {
    "duration": 86,
    "start_time": "2023-08-20T20:47:30.396Z"
   },
   {
    "duration": 27,
    "start_time": "2023-08-20T20:47:30.485Z"
   },
   {
    "duration": 77,
    "start_time": "2023-08-20T20:47:30.514Z"
   },
   {
    "duration": 556,
    "start_time": "2023-08-20T20:47:30.593Z"
   },
   {
    "duration": 20,
    "start_time": "2023-08-20T20:47:31.153Z"
   },
   {
    "duration": 71,
    "start_time": "2023-08-20T20:47:31.175Z"
   },
   {
    "duration": 65,
    "start_time": "2023-08-20T20:47:31.248Z"
   },
   {
    "duration": 46,
    "start_time": "2023-08-20T20:47:31.315Z"
   },
   {
    "duration": 33,
    "start_time": "2023-08-20T20:47:31.364Z"
   },
   {
    "duration": 57,
    "start_time": "2023-08-20T20:47:31.399Z"
   },
   {
    "duration": 98,
    "start_time": "2023-08-20T20:47:31.458Z"
   },
   {
    "duration": 98,
    "start_time": "2023-08-20T20:47:31.558Z"
   },
   {
    "duration": 36,
    "start_time": "2023-08-20T20:47:31.658Z"
   },
   {
    "duration": 20,
    "start_time": "2023-08-20T20:47:31.697Z"
   },
   {
    "duration": 81,
    "start_time": "2023-08-20T20:47:31.719Z"
   },
   {
    "duration": 9,
    "start_time": "2023-08-20T20:47:31.802Z"
   },
   {
    "duration": 53,
    "start_time": "2023-08-20T20:47:31.813Z"
   },
   {
    "duration": 26,
    "start_time": "2023-08-20T20:47:31.868Z"
   },
   {
    "duration": 4885,
    "start_time": "2023-08-20T20:47:31.895Z"
   },
   {
    "duration": 4,
    "start_time": "2023-08-20T20:48:19.674Z"
   },
   {
    "duration": 4939,
    "start_time": "2023-08-20T20:48:45.344Z"
   },
   {
    "duration": 4828,
    "start_time": "2023-08-20T20:50:53.118Z"
   },
   {
    "duration": 57,
    "start_time": "2023-08-20T21:03:21.675Z"
   },
   {
    "duration": 65,
    "start_time": "2023-08-20T21:03:46.896Z"
   },
   {
    "duration": 27,
    "start_time": "2023-08-20T21:04:05.965Z"
   },
   {
    "duration": 3,
    "start_time": "2023-08-20T21:11:32.002Z"
   },
   {
    "duration": 175,
    "start_time": "2023-08-20T21:11:32.008Z"
   },
   {
    "duration": 8,
    "start_time": "2023-08-20T21:11:32.185Z"
   },
   {
    "duration": 32,
    "start_time": "2023-08-20T21:11:32.195Z"
   },
   {
    "duration": 22,
    "start_time": "2023-08-20T21:11:32.229Z"
   },
   {
    "duration": 44,
    "start_time": "2023-08-20T21:11:32.253Z"
   },
   {
    "duration": 41,
    "start_time": "2023-08-20T21:11:32.299Z"
   },
   {
    "duration": 69,
    "start_time": "2023-08-20T21:11:32.343Z"
   },
   {
    "duration": 73,
    "start_time": "2023-08-20T21:11:32.415Z"
   },
   {
    "duration": 59,
    "start_time": "2023-08-20T21:11:32.489Z"
   },
   {
    "duration": 122,
    "start_time": "2023-08-20T21:11:32.550Z"
   },
   {
    "duration": 10,
    "start_time": "2023-08-20T21:11:32.674Z"
   },
   {
    "duration": 40,
    "start_time": "2023-08-20T21:11:32.685Z"
   },
   {
    "duration": 9,
    "start_time": "2023-08-20T21:11:32.727Z"
   },
   {
    "duration": 30,
    "start_time": "2023-08-20T21:11:32.738Z"
   },
   {
    "duration": 29,
    "start_time": "2023-08-20T21:11:32.770Z"
   },
   {
    "duration": 9,
    "start_time": "2023-08-20T21:11:32.801Z"
   },
   {
    "duration": 23,
    "start_time": "2023-08-20T21:11:32.811Z"
   },
   {
    "duration": 24,
    "start_time": "2023-08-20T21:11:32.837Z"
   },
   {
    "duration": 52,
    "start_time": "2023-08-20T21:11:32.863Z"
   },
   {
    "duration": 6,
    "start_time": "2023-08-20T21:11:32.916Z"
   },
   {
    "duration": 19,
    "start_time": "2023-08-20T21:11:32.923Z"
   },
   {
    "duration": 524,
    "start_time": "2023-08-20T21:11:32.943Z"
   },
   {
    "duration": 13,
    "start_time": "2023-08-20T21:11:33.470Z"
   },
   {
    "duration": 36,
    "start_time": "2023-08-20T21:11:33.485Z"
   },
   {
    "duration": 57,
    "start_time": "2023-08-20T21:11:33.522Z"
   },
   {
    "duration": 25,
    "start_time": "2023-08-20T21:11:33.581Z"
   },
   {
    "duration": 15,
    "start_time": "2023-08-20T21:11:33.607Z"
   },
   {
    "duration": 18,
    "start_time": "2023-08-20T21:11:33.624Z"
   },
   {
    "duration": 55,
    "start_time": "2023-08-20T21:11:33.644Z"
   },
   {
    "duration": 67,
    "start_time": "2023-08-20T21:11:33.701Z"
   },
   {
    "duration": 16,
    "start_time": "2023-08-20T21:11:33.769Z"
   },
   {
    "duration": 19,
    "start_time": "2023-08-20T21:11:33.787Z"
   },
   {
    "duration": 86,
    "start_time": "2023-08-20T21:11:33.807Z"
   },
   {
    "duration": 13,
    "start_time": "2023-08-20T21:11:33.895Z"
   },
   {
    "duration": 64,
    "start_time": "2023-08-20T21:11:33.910Z"
   },
   {
    "duration": 30,
    "start_time": "2023-08-20T21:11:33.977Z"
   },
   {
    "duration": 25,
    "start_time": "2023-08-20T21:11:34.010Z"
   },
   {
    "duration": 83,
    "start_time": "2023-08-20T21:11:34.038Z"
   },
   {
    "duration": 45,
    "start_time": "2023-08-20T21:11:34.123Z"
   },
   {
    "duration": 76,
    "start_time": "2023-08-20T21:12:34.760Z"
   },
   {
    "duration": 1138,
    "start_time": "2023-08-21T14:04:05.571Z"
   },
   {
    "duration": 230,
    "start_time": "2023-08-21T14:04:06.711Z"
   },
   {
    "duration": 16,
    "start_time": "2023-08-21T14:04:06.943Z"
   },
   {
    "duration": 21,
    "start_time": "2023-08-21T14:04:06.961Z"
   },
   {
    "duration": 13,
    "start_time": "2023-08-21T14:04:06.984Z"
   },
   {
    "duration": 24,
    "start_time": "2023-08-21T14:04:06.998Z"
   },
   {
    "duration": 16,
    "start_time": "2023-08-21T14:04:07.024Z"
   },
   {
    "duration": 98,
    "start_time": "2023-08-21T14:04:07.042Z"
   },
   {
    "duration": 87,
    "start_time": "2023-08-21T14:04:07.142Z"
   },
   {
    "duration": 77,
    "start_time": "2023-08-21T14:04:07.231Z"
   },
   {
    "duration": 141,
    "start_time": "2023-08-21T14:04:07.310Z"
   },
   {
    "duration": 25,
    "start_time": "2023-08-21T14:04:07.462Z"
   },
   {
    "duration": 26,
    "start_time": "2023-08-21T14:04:07.488Z"
   },
   {
    "duration": 9,
    "start_time": "2023-08-21T14:04:07.517Z"
   },
   {
    "duration": 38,
    "start_time": "2023-08-21T14:04:07.528Z"
   },
   {
    "duration": 34,
    "start_time": "2023-08-21T14:04:07.571Z"
   },
   {
    "duration": 9,
    "start_time": "2023-08-21T14:04:07.607Z"
   },
   {
    "duration": 23,
    "start_time": "2023-08-21T14:04:07.618Z"
   },
   {
    "duration": 3,
    "start_time": "2023-08-21T14:04:07.643Z"
   },
   {
    "duration": 48,
    "start_time": "2023-08-21T14:04:07.648Z"
   },
   {
    "duration": 7,
    "start_time": "2023-08-21T14:04:07.698Z"
   },
   {
    "duration": 15,
    "start_time": "2023-08-21T14:04:07.707Z"
   },
   {
    "duration": 732,
    "start_time": "2023-08-21T14:04:07.724Z"
   },
   {
    "duration": 28,
    "start_time": "2023-08-21T14:04:08.458Z"
   },
   {
    "duration": 68,
    "start_time": "2023-08-21T14:04:08.488Z"
   },
   {
    "duration": 85,
    "start_time": "2023-08-21T14:04:08.558Z"
   },
   {
    "duration": 25,
    "start_time": "2023-08-21T14:04:08.645Z"
   },
   {
    "duration": 17,
    "start_time": "2023-08-21T14:04:08.674Z"
   },
   {
    "duration": 22,
    "start_time": "2023-08-21T14:04:08.693Z"
   },
   {
    "duration": 83,
    "start_time": "2023-08-21T14:04:08.717Z"
   },
   {
    "duration": 92,
    "start_time": "2023-08-21T14:04:08.802Z"
   },
   {
    "duration": 26,
    "start_time": "2023-08-21T14:04:08.897Z"
   },
   {
    "duration": 18,
    "start_time": "2023-08-21T14:04:08.925Z"
   },
   {
    "duration": 69,
    "start_time": "2023-08-21T14:04:08.945Z"
   },
   {
    "duration": 8,
    "start_time": "2023-08-21T14:04:09.016Z"
   },
   {
    "duration": 56,
    "start_time": "2023-08-21T14:04:09.025Z"
   },
   {
    "duration": 27,
    "start_time": "2023-08-21T14:04:09.086Z"
   },
   {
    "duration": 24,
    "start_time": "2023-08-21T14:04:09.116Z"
   },
   {
    "duration": 122,
    "start_time": "2023-08-21T14:04:09.151Z"
   },
   {
    "duration": 30,
    "start_time": "2023-08-21T14:04:09.276Z"
   },
   {
    "duration": 6,
    "start_time": "2023-08-21T14:04:09.310Z"
   },
   {
    "duration": 115,
    "start_time": "2023-08-21T14:04:09.318Z"
   },
   {
    "duration": 90,
    "start_time": "2023-08-21T14:04:09.435Z"
   },
   {
    "duration": 95,
    "start_time": "2023-08-21T14:04:09.527Z"
   },
   {
    "duration": 6,
    "start_time": "2023-08-21T14:04:09.623Z"
   },
   {
    "duration": 124,
    "start_time": "2023-08-21T14:04:09.631Z"
   },
   {
    "duration": 42,
    "start_time": "2023-08-21T14:04:27.246Z"
   },
   {
    "duration": 6,
    "start_time": "2023-08-21T14:05:12.424Z"
   },
   {
    "duration": 102,
    "start_time": "2023-08-21T14:05:15.122Z"
   },
   {
    "duration": 1336,
    "start_time": "2023-08-21T14:06:09.009Z"
   },
   {
    "duration": 303,
    "start_time": "2023-08-21T14:06:10.347Z"
   },
   {
    "duration": 22,
    "start_time": "2023-08-21T14:06:10.653Z"
   },
   {
    "duration": 14,
    "start_time": "2023-08-21T14:06:10.678Z"
   },
   {
    "duration": 10,
    "start_time": "2023-08-21T14:06:10.695Z"
   },
   {
    "duration": 24,
    "start_time": "2023-08-21T14:06:10.708Z"
   },
   {
    "duration": 63,
    "start_time": "2023-08-21T14:06:10.734Z"
   },
   {
    "duration": 74,
    "start_time": "2023-08-21T14:06:10.801Z"
   },
   {
    "duration": 120,
    "start_time": "2023-08-21T14:06:10.877Z"
   },
   {
    "duration": 73,
    "start_time": "2023-08-21T14:06:11.008Z"
   },
   {
    "duration": 155,
    "start_time": "2023-08-21T14:06:11.083Z"
   },
   {
    "duration": 9,
    "start_time": "2023-08-21T14:06:11.240Z"
   },
   {
    "duration": 43,
    "start_time": "2023-08-21T14:06:11.257Z"
   },
   {
    "duration": 10,
    "start_time": "2023-08-21T14:06:11.305Z"
   },
   {
    "duration": 25,
    "start_time": "2023-08-21T14:06:11.317Z"
   },
   {
    "duration": 62,
    "start_time": "2023-08-21T14:06:11.354Z"
   },
   {
    "duration": 6,
    "start_time": "2023-08-21T14:06:11.418Z"
   },
   {
    "duration": 35,
    "start_time": "2023-08-21T14:06:11.426Z"
   },
   {
    "duration": 4,
    "start_time": "2023-08-21T14:06:11.464Z"
   },
   {
    "duration": 63,
    "start_time": "2023-08-21T14:06:11.470Z"
   },
   {
    "duration": 6,
    "start_time": "2023-08-21T14:06:11.535Z"
   },
   {
    "duration": 13,
    "start_time": "2023-08-21T14:06:11.557Z"
   },
   {
    "duration": 851,
    "start_time": "2023-08-21T14:06:11.572Z"
   },
   {
    "duration": 16,
    "start_time": "2023-08-21T14:06:12.424Z"
   },
   {
    "duration": 82,
    "start_time": "2023-08-21T14:06:12.442Z"
   },
   {
    "duration": 82,
    "start_time": "2023-08-21T14:06:12.526Z"
   },
   {
    "duration": 14,
    "start_time": "2023-08-21T14:06:12.610Z"
   },
   {
    "duration": 54,
    "start_time": "2023-08-21T14:06:12.628Z"
   },
   {
    "duration": 29,
    "start_time": "2023-08-21T14:06:12.690Z"
   },
   {
    "duration": 56,
    "start_time": "2023-08-21T14:06:12.721Z"
   },
   {
    "duration": 75,
    "start_time": "2023-08-21T14:06:12.780Z"
   },
   {
    "duration": 26,
    "start_time": "2023-08-21T14:06:12.857Z"
   },
   {
    "duration": 30,
    "start_time": "2023-08-21T14:06:12.888Z"
   },
   {
    "duration": 86,
    "start_time": "2023-08-21T14:06:12.920Z"
   },
   {
    "duration": 10,
    "start_time": "2023-08-21T14:06:13.009Z"
   },
   {
    "duration": 38,
    "start_time": "2023-08-21T14:06:13.020Z"
   },
   {
    "duration": 36,
    "start_time": "2023-08-21T14:06:13.060Z"
   },
   {
    "duration": 22,
    "start_time": "2023-08-21T14:06:13.098Z"
   },
   {
    "duration": 122,
    "start_time": "2023-08-21T14:06:13.121Z"
   },
   {
    "duration": 44,
    "start_time": "2023-08-21T14:06:13.244Z"
   },
   {
    "duration": 13,
    "start_time": "2023-08-21T14:06:13.290Z"
   },
   {
    "duration": 117,
    "start_time": "2023-08-21T14:06:13.308Z"
   },
   {
    "duration": 99,
    "start_time": "2023-08-21T14:06:13.426Z"
   },
   {
    "duration": 101,
    "start_time": "2023-08-21T14:06:13.527Z"
   },
   {
    "duration": 7,
    "start_time": "2023-08-21T14:06:13.630Z"
   },
   {
    "duration": 173,
    "start_time": "2023-08-21T14:06:13.639Z"
   },
   {
    "duration": 54,
    "start_time": "2023-08-21T14:14:07.255Z"
   },
   {
    "duration": 1301,
    "start_time": "2023-08-21T14:14:13.435Z"
   },
   {
    "duration": 1066,
    "start_time": "2023-08-21T14:14:14.738Z"
   },
   {
    "duration": 11,
    "start_time": "2023-08-21T14:14:15.806Z"
   },
   {
    "duration": 9,
    "start_time": "2023-08-21T14:14:15.820Z"
   },
   {
    "duration": 7,
    "start_time": "2023-08-21T14:14:15.830Z"
   },
   {
    "duration": 25,
    "start_time": "2023-08-21T14:14:15.838Z"
   },
   {
    "duration": 13,
    "start_time": "2023-08-21T14:14:15.864Z"
   },
   {
    "duration": 84,
    "start_time": "2023-08-21T14:14:15.878Z"
   },
   {
    "duration": 77,
    "start_time": "2023-08-21T14:14:15.964Z"
   },
   {
    "duration": 73,
    "start_time": "2023-08-21T14:14:16.044Z"
   },
   {
    "duration": 115,
    "start_time": "2023-08-21T14:14:16.119Z"
   },
   {
    "duration": 9,
    "start_time": "2023-08-21T14:14:16.236Z"
   },
   {
    "duration": 31,
    "start_time": "2023-08-21T14:14:16.246Z"
   },
   {
    "duration": 10,
    "start_time": "2023-08-21T14:14:16.278Z"
   },
   {
    "duration": 31,
    "start_time": "2023-08-21T14:14:16.289Z"
   },
   {
    "duration": 26,
    "start_time": "2023-08-21T14:14:16.321Z"
   },
   {
    "duration": 14,
    "start_time": "2023-08-21T14:14:16.349Z"
   },
   {
    "duration": 23,
    "start_time": "2023-08-21T14:14:16.364Z"
   },
   {
    "duration": 10,
    "start_time": "2023-08-21T14:14:16.388Z"
   },
   {
    "duration": 48,
    "start_time": "2023-08-21T14:14:16.400Z"
   },
   {
    "duration": 13,
    "start_time": "2023-08-21T14:14:16.450Z"
   },
   {
    "duration": 32,
    "start_time": "2023-08-21T14:14:16.465Z"
   },
   {
    "duration": 576,
    "start_time": "2023-08-21T14:14:16.499Z"
   },
   {
    "duration": 16,
    "start_time": "2023-08-21T14:14:17.077Z"
   },
   {
    "duration": 35,
    "start_time": "2023-08-21T14:14:17.094Z"
   },
   {
    "duration": 54,
    "start_time": "2023-08-21T14:14:17.131Z"
   },
   {
    "duration": 11,
    "start_time": "2023-08-21T14:14:17.186Z"
   },
   {
    "duration": 7,
    "start_time": "2023-08-21T14:14:17.201Z"
   },
   {
    "duration": 22,
    "start_time": "2023-08-21T14:14:17.209Z"
   },
   {
    "duration": 62,
    "start_time": "2023-08-21T14:14:17.233Z"
   },
   {
    "duration": 64,
    "start_time": "2023-08-21T14:14:17.296Z"
   },
   {
    "duration": 19,
    "start_time": "2023-08-21T14:14:17.361Z"
   },
   {
    "duration": 16,
    "start_time": "2023-08-21T14:14:17.381Z"
   },
   {
    "duration": 69,
    "start_time": "2023-08-21T14:14:17.399Z"
   },
   {
    "duration": 8,
    "start_time": "2023-08-21T14:14:17.470Z"
   },
   {
    "duration": 33,
    "start_time": "2023-08-21T14:14:17.480Z"
   },
   {
    "duration": 22,
    "start_time": "2023-08-21T14:14:17.514Z"
   },
   {
    "duration": 40,
    "start_time": "2023-08-21T14:14:17.538Z"
   },
   {
    "duration": 107,
    "start_time": "2023-08-21T14:14:17.580Z"
   },
   {
    "duration": 23,
    "start_time": "2023-08-21T14:14:17.689Z"
   },
   {
    "duration": 7,
    "start_time": "2023-08-21T14:15:15.057Z"
   },
   {
    "duration": 73,
    "start_time": "2023-08-21T14:15:17.157Z"
   },
   {
    "duration": 87,
    "start_time": "2023-08-21T14:15:21.072Z"
   },
   {
    "duration": 62,
    "start_time": "2023-08-21T14:15:22.623Z"
   },
   {
    "duration": 59,
    "start_time": "2023-08-21T14:15:27.067Z"
   },
   {
    "duration": 7,
    "start_time": "2023-08-21T14:15:29.824Z"
   },
   {
    "duration": 87,
    "start_time": "2023-08-21T14:15:30.554Z"
   },
   {
    "duration": 109,
    "start_time": "2023-08-21T14:19:20.609Z"
   }
  ],
  "kernelspec": {
   "display_name": "Python 3 (ipykernel)",
   "language": "python",
   "name": "python3"
  },
  "language_info": {
   "codemirror_mode": {
    "name": "ipython",
    "version": 3
   },
   "file_extension": ".py",
   "mimetype": "text/x-python",
   "name": "python",
   "nbconvert_exporter": "python",
   "pygments_lexer": "ipython3",
   "version": "3.11.4"
  },
  "toc": {
   "base_numbering": 1,
   "nav_menu": {},
   "number_sections": true,
   "sideBar": true,
   "skip_h1_title": true,
   "title_cell": "Table of Contents",
   "title_sidebar": "Contents",
   "toc_cell": false,
   "toc_position": {},
   "toc_section_display": true,
   "toc_window_display": false
  }
 },
 "nbformat": 4,
 "nbformat_minor": 2
}
