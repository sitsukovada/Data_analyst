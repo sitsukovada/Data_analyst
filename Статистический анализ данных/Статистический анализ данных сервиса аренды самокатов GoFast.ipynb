{
 "cells": [
  {
   "cell_type": "markdown",
   "id": "21a28626",
   "metadata": {},
   "source": [
    "# Статистический анализ данных сервиса аренды самокатов GoFast\n",
    "\n",
    "Для статистического анализа данных сервиса аренды самокатов GoFast переданы данные о некоторых пользователях из нескольких городов, а также об их поездках. Необходимо проанализировать данные и проверить некоторые гипотезы, которые могут помочь бизнесу вырасти.\n",
    "\n",
    "Чтобы совершать поездки по городу, пользователи сервиса GoFast пользуются мобильным приложением. Сервисом можно пользоваться:\n",
    "без подписки\n",
    "\n",
    "абонентская плата отсутствует;\n",
    "\n",
    "стоимость одной минуты поездки — 8 рублей;\n",
    "\n",
    "стоимость старта (начала поездки) — 50 рублей;\n",
    "\n",
    "с подпиской Ultra\n",
    "абонентская плата — 199 рублей в месяц;\n",
    "стоимость одной минуты поездки — 6 рублей;\n",
    "стоимость старта — бесплатно.\n",
    "В основных данных есть информация о пользователях, их поездках и подписках.\n",
    "\n",
    "###### Пользователи — users_go.csv\n",
    "\n",
    "user_id — уникальный идентификатор пользователя\n",
    "\n",
    "name — имя пользователя\n",
    "\n",
    "age — возраст\n",
    "\n",
    "city — город\n",
    "\n",
    "subscription_type — тип подписки (free, ultra)\n",
    "\n",
    "###### Поездки — rides_go.csv\n",
    "\n",
    "user_id — уникальный идентификатор пользователя\n",
    "\n",
    "distance — расстояние, которое пользователь проехал в текущей сессии (в метрах)\n",
    "\n",
    "duration — продолжительность сессии (в минутах) — время с того момента, как пользователь нажал кнопку «Начать поездку» до момента, как он нажал кнопку «Завершить поездку»\n",
    "\n",
    "date — дата совершения поездки\n",
    "\n",
    "###### Подписки — subscriptions_go.csv\n",
    "\n",
    "subscription_type — тип подписки\n",
    "\n",
    "minute_price — стоимость одной минуты поездки по данной подписке\n",
    "\n",
    "start_ride_price — стоимость начала поездки\n",
    "\n",
    "subscription_fee — стоимость ежемесячного платежа\n"
   ]
  },
  {
   "cell_type": "code",
   "execution_count": 2,
   "id": "72576667",
   "metadata": {},
   "outputs": [],
   "source": [
    "from scipy import stats as st\n",
    "from math import factorial, sqrt\n",
    "import pandas as pd\n",
    "import matplotlib.pyplot as plt\n",
    "import numpy as np"
   ]
  },
  {
   "cell_type": "markdown",
   "id": "c42cbe00",
   "metadata": {},
   "source": [
    "###### Шаг 1. Загрузка данных"
   ]
  },
  {
   "cell_type": "code",
   "execution_count": 3,
   "id": "eff9f206",
   "metadata": {},
   "outputs": [
    {
     "data": {
      "text/html": [
       "<div>\n",
       "<style scoped>\n",
       "    .dataframe tbody tr th:only-of-type {\n",
       "        vertical-align: middle;\n",
       "    }\n",
       "\n",
       "    .dataframe tbody tr th {\n",
       "        vertical-align: top;\n",
       "    }\n",
       "\n",
       "    .dataframe thead th {\n",
       "        text-align: right;\n",
       "    }\n",
       "</style>\n",
       "<table border=\"1\" class=\"dataframe\">\n",
       "  <thead>\n",
       "    <tr style=\"text-align: right;\">\n",
       "      <th></th>\n",
       "      <th>user_id</th>\n",
       "      <th>name</th>\n",
       "      <th>age</th>\n",
       "      <th>city</th>\n",
       "      <th>subscription_type</th>\n",
       "    </tr>\n",
       "  </thead>\n",
       "  <tbody>\n",
       "    <tr>\n",
       "      <th>0</th>\n",
       "      <td>1</td>\n",
       "      <td>Кира</td>\n",
       "      <td>22</td>\n",
       "      <td>Тюмень</td>\n",
       "      <td>ultra</td>\n",
       "    </tr>\n",
       "    <tr>\n",
       "      <th>1</th>\n",
       "      <td>2</td>\n",
       "      <td>Станислав</td>\n",
       "      <td>31</td>\n",
       "      <td>Омск</td>\n",
       "      <td>ultra</td>\n",
       "    </tr>\n",
       "    <tr>\n",
       "      <th>2</th>\n",
       "      <td>3</td>\n",
       "      <td>Алексей</td>\n",
       "      <td>20</td>\n",
       "      <td>Москва</td>\n",
       "      <td>ultra</td>\n",
       "    </tr>\n",
       "    <tr>\n",
       "      <th>3</th>\n",
       "      <td>4</td>\n",
       "      <td>Константин</td>\n",
       "      <td>26</td>\n",
       "      <td>Ростов-на-Дону</td>\n",
       "      <td>ultra</td>\n",
       "    </tr>\n",
       "    <tr>\n",
       "      <th>4</th>\n",
       "      <td>5</td>\n",
       "      <td>Адель</td>\n",
       "      <td>28</td>\n",
       "      <td>Омск</td>\n",
       "      <td>ultra</td>\n",
       "    </tr>\n",
       "  </tbody>\n",
       "</table>\n",
       "</div>"
      ],
      "text/plain": [
       "   user_id        name  age            city subscription_type\n",
       "0        1        Кира   22          Тюмень             ultra\n",
       "1        2   Станислав   31            Омск             ultra\n",
       "2        3     Алексей   20          Москва             ultra\n",
       "3        4  Константин   26  Ростов-на-Дону             ultra\n",
       "4        5       Адель   28            Омск             ultra"
      ]
     },
     "execution_count": 3,
     "metadata": {},
     "output_type": "execute_result"
    }
   ],
   "source": [
    "data_users = pd.read_csv('/datasets/users_go.csv')\n",
    "data_users.head()"
   ]
  },
  {
   "cell_type": "code",
   "execution_count": 4,
   "id": "f431f413",
   "metadata": {},
   "outputs": [
    {
     "name": "stdout",
     "output_type": "stream",
     "text": [
      "<class 'pandas.core.frame.DataFrame'>\n",
      "RangeIndex: 1565 entries, 0 to 1564\n",
      "Data columns (total 5 columns):\n",
      " #   Column             Non-Null Count  Dtype \n",
      "---  ------             --------------  ----- \n",
      " 0   user_id            1565 non-null   int64 \n",
      " 1   name               1565 non-null   object\n",
      " 2   age                1565 non-null   int64 \n",
      " 3   city               1565 non-null   object\n",
      " 4   subscription_type  1565 non-null   object\n",
      "dtypes: int64(2), object(3)\n",
      "memory usage: 61.3+ KB\n"
     ]
    }
   ],
   "source": [
    "data_users.info()"
   ]
  },
  {
   "cell_type": "code",
   "execution_count": 5,
   "id": "f9cd923c",
   "metadata": {
    "scrolled": false
   },
   "outputs": [
    {
     "data": {
      "image/png": "[encoded data removed]",
      "text/plain": [
       "<Figure size 720x1440 with 1 Axes>"
      ]
     },
     "metadata": {
      "needs_background": "light"
     },
     "output_type": "display_data"
    }
   ],
   "source": [
    "data_users['age'].hist(figsize = (10, 20))\n",
    "plt.title('Распределение пользователей по возрасту')\n",
    "plt.xlabel('Возраст пользователей')\n",
    "plt.ylabel('Количество пользователей')\n",
    "plt.show();"
   ]
  },
  {
   "cell_type": "markdown",
   "id": "673910bd",
   "metadata": {},
   "source": [
    "Максимальное количество пользователей пользуются приложением в возрасте от 24 до 28 лет, меньше всего - люди старше 40 лет."
   ]
  },
  {
   "cell_type": "code",
   "execution_count": 6,
   "id": "e1e61e44",
   "metadata": {},
   "outputs": [
    {
     "data": {
      "text/html": [
       "<div>\n",
       "<style scoped>\n",
       "    .dataframe tbody tr th:only-of-type {\n",
       "        vertical-align: middle;\n",
       "    }\n",
       "\n",
       "    .dataframe tbody tr th {\n",
       "        vertical-align: top;\n",
       "    }\n",
       "\n",
       "    .dataframe thead th {\n",
       "        text-align: right;\n",
       "    }\n",
       "</style>\n",
       "<table border=\"1\" class=\"dataframe\">\n",
       "  <thead>\n",
       "    <tr style=\"text-align: right;\">\n",
       "      <th></th>\n",
       "      <th>user_id</th>\n",
       "      <th>distance</th>\n",
       "      <th>duration</th>\n",
       "      <th>date</th>\n",
       "    </tr>\n",
       "  </thead>\n",
       "  <tbody>\n",
       "    <tr>\n",
       "      <th>0</th>\n",
       "      <td>1</td>\n",
       "      <td>4409.919140</td>\n",
       "      <td>25.599769</td>\n",
       "      <td>2021-01-01</td>\n",
       "    </tr>\n",
       "    <tr>\n",
       "      <th>1</th>\n",
       "      <td>1</td>\n",
       "      <td>2617.592153</td>\n",
       "      <td>15.816871</td>\n",
       "      <td>2021-01-18</td>\n",
       "    </tr>\n",
       "    <tr>\n",
       "      <th>2</th>\n",
       "      <td>1</td>\n",
       "      <td>754.159807</td>\n",
       "      <td>6.232113</td>\n",
       "      <td>2021-04-20</td>\n",
       "    </tr>\n",
       "    <tr>\n",
       "      <th>3</th>\n",
       "      <td>1</td>\n",
       "      <td>2694.783254</td>\n",
       "      <td>18.511000</td>\n",
       "      <td>2021-08-11</td>\n",
       "    </tr>\n",
       "    <tr>\n",
       "      <th>4</th>\n",
       "      <td>1</td>\n",
       "      <td>4028.687306</td>\n",
       "      <td>26.265803</td>\n",
       "      <td>2021-08-28</td>\n",
       "    </tr>\n",
       "  </tbody>\n",
       "</table>\n",
       "</div>"
      ],
      "text/plain": [
       "   user_id     distance   duration        date\n",
       "0        1  4409.919140  25.599769  2021-01-01\n",
       "1        1  2617.592153  15.816871  2021-01-18\n",
       "2        1   754.159807   6.232113  2021-04-20\n",
       "3        1  2694.783254  18.511000  2021-08-11\n",
       "4        1  4028.687306  26.265803  2021-08-28"
      ]
     },
     "execution_count": 6,
     "metadata": {},
     "output_type": "execute_result"
    }
   ],
   "source": [
    "data_rides = pd.read_csv('/datasets/rides_go.csv')\n",
    "data_rides.head()"
   ]
  },
  {
   "cell_type": "code",
   "execution_count": 7,
   "id": "cec2e5b2",
   "metadata": {},
   "outputs": [
    {
     "data": {
      "text/html": [
       "<div>\n",
       "<style scoped>\n",
       "    .dataframe tbody tr th:only-of-type {\n",
       "        vertical-align: middle;\n",
       "    }\n",
       "\n",
       "    .dataframe tbody tr th {\n",
       "        vertical-align: top;\n",
       "    }\n",
       "\n",
       "    .dataframe thead th {\n",
       "        text-align: right;\n",
       "    }\n",
       "</style>\n",
       "<table border=\"1\" class=\"dataframe\">\n",
       "  <thead>\n",
       "    <tr style=\"text-align: right;\">\n",
       "      <th></th>\n",
       "      <th>user_id</th>\n",
       "      <th>distance</th>\n",
       "      <th>duration</th>\n",
       "    </tr>\n",
       "  </thead>\n",
       "  <tbody>\n",
       "    <tr>\n",
       "      <th>count</th>\n",
       "      <td>18068.000000</td>\n",
       "      <td>18068.000000</td>\n",
       "      <td>18068.000000</td>\n",
       "    </tr>\n",
       "    <tr>\n",
       "      <th>mean</th>\n",
       "      <td>842.869936</td>\n",
       "      <td>3070.659976</td>\n",
       "      <td>17.805011</td>\n",
       "    </tr>\n",
       "    <tr>\n",
       "      <th>std</th>\n",
       "      <td>434.734317</td>\n",
       "      <td>1116.831209</td>\n",
       "      <td>6.091051</td>\n",
       "    </tr>\n",
       "    <tr>\n",
       "      <th>min</th>\n",
       "      <td>1.000000</td>\n",
       "      <td>0.855683</td>\n",
       "      <td>0.500000</td>\n",
       "    </tr>\n",
       "    <tr>\n",
       "      <th>25%</th>\n",
       "      <td>487.000000</td>\n",
       "      <td>2543.226360</td>\n",
       "      <td>13.597563</td>\n",
       "    </tr>\n",
       "    <tr>\n",
       "      <th>50%</th>\n",
       "      <td>889.000000</td>\n",
       "      <td>3133.609994</td>\n",
       "      <td>17.678395</td>\n",
       "    </tr>\n",
       "    <tr>\n",
       "      <th>75%</th>\n",
       "      <td>1213.250000</td>\n",
       "      <td>3776.222735</td>\n",
       "      <td>21.724800</td>\n",
       "    </tr>\n",
       "    <tr>\n",
       "      <th>max</th>\n",
       "      <td>1534.000000</td>\n",
       "      <td>7211.007745</td>\n",
       "      <td>40.823963</td>\n",
       "    </tr>\n",
       "  </tbody>\n",
       "</table>\n",
       "</div>"
      ],
      "text/plain": [
       "            user_id      distance      duration\n",
       "count  18068.000000  18068.000000  18068.000000\n",
       "mean     842.869936   3070.659976     17.805011\n",
       "std      434.734317   1116.831209      6.091051\n",
       "min        1.000000      0.855683      0.500000\n",
       "25%      487.000000   2543.226360     13.597563\n",
       "50%      889.000000   3133.609994     17.678395\n",
       "75%     1213.250000   3776.222735     21.724800\n",
       "max     1534.000000   7211.007745     40.823963"
      ]
     },
     "execution_count": 7,
     "metadata": {},
     "output_type": "execute_result"
    }
   ],
   "source": [
    "data_rides.describe()"
   ]
  },
  {
   "cell_type": "code",
   "execution_count": 8,
   "id": "9ac378ff",
   "metadata": {},
   "outputs": [
    {
     "name": "stdout",
     "output_type": "stream",
     "text": [
      "<class 'pandas.core.frame.DataFrame'>\n",
      "RangeIndex: 18068 entries, 0 to 18067\n",
      "Data columns (total 4 columns):\n",
      " #   Column    Non-Null Count  Dtype  \n",
      "---  ------    --------------  -----  \n",
      " 0   user_id   18068 non-null  int64  \n",
      " 1   distance  18068 non-null  float64\n",
      " 2   duration  18068 non-null  float64\n",
      " 3   date      18068 non-null  object \n",
      "dtypes: float64(2), int64(1), object(1)\n",
      "memory usage: 564.8+ KB\n"
     ]
    }
   ],
   "source": [
    "data_rides.info()"
   ]
  },
  {
   "cell_type": "code",
   "execution_count": 9,
   "id": "3b77eeb6",
   "metadata": {
    "scrolled": false
   },
   "outputs": [
    {
     "data": {
      "image/png": "[encoded data removed]",
      "text/plain": [
       "<Figure size 720x1440 with 1 Axes>"
      ]
     },
     "metadata": {
      "needs_background": "light"
     },
     "output_type": "display_data"
    }
   ],
   "source": [
    "data_rides['distance'].hist(figsize = (10, 20))\n",
    "plt.title('Распределение пользователей по расстоянию поездки')\n",
    "plt.xlabel('Расстояние, которое пользователь проехал в текущей сессии (в метрах)')\n",
    "plt.ylabel('Количество пользователей')\n",
    "plt.show();"
   ]
  },
  {
   "cell_type": "markdown",
   "id": "dbbf0f49",
   "metadata": {},
   "source": [
    "Самое популярное расстояние, которое пользователь проехал в текущей сессии - от 2900 до 3400 м, расстояние дальше 6500 м имеет наименьшую популярность среди пользователей."
   ]
  },
  {
   "cell_type": "code",
   "execution_count": 10,
   "id": "d0eab161",
   "metadata": {
    "scrolled": false
   },
   "outputs": [
    {
     "data": {
      "image/png": "[encoded data removed]",
      "text/plain": [
       "<Figure size 720x1440 with 1 Axes>"
      ]
     },
     "metadata": {
      "needs_background": "light"
     },
     "output_type": "display_data"
    }
   ],
   "source": [
    "data_rides['duration'].hist(figsize = (10, 20))\n",
    "plt.title('Распределение пользователей по продолжительности поездки')\n",
    "plt.xlabel('Продолжительность сессии (в минутах)')\n",
    "plt.ylabel('Количество пользователей')\n",
    "plt.show();"
   ]
  },
  {
   "cell_type": "markdown",
   "id": "9fb4a9a9",
   "metadata": {},
   "source": [
    "Самое распространенное время поездки среди пользователей приложения от 17 до 20 минут,меньше всего поздок дольше 37 минут."
   ]
  },
  {
   "cell_type": "code",
   "execution_count": 11,
   "id": "8c1ac14e",
   "metadata": {},
   "outputs": [
    {
     "data": {
      "text/html": [
       "<div>\n",
       "<style scoped>\n",
       "    .dataframe tbody tr th:only-of-type {\n",
       "        vertical-align: middle;\n",
       "    }\n",
       "\n",
       "    .dataframe tbody tr th {\n",
       "        vertical-align: top;\n",
       "    }\n",
       "\n",
       "    .dataframe thead th {\n",
       "        text-align: right;\n",
       "    }\n",
       "</style>\n",
       "<table border=\"1\" class=\"dataframe\">\n",
       "  <thead>\n",
       "    <tr style=\"text-align: right;\">\n",
       "      <th></th>\n",
       "      <th>subscription_type</th>\n",
       "      <th>minute_price</th>\n",
       "      <th>start_ride_price</th>\n",
       "      <th>subscription_fee</th>\n",
       "    </tr>\n",
       "  </thead>\n",
       "  <tbody>\n",
       "    <tr>\n",
       "      <th>0</th>\n",
       "      <td>free</td>\n",
       "      <td>8</td>\n",
       "      <td>50</td>\n",
       "      <td>0</td>\n",
       "    </tr>\n",
       "    <tr>\n",
       "      <th>1</th>\n",
       "      <td>ultra</td>\n",
       "      <td>6</td>\n",
       "      <td>0</td>\n",
       "      <td>199</td>\n",
       "    </tr>\n",
       "  </tbody>\n",
       "</table>\n",
       "</div>"
      ],
      "text/plain": [
       "  subscription_type  minute_price  start_ride_price  subscription_fee\n",
       "0              free             8                50                 0\n",
       "1             ultra             6                 0               199"
      ]
     },
     "execution_count": 11,
     "metadata": {},
     "output_type": "execute_result"
    }
   ],
   "source": [
    "data_subscription = pd.read_csv('/datasets/subscriptions_go.csv')\n",
    "data_subscription.head()"
   ]
  },
  {
   "cell_type": "code",
   "execution_count": 12,
   "id": "dbde4ba7",
   "metadata": {},
   "outputs": [
    {
     "name": "stdout",
     "output_type": "stream",
     "text": [
      "<class 'pandas.core.frame.DataFrame'>\n",
      "RangeIndex: 2 entries, 0 to 1\n",
      "Data columns (total 4 columns):\n",
      " #   Column             Non-Null Count  Dtype \n",
      "---  ------             --------------  ----- \n",
      " 0   subscription_type  2 non-null      object\n",
      " 1   minute_price       2 non-null      int64 \n",
      " 2   start_ride_price   2 non-null      int64 \n",
      " 3   subscription_fee   2 non-null      int64 \n",
      "dtypes: int64(3), object(1)\n",
      "memory usage: 192.0+ bytes\n"
     ]
    }
   ],
   "source": [
    "data_subscription.info()"
   ]
  },
  {
   "cell_type": "markdown",
   "id": "3fc16286",
   "metadata": {},
   "source": [
    "Из полученных данных можно сделать вывод, что максимальное число пользователей приложения возрастом от 22 до 27 лет. В основном популярны поездки на 2100-4200 м. Максимальное количество поездок длились от 14 до 21 минуты.\n",
    "Также обнаружено, что в датафрейме data_rides неверно указан тип date."
   ]
  },
  {
   "cell_type": "markdown",
   "id": "e95ebca7",
   "metadata": {},
   "source": [
    "###### Шаг 2. Предобработка данных"
   ]
  },
  {
   "cell_type": "markdown",
   "id": "8238ff2b",
   "metadata": {},
   "source": [
    "###### Приведем столбец date к типу даты pandas"
   ]
  },
  {
   "cell_type": "code",
   "execution_count": 13,
   "id": "bab01961",
   "metadata": {},
   "outputs": [],
   "source": [
    "data_rides['date'] = pd.to_datetime(data_rides['date'], format='%Y-%m-%dT%H:%M:%S')"
   ]
  },
  {
   "cell_type": "code",
   "execution_count": 14,
   "id": "20e043f8",
   "metadata": {},
   "outputs": [
    {
     "name": "stdout",
     "output_type": "stream",
     "text": [
      "<class 'pandas.core.frame.DataFrame'>\n",
      "RangeIndex: 18068 entries, 0 to 18067\n",
      "Data columns (total 4 columns):\n",
      " #   Column    Non-Null Count  Dtype         \n",
      "---  ------    --------------  -----         \n",
      " 0   user_id   18068 non-null  int64         \n",
      " 1   distance  18068 non-null  float64       \n",
      " 2   duration  18068 non-null  float64       \n",
      " 3   date      18068 non-null  datetime64[ns]\n",
      "dtypes: datetime64[ns](1), float64(2), int64(1)\n",
      "memory usage: 564.8 KB\n"
     ]
    }
   ],
   "source": [
    "data_rides.info() # проверим"
   ]
  },
  {
   "cell_type": "markdown",
   "id": "9d661ba9",
   "metadata": {},
   "source": [
    "###### Создадим новый столбец с номером месяца на основе столбца date"
   ]
  },
  {
   "cell_type": "code",
   "execution_count": 15,
   "id": "4f93d54a",
   "metadata": {},
   "outputs": [],
   "source": [
    "data_rides['month'] = data_rides['date'].dt.month "
   ]
  },
  {
   "cell_type": "code",
   "execution_count": 16,
   "id": "d74d3edf",
   "metadata": {},
   "outputs": [
    {
     "data": {
      "text/html": [
       "<div>\n",
       "<style scoped>\n",
       "    .dataframe tbody tr th:only-of-type {\n",
       "        vertical-align: middle;\n",
       "    }\n",
       "\n",
       "    .dataframe tbody tr th {\n",
       "        vertical-align: top;\n",
       "    }\n",
       "\n",
       "    .dataframe thead th {\n",
       "        text-align: right;\n",
       "    }\n",
       "</style>\n",
       "<table border=\"1\" class=\"dataframe\">\n",
       "  <thead>\n",
       "    <tr style=\"text-align: right;\">\n",
       "      <th></th>\n",
       "      <th>user_id</th>\n",
       "      <th>distance</th>\n",
       "      <th>duration</th>\n",
       "      <th>date</th>\n",
       "      <th>month</th>\n",
       "    </tr>\n",
       "  </thead>\n",
       "  <tbody>\n",
       "    <tr>\n",
       "      <th>0</th>\n",
       "      <td>1</td>\n",
       "      <td>4409.919140</td>\n",
       "      <td>25.599769</td>\n",
       "      <td>2021-01-01</td>\n",
       "      <td>1</td>\n",
       "    </tr>\n",
       "    <tr>\n",
       "      <th>1</th>\n",
       "      <td>1</td>\n",
       "      <td>2617.592153</td>\n",
       "      <td>15.816871</td>\n",
       "      <td>2021-01-18</td>\n",
       "      <td>1</td>\n",
       "    </tr>\n",
       "    <tr>\n",
       "      <th>2</th>\n",
       "      <td>1</td>\n",
       "      <td>754.159807</td>\n",
       "      <td>6.232113</td>\n",
       "      <td>2021-04-20</td>\n",
       "      <td>4</td>\n",
       "    </tr>\n",
       "    <tr>\n",
       "      <th>3</th>\n",
       "      <td>1</td>\n",
       "      <td>2694.783254</td>\n",
       "      <td>18.511000</td>\n",
       "      <td>2021-08-11</td>\n",
       "      <td>8</td>\n",
       "    </tr>\n",
       "    <tr>\n",
       "      <th>4</th>\n",
       "      <td>1</td>\n",
       "      <td>4028.687306</td>\n",
       "      <td>26.265803</td>\n",
       "      <td>2021-08-28</td>\n",
       "      <td>8</td>\n",
       "    </tr>\n",
       "  </tbody>\n",
       "</table>\n",
       "</div>"
      ],
      "text/plain": [
       "   user_id     distance   duration       date  month\n",
       "0        1  4409.919140  25.599769 2021-01-01      1\n",
       "1        1  2617.592153  15.816871 2021-01-18      1\n",
       "2        1   754.159807   6.232113 2021-04-20      4\n",
       "3        1  2694.783254  18.511000 2021-08-11      8\n",
       "4        1  4028.687306  26.265803 2021-08-28      8"
      ]
     },
     "execution_count": 16,
     "metadata": {},
     "output_type": "execute_result"
    }
   ],
   "source": [
    "data_rides.head() # проверяем"
   ]
  },
  {
   "cell_type": "markdown",
   "id": "266ce645",
   "metadata": {},
   "source": [
    "###### Проверим наличие пропущенных значений и дубликатов в датафреймах"
   ]
  },
  {
   "cell_type": "code",
   "execution_count": 17,
   "id": "937e3826",
   "metadata": {},
   "outputs": [
    {
     "data": {
      "text/plain": [
       "31"
      ]
     },
     "execution_count": 17,
     "metadata": {},
     "output_type": "execute_result"
    }
   ],
   "source": [
    "data_users.duplicated().sum()"
   ]
  },
  {
   "cell_type": "code",
   "execution_count": 18,
   "id": "4561bba0",
   "metadata": {},
   "outputs": [
    {
     "data": {
      "text/plain": [
       "31"
      ]
     },
     "execution_count": 18,
     "metadata": {},
     "output_type": "execute_result"
    }
   ],
   "source": [
    "data_users['user_id'].duplicated().sum()"
   ]
  },
  {
   "cell_type": "code",
   "execution_count": 19,
   "id": "da29c8d1",
   "metadata": {},
   "outputs": [
    {
     "name": "stdout",
     "output_type": "stream",
     "text": [
      "209     2\n",
      "807     2\n",
      "611     2\n",
      "43      2\n",
      "737     2\n",
      "       ..\n",
      "520     1\n",
      "519     1\n",
      "518     1\n",
      "517     1\n",
      "1534    1\n",
      "Name: user_id, Length: 1534, dtype: int64\n"
     ]
    }
   ],
   "source": [
    "print(data_users['user_id'].value_counts())"
   ]
  },
  {
   "cell_type": "code",
   "execution_count": 20,
   "id": "b7815a1c",
   "metadata": {},
   "outputs": [],
   "source": [
    "data_users = data_users.drop_duplicates(subset=['user_id'], keep='first')"
   ]
  },
  {
   "cell_type": "code",
   "execution_count": 21,
   "id": "117918da",
   "metadata": {},
   "outputs": [
    {
     "name": "stdout",
     "output_type": "stream",
     "text": [
      "1       1\n",
      "1020    1\n",
      "1029    1\n",
      "1028    1\n",
      "1027    1\n",
      "       ..\n",
      "510     1\n",
      "509     1\n",
      "508     1\n",
      "507     1\n",
      "1534    1\n",
      "Name: user_id, Length: 1534, dtype: int64\n"
     ]
    }
   ],
   "source": [
    "print(data_users['user_id'].value_counts())"
   ]
  },
  {
   "cell_type": "code",
   "execution_count": 22,
   "id": "b142b709",
   "metadata": {},
   "outputs": [],
   "source": [
    "data_users = data_users.reset_index(drop=True) # удаляем старые индексы и создаем новые"
   ]
  },
  {
   "cell_type": "code",
   "execution_count": 23,
   "id": "c1b8caa9",
   "metadata": {},
   "outputs": [
    {
     "data": {
      "text/plain": [
       "0"
      ]
     },
     "execution_count": 23,
     "metadata": {},
     "output_type": "execute_result"
    }
   ],
   "source": [
    "data_users['user_id'].duplicated().sum() # проверяем "
   ]
  },
  {
   "cell_type": "code",
   "execution_count": 24,
   "id": "08a88c12",
   "metadata": {},
   "outputs": [
    {
     "data": {
      "text/plain": [
       "0"
      ]
     },
     "execution_count": 24,
     "metadata": {},
     "output_type": "execute_result"
    }
   ],
   "source": [
    "data_rides.duplicated().sum() "
   ]
  },
  {
   "cell_type": "code",
   "execution_count": 25,
   "id": "9339940a",
   "metadata": {},
   "outputs": [
    {
     "data": {
      "text/plain": [
       "0"
      ]
     },
     "execution_count": 25,
     "metadata": {},
     "output_type": "execute_result"
    }
   ],
   "source": [
    "data_subscription.duplicated().sum()  "
   ]
  },
  {
   "cell_type": "markdown",
   "id": "f5652137",
   "metadata": {},
   "source": [
    "Явные дубликаты обнаружились в data_users в столбце 'user_id', избавились от дубликатов без удаления строк и восстановили порядок индексов. "
   ]
  },
  {
   "cell_type": "markdown",
   "id": "c7811250",
   "metadata": {},
   "source": [
    "Расмотрим количество пропусков в информации о пользователях"
   ]
  },
  {
   "cell_type": "code",
   "execution_count": 26,
   "id": "dc276711",
   "metadata": {},
   "outputs": [
    {
     "data": {
      "text/plain": [
       "user_id              0\n",
       "name                 0\n",
       "age                  0\n",
       "city                 0\n",
       "subscription_type    0\n",
       "dtype: int64"
      ]
     },
     "execution_count": 26,
     "metadata": {},
     "output_type": "execute_result"
    }
   ],
   "source": [
    "data_users.isna().sum()"
   ]
  },
  {
   "cell_type": "markdown",
   "id": "b8a06651",
   "metadata": {},
   "source": [
    "Расмотрим количество пропусков в информации о поездках пользователей"
   ]
  },
  {
   "cell_type": "code",
   "execution_count": 27,
   "id": "744710cd",
   "metadata": {},
   "outputs": [
    {
     "data": {
      "text/plain": [
       "user_id     0\n",
       "distance    0\n",
       "duration    0\n",
       "date        0\n",
       "month       0\n",
       "dtype: int64"
      ]
     },
     "execution_count": 27,
     "metadata": {},
     "output_type": "execute_result"
    }
   ],
   "source": [
    "data_rides.isna().sum()"
   ]
  },
  {
   "cell_type": "markdown",
   "id": "fe802fcf",
   "metadata": {},
   "source": [
    "Расмотрим количество пропусков в информации о подписках пользователей"
   ]
  },
  {
   "cell_type": "code",
   "execution_count": 28,
   "id": "b6f4ec0f",
   "metadata": {},
   "outputs": [
    {
     "data": {
      "text/plain": [
       "subscription_type    0\n",
       "minute_price         0\n",
       "start_ride_price     0\n",
       "subscription_fee     0\n",
       "dtype: int64"
      ]
     },
     "execution_count": 28,
     "metadata": {},
     "output_type": "execute_result"
    }
   ],
   "source": [
    "data_subscription.isna().sum()"
   ]
  },
  {
   "cell_type": "markdown",
   "id": "e2e4113d",
   "metadata": {},
   "source": [
    "Пропусков нет"
   ]
  },
  {
   "cell_type": "markdown",
   "id": "a9fb416d",
   "metadata": {},
   "source": [
    "Рассмотрим неявные дубликаты "
   ]
  },
  {
   "cell_type": "code",
   "execution_count": 29,
   "id": "786722b2",
   "metadata": {},
   "outputs": [
    {
     "data": {
      "text/plain": [
       "array(['Агата', 'Аделина', 'Адель', 'Айдар', 'Александр', 'Александра',\n",
       "       'Алексей', 'Алина', 'Алиса', 'Алия', 'Алла', 'Альберт', 'Альбина',\n",
       "       'Алёна', 'Амалия', 'Амина', 'Амир', 'Анастасия', 'Анатолий',\n",
       "       'Ангелина', 'Андрей', 'Анжелика', 'Анна', 'Антон', 'Антонина',\n",
       "       'Ариана', 'Арина', 'Арсен', 'Арсений', 'Артемий', 'Артур', 'Артём',\n",
       "       'Богдан', 'Борис', 'Вадим', 'Валентина', 'Валерий', 'Валерия',\n",
       "       'Варвара', 'Василий', 'Василина', 'Василиса', 'Вера', 'Вероника',\n",
       "       'Виктор', 'Виктория', 'Виолетта', 'Виталий', 'Виталина', 'Влад',\n",
       "       'Влада', 'Владимир', 'Владислав', 'Владислава', 'Всеволод',\n",
       "       'Вячеслав', 'Галина', 'Георгий', 'Герман', 'Глеб', 'Гордей',\n",
       "       'Григорий', 'Давид', 'Дамир', 'Даниил', 'Данил', 'Данила',\n",
       "       'Даниэль', 'Дарина', 'Дарья', 'Демид', 'Денис', 'Диана', 'Дмитрий',\n",
       "       'Ева', 'Евгений', 'Евгения', 'Егор', 'Екатерина', 'Елена',\n",
       "       'Елизавета', 'Елисей', 'Есения', 'Жанна', 'Зарина', 'Захар',\n",
       "       'Злата', 'Иван', 'Игнат', 'Игорь', 'Ильдар', 'Илья', 'Инна',\n",
       "       'Ирина', 'Камилла', 'Карина', 'Каролина', 'Кира', 'Кирилл',\n",
       "       'Константин', 'Кристина', 'Ксения', 'Лариса', 'Лев', 'Леонид',\n",
       "       'Лиана', 'Лидия', 'Лилия', 'Любовь', 'Людмила', 'Мадина', 'Майя',\n",
       "       'Макар', 'Максим', 'Марат', 'Маргарита', 'Марина', 'Мария', 'Марк',\n",
       "       'Марсель', 'Матвей', 'Мелания', 'Милана', 'Милена', 'Мирон',\n",
       "       'Мирослав', 'Мирослава', 'Михаил', 'Назар', 'Наталия', 'Наталья',\n",
       "       'Наташа', 'Нелли', 'Ника', 'Никита', 'Николай', 'Нина', 'Одиссей',\n",
       "       'Оксана', 'Олег', 'Олеся', 'Ольга', 'Павел', 'Петр', 'Платон',\n",
       "       'Полина', 'Радмир', 'Рамиль', 'Регина', 'Роберт', 'Родион',\n",
       "       'Роман', 'Ростислав', 'Руслан', 'Рустам', 'Савелий', 'Самир',\n",
       "       'Самира', 'Светлана', 'Святогор', 'Святослав', 'Семен', 'Сергей',\n",
       "       'Снежана', 'София', 'Софья', 'Станислав', 'Степан', 'Стефания',\n",
       "       'Таисия', 'Тамара', 'Тамерлан', 'Татьяна', 'Тимофей', 'Тимур',\n",
       "       'Тихон', 'Ульяна', 'Федор', 'Эвелина', 'Эдуард', 'Элина',\n",
       "       'Эльвира', 'Эльмира', 'Эмилия', 'Эмиль', 'Юлиана', 'Юлия', 'Юрий',\n",
       "       'Ян', 'Яна', 'Яромир', 'Ярослав', 'Ярослава', 'Ясмина'],\n",
       "      dtype=object)"
      ]
     },
     "execution_count": 29,
     "metadata": {},
     "output_type": "execute_result"
    }
   ],
   "source": [
    "data_users['name'].sort_values().unique()"
   ]
  },
  {
   "cell_type": "code",
   "execution_count": 30,
   "id": "1007cb0a",
   "metadata": {},
   "outputs": [],
   "source": [
    "data_users['name'] = data_users['name'].replace('Наташа','Наталья')"
   ]
  },
  {
   "cell_type": "code",
   "execution_count": 31,
   "id": "f1989c2a",
   "metadata": {},
   "outputs": [
    {
     "data": {
      "text/plain": [
       "array(['Агата', 'Аделина', 'Адель', 'Айдар', 'Александр', 'Александра',\n",
       "       'Алексей', 'Алина', 'Алиса', 'Алия', 'Алла', 'Альберт', 'Альбина',\n",
       "       'Алёна', 'Амалия', 'Амина', 'Амир', 'Анастасия', 'Анатолий',\n",
       "       'Ангелина', 'Андрей', 'Анжелика', 'Анна', 'Антон', 'Антонина',\n",
       "       'Ариана', 'Арина', 'Арсен', 'Арсений', 'Артемий', 'Артур', 'Артём',\n",
       "       'Богдан', 'Борис', 'Вадим', 'Валентина', 'Валерий', 'Валерия',\n",
       "       'Варвара', 'Василий', 'Василина', 'Василиса', 'Вера', 'Вероника',\n",
       "       'Виктор', 'Виктория', 'Виолетта', 'Виталий', 'Виталина', 'Влад',\n",
       "       'Влада', 'Владимир', 'Владислав', 'Владислава', 'Всеволод',\n",
       "       'Вячеслав', 'Галина', 'Георгий', 'Герман', 'Глеб', 'Гордей',\n",
       "       'Григорий', 'Давид', 'Дамир', 'Даниил', 'Данил', 'Данила',\n",
       "       'Даниэль', 'Дарина', 'Дарья', 'Демид', 'Денис', 'Диана', 'Дмитрий',\n",
       "       'Ева', 'Евгений', 'Евгения', 'Егор', 'Екатерина', 'Елена',\n",
       "       'Елизавета', 'Елисей', 'Есения', 'Жанна', 'Зарина', 'Захар',\n",
       "       'Злата', 'Иван', 'Игнат', 'Игорь', 'Ильдар', 'Илья', 'Инна',\n",
       "       'Ирина', 'Камилла', 'Карина', 'Каролина', 'Кира', 'Кирилл',\n",
       "       'Константин', 'Кристина', 'Ксения', 'Лариса', 'Лев', 'Леонид',\n",
       "       'Лиана', 'Лидия', 'Лилия', 'Любовь', 'Людмила', 'Мадина', 'Майя',\n",
       "       'Макар', 'Максим', 'Марат', 'Маргарита', 'Марина', 'Мария', 'Марк',\n",
       "       'Марсель', 'Матвей', 'Мелания', 'Милана', 'Милена', 'Мирон',\n",
       "       'Мирослав', 'Мирослава', 'Михаил', 'Назар', 'Наталия', 'Наталья',\n",
       "       'Нелли', 'Ника', 'Никита', 'Николай', 'Нина', 'Одиссей', 'Оксана',\n",
       "       'Олег', 'Олеся', 'Ольга', 'Павел', 'Петр', 'Платон', 'Полина',\n",
       "       'Радмир', 'Рамиль', 'Регина', 'Роберт', 'Родион', 'Роман',\n",
       "       'Ростислав', 'Руслан', 'Рустам', 'Савелий', 'Самир', 'Самира',\n",
       "       'Светлана', 'Святогор', 'Святослав', 'Семен', 'Сергей', 'Снежана',\n",
       "       'София', 'Софья', 'Станислав', 'Степан', 'Стефания', 'Таисия',\n",
       "       'Тамара', 'Тамерлан', 'Татьяна', 'Тимофей', 'Тимур', 'Тихон',\n",
       "       'Ульяна', 'Федор', 'Эвелина', 'Эдуард', 'Элина', 'Эльвира',\n",
       "       'Эльмира', 'Эмилия', 'Эмиль', 'Юлиана', 'Юлия', 'Юрий', 'Ян',\n",
       "       'Яна', 'Яромир', 'Ярослав', 'Ярослава', 'Ясмина'], dtype=object)"
      ]
     },
     "execution_count": 31,
     "metadata": {},
     "output_type": "execute_result"
    }
   ],
   "source": [
    "data_users['name'].sort_values().unique() # проверим"
   ]
  },
  {
   "cell_type": "code",
   "execution_count": 32,
   "id": "ca329f33",
   "metadata": {
    "scrolled": true
   },
   "outputs": [
    {
     "data": {
      "text/plain": [
       "array(['Екатеринбург', 'Краснодар', 'Москва', 'Омск', 'Пятигорск',\n",
       "       'Ростов-на-Дону', 'Сочи', 'Тюмень'], dtype=object)"
      ]
     },
     "execution_count": 32,
     "metadata": {},
     "output_type": "execute_result"
    }
   ],
   "source": [
    "data_users['city'].sort_values().unique()"
   ]
  },
  {
   "cell_type": "markdown",
   "id": "d2e0d4aa",
   "metadata": {},
   "source": [
    "Неявные дубликаты Наташа и Наталья обнаружены в столбце 'name' датафрейма data_users, данный дубликат устранен."
   ]
  },
  {
   "cell_type": "markdown",
   "id": "212593c7",
   "metadata": {},
   "source": [
    "###### Шаг 3. Исследовательский анализ данных"
   ]
  },
  {
   "cell_type": "markdown",
   "id": "f5d3a006",
   "metadata": {},
   "source": [
    "Опишишем и визуализируем общую информацию о пользователях и поездках"
   ]
  },
  {
   "cell_type": "markdown",
   "id": "716fb600",
   "metadata": {},
   "source": [
    "###### Частота встречаемости городов"
   ]
  },
  {
   "cell_type": "code",
   "execution_count": 33,
   "id": "2d511461",
   "metadata": {},
   "outputs": [
    {
     "data": {
      "text/plain": [
       "Пятигорск         219\n",
       "Екатеринбург      204\n",
       "Ростов-на-Дону    198\n",
       "Краснодар         193\n",
       "Сочи              189\n",
       "Омск              183\n",
       "Тюмень            180\n",
       "Москва            168\n",
       "Name: city, dtype: int64"
      ]
     },
     "execution_count": 33,
     "metadata": {},
     "output_type": "execute_result"
    }
   ],
   "source": [
    "data_users['city'].value_counts()"
   ]
  },
  {
   "cell_type": "code",
   "execution_count": 34,
   "id": "01ee9da2",
   "metadata": {},
   "outputs": [
    {
     "data": {
      "image/png": "[encoded data removed]",
      "text/plain": [
       "<Figure size 1368x432 with 1 Axes>"
      ]
     },
     "metadata": {
      "needs_background": "light"
     },
     "output_type": "display_data"
    }
   ],
   "source": [
    "data_users['city'].value_counts().plot(kind = 'barh', figsize = (19,6), rot = 0, legend = False, fontsize = 16)\\\n",
    "                  .set_title('Частота встречаемости городов' + \"\\n\", fontsize = 22, color = 'SteelBlue');"
   ]
  },
  {
   "cell_type": "markdown",
   "id": "04dd6246",
   "metadata": {},
   "source": [
    "Чаще всего приложение используют жители Пятигорска."
   ]
  },
  {
   "cell_type": "markdown",
   "id": "970d232c",
   "metadata": {},
   "source": [
    "###### Соотношение пользователей с подпиской и без подписки"
   ]
  },
  {
   "cell_type": "code",
   "execution_count": 35,
   "id": "556f902b",
   "metadata": {},
   "outputs": [
    {
     "data": {
      "text/plain": [
       "free     835\n",
       "ultra    699\n",
       "Name: subscription_type, dtype: int64"
      ]
     },
     "execution_count": 35,
     "metadata": {},
     "output_type": "execute_result"
    }
   ],
   "source": [
    "data_users['subscription_type'].value_counts()"
   ]
  },
  {
   "cell_type": "code",
   "execution_count": 36,
   "id": "13cdb438",
   "metadata": {},
   "outputs": [
    {
     "data": {
      "text/plain": [
       "1534"
      ]
     },
     "execution_count": 36,
     "metadata": {},
     "output_type": "execute_result"
    }
   ],
   "source": [
    "data_users['subscription_type'].shape[0]"
   ]
  },
  {
   "cell_type": "code",
   "execution_count": 37,
   "id": "db39f7c7",
   "metadata": {},
   "outputs": [],
   "source": [
    "count_with_subscription = data_users['subscription_type'].value_counts()['ultra']"
   ]
  },
  {
   "cell_type": "code",
   "execution_count": 38,
   "id": "f8ffeab9",
   "metadata": {},
   "outputs": [],
   "source": [
    "count_without_subscription = data_users['subscription_type'].value_counts()['free']"
   ]
  },
  {
   "cell_type": "code",
   "execution_count": 39,
   "id": "cab898db",
   "metadata": {},
   "outputs": [],
   "source": [
    "ratio_with = round(count_with_subscription / data_users['subscription_type'].shape[0] * 100)"
   ]
  },
  {
   "cell_type": "code",
   "execution_count": 40,
   "id": "78cd711f",
   "metadata": {},
   "outputs": [],
   "source": [
    "ratio_without = round(count_without_subscription / data_users['subscription_type'].shape[0] * 100)"
   ]
  },
  {
   "cell_type": "code",
   "execution_count": 41,
   "id": "0c67ede1",
   "metadata": {},
   "outputs": [
    {
     "name": "stdout",
     "output_type": "stream",
     "text": [
      "46\n"
     ]
    }
   ],
   "source": [
    "print(ratio_with)"
   ]
  },
  {
   "cell_type": "code",
   "execution_count": 42,
   "id": "240fc3b7",
   "metadata": {},
   "outputs": [
    {
     "name": "stdout",
     "output_type": "stream",
     "text": [
      "54\n"
     ]
    }
   ],
   "source": [
    "print(ratio_without)"
   ]
  },
  {
   "cell_type": "code",
   "execution_count": 43,
   "id": "bb3863ae",
   "metadata": {},
   "outputs": [
    {
     "data": {
      "image/png": "[encoded data removed]",
      "text/plain": [
       "<Figure size 432x288 with 1 Axes>"
      ]
     },
     "metadata": {},
     "output_type": "display_data"
    }
   ],
   "source": [
    "data_users['subscription_type'].value_counts().plot(kind='pie', autopct='%1.1f%%')\n",
    "plt.axis('equal')\n",
    "plt.show()\n"
   ]
  },
  {
   "cell_type": "markdown",
   "id": "c1b9b496",
   "metadata": {},
   "source": [
    "Из графика видно, что количество пользователей без подписки больше на 8.8%"
   ]
  },
  {
   "cell_type": "markdown",
   "id": "2f5daeee",
   "metadata": {},
   "source": [
    "###### Возраст пользователей"
   ]
  },
  {
   "cell_type": "code",
   "execution_count": 44,
   "id": "9ebc6551",
   "metadata": {},
   "outputs": [
    {
     "data": {
      "image/png": "[encoded data removed]",
      "text/plain": [
       "<Figure size 432x288 with 1 Axes>"
      ]
     },
     "metadata": {
      "needs_background": "light"
     },
     "output_type": "display_data"
    }
   ],
   "source": [
    "age_groups = data_users.groupby(pd.cut(data_users['age'], bins=[0, 20, 30, 40, 50]))\n",
    "count_users = age_groups.size()\n",
    "count_users.plot(kind='bar')\n",
    "plt.xlabel('Возрастные группы')\n",
    "plt.ylabel('Количество пользователей')\n",
    "plt.show()"
   ]
  },
  {
   "cell_type": "markdown",
   "id": "c365fd21",
   "metadata": {},
   "source": [
    "Наибольшее количество пользователей находится в группе от 20 до 30 лет."
   ]
  },
  {
   "cell_type": "markdown",
   "id": "8418523c",
   "metadata": {},
   "source": [
    "###### Расстояние, которое пользователь преодолел за одну поездку"
   ]
  },
  {
   "cell_type": "code",
   "execution_count": 45,
   "id": "a6bf53c0",
   "metadata": {},
   "outputs": [
    {
     "data": {
      "text/plain": [
       "3070.6599756818814"
      ]
     },
     "execution_count": 45,
     "metadata": {},
     "output_type": "execute_result"
    }
   ],
   "source": [
    "data_rides['distance'].mean()"
   ]
  },
  {
   "cell_type": "code",
   "execution_count": 46,
   "id": "bab671c5",
   "metadata": {},
   "outputs": [
    {
     "data": {
      "image/png": "[encoded data removed]",
      "text/plain": [
       "<Figure size 432x288 with 1 Axes>"
      ]
     },
     "metadata": {
      "needs_background": "light"
     },
     "output_type": "display_data"
    }
   ],
   "source": [
    "distance_groups = data_rides.groupby(pd.cut(data_rides['distance'], bins=[0, 1000, 2000, 3000, 4000, 5000, 6000, 7000, 8000]))\n",
    "count_distance = distance_groups.size()\n",
    "count_distance.plot(kind='bar')\n",
    "plt.xlabel('Расстояние, которое пользователь проехал в текущей сессии (в метрах)')\n",
    "plt.ylabel('Количество пользователей')\n",
    "plt.show()"
   ]
  },
  {
   "cell_type": "markdown",
   "id": "cbba06f1",
   "metadata": {},
   "source": [
    "Среднее значение 3070 м., чаще всего за одну поездку пользователи проезжали от 3000 м до 4000, меньше на расстояния более 6000. Скорее всего, на большие расстояния пользователям не выгодно ездить, так как больше половины пользователей не пользуется подпиской."
   ]
  },
  {
   "cell_type": "markdown",
   "id": "2ba905bd",
   "metadata": {},
   "source": [
    "###### Продолжительность поездок"
   ]
  },
  {
   "cell_type": "code",
   "execution_count": 47,
   "id": "a6b17904",
   "metadata": {},
   "outputs": [
    {
     "data": {
      "text/plain": [
       "17.80501119798444"
      ]
     },
     "execution_count": 47,
     "metadata": {},
     "output_type": "execute_result"
    }
   ],
   "source": [
    "data_rides['duration'].mean()"
   ]
  },
  {
   "cell_type": "code",
   "execution_count": 48,
   "id": "2c99611a",
   "metadata": {
    "scrolled": true
   },
   "outputs": [
    {
     "data": {
      "image/png": "[encoded data removed]",
      "text/plain": [
       "<Figure size 432x288 with 1 Axes>"
      ]
     },
     "metadata": {
      "needs_background": "light"
     },
     "output_type": "display_data"
    }
   ],
   "source": [
    "duration_groups = data_rides.groupby(pd.cut(data_rides['duration'], bins=[0, 5, 10, 15, 20, 25, 30, 35, 40, 45]))\n",
    "count_duration = duration_groups.size()\n",
    "count_duration.plot(kind='bar')\n",
    "plt.xlabel('Время поездки, минут')\n",
    "plt.ylabel('Количество пользователей')\n",
    "plt.show()"
   ]
  },
  {
   "cell_type": "markdown",
   "id": "9f9b00e9",
   "metadata": {},
   "source": [
    "Среднее время поездки составило 18 минут, максимальное количество поездок длилось от 15 до 20 минут, наименьшее больше 35 минут."
   ]
  },
  {
   "cell_type": "markdown",
   "id": "4ef51331",
   "metadata": {},
   "source": [
    "###### Шаг 4. Объединение данных"
   ]
  },
  {
   "cell_type": "markdown",
   "id": "b4dc7923",
   "metadata": {},
   "source": [
    "###### Объединим данные о пользователях, поездках и подписках в один датафрейм"
   ]
  },
  {
   "cell_type": "code",
   "execution_count": 49,
   "id": "740fe446",
   "metadata": {},
   "outputs": [
    {
     "data": {
      "text/html": [
       "<div>\n",
       "<style scoped>\n",
       "    .dataframe tbody tr th:only-of-type {\n",
       "        vertical-align: middle;\n",
       "    }\n",
       "\n",
       "    .dataframe tbody tr th {\n",
       "        vertical-align: top;\n",
       "    }\n",
       "\n",
       "    .dataframe thead th {\n",
       "        text-align: right;\n",
       "    }\n",
       "</style>\n",
       "<table border=\"1\" class=\"dataframe\">\n",
       "  <thead>\n",
       "    <tr style=\"text-align: right;\">\n",
       "      <th></th>\n",
       "      <th>user_id</th>\n",
       "      <th>name</th>\n",
       "      <th>age</th>\n",
       "      <th>city</th>\n",
       "      <th>subscription_type</th>\n",
       "      <th>distance</th>\n",
       "      <th>duration</th>\n",
       "      <th>date</th>\n",
       "      <th>month</th>\n",
       "      <th>minute_price</th>\n",
       "      <th>start_ride_price</th>\n",
       "      <th>subscription_fee</th>\n",
       "    </tr>\n",
       "  </thead>\n",
       "  <tbody>\n",
       "    <tr>\n",
       "      <th>0</th>\n",
       "      <td>1</td>\n",
       "      <td>Кира</td>\n",
       "      <td>22</td>\n",
       "      <td>Тюмень</td>\n",
       "      <td>ultra</td>\n",
       "      <td>4409.919140</td>\n",
       "      <td>25.599769</td>\n",
       "      <td>2021-01-01</td>\n",
       "      <td>1</td>\n",
       "      <td>6</td>\n",
       "      <td>0</td>\n",
       "      <td>199</td>\n",
       "    </tr>\n",
       "    <tr>\n",
       "      <th>1</th>\n",
       "      <td>1</td>\n",
       "      <td>Кира</td>\n",
       "      <td>22</td>\n",
       "      <td>Тюмень</td>\n",
       "      <td>ultra</td>\n",
       "      <td>2617.592153</td>\n",
       "      <td>15.816871</td>\n",
       "      <td>2021-01-18</td>\n",
       "      <td>1</td>\n",
       "      <td>6</td>\n",
       "      <td>0</td>\n",
       "      <td>199</td>\n",
       "    </tr>\n",
       "    <tr>\n",
       "      <th>2</th>\n",
       "      <td>1</td>\n",
       "      <td>Кира</td>\n",
       "      <td>22</td>\n",
       "      <td>Тюмень</td>\n",
       "      <td>ultra</td>\n",
       "      <td>754.159807</td>\n",
       "      <td>6.232113</td>\n",
       "      <td>2021-04-20</td>\n",
       "      <td>4</td>\n",
       "      <td>6</td>\n",
       "      <td>0</td>\n",
       "      <td>199</td>\n",
       "    </tr>\n",
       "    <tr>\n",
       "      <th>3</th>\n",
       "      <td>1</td>\n",
       "      <td>Кира</td>\n",
       "      <td>22</td>\n",
       "      <td>Тюмень</td>\n",
       "      <td>ultra</td>\n",
       "      <td>2694.783254</td>\n",
       "      <td>18.511000</td>\n",
       "      <td>2021-08-11</td>\n",
       "      <td>8</td>\n",
       "      <td>6</td>\n",
       "      <td>0</td>\n",
       "      <td>199</td>\n",
       "    </tr>\n",
       "    <tr>\n",
       "      <th>4</th>\n",
       "      <td>1</td>\n",
       "      <td>Кира</td>\n",
       "      <td>22</td>\n",
       "      <td>Тюмень</td>\n",
       "      <td>ultra</td>\n",
       "      <td>4028.687306</td>\n",
       "      <td>26.265803</td>\n",
       "      <td>2021-08-28</td>\n",
       "      <td>8</td>\n",
       "      <td>6</td>\n",
       "      <td>0</td>\n",
       "      <td>199</td>\n",
       "    </tr>\n",
       "  </tbody>\n",
       "</table>\n",
       "</div>"
      ],
      "text/plain": [
       "   user_id  name  age    city subscription_type     distance   duration  \\\n",
       "0        1  Кира   22  Тюмень             ultra  4409.919140  25.599769   \n",
       "1        1  Кира   22  Тюмень             ultra  2617.592153  15.816871   \n",
       "2        1  Кира   22  Тюмень             ultra   754.159807   6.232113   \n",
       "3        1  Кира   22  Тюмень             ultra  2694.783254  18.511000   \n",
       "4        1  Кира   22  Тюмень             ultra  4028.687306  26.265803   \n",
       "\n",
       "        date  month  minute_price  start_ride_price  subscription_fee  \n",
       "0 2021-01-01      1             6                 0               199  \n",
       "1 2021-01-18      1             6                 0               199  \n",
       "2 2021-04-20      4             6                 0               199  \n",
       "3 2021-08-11      8             6                 0               199  \n",
       "4 2021-08-28      8             6                 0               199  "
      ]
     },
     "execution_count": 49,
     "metadata": {},
     "output_type": "execute_result"
    }
   ],
   "source": [
    "first_merged_data = pd.merge(data_users, data_rides, on='user_id')\n",
    "merged_data = pd.merge(first_merged_data, data_subscription, on='subscription_type')\n",
    "merged_data.head()"
   ]
  },
  {
   "cell_type": "code",
   "execution_count": 50,
   "id": "6bf1b85c",
   "metadata": {},
   "outputs": [
    {
     "data": {
      "text/plain": [
       "1534"
      ]
     },
     "execution_count": 50,
     "metadata": {},
     "output_type": "execute_result"
    }
   ],
   "source": [
    "data_users.shape[0]"
   ]
  },
  {
   "cell_type": "code",
   "execution_count": 51,
   "id": "b4ab8cab",
   "metadata": {},
   "outputs": [
    {
     "data": {
      "text/plain": [
       "18068"
      ]
     },
     "execution_count": 51,
     "metadata": {},
     "output_type": "execute_result"
    }
   ],
   "source": [
    "data_rides.shape[0]"
   ]
  },
  {
   "cell_type": "code",
   "execution_count": 52,
   "id": "eb5f2a29",
   "metadata": {},
   "outputs": [
    {
     "data": {
      "text/plain": [
       "2"
      ]
     },
     "execution_count": 52,
     "metadata": {},
     "output_type": "execute_result"
    }
   ],
   "source": [
    "data_subscription.shape[0]"
   ]
  },
  {
   "cell_type": "code",
   "execution_count": 53,
   "id": "6dfb5b94",
   "metadata": {},
   "outputs": [
    {
     "data": {
      "text/plain": [
       "18068"
      ]
     },
     "execution_count": 53,
     "metadata": {},
     "output_type": "execute_result"
    }
   ],
   "source": [
    "merged_data.shape[0]"
   ]
  },
  {
   "cell_type": "markdown",
   "id": "172955d4",
   "metadata": {},
   "source": [
    "###### Создадим ещё два датафрейма из датафрейма, созданного на этапе 4.1"
   ]
  },
  {
   "cell_type": "markdown",
   "id": "a78a2afc",
   "metadata": {},
   "source": [
    "C данными о пользователях без подписки"
   ]
  },
  {
   "cell_type": "code",
   "execution_count": 54,
   "id": "9a1f457f",
   "metadata": {},
   "outputs": [],
   "source": [
    "no_sub_users = merged_data[merged_data['subscription_type'] == 'free']"
   ]
  },
  {
   "cell_type": "code",
   "execution_count": 55,
   "id": "5692c9cb",
   "metadata": {},
   "outputs": [
    {
     "data": {
      "text/html": [
       "<div>\n",
       "<style scoped>\n",
       "    .dataframe tbody tr th:only-of-type {\n",
       "        vertical-align: middle;\n",
       "    }\n",
       "\n",
       "    .dataframe tbody tr th {\n",
       "        vertical-align: top;\n",
       "    }\n",
       "\n",
       "    .dataframe thead th {\n",
       "        text-align: right;\n",
       "    }\n",
       "</style>\n",
       "<table border=\"1\" class=\"dataframe\">\n",
       "  <thead>\n",
       "    <tr style=\"text-align: right;\">\n",
       "      <th></th>\n",
       "      <th>user_id</th>\n",
       "      <th>name</th>\n",
       "      <th>age</th>\n",
       "      <th>city</th>\n",
       "      <th>subscription_type</th>\n",
       "      <th>distance</th>\n",
       "      <th>duration</th>\n",
       "      <th>date</th>\n",
       "      <th>month</th>\n",
       "      <th>minute_price</th>\n",
       "      <th>start_ride_price</th>\n",
       "      <th>subscription_fee</th>\n",
       "    </tr>\n",
       "  </thead>\n",
       "  <tbody>\n",
       "    <tr>\n",
       "      <th>6500</th>\n",
       "      <td>700</td>\n",
       "      <td>Айдар</td>\n",
       "      <td>22</td>\n",
       "      <td>Омск</td>\n",
       "      <td>free</td>\n",
       "      <td>2515.690719</td>\n",
       "      <td>14.944286</td>\n",
       "      <td>2021-01-02</td>\n",
       "      <td>1</td>\n",
       "      <td>8</td>\n",
       "      <td>50</td>\n",
       "      <td>0</td>\n",
       "    </tr>\n",
       "    <tr>\n",
       "      <th>6501</th>\n",
       "      <td>700</td>\n",
       "      <td>Айдар</td>\n",
       "      <td>22</td>\n",
       "      <td>Омск</td>\n",
       "      <td>free</td>\n",
       "      <td>846.932642</td>\n",
       "      <td>16.234663</td>\n",
       "      <td>2021-02-01</td>\n",
       "      <td>2</td>\n",
       "      <td>8</td>\n",
       "      <td>50</td>\n",
       "      <td>0</td>\n",
       "    </tr>\n",
       "    <tr>\n",
       "      <th>6502</th>\n",
       "      <td>700</td>\n",
       "      <td>Айдар</td>\n",
       "      <td>22</td>\n",
       "      <td>Омск</td>\n",
       "      <td>free</td>\n",
       "      <td>4004.434142</td>\n",
       "      <td>20.016628</td>\n",
       "      <td>2021-02-04</td>\n",
       "      <td>2</td>\n",
       "      <td>8</td>\n",
       "      <td>50</td>\n",
       "      <td>0</td>\n",
       "    </tr>\n",
       "    <tr>\n",
       "      <th>6503</th>\n",
       "      <td>700</td>\n",
       "      <td>Айдар</td>\n",
       "      <td>22</td>\n",
       "      <td>Омск</td>\n",
       "      <td>free</td>\n",
       "      <td>1205.911290</td>\n",
       "      <td>9.782872</td>\n",
       "      <td>2021-02-10</td>\n",
       "      <td>2</td>\n",
       "      <td>8</td>\n",
       "      <td>50</td>\n",
       "      <td>0</td>\n",
       "    </tr>\n",
       "    <tr>\n",
       "      <th>6504</th>\n",
       "      <td>700</td>\n",
       "      <td>Айдар</td>\n",
       "      <td>22</td>\n",
       "      <td>Омск</td>\n",
       "      <td>free</td>\n",
       "      <td>3047.379435</td>\n",
       "      <td>17.427673</td>\n",
       "      <td>2021-02-14</td>\n",
       "      <td>2</td>\n",
       "      <td>8</td>\n",
       "      <td>50</td>\n",
       "      <td>0</td>\n",
       "    </tr>\n",
       "    <tr>\n",
       "      <th>6505</th>\n",
       "      <td>700</td>\n",
       "      <td>Айдар</td>\n",
       "      <td>22</td>\n",
       "      <td>Омск</td>\n",
       "      <td>free</td>\n",
       "      <td>4342.002254</td>\n",
       "      <td>22.368009</td>\n",
       "      <td>2021-02-23</td>\n",
       "      <td>2</td>\n",
       "      <td>8</td>\n",
       "      <td>50</td>\n",
       "      <td>0</td>\n",
       "    </tr>\n",
       "    <tr>\n",
       "      <th>6506</th>\n",
       "      <td>700</td>\n",
       "      <td>Айдар</td>\n",
       "      <td>22</td>\n",
       "      <td>Омск</td>\n",
       "      <td>free</td>\n",
       "      <td>3798.334905</td>\n",
       "      <td>18.243756</td>\n",
       "      <td>2021-03-03</td>\n",
       "      <td>3</td>\n",
       "      <td>8</td>\n",
       "      <td>50</td>\n",
       "      <td>0</td>\n",
       "    </tr>\n",
       "    <tr>\n",
       "      <th>6507</th>\n",
       "      <td>700</td>\n",
       "      <td>Айдар</td>\n",
       "      <td>22</td>\n",
       "      <td>Омск</td>\n",
       "      <td>free</td>\n",
       "      <td>2984.551206</td>\n",
       "      <td>15.424899</td>\n",
       "      <td>2021-04-09</td>\n",
       "      <td>4</td>\n",
       "      <td>8</td>\n",
       "      <td>50</td>\n",
       "      <td>0</td>\n",
       "    </tr>\n",
       "    <tr>\n",
       "      <th>6508</th>\n",
       "      <td>700</td>\n",
       "      <td>Айдар</td>\n",
       "      <td>22</td>\n",
       "      <td>Омск</td>\n",
       "      <td>free</td>\n",
       "      <td>3360.107141</td>\n",
       "      <td>16.765497</td>\n",
       "      <td>2021-06-12</td>\n",
       "      <td>6</td>\n",
       "      <td>8</td>\n",
       "      <td>50</td>\n",
       "      <td>0</td>\n",
       "    </tr>\n",
       "    <tr>\n",
       "      <th>6509</th>\n",
       "      <td>700</td>\n",
       "      <td>Айдар</td>\n",
       "      <td>22</td>\n",
       "      <td>Омск</td>\n",
       "      <td>free</td>\n",
       "      <td>2567.543847</td>\n",
       "      <td>11.312160</td>\n",
       "      <td>2021-06-23</td>\n",
       "      <td>6</td>\n",
       "      <td>8</td>\n",
       "      <td>50</td>\n",
       "      <td>0</td>\n",
       "    </tr>\n",
       "  </tbody>\n",
       "</table>\n",
       "</div>"
      ],
      "text/plain": [
       "      user_id   name  age  city subscription_type     distance   duration  \\\n",
       "6500      700  Айдар   22  Омск              free  2515.690719  14.944286   \n",
       "6501      700  Айдар   22  Омск              free   846.932642  16.234663   \n",
       "6502      700  Айдар   22  Омск              free  4004.434142  20.016628   \n",
       "6503      700  Айдар   22  Омск              free  1205.911290   9.782872   \n",
       "6504      700  Айдар   22  Омск              free  3047.379435  17.427673   \n",
       "6505      700  Айдар   22  Омск              free  4342.002254  22.368009   \n",
       "6506      700  Айдар   22  Омск              free  3798.334905  18.243756   \n",
       "6507      700  Айдар   22  Омск              free  2984.551206  15.424899   \n",
       "6508      700  Айдар   22  Омск              free  3360.107141  16.765497   \n",
       "6509      700  Айдар   22  Омск              free  2567.543847  11.312160   \n",
       "\n",
       "           date  month  minute_price  start_ride_price  subscription_fee  \n",
       "6500 2021-01-02      1             8                50                 0  \n",
       "6501 2021-02-01      2             8                50                 0  \n",
       "6502 2021-02-04      2             8                50                 0  \n",
       "6503 2021-02-10      2             8                50                 0  \n",
       "6504 2021-02-14      2             8                50                 0  \n",
       "6505 2021-02-23      2             8                50                 0  \n",
       "6506 2021-03-03      3             8                50                 0  \n",
       "6507 2021-04-09      4             8                50                 0  \n",
       "6508 2021-06-12      6             8                50                 0  \n",
       "6509 2021-06-23      6             8                50                 0  "
      ]
     },
     "execution_count": 55,
     "metadata": {},
     "output_type": "execute_result"
    }
   ],
   "source": [
    "no_sub_users.head(10)"
   ]
  },
  {
   "cell_type": "markdown",
   "id": "a14c13ad",
   "metadata": {},
   "source": [
    "C данными о пользователях с подпиской"
   ]
  },
  {
   "cell_type": "code",
   "execution_count": 56,
   "id": "4c45c074",
   "metadata": {},
   "outputs": [],
   "source": [
    "sub_users = merged_data[merged_data['subscription_type'] != 'Ultra']"
   ]
  },
  {
   "cell_type": "code",
   "execution_count": 57,
   "id": "6e4f74e4",
   "metadata": {},
   "outputs": [
    {
     "data": {
      "text/html": [
       "<div>\n",
       "<style scoped>\n",
       "    .dataframe tbody tr th:only-of-type {\n",
       "        vertical-align: middle;\n",
       "    }\n",
       "\n",
       "    .dataframe tbody tr th {\n",
       "        vertical-align: top;\n",
       "    }\n",
       "\n",
       "    .dataframe thead th {\n",
       "        text-align: right;\n",
       "    }\n",
       "</style>\n",
       "<table border=\"1\" class=\"dataframe\">\n",
       "  <thead>\n",
       "    <tr style=\"text-align: right;\">\n",
       "      <th></th>\n",
       "      <th>user_id</th>\n",
       "      <th>name</th>\n",
       "      <th>age</th>\n",
       "      <th>city</th>\n",
       "      <th>subscription_type</th>\n",
       "      <th>distance</th>\n",
       "      <th>duration</th>\n",
       "      <th>date</th>\n",
       "      <th>month</th>\n",
       "      <th>minute_price</th>\n",
       "      <th>start_ride_price</th>\n",
       "      <th>subscription_fee</th>\n",
       "    </tr>\n",
       "  </thead>\n",
       "  <tbody>\n",
       "    <tr>\n",
       "      <th>0</th>\n",
       "      <td>1</td>\n",
       "      <td>Кира</td>\n",
       "      <td>22</td>\n",
       "      <td>Тюмень</td>\n",
       "      <td>ultra</td>\n",
       "      <td>4409.919140</td>\n",
       "      <td>25.599769</td>\n",
       "      <td>2021-01-01</td>\n",
       "      <td>1</td>\n",
       "      <td>6</td>\n",
       "      <td>0</td>\n",
       "      <td>199</td>\n",
       "    </tr>\n",
       "    <tr>\n",
       "      <th>1</th>\n",
       "      <td>1</td>\n",
       "      <td>Кира</td>\n",
       "      <td>22</td>\n",
       "      <td>Тюмень</td>\n",
       "      <td>ultra</td>\n",
       "      <td>2617.592153</td>\n",
       "      <td>15.816871</td>\n",
       "      <td>2021-01-18</td>\n",
       "      <td>1</td>\n",
       "      <td>6</td>\n",
       "      <td>0</td>\n",
       "      <td>199</td>\n",
       "    </tr>\n",
       "    <tr>\n",
       "      <th>2</th>\n",
       "      <td>1</td>\n",
       "      <td>Кира</td>\n",
       "      <td>22</td>\n",
       "      <td>Тюмень</td>\n",
       "      <td>ultra</td>\n",
       "      <td>754.159807</td>\n",
       "      <td>6.232113</td>\n",
       "      <td>2021-04-20</td>\n",
       "      <td>4</td>\n",
       "      <td>6</td>\n",
       "      <td>0</td>\n",
       "      <td>199</td>\n",
       "    </tr>\n",
       "    <tr>\n",
       "      <th>3</th>\n",
       "      <td>1</td>\n",
       "      <td>Кира</td>\n",
       "      <td>22</td>\n",
       "      <td>Тюмень</td>\n",
       "      <td>ultra</td>\n",
       "      <td>2694.783254</td>\n",
       "      <td>18.511000</td>\n",
       "      <td>2021-08-11</td>\n",
       "      <td>8</td>\n",
       "      <td>6</td>\n",
       "      <td>0</td>\n",
       "      <td>199</td>\n",
       "    </tr>\n",
       "    <tr>\n",
       "      <th>4</th>\n",
       "      <td>1</td>\n",
       "      <td>Кира</td>\n",
       "      <td>22</td>\n",
       "      <td>Тюмень</td>\n",
       "      <td>ultra</td>\n",
       "      <td>4028.687306</td>\n",
       "      <td>26.265803</td>\n",
       "      <td>2021-08-28</td>\n",
       "      <td>8</td>\n",
       "      <td>6</td>\n",
       "      <td>0</td>\n",
       "      <td>199</td>\n",
       "    </tr>\n",
       "  </tbody>\n",
       "</table>\n",
       "</div>"
      ],
      "text/plain": [
       "   user_id  name  age    city subscription_type     distance   duration  \\\n",
       "0        1  Кира   22  Тюмень             ultra  4409.919140  25.599769   \n",
       "1        1  Кира   22  Тюмень             ultra  2617.592153  15.816871   \n",
       "2        1  Кира   22  Тюмень             ultra   754.159807   6.232113   \n",
       "3        1  Кира   22  Тюмень             ultra  2694.783254  18.511000   \n",
       "4        1  Кира   22  Тюмень             ultra  4028.687306  26.265803   \n",
       "\n",
       "        date  month  minute_price  start_ride_price  subscription_fee  \n",
       "0 2021-01-01      1             6                 0               199  \n",
       "1 2021-01-18      1             6                 0               199  \n",
       "2 2021-04-20      4             6                 0               199  \n",
       "3 2021-08-11      8             6                 0               199  \n",
       "4 2021-08-28      8             6                 0               199  "
      ]
     },
     "execution_count": 57,
     "metadata": {},
     "output_type": "execute_result"
    }
   ],
   "source": [
    "sub_users.head()"
   ]
  },
  {
   "cell_type": "markdown",
   "id": "3746f59c",
   "metadata": {},
   "source": [
    "###### Визуализируем информацию о расстоянии и времени поездок для пользователей обеих категорий"
   ]
  },
  {
   "cell_type": "code",
   "execution_count": 58,
   "id": "4cb86ab7",
   "metadata": {},
   "outputs": [
    {
     "data": {
      "image/png": "[encoded data removed]",
      "text/plain": [
       "<Figure size 1080x576 with 1 Axes>"
      ]
     },
     "metadata": {
      "needs_background": "light"
     },
     "output_type": "display_data"
    }
   ],
   "source": [
    "sub_users.plot(kind='scatter',\n",
    "        y='duration' , x='distance', alpha=0.5, subplots=True, figsize=(15,8), c = 'b', s = 4)\n",
    "plt.title('Диаграмма рассеяния — Расстояние и время поездки пользователей с подпиской ultra');\n"
   ]
  },
  {
   "cell_type": "code",
   "execution_count": 59,
   "id": "f534ca6e",
   "metadata": {},
   "outputs": [
    {
     "data": {
      "image/png": "[encoded data removed]",
      "text/plain": [
       "<Figure size 1080x576 with 1 Axes>"
      ]
     },
     "metadata": {
      "needs_background": "light"
     },
     "output_type": "display_data"
    }
   ],
   "source": [
    "no_sub_users.plot(kind='scatter',\n",
    "        y='duration' , x='distance', alpha=0.5, subplots=True, figsize=(15,8), c = 'b', s = 4)\n",
    "plt.title('Диаграмма рассеяния — Расстояние и время поездки пользователей без подписки');"
   ]
  },
  {
   "cell_type": "markdown",
   "id": "f98785a8",
   "metadata": {},
   "source": [
    "На обеих диаграммах есть выбросы, где время поездки около двух минут, при этом растояние поездки больше 40000. Так же на дмаграмме с подпиской большую плотность имеют поездки от 10 до 20 минут на расстояние 3000 м."
   ]
  },
  {
   "cell_type": "markdown",
   "id": "402d620f",
   "metadata": {},
   "source": [
    "###### Шаг 5. Подсчёт выручки"
   ]
  },
  {
   "cell_type": "markdown",
   "id": "c0da9d81",
   "metadata": {},
   "source": [
    "###### Создадим датафрейм с агрегированными данными о поездках на основе датафрейма с объединёнными данными из шага 4"
   ]
  },
  {
   "cell_type": "markdown",
   "id": "18b4efa8",
   "metadata": {},
   "source": [
    "Найдем суммарное расстояние, количество поездок и суммарное время для каждого пользователя за каждый месяц"
   ]
  },
  {
   "cell_type": "code",
   "execution_count": 60,
   "id": "3ffb4254",
   "metadata": {},
   "outputs": [],
   "source": [
    "table = merged_data.groupby(['user_id', 'month', 'subscription_type', 'minute_price', 'start_ride_price', \\\n",
    "                             'subscription_fee']).agg({'distance':sum, 'duration':sum, 'date':'count'}).reset_index()\n",
    "table.rename(columns={'date':'trips_count'}, inplace=True)"
   ]
  },
  {
   "cell_type": "code",
   "execution_count": 61,
   "id": "1847ddf9",
   "metadata": {},
   "outputs": [
    {
     "data": {
      "text/html": [
       "<div>\n",
       "<style scoped>\n",
       "    .dataframe tbody tr th:only-of-type {\n",
       "        vertical-align: middle;\n",
       "    }\n",
       "\n",
       "    .dataframe tbody tr th {\n",
       "        vertical-align: top;\n",
       "    }\n",
       "\n",
       "    .dataframe thead th {\n",
       "        text-align: right;\n",
       "    }\n",
       "</style>\n",
       "<table border=\"1\" class=\"dataframe\">\n",
       "  <thead>\n",
       "    <tr style=\"text-align: right;\">\n",
       "      <th></th>\n",
       "      <th>user_id</th>\n",
       "      <th>month</th>\n",
       "      <th>subscription_type</th>\n",
       "      <th>minute_price</th>\n",
       "      <th>start_ride_price</th>\n",
       "      <th>subscription_fee</th>\n",
       "      <th>distance</th>\n",
       "      <th>duration</th>\n",
       "      <th>trips_count</th>\n",
       "    </tr>\n",
       "  </thead>\n",
       "  <tbody>\n",
       "    <tr>\n",
       "      <th>0</th>\n",
       "      <td>1</td>\n",
       "      <td>1</td>\n",
       "      <td>ultra</td>\n",
       "      <td>6</td>\n",
       "      <td>0</td>\n",
       "      <td>199</td>\n",
       "      <td>7027.511294</td>\n",
       "      <td>41.416640</td>\n",
       "      <td>2</td>\n",
       "    </tr>\n",
       "    <tr>\n",
       "      <th>1</th>\n",
       "      <td>1</td>\n",
       "      <td>4</td>\n",
       "      <td>ultra</td>\n",
       "      <td>6</td>\n",
       "      <td>0</td>\n",
       "      <td>199</td>\n",
       "      <td>754.159807</td>\n",
       "      <td>6.232113</td>\n",
       "      <td>1</td>\n",
       "    </tr>\n",
       "    <tr>\n",
       "      <th>2</th>\n",
       "      <td>1</td>\n",
       "      <td>8</td>\n",
       "      <td>ultra</td>\n",
       "      <td>6</td>\n",
       "      <td>0</td>\n",
       "      <td>199</td>\n",
       "      <td>6723.470560</td>\n",
       "      <td>44.776802</td>\n",
       "      <td>2</td>\n",
       "    </tr>\n",
       "    <tr>\n",
       "      <th>3</th>\n",
       "      <td>1</td>\n",
       "      <td>10</td>\n",
       "      <td>ultra</td>\n",
       "      <td>6</td>\n",
       "      <td>0</td>\n",
       "      <td>199</td>\n",
       "      <td>5809.911100</td>\n",
       "      <td>31.578017</td>\n",
       "      <td>2</td>\n",
       "    </tr>\n",
       "    <tr>\n",
       "      <th>4</th>\n",
       "      <td>1</td>\n",
       "      <td>11</td>\n",
       "      <td>ultra</td>\n",
       "      <td>6</td>\n",
       "      <td>0</td>\n",
       "      <td>199</td>\n",
       "      <td>7003.499363</td>\n",
       "      <td>53.397424</td>\n",
       "      <td>3</td>\n",
       "    </tr>\n",
       "  </tbody>\n",
       "</table>\n",
       "</div>"
      ],
      "text/plain": [
       "   user_id  month subscription_type  minute_price  start_ride_price  \\\n",
       "0        1      1             ultra             6                 0   \n",
       "1        1      4             ultra             6                 0   \n",
       "2        1      8             ultra             6                 0   \n",
       "3        1     10             ultra             6                 0   \n",
       "4        1     11             ultra             6                 0   \n",
       "\n",
       "   subscription_fee     distance   duration  trips_count  \n",
       "0               199  7027.511294  41.416640            2  \n",
       "1               199   754.159807   6.232113            1  \n",
       "2               199  6723.470560  44.776802            2  \n",
       "3               199  5809.911100  31.578017            2  \n",
       "4               199  7003.499363  53.397424            3  "
      ]
     },
     "execution_count": 61,
     "metadata": {},
     "output_type": "execute_result"
    }
   ],
   "source": [
    "table.head()"
   ]
  },
  {
   "cell_type": "markdown",
   "id": "f67fda5c",
   "metadata": {},
   "source": [
    "###### Добавим столбец с помесячной выручкой, которую принёс каждый пользователь"
   ]
  },
  {
   "cell_type": "markdown",
   "id": "006c6329",
   "metadata": {},
   "source": [
    "Для начала округлим продолжительность каждой поездки"
   ]
  },
  {
   "cell_type": "code",
   "execution_count": 62,
   "id": "7266d884",
   "metadata": {},
   "outputs": [],
   "source": [
    "table['duration'] = np.ceil(table['duration']).astype(int)"
   ]
  },
  {
   "cell_type": "code",
   "execution_count": 63,
   "id": "9b2fc991",
   "metadata": {
    "scrolled": true
   },
   "outputs": [
    {
     "data": {
      "text/html": [
       "<div>\n",
       "<style scoped>\n",
       "    .dataframe tbody tr th:only-of-type {\n",
       "        vertical-align: middle;\n",
       "    }\n",
       "\n",
       "    .dataframe tbody tr th {\n",
       "        vertical-align: top;\n",
       "    }\n",
       "\n",
       "    .dataframe thead th {\n",
       "        text-align: right;\n",
       "    }\n",
       "</style>\n",
       "<table border=\"1\" class=\"dataframe\">\n",
       "  <thead>\n",
       "    <tr style=\"text-align: right;\">\n",
       "      <th></th>\n",
       "      <th>user_id</th>\n",
       "      <th>month</th>\n",
       "      <th>subscription_type</th>\n",
       "      <th>minute_price</th>\n",
       "      <th>start_ride_price</th>\n",
       "      <th>subscription_fee</th>\n",
       "      <th>distance</th>\n",
       "      <th>duration</th>\n",
       "      <th>trips_count</th>\n",
       "    </tr>\n",
       "  </thead>\n",
       "  <tbody>\n",
       "    <tr>\n",
       "      <th>0</th>\n",
       "      <td>1</td>\n",
       "      <td>1</td>\n",
       "      <td>ultra</td>\n",
       "      <td>6</td>\n",
       "      <td>0</td>\n",
       "      <td>199</td>\n",
       "      <td>7027.511294</td>\n",
       "      <td>42</td>\n",
       "      <td>2</td>\n",
       "    </tr>\n",
       "    <tr>\n",
       "      <th>1</th>\n",
       "      <td>1</td>\n",
       "      <td>4</td>\n",
       "      <td>ultra</td>\n",
       "      <td>6</td>\n",
       "      <td>0</td>\n",
       "      <td>199</td>\n",
       "      <td>754.159807</td>\n",
       "      <td>7</td>\n",
       "      <td>1</td>\n",
       "    </tr>\n",
       "    <tr>\n",
       "      <th>2</th>\n",
       "      <td>1</td>\n",
       "      <td>8</td>\n",
       "      <td>ultra</td>\n",
       "      <td>6</td>\n",
       "      <td>0</td>\n",
       "      <td>199</td>\n",
       "      <td>6723.470560</td>\n",
       "      <td>45</td>\n",
       "      <td>2</td>\n",
       "    </tr>\n",
       "    <tr>\n",
       "      <th>3</th>\n",
       "      <td>1</td>\n",
       "      <td>10</td>\n",
       "      <td>ultra</td>\n",
       "      <td>6</td>\n",
       "      <td>0</td>\n",
       "      <td>199</td>\n",
       "      <td>5809.911100</td>\n",
       "      <td>32</td>\n",
       "      <td>2</td>\n",
       "    </tr>\n",
       "    <tr>\n",
       "      <th>4</th>\n",
       "      <td>1</td>\n",
       "      <td>11</td>\n",
       "      <td>ultra</td>\n",
       "      <td>6</td>\n",
       "      <td>0</td>\n",
       "      <td>199</td>\n",
       "      <td>7003.499363</td>\n",
       "      <td>54</td>\n",
       "      <td>3</td>\n",
       "    </tr>\n",
       "  </tbody>\n",
       "</table>\n",
       "</div>"
      ],
      "text/plain": [
       "   user_id  month subscription_type  minute_price  start_ride_price  \\\n",
       "0        1      1             ultra             6                 0   \n",
       "1        1      4             ultra             6                 0   \n",
       "2        1      8             ultra             6                 0   \n",
       "3        1     10             ultra             6                 0   \n",
       "4        1     11             ultra             6                 0   \n",
       "\n",
       "   subscription_fee     distance  duration  trips_count  \n",
       "0               199  7027.511294        42            2  \n",
       "1               199   754.159807         7            1  \n",
       "2               199  6723.470560        45            2  \n",
       "3               199  5809.911100        32            2  \n",
       "4               199  7003.499363        54            3  "
      ]
     },
     "execution_count": 63,
     "metadata": {},
     "output_type": "execute_result"
    }
   ],
   "source": [
    "table.head() # проверяем"
   ]
  },
  {
   "cell_type": "code",
   "execution_count": 64,
   "id": "873089d5",
   "metadata": {},
   "outputs": [],
   "source": [
    "\n",
    "# Стоимость поездки без подписки\n",
    "table['price_without_subscription'] = table['start_ride_price'] * table['trips_count'] + table['minute_price'] * table['duration']\n",
    "\n",
    "# Стоимость поездки с подпиской Ultra\n",
    "table['price_with_ultra_subscription'] =  table['minute_price'] *  table['duration'] +  table['subscription_fee']\n",
    "\n",
    "# Функция для расчета помесячной выручки\n",
    "def calculate_monthly_revenue(row):\n",
    "    if row['subscription_type'] == 'ultra':\n",
    "        return row['price_with_ultra_subscription']\n",
    "    if row['subscription_type'] == 'free':\n",
    "        return row['price_without_subscription']\n",
    "    \n",
    "# Добавление столбца с помесячной выручкой\n",
    "table['monthly_revenue'] = table.apply(calculate_monthly_revenue, axis=1)"
   ]
  },
  {
   "cell_type": "code",
   "execution_count": 65,
   "id": "b892af6a",
   "metadata": {},
   "outputs": [
    {
     "data": {
      "text/html": [
       "<div>\n",
       "<style scoped>\n",
       "    .dataframe tbody tr th:only-of-type {\n",
       "        vertical-align: middle;\n",
       "    }\n",
       "\n",
       "    .dataframe tbody tr th {\n",
       "        vertical-align: top;\n",
       "    }\n",
       "\n",
       "    .dataframe thead th {\n",
       "        text-align: right;\n",
       "    }\n",
       "</style>\n",
       "<table border=\"1\" class=\"dataframe\">\n",
       "  <thead>\n",
       "    <tr style=\"text-align: right;\">\n",
       "      <th></th>\n",
       "      <th>user_id</th>\n",
       "      <th>month</th>\n",
       "      <th>subscription_type</th>\n",
       "      <th>minute_price</th>\n",
       "      <th>start_ride_price</th>\n",
       "      <th>subscription_fee</th>\n",
       "      <th>distance</th>\n",
       "      <th>duration</th>\n",
       "      <th>trips_count</th>\n",
       "      <th>price_without_subscription</th>\n",
       "      <th>price_with_ultra_subscription</th>\n",
       "      <th>monthly_revenue</th>\n",
       "    </tr>\n",
       "  </thead>\n",
       "  <tbody>\n",
       "    <tr>\n",
       "      <th>4533</th>\n",
       "      <td>700</td>\n",
       "      <td>1</td>\n",
       "      <td>free</td>\n",
       "      <td>8</td>\n",
       "      <td>50</td>\n",
       "      <td>0</td>\n",
       "      <td>2515.690719</td>\n",
       "      <td>15</td>\n",
       "      <td>1</td>\n",
       "      <td>170</td>\n",
       "      <td>120</td>\n",
       "      <td>170</td>\n",
       "    </tr>\n",
       "    <tr>\n",
       "      <th>4534</th>\n",
       "      <td>700</td>\n",
       "      <td>2</td>\n",
       "      <td>free</td>\n",
       "      <td>8</td>\n",
       "      <td>50</td>\n",
       "      <td>0</td>\n",
       "      <td>13446.659764</td>\n",
       "      <td>86</td>\n",
       "      <td>5</td>\n",
       "      <td>938</td>\n",
       "      <td>688</td>\n",
       "      <td>938</td>\n",
       "    </tr>\n",
       "    <tr>\n",
       "      <th>4535</th>\n",
       "      <td>700</td>\n",
       "      <td>3</td>\n",
       "      <td>free</td>\n",
       "      <td>8</td>\n",
       "      <td>50</td>\n",
       "      <td>0</td>\n",
       "      <td>3798.334905</td>\n",
       "      <td>19</td>\n",
       "      <td>1</td>\n",
       "      <td>202</td>\n",
       "      <td>152</td>\n",
       "      <td>202</td>\n",
       "    </tr>\n",
       "    <tr>\n",
       "      <th>4536</th>\n",
       "      <td>700</td>\n",
       "      <td>4</td>\n",
       "      <td>free</td>\n",
       "      <td>8</td>\n",
       "      <td>50</td>\n",
       "      <td>0</td>\n",
       "      <td>2984.551206</td>\n",
       "      <td>16</td>\n",
       "      <td>1</td>\n",
       "      <td>178</td>\n",
       "      <td>128</td>\n",
       "      <td>178</td>\n",
       "    </tr>\n",
       "    <tr>\n",
       "      <th>4537</th>\n",
       "      <td>700</td>\n",
       "      <td>6</td>\n",
       "      <td>free</td>\n",
       "      <td>8</td>\n",
       "      <td>50</td>\n",
       "      <td>0</td>\n",
       "      <td>5927.650988</td>\n",
       "      <td>29</td>\n",
       "      <td>2</td>\n",
       "      <td>332</td>\n",
       "      <td>232</td>\n",
       "      <td>332</td>\n",
       "    </tr>\n",
       "    <tr>\n",
       "      <th>...</th>\n",
       "      <td>...</td>\n",
       "      <td>...</td>\n",
       "      <td>...</td>\n",
       "      <td>...</td>\n",
       "      <td>...</td>\n",
       "      <td>...</td>\n",
       "      <td>...</td>\n",
       "      <td>...</td>\n",
       "      <td>...</td>\n",
       "      <td>...</td>\n",
       "      <td>...</td>\n",
       "      <td>...</td>\n",
       "    </tr>\n",
       "    <tr>\n",
       "      <th>11326</th>\n",
       "      <td>1534</td>\n",
       "      <td>6</td>\n",
       "      <td>free</td>\n",
       "      <td>8</td>\n",
       "      <td>50</td>\n",
       "      <td>0</td>\n",
       "      <td>3409.468534</td>\n",
       "      <td>25</td>\n",
       "      <td>2</td>\n",
       "      <td>300</td>\n",
       "      <td>200</td>\n",
       "      <td>300</td>\n",
       "    </tr>\n",
       "    <tr>\n",
       "      <th>11327</th>\n",
       "      <td>1534</td>\n",
       "      <td>8</td>\n",
       "      <td>free</td>\n",
       "      <td>8</td>\n",
       "      <td>50</td>\n",
       "      <td>0</td>\n",
       "      <td>7622.453034</td>\n",
       "      <td>48</td>\n",
       "      <td>2</td>\n",
       "      <td>484</td>\n",
       "      <td>384</td>\n",
       "      <td>484</td>\n",
       "    </tr>\n",
       "    <tr>\n",
       "      <th>11328</th>\n",
       "      <td>1534</td>\n",
       "      <td>9</td>\n",
       "      <td>free</td>\n",
       "      <td>8</td>\n",
       "      <td>50</td>\n",
       "      <td>0</td>\n",
       "      <td>4928.173852</td>\n",
       "      <td>23</td>\n",
       "      <td>1</td>\n",
       "      <td>234</td>\n",
       "      <td>184</td>\n",
       "      <td>234</td>\n",
       "    </tr>\n",
       "    <tr>\n",
       "      <th>11329</th>\n",
       "      <td>1534</td>\n",
       "      <td>11</td>\n",
       "      <td>free</td>\n",
       "      <td>8</td>\n",
       "      <td>50</td>\n",
       "      <td>0</td>\n",
       "      <td>13350.015305</td>\n",
       "      <td>77</td>\n",
       "      <td>4</td>\n",
       "      <td>816</td>\n",
       "      <td>616</td>\n",
       "      <td>816</td>\n",
       "    </tr>\n",
       "    <tr>\n",
       "      <th>11330</th>\n",
       "      <td>1534</td>\n",
       "      <td>12</td>\n",
       "      <td>free</td>\n",
       "      <td>8</td>\n",
       "      <td>50</td>\n",
       "      <td>0</td>\n",
       "      <td>2371.711192</td>\n",
       "      <td>16</td>\n",
       "      <td>1</td>\n",
       "      <td>178</td>\n",
       "      <td>128</td>\n",
       "      <td>178</td>\n",
       "    </tr>\n",
       "  </tbody>\n",
       "</table>\n",
       "<p>6798 rows × 12 columns</p>\n",
       "</div>"
      ],
      "text/plain": [
       "       user_id  month subscription_type  minute_price  start_ride_price  \\\n",
       "4533       700      1              free             8                50   \n",
       "4534       700      2              free             8                50   \n",
       "4535       700      3              free             8                50   \n",
       "4536       700      4              free             8                50   \n",
       "4537       700      6              free             8                50   \n",
       "...        ...    ...               ...           ...               ...   \n",
       "11326     1534      6              free             8                50   \n",
       "11327     1534      8              free             8                50   \n",
       "11328     1534      9              free             8                50   \n",
       "11329     1534     11              free             8                50   \n",
       "11330     1534     12              free             8                50   \n",
       "\n",
       "       subscription_fee      distance  duration  trips_count  \\\n",
       "4533                  0   2515.690719        15            1   \n",
       "4534                  0  13446.659764        86            5   \n",
       "4535                  0   3798.334905        19            1   \n",
       "4536                  0   2984.551206        16            1   \n",
       "4537                  0   5927.650988        29            2   \n",
       "...                 ...           ...       ...          ...   \n",
       "11326                 0   3409.468534        25            2   \n",
       "11327                 0   7622.453034        48            2   \n",
       "11328                 0   4928.173852        23            1   \n",
       "11329                 0  13350.015305        77            4   \n",
       "11330                 0   2371.711192        16            1   \n",
       "\n",
       "       price_without_subscription  price_with_ultra_subscription  \\\n",
       "4533                          170                            120   \n",
       "4534                          938                            688   \n",
       "4535                          202                            152   \n",
       "4536                          178                            128   \n",
       "4537                          332                            232   \n",
       "...                           ...                            ...   \n",
       "11326                         300                            200   \n",
       "11327                         484                            384   \n",
       "11328                         234                            184   \n",
       "11329                         816                            616   \n",
       "11330                         178                            128   \n",
       "\n",
       "       monthly_revenue  \n",
       "4533               170  \n",
       "4534               938  \n",
       "4535               202  \n",
       "4536               178  \n",
       "4537               332  \n",
       "...                ...  \n",
       "11326              300  \n",
       "11327              484  \n",
       "11328              234  \n",
       "11329              816  \n",
       "11330              178  \n",
       "\n",
       "[6798 rows x 12 columns]"
      ]
     },
     "execution_count": 65,
     "metadata": {},
     "output_type": "execute_result"
    }
   ],
   "source": [
    "table.query('subscription_type == \"free\"')"
   ]
  },
  {
   "cell_type": "markdown",
   "id": "41545ac0",
   "metadata": {},
   "source": [
    "###### Шаг 6. Проверка гипотез"
   ]
  },
  {
   "cell_type": "markdown",
   "id": "8297dfa5",
   "metadata": {},
   "source": [
    "###### Проверим гипотезу: тратят ли пользователи с подпиской больше времени на поездки"
   ]
  },
  {
   "cell_type": "markdown",
   "id": "60010819",
   "metadata": {},
   "source": [
    "Нулевая гипотеза (Н0): среднее время поездки  пользователей с подпиской и без подписки равны.\n",
    "\n",
    "Альтернативная гипотеза (Н1): среднее значение времени поездки пользователей с подпиской больше, чем среднее значение времени поездки пользователей без подписки."
   ]
  },
  {
   "cell_type": "code",
   "execution_count": 66,
   "id": "009707fd",
   "metadata": {},
   "outputs": [
    {
     "name": "stdout",
     "output_type": "stream",
     "text": [
      "p-value: 9.443705647077102e-09\n",
      "Отвергаем нулевую гипотезу\n"
     ]
    }
   ],
   "source": [
    "alpha = 0.05 \n",
    "\n",
    "results = st.ttest_ind(sub_users['duration'], no_sub_users['duration'], alternative='greater')\n",
    "\n",
    "print(f'p-value: {results.pvalue}')\n",
    "\n",
    "# проверяем p-value\n",
    "if results.pvalue < alpha:\n",
    "    print('Отвергаем нулевую гипотезу')\n",
    "else:\n",
    "    print('Нет оснований отвергнуть нулевую гипотезу')"
   ]
  },
  {
   "cell_type": "markdown",
   "id": "367e1be9",
   "metadata": {},
   "source": [
    "Полученное значение p-value (~9.4437056) больше заданного уровня значимости, поэтому можно отвергнуть нулевую гипотезу. Есть основания говорить, что пользователи с подпиской тратят в сервисе больше денег."
   ]
  },
  {
   "cell_type": "markdown",
   "id": "e07f1509",
   "metadata": {},
   "source": [
    "###### Проверим гипотезу: можно ли сказать, что расстояние, которое проезжают пользователи с подпиской за одну поездку, не превышает 3130 метров"
   ]
  },
  {
   "cell_type": "markdown",
   "id": "ba718fc0",
   "metadata": {},
   "source": [
    "Нулевая гипотеза (Н0): среднее расстояние, которое пользователь проехал в текущей сессии = 3130.\n",
    "\n",
    "Альтернативная гипотеза (Н1): среднее расстояние, которое пользователь проехал в текущей сессии > 3130."
   ]
  },
  {
   "cell_type": "code",
   "execution_count": 68,
   "id": "b01e26fc",
   "metadata": {},
   "outputs": [
    {
     "name": "stdout",
     "output_type": "stream",
     "text": [
      "p-значение: 0.9999999999995223\n",
      "Не получилось отвергнуть нулевую гипотезу\n"
     ]
    }
   ],
   "source": [
    "distance_with_subs = 3130 \n",
    "\n",
    "alpha = 0.05 # уровень статистической значимости\n",
    "\n",
    "results = st.ttest_1samp(\n",
    "    sub_users['distance'], \n",
    "    distance_with_subs, alternative='greater')\n",
    "\n",
    "print('p-значение:', results.pvalue)\n",
    "\n",
    "if results.pvalue < alpha:\n",
    "    print('Отвергаем нулевую гипотезу')\n",
    "else:\n",
    "    print('Не получилось отвергнуть нулевую гипотезу')"
   ]
  },
  {
   "cell_type": "markdown",
   "id": "7343d7a2",
   "metadata": {},
   "source": [
    "Полученное значение p-value (~0.9999999), не получилось отвергнуть нулевую гипотезу. Есть основания говорить, что пользователи с подпиской ездят чаще всего на расстояние равное 3130 м."
   ]
  },
  {
   "cell_type": "markdown",
   "id": "40a75c28",
   "metadata": {},
   "source": [
    "###### Проверим гипотезу о том, будет ли помесячная выручка от пользователей с подпиской по месяцам выше, чем выручка от пользователей без подписки"
   ]
  },
  {
   "cell_type": "markdown",
   "id": "b5efc00c",
   "metadata": {},
   "source": [
    "Нулевая гипотеза (Н0): помесячная выручка от пользователей с подпиской по месяцам равна помесячной выручке от пользователей без подписки.\n",
    "\n",
    "Альтернативная гипотеза (Н1): помесячная выручка от пользователей с подпиской по месяцам больше помесячной выручки от пользователей без подписки."
   ]
  },
  {
   "cell_type": "code",
   "execution_count": 67,
   "id": "fc39d15a",
   "metadata": {},
   "outputs": [
    {
     "name": "stdout",
     "output_type": "stream",
     "text": [
      "p-value: 2.8130926188487286e-35\n",
      "Отвергаем нулевую гипотезу\n"
     ]
    }
   ],
   "source": [
    "sub = table.loc[table['subscription_type'] == 'ultra']['monthly_revenue']\n",
    "not_sub = table.loc[table['subscription_type'] == 'free']['monthly_revenue']\n",
    "\n",
    "alpha = 0.05 \n",
    "results = st.ttest_ind(sub, not_sub, alternative='greater')\n",
    "\n",
    "print(f'p-value: {results.pvalue}')\n",
    "\n",
    "# проверяем p-value\n",
    "if results.pvalue < alpha:\n",
    "    print('Отвергаем нулевую гипотезу')\n",
    "else:\n",
    "    print('Нет оснований отвергнуть нулевую гипотезу')"
   ]
  },
  {
   "cell_type": "markdown",
   "id": "d0186e00",
   "metadata": {},
   "source": [
    "Полученное значение p-value (~ 2.81309) больше заданного уровня значимости, поэтому можно отвергнуть нулевую гипотезу. Есть основания говорить, что выручка пользователей с подпиской выше, чем выручка от пользователей без подписки."
   ]
  },
  {
   "cell_type": "markdown",
   "id": "fddf557c",
   "metadata": {},
   "source": [
    "###### Представьте такую ситуацию: техническая команда сервиса обновила сервера, с которыми взаимодействует мобильное приложение. Она надеется, что из-за этого количество обращений в техподдержку значимо снизилось. Некоторый файл содержит для каждого пользователя данные о количестве обращений до обновления и после него. Какой тест вам понадобился бы для проверки этой гипотезы?"
   ]
  },
  {
   "cell_type": "markdown",
   "id": "7ca3431a",
   "metadata": {},
   "source": [
    "В данном случае, мы будем анализировать одну генеральную совокупность, с которой произошли некоторые изменения. В этом случае будем проверять, равны ли средние совокупности до и после этого изменения. Чтобы проверить гипотезу о равенстве средних двух генеральных совокупностей для зависимых (парных) выборок в Python, применим метод scipy.stats.ttest_rel()."
   ]
  },
  {
   "cell_type": "markdown",
   "id": "61213c5e",
   "metadata": {},
   "source": [
    "###### Шаг 7. Распределения"
   ]
  },
  {
   "cell_type": "markdown",
   "id": "f909db64",
   "metadata": {},
   "source": [
    "###### Отдел маркетинга рассылает клиентам push-уведомления в мобильном приложении. Клиенты могут открыть его или не открывать. Известно, что уведомления открывают около 40 % получивших клиентов. Отдел планирует разослать 1 млн уведомлений. С помощью аппроксимации постройте примерный график распределения и оцените вероятность того, что уведомление откроют не более 399,5 тыс. пользователей."
   ]
  },
  {
   "cell_type": "code",
   "execution_count": 69,
   "id": "f27b4a6e",
   "metadata": {},
   "outputs": [
    {
     "name": "stdout",
     "output_type": "stream",
     "text": [
      "Вероятность открытия уведомления не более 399500 пользователей: 15.37%\n"
     ]
    }
   ],
   "source": [
    "n = 1000000  # количество уведомлений\n",
    "p = 0.4  # вероятность открытия одного уведомления\n",
    "mu = n * p  # математическое ожидание (среднее значение)\n",
    "sigma = sqrt(n * p * (1 - p))  # стандартное отклонение\n",
    "threshold = 399500  # пороговое значение\n",
    "\n",
    "# вычисляем значение z-оценки\n",
    "z_score = (threshold - mu) / sigma\n",
    "\n",
    "# считаем вероятность для значений меньше порогового значения\n",
    "prob = st.norm.cdf(z_score)\n",
    "\n",
    "print(f\"Вероятность открытия уведомления не более {threshold} пользователей: {prob:.2%}\")"
   ]
  },
  {
   "cell_type": "markdown",
   "id": "b7e96051",
   "metadata": {},
   "source": [
    "Итак, проведен статистический анализ данных сервиса аренды самокатов GoFast по данным о некоторых пользователях из нескольких городов и их поездках.\n",
    "Изучена информация в трех датафреймах: /datasets/users_go.csv\n",
    "                                       /datasets/rides_go.csv\n",
    "                                       /datasets/subscriptions_go.csv.\n",
    "Из полученных данных можно сделать вывод, что максимальное число пользователей приложения возрастом от 22 до 27 лет. В основном популярны поездки на расстояния от 2100-4200 м. Максимальное количество поездок длились от 14 до 21 минуты. Также обнаружено, что в датафрейме data_rides неверно указан тип date.\n",
    "\n",
    "В ходе предобработки данных: столбец date прриведен к типу даты pandas, создан новый столбец с номером месяца на основе столбца date, найдены и обработаны дубликаты в столбце user_id датафрейма data_users.\n",
    "\n",
    "В ходе исследовательского анализа данных выявлено, что чаще всего приложение используют жители Пятигорска, а реже жители Москвы.\n",
    "По соотношению пользователей с подпиской и без подписки можно наблюдать, что что количество пользователей без подписки (54.4 %) больше на 8.8%. Наибольшее количество пользователей находится в группе от 20 до 30 лет. Среднее значение расстояния, которое пользователь преодолел за одну поездку равно 3070 м., чаще всего за одну поездку пользователи проезжали от 3000 м до 4000, меньше на расстояния более 6000. Скорее всего, на большие расстояния пользователям не выгодно ездить, так как больше половины пользователей не пользуется подпиской. Среднее время поездки составило 18 минут, максимальное количество поездок длилось от 15 до 20 минут, поездок больше 35 минут наименьшее количество. \n",
    "\n",
    "В ходе анализа построены диаграммы рассеяния — Расстояние и время поездки для пользователей без подписки и с подпиской.На обеих диаграммах есть выбросы, где время поездки около двух минут, при этом растояние поездки больше 40000. Так же на дмаграмме с подпиской большую плотность имеют поездки от 10 до 20 минут на расстоянии 3000 м.\n",
    "\n",
    "Для расчета выручки создан датафрейм table с агрегированными данными о поездках с суммарным расстоянием, количеством поездок и суммарным временем для каждого пользователя за каждый месяц.\n",
    "\n",
    "Следущим этапом статистического анализа является проверка гипотез. При проверке гипотезы: тратят ли пользователи с подпиской больше времени на поездки, где нулевая гипотеза (Н0): среднее время поездки пользователей с подпиской и без подписки равны,\n",
    "альтернативная гипотеза (Н1): среднее значение времени поездки пользователей с подпиской больше, чем среднее значение времени поездки пользователей без подписки, полученное значение p-value (~ 0.0011072) получилось меньше заданного уровня значимости, поэтому можно отвергнуть нулевую гипотезу. Есть основания говорить, что пользователи с подпиской тратят в сервисе больше денег.\n",
    "В следующей гипотезе: можно ли сказать, что расстояние, которое проезжают пользователи с подпиской за одну поездку, не превышает 3130 метров, где нулевая гипотеза (Н0): среднее расстояние, которое пользователь проехал в текущей сессии = 3130,\n",
    "альтернативная гипотеза (Н1): среднее расстояние, которое пользователь проехал в текущей сессии > 3130, полученное значение p-value (~0.9999999), не получилось отвергнуть нулевую гипотезу. Есть основания говорить, что пользователи с подпиской ездят чаще всего на расстояние равное 3130 м."
   ]
  }
 ],
 "metadata": {
  "ExecuteTimeLog": [
   {
    "duration": 839,
    "start_time": "2023-06-01T07:24:01.239Z"
   },
   {
    "duration": 94,
    "start_time": "2023-06-01T07:24:35.394Z"
   },
   {
    "duration": 58,
    "start_time": "2023-06-01T07:25:14.318Z"
   },
   {
    "duration": 84,
    "start_time": "2023-06-01T07:25:32.493Z"
   },
   {
    "duration": 32,
    "start_time": "2023-06-01T07:25:38.850Z"
   },
   {
    "duration": 41,
    "start_time": "2023-06-01T07:25:44.161Z"
   },
   {
    "duration": 77,
    "start_time": "2023-06-01T07:26:53.190Z"
   },
   {
    "duration": 51,
    "start_time": "2023-06-01T07:27:26.505Z"
   },
   {
    "duration": 42,
    "start_time": "2023-06-01T07:28:08.811Z"
   },
   {
    "duration": 35,
    "start_time": "2023-06-01T07:28:36.122Z"
   },
   {
    "duration": 17,
    "start_time": "2023-06-01T08:09:55.990Z"
   },
   {
    "duration": 583,
    "start_time": "2023-06-01T08:13:07.003Z"
   },
   {
    "duration": 480,
    "start_time": "2023-06-01T08:13:15.979Z"
   },
   {
    "duration": 849,
    "start_time": "2023-06-01T08:13:24.798Z"
   },
   {
    "duration": 435,
    "start_time": "2023-06-01T08:13:37.367Z"
   },
   {
    "duration": 915,
    "start_time": "2023-06-01T09:59:54.303Z"
   },
   {
    "duration": 308,
    "start_time": "2023-06-01T10:00:10.539Z"
   },
   {
    "duration": 197,
    "start_time": "2023-06-01T10:22:09.452Z"
   },
   {
    "duration": 436,
    "start_time": "2023-06-01T10:22:23.952Z"
   },
   {
    "duration": 310,
    "start_time": "2023-06-01T10:22:31.150Z"
   },
   {
    "duration": 13,
    "start_time": "2023-06-01T10:23:11.088Z"
   },
   {
    "duration": 508,
    "start_time": "2023-06-01T10:23:43.228Z"
   },
   {
    "duration": 14,
    "start_time": "2023-06-01T10:24:33.103Z"
   },
   {
    "duration": 165,
    "start_time": "2023-06-01T10:35:01.806Z"
   },
   {
    "duration": 167,
    "start_time": "2023-06-01T10:36:29.784Z"
   },
   {
    "duration": 174,
    "start_time": "2023-06-01T10:36:58.396Z"
   },
   {
    "duration": 10,
    "start_time": "2023-06-01T10:46:12.604Z"
   },
   {
    "duration": 14,
    "start_time": "2023-06-01T10:57:36.386Z"
   },
   {
    "duration": 19,
    "start_time": "2023-06-01T10:59:43.358Z"
   },
   {
    "duration": 7615,
    "start_time": "2023-06-01T11:06:43.499Z"
   },
   {
    "duration": 4670,
    "start_time": "2023-06-01T11:07:11.353Z"
   },
   {
    "duration": 7,
    "start_time": "2023-06-01T11:07:39.074Z"
   },
   {
    "duration": 11,
    "start_time": "2023-06-01T11:07:55.489Z"
   },
   {
    "duration": 6656,
    "start_time": "2023-06-01T11:12:47.941Z"
   },
   {
    "duration": 9,
    "start_time": "2023-06-01T11:13:14.824Z"
   },
   {
    "duration": 15,
    "start_time": "2023-06-01T11:13:31.920Z"
   },
   {
    "duration": 8,
    "start_time": "2023-06-01T11:13:51.778Z"
   },
   {
    "duration": 3,
    "start_time": "2023-06-01T11:14:47.595Z"
   },
   {
    "duration": 7,
    "start_time": "2023-06-01T11:18:23.072Z"
   },
   {
    "duration": 17,
    "start_time": "2023-06-01T11:19:12.231Z"
   },
   {
    "duration": 5,
    "start_time": "2023-06-01T11:19:39.874Z"
   },
   {
    "duration": 9,
    "start_time": "2023-06-01T11:28:56.670Z"
   },
   {
    "duration": 7,
    "start_time": "2023-06-01T11:29:00.951Z"
   },
   {
    "duration": 4,
    "start_time": "2023-06-01T11:29:42.382Z"
   },
   {
    "duration": 6,
    "start_time": "2023-06-01T11:30:26.847Z"
   },
   {
    "duration": 133,
    "start_time": "2023-06-01T11:32:02.363Z"
   },
   {
    "duration": 23,
    "start_time": "2023-06-01T11:32:26.242Z"
   },
   {
    "duration": 71,
    "start_time": "2023-06-01T11:32:41.751Z"
   },
   {
    "duration": 56,
    "start_time": "2023-06-01T11:32:58.812Z"
   },
   {
    "duration": 12,
    "start_time": "2023-06-01T11:33:08.280Z"
   },
   {
    "duration": 5,
    "start_time": "2023-06-01T11:33:15.179Z"
   },
   {
    "duration": 15,
    "start_time": "2023-06-01T11:33:19.037Z"
   },
   {
    "duration": 258,
    "start_time": "2023-06-01T11:37:13.599Z"
   },
   {
    "duration": 9,
    "start_time": "2023-06-01T11:38:28.490Z"
   },
   {
    "duration": 7,
    "start_time": "2023-06-01T11:39:15.109Z"
   },
   {
    "duration": 9,
    "start_time": "2023-06-01T11:39:24.553Z"
   },
   {
    "duration": 6,
    "start_time": "2023-06-01T11:39:37.983Z"
   },
   {
    "duration": 13,
    "start_time": "2023-06-01T11:39:50.541Z"
   },
   {
    "duration": 6,
    "start_time": "2023-06-01T11:43:39.291Z"
   },
   {
    "duration": 4,
    "start_time": "2023-06-01T11:45:17.985Z"
   },
   {
    "duration": 11,
    "start_time": "2023-06-01T11:45:27.353Z"
   },
   {
    "duration": 8,
    "start_time": "2023-06-01T11:45:38.566Z"
   },
   {
    "duration": 9,
    "start_time": "2023-06-01T11:48:28.955Z"
   },
   {
    "duration": 15,
    "start_time": "2023-06-01T11:48:29.652Z"
   },
   {
    "duration": 11,
    "start_time": "2023-06-01T11:48:43.559Z"
   },
   {
    "duration": 89,
    "start_time": "2023-06-01T11:48:43.574Z"
   },
   {
    "duration": 16,
    "start_time": "2023-06-01T11:48:43.665Z"
   },
   {
    "duration": 321,
    "start_time": "2023-06-01T11:48:43.685Z"
   },
   {
    "duration": 81,
    "start_time": "2023-06-01T11:48:44.011Z"
   },
   {
    "duration": 21,
    "start_time": "2023-06-01T11:48:44.094Z"
   },
   {
    "duration": 22,
    "start_time": "2023-06-01T11:48:44.119Z"
   },
   {
    "duration": 368,
    "start_time": "2023-06-01T11:48:44.142Z"
   },
   {
    "duration": 350,
    "start_time": "2023-06-01T11:48:44.512Z"
   },
   {
    "duration": 71,
    "start_time": "2023-06-01T11:48:44.872Z"
   },
   {
    "duration": 129,
    "start_time": "2023-06-01T11:48:44.953Z"
   },
   {
    "duration": 100,
    "start_time": "2023-06-01T11:48:45.089Z"
   },
   {
    "duration": 168,
    "start_time": "2023-06-01T11:48:45.196Z"
   },
   {
    "duration": 66,
    "start_time": "2023-06-01T11:48:45.371Z"
   },
   {
    "duration": 80,
    "start_time": "2023-06-01T11:48:45.438Z"
   },
   {
    "duration": 56,
    "start_time": "2023-06-01T11:48:45.522Z"
   },
   {
    "duration": 49,
    "start_time": "2023-06-01T11:48:45.580Z"
   },
   {
    "duration": 79,
    "start_time": "2023-06-01T11:48:45.631Z"
   },
   {
    "duration": 102,
    "start_time": "2023-06-01T11:48:45.712Z"
   },
   {
    "duration": 127,
    "start_time": "2023-06-01T11:48:45.817Z"
   },
   {
    "duration": 125,
    "start_time": "2023-06-01T11:48:45.950Z"
   },
   {
    "duration": 71,
    "start_time": "2023-06-01T11:48:46.077Z"
   },
   {
    "duration": 92,
    "start_time": "2023-06-01T11:48:46.150Z"
   },
   {
    "duration": 111,
    "start_time": "2023-06-01T11:48:46.251Z"
   },
   {
    "duration": 7,
    "start_time": "2023-06-01T11:53:10.254Z"
   },
   {
    "duration": 6,
    "start_time": "2023-06-01T11:59:39.753Z"
   },
   {
    "duration": 6,
    "start_time": "2023-06-01T11:59:47.252Z"
   },
   {
    "duration": 163,
    "start_time": "2023-06-01T12:00:19.553Z"
   },
   {
    "duration": 8,
    "start_time": "2023-06-01T12:01:18.104Z"
   },
   {
    "duration": 6,
    "start_time": "2023-06-01T12:03:08.171Z"
   },
   {
    "duration": 109,
    "start_time": "2023-06-01T12:05:57.767Z"
   },
   {
    "duration": 12,
    "start_time": "2023-06-01T12:06:33.851Z"
   },
   {
    "duration": 6,
    "start_time": "2023-06-01T12:06:42.568Z"
   },
   {
    "duration": 8,
    "start_time": "2023-06-01T12:09:52.216Z"
   },
   {
    "duration": 23,
    "start_time": "2023-06-01T12:18:48.737Z"
   },
   {
    "duration": 6,
    "start_time": "2023-06-01T12:19:32.381Z"
   },
   {
    "duration": 6,
    "start_time": "2023-06-01T12:20:08.677Z"
   },
   {
    "duration": 6,
    "start_time": "2023-06-01T12:20:28.283Z"
   },
   {
    "duration": 8,
    "start_time": "2023-06-01T12:23:56.675Z"
   },
   {
    "duration": 8,
    "start_time": "2023-06-01T12:23:57.371Z"
   },
   {
    "duration": 7,
    "start_time": "2023-06-01T12:25:36.946Z"
   },
   {
    "duration": 8,
    "start_time": "2023-06-01T12:25:37.843Z"
   },
   {
    "duration": 5,
    "start_time": "2023-06-01T12:29:28.692Z"
   },
   {
    "duration": 7,
    "start_time": "2023-06-01T12:29:29.604Z"
   },
   {
    "duration": 10,
    "start_time": "2023-06-01T12:30:09.003Z"
   },
   {
    "duration": 7,
    "start_time": "2023-06-01T12:32:55.570Z"
   },
   {
    "duration": 4,
    "start_time": "2023-06-01T12:33:00.134Z"
   },
   {
    "duration": 52,
    "start_time": "2023-06-01T12:33:00.179Z"
   },
   {
    "duration": 34,
    "start_time": "2023-06-01T12:33:00.235Z"
   },
   {
    "duration": 344,
    "start_time": "2023-06-01T12:33:00.271Z"
   },
   {
    "duration": 40,
    "start_time": "2023-06-01T12:33:00.625Z"
   },
   {
    "duration": 41,
    "start_time": "2023-06-01T12:33:00.668Z"
   },
   {
    "duration": 116,
    "start_time": "2023-06-01T12:33:00.711Z"
   },
   {
    "duration": 362,
    "start_time": "2023-06-01T12:33:00.829Z"
   },
   {
    "duration": 415,
    "start_time": "2023-06-01T12:33:01.194Z"
   },
   {
    "duration": 35,
    "start_time": "2023-06-01T12:33:01.612Z"
   },
   {
    "duration": 52,
    "start_time": "2023-06-01T12:33:01.649Z"
   },
   {
    "duration": 78,
    "start_time": "2023-06-01T12:33:01.703Z"
   },
   {
    "duration": 144,
    "start_time": "2023-06-01T12:33:01.784Z"
   },
   {
    "duration": 55,
    "start_time": "2023-06-01T12:33:01.930Z"
   },
   {
    "duration": 43,
    "start_time": "2023-06-01T12:33:01.989Z"
   },
   {
    "duration": 76,
    "start_time": "2023-06-01T12:33:02.034Z"
   },
   {
    "duration": 43,
    "start_time": "2023-06-01T12:33:02.112Z"
   },
   {
    "duration": 34,
    "start_time": "2023-06-01T12:33:02.157Z"
   },
   {
    "duration": 41,
    "start_time": "2023-06-01T12:33:02.194Z"
   },
   {
    "duration": 27,
    "start_time": "2023-06-01T12:33:02.237Z"
   },
   {
    "duration": 33,
    "start_time": "2023-06-01T12:33:02.266Z"
   },
   {
    "duration": 63,
    "start_time": "2023-06-01T12:33:02.301Z"
   },
   {
    "duration": 95,
    "start_time": "2023-06-01T12:33:02.367Z"
   },
   {
    "duration": 98,
    "start_time": "2023-06-01T12:33:02.464Z"
   },
   {
    "duration": 79,
    "start_time": "2023-06-01T12:33:02.570Z"
   },
   {
    "duration": 32,
    "start_time": "2023-06-01T12:33:02.651Z"
   },
   {
    "duration": 45,
    "start_time": "2023-06-01T12:33:02.686Z"
   },
   {
    "duration": 80,
    "start_time": "2023-06-01T12:33:02.733Z"
   },
   {
    "duration": 6,
    "start_time": "2023-06-01T12:33:11.433Z"
   },
   {
    "duration": 4,
    "start_time": "2023-06-01T12:33:22.839Z"
   },
   {
    "duration": 9,
    "start_time": "2023-06-01T12:33:23.760Z"
   },
   {
    "duration": 9,
    "start_time": "2023-06-01T12:34:28.034Z"
   },
   {
    "duration": 15,
    "start_time": "2023-06-01T12:35:07.860Z"
   },
   {
    "duration": 3,
    "start_time": "2023-06-01T12:39:41.071Z"
   },
   {
    "duration": 7,
    "start_time": "2023-06-01T12:41:23.791Z"
   },
   {
    "duration": 8,
    "start_time": "2023-06-01T12:43:48.838Z"
   },
   {
    "duration": 131,
    "start_time": "2023-06-01T12:43:52.795Z"
   },
   {
    "duration": 59,
    "start_time": "2023-06-01T12:44:52.935Z"
   },
   {
    "duration": 196,
    "start_time": "2023-06-01T12:45:01.476Z"
   },
   {
    "duration": 58,
    "start_time": "2023-06-01T12:45:12.878Z"
   },
   {
    "duration": 60,
    "start_time": "2023-06-01T12:45:21.881Z"
   },
   {
    "duration": 225,
    "start_time": "2023-06-01T12:45:28.136Z"
   },
   {
    "duration": 185,
    "start_time": "2023-06-01T12:46:09.320Z"
   },
   {
    "duration": 98,
    "start_time": "2023-06-01T12:50:49.566Z"
   },
   {
    "duration": 182,
    "start_time": "2023-06-01T12:51:02.438Z"
   },
   {
    "duration": 14,
    "start_time": "2023-06-01T12:53:57.631Z"
   },
   {
    "duration": 63,
    "start_time": "2023-06-01T12:56:56.144Z"
   },
   {
    "duration": 46,
    "start_time": "2023-06-01T12:57:03.294Z"
   },
   {
    "duration": 52,
    "start_time": "2023-06-01T12:57:29.437Z"
   },
   {
    "duration": 7,
    "start_time": "2023-06-01T12:58:51.454Z"
   },
   {
    "duration": 44,
    "start_time": "2023-06-01T12:59:22.036Z"
   },
   {
    "duration": 5,
    "start_time": "2023-06-01T12:59:25.984Z"
   },
   {
    "duration": 1505,
    "start_time": "2023-06-01T13:00:57.440Z"
   },
   {
    "duration": 921,
    "start_time": "2023-06-01T13:19:18.642Z"
   },
   {
    "duration": 1052,
    "start_time": "2023-06-01T13:19:27.024Z"
   },
   {
    "duration": 4,
    "start_time": "2023-06-01T13:19:45.171Z"
   },
   {
    "duration": 5,
    "start_time": "2023-06-01T13:20:19.232Z"
   },
   {
    "duration": 5,
    "start_time": "2023-06-01T13:20:31.940Z"
   },
   {
    "duration": 3,
    "start_time": "2023-06-01T13:21:12.354Z"
   },
   {
    "duration": 4,
    "start_time": "2023-06-01T13:21:49.877Z"
   },
   {
    "duration": 4,
    "start_time": "2023-06-01T13:22:11.251Z"
   },
   {
    "duration": 3,
    "start_time": "2023-06-01T13:22:35.865Z"
   },
   {
    "duration": 3,
    "start_time": "2023-06-01T13:22:39.957Z"
   },
   {
    "duration": 3,
    "start_time": "2023-06-01T13:22:54.462Z"
   },
   {
    "duration": 3,
    "start_time": "2023-06-01T13:22:57.501Z"
   },
   {
    "duration": 3,
    "start_time": "2023-06-01T13:23:18.293Z"
   },
   {
    "duration": 8,
    "start_time": "2023-06-01T13:23:35.044Z"
   },
   {
    "duration": 10,
    "start_time": "2023-06-01T13:32:14.503Z"
   },
   {
    "duration": 1470,
    "start_time": "2023-06-01T13:34:23.341Z"
   },
   {
    "duration": 278,
    "start_time": "2023-06-01T13:34:45.983Z"
   },
   {
    "duration": 1791,
    "start_time": "2023-06-01T13:35:04.877Z"
   },
   {
    "duration": 3,
    "start_time": "2023-06-01T13:36:45.404Z"
   },
   {
    "duration": 135,
    "start_time": "2023-06-01T13:40:43.122Z"
   },
   {
    "duration": 13,
    "start_time": "2023-06-01T13:43:01.149Z"
   },
   {
    "duration": 247,
    "start_time": "2023-06-01T13:43:33.873Z"
   },
   {
    "duration": 110,
    "start_time": "2023-06-01T13:49:07.653Z"
   },
   {
    "duration": 105,
    "start_time": "2023-06-01T13:49:22.750Z"
   },
   {
    "duration": 10,
    "start_time": "2023-06-01T13:50:51.754Z"
   },
   {
    "duration": 111,
    "start_time": "2023-06-01T13:52:46.502Z"
   },
   {
    "duration": 3,
    "start_time": "2023-06-01T13:55:34.170Z"
   },
   {
    "duration": 8,
    "start_time": "2023-06-01T13:56:54.144Z"
   },
   {
    "duration": 57,
    "start_time": "2023-06-01T13:57:05.661Z"
   },
   {
    "duration": 8,
    "start_time": "2023-06-01T13:57:10.550Z"
   },
   {
    "duration": 7,
    "start_time": "2023-06-01T14:02:36.457Z"
   },
   {
    "duration": 15,
    "start_time": "2023-06-01T14:02:40.970Z"
   },
   {
    "duration": 15,
    "start_time": "2023-06-01T14:09:21.558Z"
   },
   {
    "duration": 31253,
    "start_time": "2023-06-01T14:21:17.240Z"
   },
   {
    "duration": 7,
    "start_time": "2023-06-01T14:24:05.124Z"
   },
   {
    "duration": 11,
    "start_time": "2023-06-01T14:24:18.841Z"
   },
   {
    "duration": 9,
    "start_time": "2023-06-01T14:24:45.897Z"
   },
   {
    "duration": 29,
    "start_time": "2023-06-01T14:24:50.929Z"
   },
   {
    "duration": 969,
    "start_time": "2023-06-01T14:26:06.288Z"
   },
   {
    "duration": 16,
    "start_time": "2023-06-01T14:27:55.446Z"
   },
   {
    "duration": 4,
    "start_time": "2023-06-01T14:28:19.702Z"
   },
   {
    "duration": 4,
    "start_time": "2023-06-01T14:28:23.654Z"
   },
   {
    "duration": 257,
    "start_time": "2023-06-01T14:32:41.901Z"
   },
   {
    "duration": 749,
    "start_time": "2023-06-01T19:04:25.234Z"
   },
   {
    "duration": 146,
    "start_time": "2023-06-01T19:04:59.088Z"
   },
   {
    "duration": 4,
    "start_time": "2023-06-01T19:11:55.078Z"
   },
   {
    "duration": 4,
    "start_time": "2023-06-01T19:21:06.056Z"
   },
   {
    "duration": 153,
    "start_time": "2023-06-01T19:23:25.923Z"
   },
   {
    "duration": 174,
    "start_time": "2023-06-01T19:24:08.875Z"
   },
   {
    "duration": 23,
    "start_time": "2023-06-01T19:45:23.588Z"
   },
   {
    "duration": 7,
    "start_time": "2023-06-01T19:52:36.055Z"
   },
   {
    "duration": 6,
    "start_time": "2023-06-01T19:53:35.231Z"
   },
   {
    "duration": 13,
    "start_time": "2023-06-01T19:54:00.837Z"
   },
   {
    "duration": 10,
    "start_time": "2023-06-01T19:55:49.837Z"
   },
   {
    "duration": 2,
    "start_time": "2023-06-01T19:56:50.164Z"
   },
   {
    "duration": 178,
    "start_time": "2023-06-02T06:47:56.270Z"
   },
   {
    "duration": 94,
    "start_time": "2023-06-02T07:01:57.470Z"
   },
   {
    "duration": 228,
    "start_time": "2023-06-02T07:02:05.347Z"
   },
   {
    "duration": 241,
    "start_time": "2023-06-02T07:03:37.096Z"
   },
   {
    "duration": 221,
    "start_time": "2023-06-02T07:05:35.274Z"
   },
   {
    "duration": 211,
    "start_time": "2023-06-02T07:06:16.051Z"
   },
   {
    "duration": 297,
    "start_time": "2023-06-02T07:07:23.369Z"
   },
   {
    "duration": 10,
    "start_time": "2023-06-02T07:10:07.308Z"
   },
   {
    "duration": 20,
    "start_time": "2023-06-02T07:10:24.957Z"
   },
   {
    "duration": 15,
    "start_time": "2023-06-02T07:13:41.243Z"
   },
   {
    "duration": 19,
    "start_time": "2023-06-02T07:14:58.384Z"
   },
   {
    "duration": 12,
    "start_time": "2023-06-02T08:08:19.552Z"
   },
   {
    "duration": 23,
    "start_time": "2023-06-02T08:08:28.023Z"
   },
   {
    "duration": 13,
    "start_time": "2023-06-02T08:11:12.820Z"
   },
   {
    "duration": 11,
    "start_time": "2023-06-02T08:17:39.704Z"
   },
   {
    "duration": 23,
    "start_time": "2023-06-02T08:17:52.024Z"
   },
   {
    "duration": 8,
    "start_time": "2023-06-02T08:18:10.657Z"
   },
   {
    "duration": 3,
    "start_time": "2023-06-02T08:24:58.207Z"
   },
   {
    "duration": 4,
    "start_time": "2023-06-02T08:27:50.156Z"
   },
   {
    "duration": 8,
    "start_time": "2023-06-02T08:27:58.876Z"
   },
   {
    "duration": 5,
    "start_time": "2023-06-02T11:07:59.679Z"
   },
   {
    "duration": 17,
    "start_time": "2023-06-02T11:08:30.823Z"
   },
   {
    "duration": 3,
    "start_time": "2023-06-02T11:12:39.357Z"
   },
   {
    "duration": 1574,
    "start_time": "2023-06-02T11:12:43.288Z"
   },
   {
    "duration": 2761,
    "start_time": "2023-06-02T11:13:13.060Z"
   },
   {
    "duration": 4,
    "start_time": "2023-06-02T11:19:56.062Z"
   },
   {
    "duration": 11,
    "start_time": "2023-06-02T11:20:38.267Z"
   },
   {
    "duration": 1001,
    "start_time": "2023-06-02T11:21:02.057Z"
   },
   {
    "duration": 454,
    "start_time": "2023-06-02T11:38:26.561Z"
   },
   {
    "duration": 5,
    "start_time": "2023-06-02T12:17:39.791Z"
   },
   {
    "duration": 222,
    "start_time": "2023-06-02T12:19:08.498Z"
   },
   {
    "duration": 4,
    "start_time": "2023-06-02T12:19:48.902Z"
   },
   {
    "duration": 185,
    "start_time": "2023-06-02T12:19:48.908Z"
   },
   {
    "duration": 10,
    "start_time": "2023-06-02T12:19:49.095Z"
   },
   {
    "duration": 333,
    "start_time": "2023-06-02T12:19:49.107Z"
   },
   {
    "duration": 69,
    "start_time": "2023-06-02T12:19:49.442Z"
   },
   {
    "duration": 17,
    "start_time": "2023-06-02T12:19:49.512Z"
   },
   {
    "duration": 14,
    "start_time": "2023-06-02T12:19:49.531Z"
   },
   {
    "duration": 288,
    "start_time": "2023-06-02T12:19:49.547Z"
   },
   {
    "duration": 223,
    "start_time": "2023-06-02T12:19:49.836Z"
   },
   {
    "duration": 45,
    "start_time": "2023-06-02T12:19:50.064Z"
   },
   {
    "duration": 9,
    "start_time": "2023-06-02T12:19:50.111Z"
   },
   {
    "duration": 54,
    "start_time": "2023-06-02T12:19:50.122Z"
   },
   {
    "duration": 20,
    "start_time": "2023-06-02T12:19:50.188Z"
   },
   {
    "duration": 5,
    "start_time": "2023-06-02T12:19:50.215Z"
   },
   {
    "duration": 83,
    "start_time": "2023-06-02T12:19:50.222Z"
   },
   {
    "duration": 41,
    "start_time": "2023-06-02T12:19:50.306Z"
   },
   {
    "duration": 38,
    "start_time": "2023-06-02T12:19:50.364Z"
   },
   {
    "duration": 10,
    "start_time": "2023-06-02T12:19:50.404Z"
   },
   {
    "duration": 42,
    "start_time": "2023-06-02T12:19:50.416Z"
   },
   {
    "duration": 24,
    "start_time": "2023-06-02T12:19:50.466Z"
   },
   {
    "duration": 5,
    "start_time": "2023-06-02T12:19:50.492Z"
   },
   {
    "duration": 8,
    "start_time": "2023-06-02T12:19:50.499Z"
   },
   {
    "duration": 12,
    "start_time": "2023-06-02T12:19:50.508Z"
   },
   {
    "duration": 64,
    "start_time": "2023-06-02T12:19:50.521Z"
   },
   {
    "duration": 227,
    "start_time": "2023-06-02T12:19:50.586Z"
   },
   {
    "duration": 88,
    "start_time": "2023-06-02T12:19:50.814Z"
   },
   {
    "duration": 29,
    "start_time": "2023-06-02T12:19:50.904Z"
   },
   {
    "duration": 86,
    "start_time": "2023-06-02T12:19:50.934Z"
   },
   {
    "duration": 93,
    "start_time": "2023-06-02T12:19:51.022Z"
   },
   {
    "duration": 85,
    "start_time": "2023-06-02T12:19:51.117Z"
   },
   {
    "duration": 13,
    "start_time": "2023-06-02T12:19:51.204Z"
   },
   {
    "duration": 11,
    "start_time": "2023-06-02T12:19:51.218Z"
   },
   {
    "duration": 292,
    "start_time": "2023-06-02T12:19:51.231Z"
   },
   {
    "duration": 6,
    "start_time": "2023-06-02T12:19:51.533Z"
   },
   {
    "duration": 62,
    "start_time": "2023-06-02T12:19:51.541Z"
   },
   {
    "duration": 10,
    "start_time": "2023-06-02T12:19:51.605Z"
   },
   {
    "duration": 49,
    "start_time": "2023-06-02T12:19:51.616Z"
   },
   {
    "duration": 49,
    "start_time": "2023-06-02T12:19:51.667Z"
   },
   {
    "duration": 87,
    "start_time": "2023-06-02T12:19:51.718Z"
   },
   {
    "duration": 94,
    "start_time": "2023-06-02T12:19:51.807Z"
   },
   {
    "duration": 50,
    "start_time": "2023-06-02T12:19:51.906Z"
   },
   {
    "duration": 231,
    "start_time": "2023-06-02T12:19:51.963Z"
   },
   {
    "duration": 140,
    "start_time": "2023-06-02T12:19:52.196Z"
   },
   {
    "duration": 5,
    "start_time": "2023-06-02T12:19:52.344Z"
   },
   {
    "duration": 203,
    "start_time": "2023-06-02T12:19:52.351Z"
   },
   {
    "duration": 9,
    "start_time": "2023-06-02T12:19:52.556Z"
   },
   {
    "duration": 417,
    "start_time": "2023-06-02T12:19:52.567Z"
   },
   {
    "duration": 29,
    "start_time": "2023-06-02T12:19:52.990Z"
   },
   {
    "duration": 20,
    "start_time": "2023-06-02T12:19:53.025Z"
   },
   {
    "duration": 63,
    "start_time": "2023-06-02T12:19:53.049Z"
   },
   {
    "duration": 77,
    "start_time": "2023-06-02T12:19:53.118Z"
   },
   {
    "duration": 17,
    "start_time": "2023-06-02T12:19:53.196Z"
   },
   {
    "duration": 295,
    "start_time": "2023-06-02T12:19:53.215Z"
   },
   {
    "duration": 284,
    "start_time": "2023-06-02T12:19:53.512Z"
   },
   {
    "duration": 12,
    "start_time": "2023-06-02T12:19:53.798Z"
   },
   {
    "duration": 41,
    "start_time": "2023-06-02T12:19:53.812Z"
   },
   {
    "duration": 28,
    "start_time": "2023-06-02T12:19:53.868Z"
   },
   {
    "duration": 23,
    "start_time": "2023-06-02T12:19:53.897Z"
   },
   {
    "duration": 57,
    "start_time": "2023-06-02T12:19:53.921Z"
   },
   {
    "duration": 30,
    "start_time": "2023-06-02T12:19:53.979Z"
   },
   {
    "duration": 30,
    "start_time": "2023-06-02T12:19:54.011Z"
   },
   {
    "duration": 515,
    "start_time": "2023-06-02T12:19:54.042Z"
   },
   {
    "duration": 0,
    "start_time": "2023-06-02T12:19:54.561Z"
   },
   {
    "duration": 0,
    "start_time": "2023-06-02T12:19:54.562Z"
   },
   {
    "duration": 378,
    "start_time": "2023-06-02T12:20:03.052Z"
   },
   {
    "duration": 12,
    "start_time": "2023-06-02T12:29:16.573Z"
   },
   {
    "duration": 11,
    "start_time": "2023-06-02T12:29:27.277Z"
   },
   {
    "duration": 6,
    "start_time": "2023-06-02T12:36:53.554Z"
   },
   {
    "duration": 4,
    "start_time": "2023-06-02T12:37:31.195Z"
   },
   {
    "duration": 6,
    "start_time": "2023-06-02T12:38:05.096Z"
   },
   {
    "duration": 8,
    "start_time": "2023-06-02T12:41:12.091Z"
   },
   {
    "duration": 6,
    "start_time": "2023-06-02T12:42:34.289Z"
   },
   {
    "duration": 6,
    "start_time": "2023-06-02T12:47:43.681Z"
   },
   {
    "duration": 3,
    "start_time": "2023-06-02T12:48:45.660Z"
   },
   {
    "duration": 7,
    "start_time": "2023-06-02T12:48:46.573Z"
   },
   {
    "duration": 451,
    "start_time": "2023-06-02T12:57:31.670Z"
   },
   {
    "duration": 10,
    "start_time": "2023-06-02T12:58:42.372Z"
   },
   {
    "duration": 48,
    "start_time": "2023-06-02T19:14:22.795Z"
   },
   {
    "duration": 8,
    "start_time": "2023-06-02T19:16:40.691Z"
   },
   {
    "duration": 1621,
    "start_time": "2023-06-02T19:16:59.073Z"
   },
   {
    "duration": 160,
    "start_time": "2023-06-02T19:17:00.696Z"
   },
   {
    "duration": 13,
    "start_time": "2023-06-02T19:17:00.858Z"
   },
   {
    "duration": 26,
    "start_time": "2023-06-02T19:17:00.874Z"
   },
   {
    "duration": 220,
    "start_time": "2023-06-02T19:17:00.902Z"
   },
   {
    "duration": 174,
    "start_time": "2023-06-02T19:17:01.124Z"
   },
   {
    "duration": 18,
    "start_time": "2023-06-02T19:17:01.300Z"
   },
   {
    "duration": 11,
    "start_time": "2023-06-02T19:17:01.319Z"
   },
   {
    "duration": 19,
    "start_time": "2023-06-02T19:17:01.332Z"
   },
   {
    "duration": 203,
    "start_time": "2023-06-02T19:17:01.354Z"
   },
   {
    "duration": 212,
    "start_time": "2023-06-02T19:17:01.559Z"
   },
   {
    "duration": 82,
    "start_time": "2023-06-02T19:17:01.777Z"
   },
   {
    "duration": 11,
    "start_time": "2023-06-02T19:17:01.861Z"
   },
   {
    "duration": 30,
    "start_time": "2023-06-02T19:17:01.873Z"
   },
   {
    "duration": 15,
    "start_time": "2023-06-02T19:17:01.905Z"
   },
   {
    "duration": 17,
    "start_time": "2023-06-02T19:17:01.922Z"
   },
   {
    "duration": 11,
    "start_time": "2023-06-02T19:17:01.940Z"
   },
   {
    "duration": 39,
    "start_time": "2023-06-02T19:17:01.952Z"
   },
   {
    "duration": 30,
    "start_time": "2023-06-02T19:17:01.993Z"
   },
   {
    "duration": 25,
    "start_time": "2023-06-02T19:17:02.025Z"
   },
   {
    "duration": 42,
    "start_time": "2023-06-02T19:17:02.052Z"
   },
   {
    "duration": 13,
    "start_time": "2023-06-02T19:17:02.095Z"
   },
   {
    "duration": 21,
    "start_time": "2023-06-02T19:17:02.109Z"
   },
   {
    "duration": 13,
    "start_time": "2023-06-02T19:17:02.131Z"
   },
   {
    "duration": 12,
    "start_time": "2023-06-02T19:17:02.145Z"
   },
   {
    "duration": 41,
    "start_time": "2023-06-02T19:17:02.158Z"
   },
   {
    "duration": 5,
    "start_time": "2023-06-02T19:17:02.201Z"
   },
   {
    "duration": 7,
    "start_time": "2023-06-02T19:17:02.209Z"
   },
   {
    "duration": 20,
    "start_time": "2023-06-02T19:17:02.218Z"
   },
   {
    "duration": 17,
    "start_time": "2023-06-02T19:17:02.240Z"
   },
   {
    "duration": 11,
    "start_time": "2023-06-02T19:17:02.258Z"
   },
   {
    "duration": 21,
    "start_time": "2023-06-02T19:17:02.271Z"
   },
   {
    "duration": 19,
    "start_time": "2023-06-02T19:17:02.294Z"
   },
   {
    "duration": 35,
    "start_time": "2023-06-02T19:17:02.315Z"
   },
   {
    "duration": 29,
    "start_time": "2023-06-02T19:17:02.351Z"
   },
   {
    "duration": 176,
    "start_time": "2023-06-02T19:17:02.381Z"
   },
   {
    "duration": 5,
    "start_time": "2023-06-02T19:17:02.559Z"
   },
   {
    "duration": 28,
    "start_time": "2023-06-02T19:17:02.565Z"
   },
   {
    "duration": 12,
    "start_time": "2023-06-02T19:17:02.595Z"
   },
   {
    "duration": 9,
    "start_time": "2023-06-02T19:17:02.608Z"
   },
   {
    "duration": 4,
    "start_time": "2023-06-02T19:17:02.619Z"
   },
   {
    "duration": 6,
    "start_time": "2023-06-02T19:17:02.624Z"
   },
   {
    "duration": 8,
    "start_time": "2023-06-02T19:17:02.631Z"
   },
   {
    "duration": 4,
    "start_time": "2023-06-02T19:17:02.641Z"
   },
   {
    "duration": 77,
    "start_time": "2023-06-02T19:17:02.646Z"
   },
   {
    "duration": 133,
    "start_time": "2023-06-02T19:17:02.725Z"
   },
   {
    "duration": 6,
    "start_time": "2023-06-02T19:17:02.859Z"
   },
   {
    "duration": 160,
    "start_time": "2023-06-02T19:17:02.867Z"
   },
   {
    "duration": 5,
    "start_time": "2023-06-02T19:17:03.029Z"
   },
   {
    "duration": 171,
    "start_time": "2023-06-02T19:17:03.036Z"
   },
   {
    "duration": 23,
    "start_time": "2023-06-02T19:17:03.208Z"
   },
   {
    "duration": 6,
    "start_time": "2023-06-02T19:17:03.232Z"
   },
   {
    "duration": 12,
    "start_time": "2023-06-02T19:17:03.240Z"
   },
   {
    "duration": 34,
    "start_time": "2023-06-02T19:17:03.253Z"
   },
   {
    "duration": 12,
    "start_time": "2023-06-02T19:17:03.292Z"
   },
   {
    "duration": 270,
    "start_time": "2023-06-02T19:17:03.305Z"
   },
   {
    "duration": 235,
    "start_time": "2023-06-02T19:17:03.576Z"
   },
   {
    "duration": 12,
    "start_time": "2023-06-02T19:17:03.812Z"
   },
   {
    "duration": 8,
    "start_time": "2023-06-02T19:17:03.826Z"
   },
   {
    "duration": 4,
    "start_time": "2023-06-02T19:17:03.836Z"
   },
   {
    "duration": 8,
    "start_time": "2023-06-02T19:17:03.842Z"
   },
   {
    "duration": 35,
    "start_time": "2023-06-02T19:17:03.851Z"
   },
   {
    "duration": 4,
    "start_time": "2023-06-02T19:17:03.889Z"
   },
   {
    "duration": 102,
    "start_time": "2023-06-02T19:17:03.896Z"
   },
   {
    "duration": 393,
    "start_time": "2023-06-02T19:17:04.000Z"
   },
   {
    "duration": 0,
    "start_time": "2023-06-02T19:17:04.395Z"
   },
   {
    "duration": 0,
    "start_time": "2023-06-02T19:17:04.397Z"
   },
   {
    "duration": 13,
    "start_time": "2023-06-02T19:17:12.036Z"
   },
   {
    "duration": 6,
    "start_time": "2023-06-02T19:19:40.939Z"
   },
   {
    "duration": 9,
    "start_time": "2023-06-02T19:19:46.352Z"
   },
   {
    "duration": 7,
    "start_time": "2023-06-02T19:29:53.411Z"
   },
   {
    "duration": 8,
    "start_time": "2023-06-02T19:30:09.038Z"
   },
   {
    "duration": 8,
    "start_time": "2023-06-02T19:30:40.602Z"
   },
   {
    "duration": 9,
    "start_time": "2023-06-02T19:30:48.344Z"
   },
   {
    "duration": 7,
    "start_time": "2023-06-02T19:32:39.588Z"
   },
   {
    "duration": 6,
    "start_time": "2023-06-02T19:32:50.735Z"
   },
   {
    "duration": 6,
    "start_time": "2023-06-02T19:33:00.846Z"
   },
   {
    "duration": 58,
    "start_time": "2023-06-03T14:24:26.397Z"
   },
   {
    "duration": 1359,
    "start_time": "2023-06-03T14:24:31.984Z"
   },
   {
    "duration": 147,
    "start_time": "2023-06-03T14:24:33.349Z"
   },
   {
    "duration": 11,
    "start_time": "2023-06-03T14:24:33.498Z"
   },
   {
    "duration": 13,
    "start_time": "2023-06-03T14:24:33.511Z"
   },
   {
    "duration": 215,
    "start_time": "2023-06-03T14:24:33.526Z"
   },
   {
    "duration": 85,
    "start_time": "2023-06-03T14:24:33.745Z"
   },
   {
    "duration": 18,
    "start_time": "2023-06-03T14:24:33.831Z"
   },
   {
    "duration": 33,
    "start_time": "2023-06-03T14:24:33.851Z"
   },
   {
    "duration": 6,
    "start_time": "2023-06-03T14:24:33.885Z"
   },
   {
    "duration": 192,
    "start_time": "2023-06-03T14:24:33.894Z"
   },
   {
    "duration": 194,
    "start_time": "2023-06-03T14:24:34.087Z"
   },
   {
    "duration": 57,
    "start_time": "2023-06-03T14:24:34.283Z"
   },
   {
    "duration": 13,
    "start_time": "2023-06-03T14:24:34.342Z"
   },
   {
    "duration": 16,
    "start_time": "2023-06-03T14:24:34.357Z"
   },
   {
    "duration": 13,
    "start_time": "2023-06-03T14:24:34.375Z"
   },
   {
    "duration": 16,
    "start_time": "2023-06-03T14:24:34.390Z"
   },
   {
    "duration": 8,
    "start_time": "2023-06-03T14:24:34.408Z"
   },
   {
    "duration": 10,
    "start_time": "2023-06-03T14:24:34.418Z"
   },
   {
    "duration": 29,
    "start_time": "2023-06-03T14:24:34.430Z"
   },
   {
    "duration": 10,
    "start_time": "2023-06-03T14:24:34.461Z"
   },
   {
    "duration": 8,
    "start_time": "2023-06-03T14:24:34.473Z"
   },
   {
    "duration": 8,
    "start_time": "2023-06-03T14:24:34.482Z"
   },
   {
    "duration": 6,
    "start_time": "2023-06-03T14:24:34.492Z"
   },
   {
    "duration": 10,
    "start_time": "2023-06-03T14:24:34.500Z"
   },
   {
    "duration": 8,
    "start_time": "2023-06-03T14:24:34.512Z"
   },
   {
    "duration": 35,
    "start_time": "2023-06-03T14:24:34.522Z"
   },
   {
    "duration": 13,
    "start_time": "2023-06-03T14:24:34.559Z"
   },
   {
    "duration": 13,
    "start_time": "2023-06-03T14:24:34.576Z"
   },
   {
    "duration": 15,
    "start_time": "2023-06-03T14:24:34.591Z"
   },
   {
    "duration": 6,
    "start_time": "2023-06-03T14:24:34.608Z"
   },
   {
    "duration": 39,
    "start_time": "2023-06-03T14:24:34.616Z"
   },
   {
    "duration": 36,
    "start_time": "2023-06-03T14:24:34.657Z"
   },
   {
    "duration": 25,
    "start_time": "2023-06-03T14:24:34.695Z"
   },
   {
    "duration": 19,
    "start_time": "2023-06-03T14:24:34.721Z"
   },
   {
    "duration": 17,
    "start_time": "2023-06-03T14:24:34.741Z"
   },
   {
    "duration": 177,
    "start_time": "2023-06-03T14:24:34.760Z"
   },
   {
    "duration": 15,
    "start_time": "2023-06-03T14:24:34.939Z"
   },
   {
    "duration": 16,
    "start_time": "2023-06-03T14:24:34.956Z"
   },
   {
    "duration": 6,
    "start_time": "2023-06-03T14:24:34.973Z"
   },
   {
    "duration": 9,
    "start_time": "2023-06-03T14:24:34.980Z"
   },
   {
    "duration": 5,
    "start_time": "2023-06-03T14:24:34.991Z"
   },
   {
    "duration": 5,
    "start_time": "2023-06-03T14:24:34.998Z"
   },
   {
    "duration": 10,
    "start_time": "2023-06-03T14:24:35.005Z"
   },
   {
    "duration": 26,
    "start_time": "2023-06-03T14:24:35.017Z"
   },
   {
    "duration": 93,
    "start_time": "2023-06-03T14:24:35.045Z"
   },
   {
    "duration": 154,
    "start_time": "2023-06-03T14:24:35.139Z"
   },
   {
    "duration": 6,
    "start_time": "2023-06-03T14:24:35.295Z"
   },
   {
    "duration": 195,
    "start_time": "2023-06-03T14:24:35.303Z"
   },
   {
    "duration": 5,
    "start_time": "2023-06-03T14:24:35.500Z"
   },
   {
    "duration": 181,
    "start_time": "2023-06-03T14:24:35.506Z"
   },
   {
    "duration": 26,
    "start_time": "2023-06-03T14:24:35.689Z"
   },
   {
    "duration": 8,
    "start_time": "2023-06-03T14:24:35.717Z"
   },
   {
    "duration": 21,
    "start_time": "2023-06-03T14:24:35.748Z"
   },
   {
    "duration": 8,
    "start_time": "2023-06-03T14:24:35.771Z"
   },
   {
    "duration": 14,
    "start_time": "2023-06-03T14:24:35.781Z"
   },
   {
    "duration": 327,
    "start_time": "2023-06-03T14:24:35.797Z"
   },
   {
    "duration": 285,
    "start_time": "2023-06-03T14:24:36.126Z"
   },
   {
    "duration": 16,
    "start_time": "2023-06-03T14:24:36.413Z"
   },
   {
    "duration": 27,
    "start_time": "2023-06-03T14:24:36.432Z"
   },
   {
    "duration": 22,
    "start_time": "2023-06-03T14:24:36.461Z"
   },
   {
    "duration": 12,
    "start_time": "2023-06-03T14:24:36.485Z"
   },
   {
    "duration": 4,
    "start_time": "2023-06-03T14:24:36.499Z"
   },
   {
    "duration": 5,
    "start_time": "2023-06-03T14:24:36.505Z"
   },
   {
    "duration": 100,
    "start_time": "2023-06-03T14:24:36.512Z"
   },
   {
    "duration": 326,
    "start_time": "2023-06-03T14:24:36.614Z"
   },
   {
    "duration": 0,
    "start_time": "2023-06-03T14:24:36.942Z"
   },
   {
    "duration": 0,
    "start_time": "2023-06-03T14:24:36.944Z"
   },
   {
    "duration": 9,
    "start_time": "2023-06-03T14:24:43.196Z"
   },
   {
    "duration": 7,
    "start_time": "2023-06-03T14:33:50.159Z"
   },
   {
    "duration": 5,
    "start_time": "2023-06-03T15:17:39.705Z"
   },
   {
    "duration": 12,
    "start_time": "2023-06-03T15:18:07.047Z"
   },
   {
    "duration": 3,
    "start_time": "2023-06-03T15:18:14.267Z"
   },
   {
    "duration": 98,
    "start_time": "2023-06-03T15:18:14.274Z"
   },
   {
    "duration": 13,
    "start_time": "2023-06-03T15:18:14.374Z"
   },
   {
    "duration": 25,
    "start_time": "2023-06-03T15:18:14.389Z"
   },
   {
    "duration": 243,
    "start_time": "2023-06-03T15:18:14.416Z"
   },
   {
    "duration": 32,
    "start_time": "2023-06-03T15:18:14.662Z"
   },
   {
    "duration": 19,
    "start_time": "2023-06-03T15:18:14.695Z"
   },
   {
    "duration": 15,
    "start_time": "2023-06-03T15:18:14.715Z"
   },
   {
    "duration": 10,
    "start_time": "2023-06-03T15:18:14.731Z"
   },
   {
    "duration": 218,
    "start_time": "2023-06-03T15:18:14.747Z"
   },
   {
    "duration": 211,
    "start_time": "2023-06-03T15:18:14.967Z"
   },
   {
    "duration": 20,
    "start_time": "2023-06-03T15:18:15.180Z"
   },
   {
    "duration": 56,
    "start_time": "2023-06-03T15:18:15.201Z"
   },
   {
    "duration": 49,
    "start_time": "2023-06-03T15:18:15.260Z"
   },
   {
    "duration": 45,
    "start_time": "2023-06-03T15:18:15.312Z"
   },
   {
    "duration": 43,
    "start_time": "2023-06-03T15:18:15.359Z"
   },
   {
    "duration": 17,
    "start_time": "2023-06-03T15:18:15.404Z"
   },
   {
    "duration": 46,
    "start_time": "2023-06-03T15:18:15.424Z"
   },
   {
    "duration": 37,
    "start_time": "2023-06-03T15:18:15.472Z"
   },
   {
    "duration": 52,
    "start_time": "2023-06-03T15:18:15.511Z"
   },
   {
    "duration": 71,
    "start_time": "2023-06-03T15:18:15.568Z"
   },
   {
    "duration": 43,
    "start_time": "2023-06-03T15:18:15.641Z"
   },
   {
    "duration": 35,
    "start_time": "2023-06-03T15:18:15.686Z"
   },
   {
    "duration": 18,
    "start_time": "2023-06-03T15:18:15.724Z"
   },
   {
    "duration": 26,
    "start_time": "2023-06-03T15:18:15.744Z"
   },
   {
    "duration": 38,
    "start_time": "2023-06-03T15:18:15.772Z"
   },
   {
    "duration": 24,
    "start_time": "2023-06-03T15:18:15.811Z"
   },
   {
    "duration": 34,
    "start_time": "2023-06-03T15:18:15.836Z"
   },
   {
    "duration": 42,
    "start_time": "2023-06-03T15:18:15.872Z"
   },
   {
    "duration": 19,
    "start_time": "2023-06-03T15:18:15.915Z"
   },
   {
    "duration": 38,
    "start_time": "2023-06-03T15:18:15.936Z"
   },
   {
    "duration": 33,
    "start_time": "2023-06-03T15:18:15.976Z"
   },
   {
    "duration": 19,
    "start_time": "2023-06-03T15:18:16.011Z"
   },
   {
    "duration": 44,
    "start_time": "2023-06-03T15:18:16.032Z"
   },
   {
    "duration": 28,
    "start_time": "2023-06-03T15:18:16.078Z"
   },
   {
    "duration": 204,
    "start_time": "2023-06-03T15:18:16.108Z"
   },
   {
    "duration": 6,
    "start_time": "2023-06-03T15:18:16.315Z"
   },
   {
    "duration": 30,
    "start_time": "2023-06-03T15:18:16.322Z"
   },
   {
    "duration": 21,
    "start_time": "2023-06-03T15:18:16.355Z"
   },
   {
    "duration": 25,
    "start_time": "2023-06-03T15:18:16.377Z"
   },
   {
    "duration": 26,
    "start_time": "2023-06-03T15:18:16.404Z"
   },
   {
    "duration": 24,
    "start_time": "2023-06-03T15:18:16.435Z"
   },
   {
    "duration": 33,
    "start_time": "2023-06-03T15:18:16.461Z"
   },
   {
    "duration": 16,
    "start_time": "2023-06-03T15:18:16.495Z"
   },
   {
    "duration": 127,
    "start_time": "2023-06-03T15:18:16.513Z"
   },
   {
    "duration": 148,
    "start_time": "2023-06-03T15:18:16.641Z"
   },
   {
    "duration": 4,
    "start_time": "2023-06-03T15:18:16.791Z"
   },
   {
    "duration": 210,
    "start_time": "2023-06-03T15:18:16.797Z"
   },
   {
    "duration": 6,
    "start_time": "2023-06-03T15:18:17.009Z"
   },
   {
    "duration": 194,
    "start_time": "2023-06-03T15:18:17.016Z"
   },
   {
    "duration": 27,
    "start_time": "2023-06-03T15:18:17.212Z"
   },
   {
    "duration": 15,
    "start_time": "2023-06-03T15:18:17.250Z"
   },
   {
    "duration": 34,
    "start_time": "2023-06-03T15:18:17.267Z"
   },
   {
    "duration": 11,
    "start_time": "2023-06-03T15:18:17.303Z"
   },
   {
    "duration": 23,
    "start_time": "2023-06-03T15:18:17.316Z"
   },
   {
    "duration": 283,
    "start_time": "2023-06-03T15:18:17.341Z"
   },
   {
    "duration": 260,
    "start_time": "2023-06-03T15:18:17.626Z"
   },
   {
    "duration": 12,
    "start_time": "2023-06-03T15:18:17.888Z"
   },
   {
    "duration": 26,
    "start_time": "2023-06-03T15:18:17.901Z"
   },
   {
    "duration": 13,
    "start_time": "2023-06-03T15:18:17.929Z"
   },
   {
    "duration": 40,
    "start_time": "2023-06-03T15:18:17.944Z"
   },
   {
    "duration": 25,
    "start_time": "2023-06-03T15:18:17.986Z"
   },
   {
    "duration": 21,
    "start_time": "2023-06-03T15:18:18.013Z"
   },
   {
    "duration": 32,
    "start_time": "2023-06-03T15:18:18.036Z"
   },
   {
    "duration": 335,
    "start_time": "2023-06-03T15:18:18.070Z"
   },
   {
    "duration": 0,
    "start_time": "2023-06-03T15:18:18.407Z"
   },
   {
    "duration": 0,
    "start_time": "2023-06-03T15:18:18.408Z"
   },
   {
    "duration": 6,
    "start_time": "2023-06-03T15:18:23.035Z"
   },
   {
    "duration": 7,
    "start_time": "2023-06-03T15:21:13.372Z"
   },
   {
    "duration": 7,
    "start_time": "2023-06-03T15:22:06.762Z"
   },
   {
    "duration": 13,
    "start_time": "2023-06-03T15:22:14.148Z"
   },
   {
    "duration": 8,
    "start_time": "2023-06-03T15:22:32.272Z"
   },
   {
    "duration": 6,
    "start_time": "2023-06-03T15:22:41.292Z"
   },
   {
    "duration": 7,
    "start_time": "2023-06-03T15:22:45.759Z"
   },
   {
    "duration": 6,
    "start_time": "2023-06-03T15:22:50.465Z"
   },
   {
    "duration": 3,
    "start_time": "2023-06-03T15:23:04.034Z"
   },
   {
    "duration": 60,
    "start_time": "2023-06-03T15:23:04.040Z"
   },
   {
    "duration": 11,
    "start_time": "2023-06-03T15:23:04.102Z"
   },
   {
    "duration": 15,
    "start_time": "2023-06-03T15:23:04.115Z"
   },
   {
    "duration": 247,
    "start_time": "2023-06-03T15:23:04.132Z"
   },
   {
    "duration": 35,
    "start_time": "2023-06-03T15:23:04.381Z"
   },
   {
    "duration": 20,
    "start_time": "2023-06-03T15:23:04.418Z"
   },
   {
    "duration": 20,
    "start_time": "2023-06-03T15:23:04.446Z"
   },
   {
    "duration": 16,
    "start_time": "2023-06-03T15:23:04.468Z"
   },
   {
    "duration": 297,
    "start_time": "2023-06-03T15:23:04.486Z"
   },
   {
    "duration": 218,
    "start_time": "2023-06-03T15:23:04.785Z"
   },
   {
    "duration": 20,
    "start_time": "2023-06-03T15:23:05.005Z"
   },
   {
    "duration": 10,
    "start_time": "2023-06-03T15:23:05.026Z"
   },
   {
    "duration": 31,
    "start_time": "2023-06-03T15:23:05.038Z"
   },
   {
    "duration": 23,
    "start_time": "2023-06-03T15:23:05.072Z"
   },
   {
    "duration": 24,
    "start_time": "2023-06-03T15:23:05.097Z"
   },
   {
    "duration": 11,
    "start_time": "2023-06-03T15:23:05.123Z"
   },
   {
    "duration": 20,
    "start_time": "2023-06-03T15:23:05.136Z"
   },
   {
    "duration": 15,
    "start_time": "2023-06-03T15:23:05.158Z"
   },
   {
    "duration": 9,
    "start_time": "2023-06-03T15:23:05.174Z"
   },
   {
    "duration": 13,
    "start_time": "2023-06-03T15:23:05.184Z"
   },
   {
    "duration": 11,
    "start_time": "2023-06-03T15:23:05.199Z"
   },
   {
    "duration": 16,
    "start_time": "2023-06-03T15:23:05.211Z"
   },
   {
    "duration": 8,
    "start_time": "2023-06-03T15:23:05.229Z"
   },
   {
    "duration": 28,
    "start_time": "2023-06-03T15:23:05.238Z"
   },
   {
    "duration": 10,
    "start_time": "2023-06-03T15:23:05.268Z"
   },
   {
    "duration": 21,
    "start_time": "2023-06-03T15:23:05.280Z"
   },
   {
    "duration": 24,
    "start_time": "2023-06-03T15:23:05.303Z"
   },
   {
    "duration": 14,
    "start_time": "2023-06-03T15:23:05.328Z"
   },
   {
    "duration": 23,
    "start_time": "2023-06-03T15:23:05.344Z"
   },
   {
    "duration": 21,
    "start_time": "2023-06-03T15:23:05.369Z"
   },
   {
    "duration": 7,
    "start_time": "2023-06-03T15:23:05.391Z"
   },
   {
    "duration": 10,
    "start_time": "2023-06-03T15:23:05.399Z"
   },
   {
    "duration": 15,
    "start_time": "2023-06-03T15:23:05.411Z"
   },
   {
    "duration": 45,
    "start_time": "2023-06-03T15:23:05.428Z"
   },
   {
    "duration": 211,
    "start_time": "2023-06-03T15:23:05.475Z"
   },
   {
    "duration": 7,
    "start_time": "2023-06-03T15:23:05.687Z"
   },
   {
    "duration": 23,
    "start_time": "2023-06-03T15:23:05.696Z"
   },
   {
    "duration": 8,
    "start_time": "2023-06-03T15:23:05.721Z"
   },
   {
    "duration": 31,
    "start_time": "2023-06-03T15:23:05.731Z"
   },
   {
    "duration": 11,
    "start_time": "2023-06-03T15:23:05.764Z"
   },
   {
    "duration": 20,
    "start_time": "2023-06-03T15:23:05.780Z"
   },
   {
    "duration": 62,
    "start_time": "2023-06-03T15:23:05.801Z"
   },
   {
    "duration": 52,
    "start_time": "2023-06-03T15:23:05.865Z"
   },
   {
    "duration": 141,
    "start_time": "2023-06-03T15:23:05.919Z"
   },
   {
    "duration": 141,
    "start_time": "2023-06-03T15:23:06.063Z"
   },
   {
    "duration": 5,
    "start_time": "2023-06-03T15:23:06.205Z"
   },
   {
    "duration": 217,
    "start_time": "2023-06-03T15:23:06.212Z"
   },
   {
    "duration": 5,
    "start_time": "2023-06-03T15:23:06.431Z"
   },
   {
    "duration": 203,
    "start_time": "2023-06-03T15:23:06.438Z"
   },
   {
    "duration": 31,
    "start_time": "2023-06-03T15:23:06.651Z"
   },
   {
    "duration": 7,
    "start_time": "2023-06-03T15:23:06.684Z"
   },
   {
    "duration": 19,
    "start_time": "2023-06-03T15:23:06.692Z"
   },
   {
    "duration": 13,
    "start_time": "2023-06-03T15:23:06.712Z"
   },
   {
    "duration": 39,
    "start_time": "2023-06-03T15:23:06.727Z"
   },
   {
    "duration": 295,
    "start_time": "2023-06-03T15:23:06.768Z"
   },
   {
    "duration": 298,
    "start_time": "2023-06-03T15:23:07.065Z"
   },
   {
    "duration": 13,
    "start_time": "2023-06-03T15:23:07.366Z"
   },
   {
    "duration": 16,
    "start_time": "2023-06-03T15:23:07.382Z"
   },
   {
    "duration": 17,
    "start_time": "2023-06-03T15:23:07.400Z"
   },
   {
    "duration": 14,
    "start_time": "2023-06-03T15:23:07.419Z"
   },
   {
    "duration": 30,
    "start_time": "2023-06-03T15:23:07.435Z"
   },
   {
    "duration": 17,
    "start_time": "2023-06-03T15:23:07.467Z"
   },
   {
    "duration": 20,
    "start_time": "2023-06-03T15:23:07.485Z"
   },
   {
    "duration": 344,
    "start_time": "2023-06-03T15:23:07.507Z"
   },
   {
    "duration": 0,
    "start_time": "2023-06-03T15:23:07.853Z"
   },
   {
    "duration": 0,
    "start_time": "2023-06-03T15:23:07.854Z"
   },
   {
    "duration": 7,
    "start_time": "2023-06-03T15:23:16.662Z"
   },
   {
    "duration": 139,
    "start_time": "2023-06-03T15:23:44.139Z"
   },
   {
    "duration": 7,
    "start_time": "2023-06-03T15:23:49.126Z"
   },
   {
    "duration": 3,
    "start_time": "2023-06-03T15:24:02.672Z"
   },
   {
    "duration": 53,
    "start_time": "2023-06-03T15:24:02.677Z"
   },
   {
    "duration": 18,
    "start_time": "2023-06-03T15:24:02.733Z"
   },
   {
    "duration": 61,
    "start_time": "2023-06-03T15:24:02.755Z"
   },
   {
    "duration": 262,
    "start_time": "2023-06-03T15:24:02.819Z"
   },
   {
    "duration": 32,
    "start_time": "2023-06-03T15:24:03.083Z"
   },
   {
    "duration": 21,
    "start_time": "2023-06-03T15:24:03.117Z"
   },
   {
    "duration": 24,
    "start_time": "2023-06-03T15:24:03.139Z"
   },
   {
    "duration": 12,
    "start_time": "2023-06-03T15:24:03.165Z"
   },
   {
    "duration": 207,
    "start_time": "2023-06-03T15:24:03.179Z"
   },
   {
    "duration": 286,
    "start_time": "2023-06-03T15:24:03.389Z"
   },
   {
    "duration": 20,
    "start_time": "2023-06-03T15:24:03.677Z"
   },
   {
    "duration": 11,
    "start_time": "2023-06-03T15:24:03.698Z"
   },
   {
    "duration": 6,
    "start_time": "2023-06-03T15:24:03.710Z"
   },
   {
    "duration": 9,
    "start_time": "2023-06-03T15:24:03.717Z"
   },
   {
    "duration": 32,
    "start_time": "2023-06-03T15:24:03.728Z"
   },
   {
    "duration": 12,
    "start_time": "2023-06-03T15:24:03.762Z"
   },
   {
    "duration": 11,
    "start_time": "2023-06-03T15:24:03.776Z"
   },
   {
    "duration": 12,
    "start_time": "2023-06-03T15:24:03.789Z"
   },
   {
    "duration": 6,
    "start_time": "2023-06-03T15:24:03.802Z"
   },
   {
    "duration": 6,
    "start_time": "2023-06-03T15:24:03.810Z"
   },
   {
    "duration": 6,
    "start_time": "2023-06-03T15:24:03.818Z"
   },
   {
    "duration": 29,
    "start_time": "2023-06-03T15:24:03.826Z"
   },
   {
    "duration": 11,
    "start_time": "2023-06-03T15:24:03.860Z"
   },
   {
    "duration": 25,
    "start_time": "2023-06-03T15:24:03.873Z"
   },
   {
    "duration": 16,
    "start_time": "2023-06-03T15:24:03.899Z"
   },
   {
    "duration": 37,
    "start_time": "2023-06-03T15:24:03.917Z"
   },
   {
    "duration": 39,
    "start_time": "2023-06-03T15:24:03.956Z"
   },
   {
    "duration": 38,
    "start_time": "2023-06-03T15:24:03.996Z"
   },
   {
    "duration": 27,
    "start_time": "2023-06-03T15:24:04.036Z"
   },
   {
    "duration": 13,
    "start_time": "2023-06-03T15:24:04.065Z"
   },
   {
    "duration": 13,
    "start_time": "2023-06-03T15:24:04.079Z"
   },
   {
    "duration": 25,
    "start_time": "2023-06-03T15:24:04.094Z"
   },
   {
    "duration": 8,
    "start_time": "2023-06-03T15:24:04.120Z"
   },
   {
    "duration": 12,
    "start_time": "2023-06-03T15:24:04.130Z"
   },
   {
    "duration": 193,
    "start_time": "2023-06-03T15:24:04.144Z"
   },
   {
    "duration": 16,
    "start_time": "2023-06-03T15:24:04.339Z"
   },
   {
    "duration": 23,
    "start_time": "2023-06-03T15:24:04.357Z"
   },
   {
    "duration": 10,
    "start_time": "2023-06-03T15:24:04.383Z"
   },
   {
    "duration": 14,
    "start_time": "2023-06-03T15:24:04.394Z"
   },
   {
    "duration": 11,
    "start_time": "2023-06-03T15:24:04.410Z"
   },
   {
    "duration": 16,
    "start_time": "2023-06-03T15:24:04.423Z"
   },
   {
    "duration": 20,
    "start_time": "2023-06-03T15:24:04.441Z"
   },
   {
    "duration": 17,
    "start_time": "2023-06-03T15:24:04.462Z"
   },
   {
    "duration": 90,
    "start_time": "2023-06-03T15:24:04.480Z"
   },
   {
    "duration": 149,
    "start_time": "2023-06-03T15:24:04.572Z"
   },
   {
    "duration": 5,
    "start_time": "2023-06-03T15:24:04.722Z"
   },
   {
    "duration": 200,
    "start_time": "2023-06-03T15:24:04.729Z"
   },
   {
    "duration": 5,
    "start_time": "2023-06-03T15:24:04.931Z"
   },
   {
    "duration": 226,
    "start_time": "2023-06-03T15:24:04.938Z"
   },
   {
    "duration": 27,
    "start_time": "2023-06-03T15:24:05.166Z"
   },
   {
    "duration": 7,
    "start_time": "2023-06-03T15:24:05.194Z"
   },
   {
    "duration": 27,
    "start_time": "2023-06-03T15:24:05.203Z"
   },
   {
    "duration": 34,
    "start_time": "2023-06-03T15:24:05.232Z"
   },
   {
    "duration": 30,
    "start_time": "2023-06-03T15:24:05.268Z"
   },
   {
    "duration": 400,
    "start_time": "2023-06-03T15:24:05.300Z"
   },
   {
    "duration": 337,
    "start_time": "2023-06-03T15:24:05.701Z"
   },
   {
    "duration": 25,
    "start_time": "2023-06-03T15:24:06.040Z"
   },
   {
    "duration": 14,
    "start_time": "2023-06-03T15:24:06.067Z"
   },
   {
    "duration": 8,
    "start_time": "2023-06-03T15:24:06.083Z"
   },
   {
    "duration": 13,
    "start_time": "2023-06-03T15:24:06.093Z"
   },
   {
    "duration": 11,
    "start_time": "2023-06-03T15:24:06.108Z"
   },
   {
    "duration": 22,
    "start_time": "2023-06-03T15:24:06.121Z"
   },
   {
    "duration": 29,
    "start_time": "2023-06-03T15:24:06.145Z"
   },
   {
    "duration": 234,
    "start_time": "2023-06-03T15:24:06.176Z"
   },
   {
    "duration": 0,
    "start_time": "2023-06-03T15:24:06.412Z"
   },
   {
    "duration": 0,
    "start_time": "2023-06-03T15:24:06.413Z"
   },
   {
    "duration": 8,
    "start_time": "2023-06-03T15:24:21.334Z"
   },
   {
    "duration": 4,
    "start_time": "2023-06-03T15:31:54.518Z"
   },
   {
    "duration": 11,
    "start_time": "2023-06-03T15:31:57.227Z"
   },
   {
    "duration": 6,
    "start_time": "2023-06-03T15:48:22.150Z"
   },
   {
    "duration": 838,
    "start_time": "2023-06-03T15:50:34.095Z"
   },
   {
    "duration": 16,
    "start_time": "2023-06-03T16:40:35.887Z"
   },
   {
    "duration": 11,
    "start_time": "2023-06-03T16:40:37.161Z"
   },
   {
    "duration": 133,
    "start_time": "2023-06-03T16:40:51.837Z"
   },
   {
    "duration": 134,
    "start_time": "2023-06-03T16:41:00.733Z"
   },
   {
    "duration": 12,
    "start_time": "2023-06-03T16:41:25.865Z"
   },
   {
    "duration": 38,
    "start_time": "2023-06-03T17:04:27.803Z"
   },
   {
    "duration": 10,
    "start_time": "2023-06-03T17:06:26.719Z"
   },
   {
    "duration": 9,
    "start_time": "2023-06-03T17:07:16.277Z"
   },
   {
    "duration": 3,
    "start_time": "2023-06-03T17:08:24.508Z"
   },
   {
    "duration": 54,
    "start_time": "2023-06-03T17:08:24.513Z"
   },
   {
    "duration": 12,
    "start_time": "2023-06-03T17:08:24.569Z"
   },
   {
    "duration": 22,
    "start_time": "2023-06-03T17:08:24.583Z"
   },
   {
    "duration": 287,
    "start_time": "2023-06-03T17:08:24.606Z"
   },
   {
    "duration": 37,
    "start_time": "2023-06-03T17:08:24.895Z"
   },
   {
    "duration": 30,
    "start_time": "2023-06-03T17:08:24.935Z"
   },
   {
    "duration": 32,
    "start_time": "2023-06-03T17:08:24.970Z"
   },
   {
    "duration": 15,
    "start_time": "2023-06-03T17:08:25.004Z"
   },
   {
    "duration": 258,
    "start_time": "2023-06-03T17:08:25.021Z"
   },
   {
    "duration": 234,
    "start_time": "2023-06-03T17:08:25.282Z"
   },
   {
    "duration": 21,
    "start_time": "2023-06-03T17:08:25.518Z"
   },
   {
    "duration": 20,
    "start_time": "2023-06-03T17:08:25.540Z"
   },
   {
    "duration": 29,
    "start_time": "2023-06-03T17:08:25.562Z"
   },
   {
    "duration": 11,
    "start_time": "2023-06-03T17:08:25.593Z"
   },
   {
    "duration": 11,
    "start_time": "2023-06-03T17:08:25.606Z"
   },
   {
    "duration": 23,
    "start_time": "2023-06-03T17:08:25.618Z"
   },
   {
    "duration": 14,
    "start_time": "2023-06-03T17:08:25.643Z"
   },
   {
    "duration": 42,
    "start_time": "2023-06-03T17:08:25.660Z"
   },
   {
    "duration": 20,
    "start_time": "2023-06-03T17:08:25.704Z"
   },
   {
    "duration": 16,
    "start_time": "2023-06-03T17:08:25.726Z"
   },
   {
    "duration": 42,
    "start_time": "2023-06-03T17:08:25.744Z"
   },
   {
    "duration": 23,
    "start_time": "2023-06-03T17:08:25.788Z"
   },
   {
    "duration": 4,
    "start_time": "2023-06-03T17:08:25.917Z"
   },
   {
    "duration": 27,
    "start_time": "2023-06-03T17:08:25.923Z"
   },
   {
    "duration": 54,
    "start_time": "2023-06-03T17:08:25.952Z"
   },
   {
    "duration": 8,
    "start_time": "2023-06-03T17:08:26.008Z"
   },
   {
    "duration": 23,
    "start_time": "2023-06-03T17:08:26.017Z"
   },
   {
    "duration": 40,
    "start_time": "2023-06-03T17:08:26.042Z"
   },
   {
    "duration": 9,
    "start_time": "2023-06-03T17:08:26.084Z"
   },
   {
    "duration": 19,
    "start_time": "2023-06-03T17:08:26.095Z"
   },
   {
    "duration": 11,
    "start_time": "2023-06-03T17:08:26.116Z"
   },
   {
    "duration": 29,
    "start_time": "2023-06-03T17:08:26.129Z"
   },
   {
    "duration": 27,
    "start_time": "2023-06-03T17:08:26.162Z"
   },
   {
    "duration": 41,
    "start_time": "2023-06-03T17:08:26.191Z"
   },
   {
    "duration": 263,
    "start_time": "2023-06-03T17:08:26.235Z"
   },
   {
    "duration": 7,
    "start_time": "2023-06-03T17:08:26.500Z"
   },
   {
    "duration": 26,
    "start_time": "2023-06-03T17:08:26.509Z"
   },
   {
    "duration": 49,
    "start_time": "2023-06-03T17:08:26.537Z"
   },
   {
    "duration": 10,
    "start_time": "2023-06-03T17:08:26.589Z"
   },
   {
    "duration": 7,
    "start_time": "2023-06-03T17:08:26.601Z"
   },
   {
    "duration": 8,
    "start_time": "2023-06-03T17:08:26.610Z"
   },
   {
    "duration": 7,
    "start_time": "2023-06-03T17:08:26.620Z"
   },
   {
    "duration": 9,
    "start_time": "2023-06-03T17:08:26.629Z"
   },
   {
    "duration": 100,
    "start_time": "2023-06-03T17:08:26.640Z"
   },
   {
    "duration": 166,
    "start_time": "2023-06-03T17:08:26.741Z"
   },
   {
    "duration": 6,
    "start_time": "2023-06-03T17:08:26.908Z"
   },
   {
    "duration": 226,
    "start_time": "2023-06-03T17:08:26.916Z"
   },
   {
    "duration": 10,
    "start_time": "2023-06-03T17:08:27.145Z"
   },
   {
    "duration": 241,
    "start_time": "2023-06-03T17:08:27.158Z"
   },
   {
    "duration": 26,
    "start_time": "2023-06-03T17:08:27.401Z"
   },
   {
    "duration": 44,
    "start_time": "2023-06-03T17:08:27.429Z"
   },
   {
    "duration": 70,
    "start_time": "2023-06-03T17:08:27.475Z"
   },
   {
    "duration": 36,
    "start_time": "2023-06-03T17:08:27.551Z"
   },
   {
    "duration": 20,
    "start_time": "2023-06-03T17:08:27.590Z"
   },
   {
    "duration": 322,
    "start_time": "2023-06-03T17:08:27.612Z"
   },
   {
    "duration": 268,
    "start_time": "2023-06-03T17:08:27.936Z"
   },
   {
    "duration": 27,
    "start_time": "2023-06-03T17:08:28.206Z"
   },
   {
    "duration": 13,
    "start_time": "2023-06-03T17:08:28.235Z"
   },
   {
    "duration": 24,
    "start_time": "2023-06-03T17:08:28.250Z"
   },
   {
    "duration": 29,
    "start_time": "2023-06-03T17:08:28.276Z"
   },
   {
    "duration": 151,
    "start_time": "2023-06-03T17:08:28.306Z"
   },
   {
    "duration": 11,
    "start_time": "2023-06-03T17:08:28.467Z"
   },
   {
    "duration": 31,
    "start_time": "2023-06-03T17:08:28.479Z"
   },
   {
    "duration": 21,
    "start_time": "2023-06-03T17:08:28.512Z"
   },
   {
    "duration": 12,
    "start_time": "2023-06-03T17:08:48.319Z"
   },
   {
    "duration": 91,
    "start_time": "2023-06-03T17:12:00.304Z"
   },
   {
    "duration": 99,
    "start_time": "2023-06-03T17:12:17.106Z"
   },
   {
    "duration": 20,
    "start_time": "2023-06-03T17:13:02.426Z"
   },
   {
    "duration": 13,
    "start_time": "2023-06-03T17:15:50.576Z"
   },
   {
    "duration": 13,
    "start_time": "2023-06-03T17:18:06.081Z"
   },
   {
    "duration": 11,
    "start_time": "2023-06-03T17:18:49.594Z"
   },
   {
    "duration": 194,
    "start_time": "2023-06-03T17:19:25.080Z"
   },
   {
    "duration": 13,
    "start_time": "2023-06-03T17:19:26.191Z"
   },
   {
    "duration": 50,
    "start_time": "2023-06-03T17:21:07.644Z"
   },
   {
    "duration": 17,
    "start_time": "2023-06-03T17:21:22.704Z"
   },
   {
    "duration": 33,
    "start_time": "2023-06-03T17:21:37.167Z"
   },
   {
    "duration": 134,
    "start_time": "2023-06-03T17:26:47.789Z"
   },
   {
    "duration": 18,
    "start_time": "2023-06-03T17:26:49.810Z"
   },
   {
    "duration": 161,
    "start_time": "2023-06-03T17:32:34.626Z"
   },
   {
    "duration": 161,
    "start_time": "2023-06-03T17:32:49.670Z"
   },
   {
    "duration": 18,
    "start_time": "2023-06-03T17:32:50.627Z"
   },
   {
    "duration": 58,
    "start_time": "2023-06-03T17:33:13.494Z"
   },
   {
    "duration": 154,
    "start_time": "2023-06-03T17:33:34.765Z"
   },
   {
    "duration": 34,
    "start_time": "2023-06-03T17:33:36.176Z"
   },
   {
    "duration": 42,
    "start_time": "2023-06-03T17:36:43.661Z"
   },
   {
    "duration": 177,
    "start_time": "2023-06-03T17:40:55.604Z"
   },
   {
    "duration": 23,
    "start_time": "2023-06-03T17:40:59.671Z"
   },
   {
    "duration": 157,
    "start_time": "2023-06-03T17:41:29.917Z"
   },
   {
    "duration": 36,
    "start_time": "2023-06-03T17:41:32.584Z"
   },
   {
    "duration": 271,
    "start_time": "2023-06-03T17:42:57.767Z"
   },
   {
    "duration": 46,
    "start_time": "2023-06-03T17:42:58.377Z"
   },
   {
    "duration": 80,
    "start_time": "2023-06-03T18:01:48.141Z"
   },
   {
    "duration": 110,
    "start_time": "2023-06-03T18:01:52.096Z"
   },
   {
    "duration": 32,
    "start_time": "2023-06-03T18:02:02.629Z"
   },
   {
    "duration": 10,
    "start_time": "2023-06-03T18:02:07.923Z"
   },
   {
    "duration": 15,
    "start_time": "2023-06-03T18:02:51.883Z"
   },
   {
    "duration": 19,
    "start_time": "2023-06-03T18:05:46.369Z"
   },
   {
    "duration": 182,
    "start_time": "2023-06-03T18:08:27.887Z"
   },
   {
    "duration": 23,
    "start_time": "2023-06-03T18:08:30.492Z"
   },
   {
    "duration": 15,
    "start_time": "2023-06-03T18:08:50.763Z"
   },
   {
    "duration": 13,
    "start_time": "2023-06-03T18:08:53.780Z"
   },
   {
    "duration": 3,
    "start_time": "2023-06-03T18:08:59.018Z"
   },
   {
    "duration": 80,
    "start_time": "2023-06-03T18:08:59.022Z"
   },
   {
    "duration": 14,
    "start_time": "2023-06-03T18:08:59.104Z"
   },
   {
    "duration": 89,
    "start_time": "2023-06-03T18:08:59.120Z"
   },
   {
    "duration": 320,
    "start_time": "2023-06-03T18:08:59.211Z"
   },
   {
    "duration": 42,
    "start_time": "2023-06-03T18:08:59.533Z"
   },
   {
    "duration": 36,
    "start_time": "2023-06-03T18:08:59.577Z"
   },
   {
    "duration": 10,
    "start_time": "2023-06-03T18:08:59.615Z"
   },
   {
    "duration": 32,
    "start_time": "2023-06-03T18:08:59.628Z"
   },
   {
    "duration": 259,
    "start_time": "2023-06-03T18:08:59.662Z"
   },
   {
    "duration": 233,
    "start_time": "2023-06-03T18:08:59.925Z"
   },
   {
    "duration": 45,
    "start_time": "2023-06-03T18:09:00.163Z"
   },
   {
    "duration": 43,
    "start_time": "2023-06-03T18:09:00.210Z"
   },
   {
    "duration": 67,
    "start_time": "2023-06-03T18:09:00.258Z"
   },
   {
    "duration": 84,
    "start_time": "2023-06-03T18:09:00.327Z"
   },
   {
    "duration": 77,
    "start_time": "2023-06-03T18:09:00.413Z"
   },
   {
    "duration": 43,
    "start_time": "2023-06-03T18:09:00.492Z"
   },
   {
    "duration": 73,
    "start_time": "2023-06-03T18:09:00.537Z"
   },
   {
    "duration": 68,
    "start_time": "2023-06-03T18:09:00.612Z"
   },
   {
    "duration": 43,
    "start_time": "2023-06-03T18:09:00.686Z"
   },
   {
    "duration": 66,
    "start_time": "2023-06-03T18:09:00.731Z"
   },
   {
    "duration": 77,
    "start_time": "2023-06-03T18:09:00.799Z"
   },
   {
    "duration": 41,
    "start_time": "2023-06-03T18:09:00.878Z"
   },
   {
    "duration": 20,
    "start_time": "2023-06-03T18:09:00.921Z"
   },
   {
    "duration": 58,
    "start_time": "2023-06-03T18:09:00.943Z"
   },
   {
    "duration": 30,
    "start_time": "2023-06-03T18:09:01.003Z"
   },
   {
    "duration": 76,
    "start_time": "2023-06-03T18:09:01.035Z"
   },
   {
    "duration": 102,
    "start_time": "2023-06-03T18:09:01.112Z"
   },
   {
    "duration": 76,
    "start_time": "2023-06-03T18:09:01.218Z"
   },
   {
    "duration": 22,
    "start_time": "2023-06-03T18:09:01.296Z"
   },
   {
    "duration": 79,
    "start_time": "2023-06-03T18:09:01.320Z"
   },
   {
    "duration": 42,
    "start_time": "2023-06-03T18:09:01.401Z"
   },
   {
    "duration": 66,
    "start_time": "2023-06-03T18:09:01.445Z"
   },
   {
    "duration": 25,
    "start_time": "2023-06-03T18:09:01.513Z"
   },
   {
    "duration": 48,
    "start_time": "2023-06-03T18:09:01.540Z"
   },
   {
    "duration": 320,
    "start_time": "2023-06-03T18:09:01.590Z"
   },
   {
    "duration": 8,
    "start_time": "2023-06-03T18:09:01.912Z"
   },
   {
    "duration": 57,
    "start_time": "2023-06-03T18:09:01.921Z"
   },
   {
    "duration": 93,
    "start_time": "2023-06-03T18:09:01.980Z"
   },
   {
    "duration": 38,
    "start_time": "2023-06-03T18:09:02.075Z"
   },
   {
    "duration": 27,
    "start_time": "2023-06-03T18:09:02.116Z"
   },
   {
    "duration": 58,
    "start_time": "2023-06-03T18:09:02.145Z"
   },
   {
    "duration": 27,
    "start_time": "2023-06-03T18:09:02.205Z"
   },
   {
    "duration": 68,
    "start_time": "2023-06-03T18:09:02.233Z"
   },
   {
    "duration": 257,
    "start_time": "2023-06-03T18:09:02.303Z"
   },
   {
    "duration": 183,
    "start_time": "2023-06-03T18:09:02.565Z"
   },
   {
    "duration": 9,
    "start_time": "2023-06-03T18:09:02.750Z"
   },
   {
    "duration": 296,
    "start_time": "2023-06-03T18:09:02.760Z"
   },
   {
    "duration": 8,
    "start_time": "2023-06-03T18:09:03.058Z"
   },
   {
    "duration": 253,
    "start_time": "2023-06-03T18:09:03.069Z"
   },
   {
    "duration": 38,
    "start_time": "2023-06-03T18:09:03.324Z"
   },
   {
    "duration": 34,
    "start_time": "2023-06-03T18:09:03.370Z"
   },
   {
    "duration": 19,
    "start_time": "2023-06-03T18:09:03.405Z"
   },
   {
    "duration": 49,
    "start_time": "2023-06-03T18:09:03.426Z"
   },
   {
    "duration": 56,
    "start_time": "2023-06-03T18:09:03.476Z"
   },
   {
    "duration": 362,
    "start_time": "2023-06-03T18:09:03.533Z"
   },
   {
    "duration": 289,
    "start_time": "2023-06-03T18:09:03.897Z"
   },
   {
    "duration": 22,
    "start_time": "2023-06-03T18:09:04.189Z"
   },
   {
    "duration": 11,
    "start_time": "2023-06-03T18:09:04.212Z"
   },
   {
    "duration": 11,
    "start_time": "2023-06-03T18:09:04.225Z"
   },
   {
    "duration": 48,
    "start_time": "2023-06-03T18:09:04.238Z"
   },
   {
    "duration": 176,
    "start_time": "2023-06-03T18:09:04.290Z"
   },
   {
    "duration": 28,
    "start_time": "2023-06-03T18:09:04.469Z"
   },
   {
    "duration": 12,
    "start_time": "2023-06-03T18:09:04.499Z"
   },
   {
    "duration": 13,
    "start_time": "2023-06-03T18:09:04.513Z"
   },
   {
    "duration": 11,
    "start_time": "2023-06-03T18:09:04.528Z"
   },
   {
    "duration": 30,
    "start_time": "2023-06-03T18:10:25.875Z"
   },
   {
    "duration": 9,
    "start_time": "2023-06-03T18:10:31.600Z"
   },
   {
    "duration": 15,
    "start_time": "2023-06-03T18:11:15.672Z"
   },
   {
    "duration": 3,
    "start_time": "2023-06-03T18:16:28.517Z"
   },
   {
    "duration": 3,
    "start_time": "2023-06-03T21:00:30.256Z"
   },
   {
    "duration": 253,
    "start_time": "2023-06-03T21:03:10.704Z"
   },
   {
    "duration": 246,
    "start_time": "2023-06-03T21:03:25.882Z"
   },
   {
    "duration": 44,
    "start_time": "2023-06-04T09:20:42.794Z"
   },
   {
    "duration": 1087,
    "start_time": "2023-06-04T09:21:37.512Z"
   },
   {
    "duration": 131,
    "start_time": "2023-06-04T09:21:38.601Z"
   },
   {
    "duration": 10,
    "start_time": "2023-06-04T09:21:38.733Z"
   },
   {
    "duration": 12,
    "start_time": "2023-06-04T09:21:38.745Z"
   },
   {
    "duration": 177,
    "start_time": "2023-06-04T09:21:38.759Z"
   },
   {
    "duration": 69,
    "start_time": "2023-06-04T09:21:38.937Z"
   },
   {
    "duration": 15,
    "start_time": "2023-06-04T09:21:39.007Z"
   },
   {
    "duration": 9,
    "start_time": "2023-06-04T09:21:39.023Z"
   },
   {
    "duration": 13,
    "start_time": "2023-06-04T09:21:39.033Z"
   },
   {
    "duration": 165,
    "start_time": "2023-06-04T09:21:39.049Z"
   },
   {
    "duration": 170,
    "start_time": "2023-06-04T09:21:39.216Z"
   },
   {
    "duration": 57,
    "start_time": "2023-06-04T09:21:39.387Z"
   },
   {
    "duration": 8,
    "start_time": "2023-06-04T09:21:39.446Z"
   },
   {
    "duration": 9,
    "start_time": "2023-06-04T09:21:39.456Z"
   },
   {
    "duration": 10,
    "start_time": "2023-06-04T09:21:39.466Z"
   },
   {
    "duration": 9,
    "start_time": "2023-06-04T09:21:39.477Z"
   },
   {
    "duration": 7,
    "start_time": "2023-06-04T09:21:39.487Z"
   },
   {
    "duration": 11,
    "start_time": "2023-06-04T09:21:39.495Z"
   },
   {
    "duration": 7,
    "start_time": "2023-06-04T09:21:39.507Z"
   },
   {
    "duration": 4,
    "start_time": "2023-06-04T09:21:39.515Z"
   },
   {
    "duration": 5,
    "start_time": "2023-06-04T09:21:39.521Z"
   },
   {
    "duration": 7,
    "start_time": "2023-06-04T09:21:39.527Z"
   },
   {
    "duration": 7,
    "start_time": "2023-06-04T09:21:39.535Z"
   },
   {
    "duration": 3,
    "start_time": "2023-06-04T09:21:39.543Z"
   },
   {
    "duration": 7,
    "start_time": "2023-06-04T09:21:39.547Z"
   },
   {
    "duration": 34,
    "start_time": "2023-06-04T09:21:39.555Z"
   },
   {
    "duration": 5,
    "start_time": "2023-06-04T09:21:39.590Z"
   },
   {
    "duration": 4,
    "start_time": "2023-06-04T09:21:39.599Z"
   },
   {
    "duration": 8,
    "start_time": "2023-06-04T09:21:39.605Z"
   },
   {
    "duration": 6,
    "start_time": "2023-06-04T09:21:39.614Z"
   },
   {
    "duration": 19,
    "start_time": "2023-06-04T09:21:39.622Z"
   },
   {
    "duration": 14,
    "start_time": "2023-06-04T09:21:39.643Z"
   },
   {
    "duration": 30,
    "start_time": "2023-06-04T09:21:39.658Z"
   },
   {
    "duration": 19,
    "start_time": "2023-06-04T09:21:39.689Z"
   },
   {
    "duration": 9,
    "start_time": "2023-06-04T09:21:39.709Z"
   },
   {
    "duration": 169,
    "start_time": "2023-06-04T09:21:39.719Z"
   },
   {
    "duration": 4,
    "start_time": "2023-06-04T09:21:39.890Z"
   },
   {
    "duration": 9,
    "start_time": "2023-06-04T09:21:39.896Z"
   },
   {
    "duration": 14,
    "start_time": "2023-06-04T09:21:39.906Z"
   },
   {
    "duration": 19,
    "start_time": "2023-06-04T09:21:39.921Z"
   },
   {
    "duration": 6,
    "start_time": "2023-06-04T09:21:39.941Z"
   },
   {
    "duration": 9,
    "start_time": "2023-06-04T09:21:39.949Z"
   },
   {
    "duration": 27,
    "start_time": "2023-06-04T09:21:39.959Z"
   },
   {
    "duration": 14,
    "start_time": "2023-06-04T09:21:39.987Z"
   },
   {
    "duration": 80,
    "start_time": "2023-06-04T09:21:40.002Z"
   },
   {
    "duration": 118,
    "start_time": "2023-06-04T09:21:40.083Z"
   },
   {
    "duration": 4,
    "start_time": "2023-06-04T09:21:40.202Z"
   },
   {
    "duration": 141,
    "start_time": "2023-06-04T09:21:40.207Z"
   },
   {
    "duration": 5,
    "start_time": "2023-06-04T09:21:40.349Z"
   },
   {
    "duration": 148,
    "start_time": "2023-06-04T09:21:40.355Z"
   },
   {
    "duration": 20,
    "start_time": "2023-06-04T09:21:40.505Z"
   },
   {
    "duration": 6,
    "start_time": "2023-06-04T09:21:40.527Z"
   },
   {
    "duration": 15,
    "start_time": "2023-06-04T09:21:40.534Z"
   },
   {
    "duration": 15,
    "start_time": "2023-06-04T09:21:40.550Z"
   },
   {
    "duration": 22,
    "start_time": "2023-06-04T09:21:40.566Z"
   },
   {
    "duration": 249,
    "start_time": "2023-06-04T09:21:40.590Z"
   },
   {
    "duration": 196,
    "start_time": "2023-06-04T09:21:40.841Z"
   },
   {
    "duration": 17,
    "start_time": "2023-06-04T09:21:41.039Z"
   },
   {
    "duration": 9,
    "start_time": "2023-06-04T09:21:41.057Z"
   },
   {
    "duration": 20,
    "start_time": "2023-06-04T09:21:41.068Z"
   },
   {
    "duration": 23,
    "start_time": "2023-06-04T09:21:41.089Z"
   },
   {
    "duration": 161,
    "start_time": "2023-06-04T09:21:41.113Z"
   },
   {
    "duration": 19,
    "start_time": "2023-06-04T09:21:41.275Z"
   },
   {
    "duration": 6,
    "start_time": "2023-06-04T09:21:41.295Z"
   },
   {
    "duration": 5,
    "start_time": "2023-06-04T09:21:41.302Z"
   },
   {
    "duration": 20,
    "start_time": "2023-06-04T09:21:41.308Z"
   },
   {
    "duration": 203,
    "start_time": "2023-06-04T09:21:41.330Z"
   },
   {
    "duration": 69,
    "start_time": "2023-06-04T09:21:41.535Z"
   },
   {
    "duration": 9,
    "start_time": "2023-06-04T09:21:49.078Z"
   },
   {
    "duration": 9,
    "start_time": "2023-06-04T09:21:51.963Z"
   },
   {
    "duration": 10,
    "start_time": "2023-06-04T09:22:36.057Z"
   },
   {
    "duration": 8,
    "start_time": "2023-06-04T09:25:30.191Z"
   },
   {
    "duration": 3,
    "start_time": "2023-06-04T09:26:11.853Z"
   },
   {
    "duration": 8,
    "start_time": "2023-06-04T09:26:29.731Z"
   },
   {
    "duration": 2,
    "start_time": "2023-06-04T09:26:40.764Z"
   },
   {
    "duration": 47,
    "start_time": "2023-06-04T09:26:40.771Z"
   },
   {
    "duration": 12,
    "start_time": "2023-06-04T09:26:40.820Z"
   },
   {
    "duration": 8,
    "start_time": "2023-06-04T09:26:40.834Z"
   },
   {
    "duration": 173,
    "start_time": "2023-06-04T09:26:40.844Z"
   },
   {
    "duration": 28,
    "start_time": "2023-06-04T09:26:41.019Z"
   },
   {
    "duration": 15,
    "start_time": "2023-06-04T09:26:41.048Z"
   },
   {
    "duration": 24,
    "start_time": "2023-06-04T09:26:41.064Z"
   },
   {
    "duration": 8,
    "start_time": "2023-06-04T09:26:41.089Z"
   },
   {
    "duration": 161,
    "start_time": "2023-06-04T09:26:41.099Z"
   },
   {
    "duration": 163,
    "start_time": "2023-06-04T09:26:41.263Z"
   },
   {
    "duration": 19,
    "start_time": "2023-06-04T09:26:41.427Z"
   },
   {
    "duration": 8,
    "start_time": "2023-06-04T09:26:41.447Z"
   },
   {
    "duration": 8,
    "start_time": "2023-06-04T09:26:41.457Z"
   },
   {
    "duration": 8,
    "start_time": "2023-06-04T09:26:41.466Z"
   },
   {
    "duration": 15,
    "start_time": "2023-06-04T09:26:41.475Z"
   },
   {
    "duration": 4,
    "start_time": "2023-06-04T09:26:41.491Z"
   },
   {
    "duration": 8,
    "start_time": "2023-06-04T09:26:41.496Z"
   },
   {
    "duration": 6,
    "start_time": "2023-06-04T09:26:41.505Z"
   },
   {
    "duration": 3,
    "start_time": "2023-06-04T09:26:41.513Z"
   },
   {
    "duration": 7,
    "start_time": "2023-06-04T09:26:41.518Z"
   },
   {
    "duration": 5,
    "start_time": "2023-06-04T09:26:41.526Z"
   },
   {
    "duration": 5,
    "start_time": "2023-06-04T09:26:41.532Z"
   },
   {
    "duration": 7,
    "start_time": "2023-06-04T09:26:41.539Z"
   },
   {
    "duration": 7,
    "start_time": "2023-06-04T09:26:41.547Z"
   },
   {
    "duration": 30,
    "start_time": "2023-06-04T09:26:41.555Z"
   },
   {
    "duration": 5,
    "start_time": "2023-06-04T09:26:41.587Z"
   },
   {
    "duration": 8,
    "start_time": "2023-06-04T09:26:41.594Z"
   },
   {
    "duration": 12,
    "start_time": "2023-06-04T09:26:41.606Z"
   },
   {
    "duration": 5,
    "start_time": "2023-06-04T09:26:41.620Z"
   },
   {
    "duration": 7,
    "start_time": "2023-06-04T09:26:41.626Z"
   },
   {
    "duration": 9,
    "start_time": "2023-06-04T09:26:41.634Z"
   },
   {
    "duration": 11,
    "start_time": "2023-06-04T09:26:41.644Z"
   },
   {
    "duration": 11,
    "start_time": "2023-06-04T09:26:41.656Z"
   },
   {
    "duration": 17,
    "start_time": "2023-06-04T09:26:41.668Z"
   },
   {
    "duration": 155,
    "start_time": "2023-06-04T09:26:41.686Z"
   },
   {
    "duration": 5,
    "start_time": "2023-06-04T09:26:41.842Z"
   },
   {
    "duration": 9,
    "start_time": "2023-06-04T09:26:41.849Z"
   },
   {
    "duration": 6,
    "start_time": "2023-06-04T09:26:41.859Z"
   },
   {
    "duration": 5,
    "start_time": "2023-06-04T09:26:41.866Z"
   },
   {
    "duration": 13,
    "start_time": "2023-06-04T09:26:41.872Z"
   },
   {
    "duration": 4,
    "start_time": "2023-06-04T09:26:41.887Z"
   },
   {
    "duration": 4,
    "start_time": "2023-06-04T09:26:41.893Z"
   },
   {
    "duration": 4,
    "start_time": "2023-06-04T09:26:41.898Z"
   },
   {
    "duration": 83,
    "start_time": "2023-06-04T09:26:41.903Z"
   },
   {
    "duration": 119,
    "start_time": "2023-06-04T09:26:41.988Z"
   },
   {
    "duration": 5,
    "start_time": "2023-06-04T09:26:42.112Z"
   },
   {
    "duration": 150,
    "start_time": "2023-06-04T09:26:42.118Z"
   },
   {
    "duration": 4,
    "start_time": "2023-06-04T09:26:42.270Z"
   },
   {
    "duration": 141,
    "start_time": "2023-06-04T09:26:42.276Z"
   },
   {
    "duration": 22,
    "start_time": "2023-06-04T09:26:42.419Z"
   },
   {
    "duration": 6,
    "start_time": "2023-06-04T09:26:42.443Z"
   },
   {
    "duration": 22,
    "start_time": "2023-06-04T09:26:42.450Z"
   },
   {
    "duration": 14,
    "start_time": "2023-06-04T09:26:42.474Z"
   },
   {
    "duration": 18,
    "start_time": "2023-06-04T09:26:42.489Z"
   },
   {
    "duration": 223,
    "start_time": "2023-06-04T09:26:42.508Z"
   },
   {
    "duration": 258,
    "start_time": "2023-06-04T09:26:42.733Z"
   },
   {
    "duration": 17,
    "start_time": "2023-06-04T09:26:42.993Z"
   },
   {
    "duration": 8,
    "start_time": "2023-06-04T09:26:43.011Z"
   },
   {
    "duration": 43,
    "start_time": "2023-06-04T09:26:43.020Z"
   },
   {
    "duration": 23,
    "start_time": "2023-06-04T09:26:43.065Z"
   },
   {
    "duration": 140,
    "start_time": "2023-06-04T09:26:43.090Z"
   },
   {
    "duration": 15,
    "start_time": "2023-06-04T09:26:43.231Z"
   },
   {
    "duration": 14,
    "start_time": "2023-06-04T09:26:43.247Z"
   },
   {
    "duration": 16,
    "start_time": "2023-06-04T09:26:43.262Z"
   },
   {
    "duration": 17,
    "start_time": "2023-06-04T09:26:43.279Z"
   },
   {
    "duration": 186,
    "start_time": "2023-06-04T09:26:43.298Z"
   },
   {
    "duration": 7,
    "start_time": "2023-06-04T09:26:43.486Z"
   },
   {
    "duration": 8,
    "start_time": "2023-06-04T09:26:57.309Z"
   },
   {
    "duration": 5,
    "start_time": "2023-06-04T09:45:02.247Z"
   },
   {
    "duration": 9,
    "start_time": "2023-06-04T09:50:23.270Z"
   },
   {
    "duration": 4,
    "start_time": "2023-06-04T09:51:44.968Z"
   },
   {
    "duration": 132,
    "start_time": "2023-06-04T20:57:31.326Z"
   },
   {
    "duration": 1025,
    "start_time": "2023-06-04T21:01:40.619Z"
   },
   {
    "duration": 151,
    "start_time": "2023-06-04T21:01:41.646Z"
   },
   {
    "duration": 9,
    "start_time": "2023-06-04T21:01:41.799Z"
   },
   {
    "duration": 189,
    "start_time": "2023-06-04T21:01:41.810Z"
   },
   {
    "duration": 167,
    "start_time": "2023-06-04T21:01:42.001Z"
   },
   {
    "duration": 19,
    "start_time": "2023-06-04T21:01:42.170Z"
   },
   {
    "duration": 11,
    "start_time": "2023-06-04T21:01:42.190Z"
   },
   {
    "duration": 186,
    "start_time": "2023-06-04T21:01:42.202Z"
   },
   {
    "duration": 172,
    "start_time": "2023-06-04T21:01:42.389Z"
   },
   {
    "duration": 56,
    "start_time": "2023-06-04T21:01:42.564Z"
   },
   {
    "duration": 9,
    "start_time": "2023-06-04T21:01:42.622Z"
   },
   {
    "duration": 6,
    "start_time": "2023-06-04T21:01:42.633Z"
   },
   {
    "duration": 9,
    "start_time": "2023-06-04T21:01:42.641Z"
   },
   {
    "duration": 4,
    "start_time": "2023-06-04T21:01:42.651Z"
   },
   {
    "duration": 7,
    "start_time": "2023-06-04T21:01:42.657Z"
   },
   {
    "duration": 7,
    "start_time": "2023-06-04T21:01:42.666Z"
   },
   {
    "duration": 4,
    "start_time": "2023-06-04T21:01:42.674Z"
   },
   {
    "duration": 8,
    "start_time": "2023-06-04T21:01:42.679Z"
   },
   {
    "duration": 5,
    "start_time": "2023-06-04T21:01:42.688Z"
   },
   {
    "duration": 5,
    "start_time": "2023-06-04T21:01:42.694Z"
   },
   {
    "duration": 3,
    "start_time": "2023-06-04T21:01:42.700Z"
   },
   {
    "duration": 5,
    "start_time": "2023-06-04T21:01:42.704Z"
   },
   {
    "duration": 8,
    "start_time": "2023-06-04T21:01:42.710Z"
   },
   {
    "duration": 5,
    "start_time": "2023-06-04T21:01:42.719Z"
   },
   {
    "duration": 9,
    "start_time": "2023-06-04T21:01:42.725Z"
   },
   {
    "duration": 6,
    "start_time": "2023-06-04T21:01:42.735Z"
   },
   {
    "duration": 5,
    "start_time": "2023-06-04T21:01:42.775Z"
   },
   {
    "duration": 5,
    "start_time": "2023-06-04T21:01:42.784Z"
   },
   {
    "duration": 6,
    "start_time": "2023-06-04T21:01:42.790Z"
   },
   {
    "duration": 6,
    "start_time": "2023-06-04T21:01:42.798Z"
   },
   {
    "duration": 5,
    "start_time": "2023-06-04T21:01:42.805Z"
   },
   {
    "duration": 5,
    "start_time": "2023-06-04T21:01:42.811Z"
   },
   {
    "duration": 181,
    "start_time": "2023-06-04T21:01:42.817Z"
   },
   {
    "duration": 6,
    "start_time": "2023-06-04T21:01:43.000Z"
   },
   {
    "duration": 5,
    "start_time": "2023-06-04T21:01:43.007Z"
   },
   {
    "duration": 4,
    "start_time": "2023-06-04T21:01:43.014Z"
   },
   {
    "duration": 6,
    "start_time": "2023-06-04T21:01:43.019Z"
   },
   {
    "duration": 4,
    "start_time": "2023-06-04T21:01:43.027Z"
   },
   {
    "duration": 4,
    "start_time": "2023-06-04T21:01:43.032Z"
   },
   {
    "duration": 5,
    "start_time": "2023-06-04T21:01:43.037Z"
   },
   {
    "duration": 32,
    "start_time": "2023-06-04T21:01:43.043Z"
   },
   {
    "duration": 71,
    "start_time": "2023-06-04T21:01:43.077Z"
   },
   {
    "duration": 130,
    "start_time": "2023-06-04T21:01:43.150Z"
   },
   {
    "duration": 5,
    "start_time": "2023-06-04T21:01:43.282Z"
   },
   {
    "duration": 161,
    "start_time": "2023-06-04T21:01:43.289Z"
   },
   {
    "duration": 5,
    "start_time": "2023-06-04T21:01:43.452Z"
   },
   {
    "duration": 154,
    "start_time": "2023-06-04T21:01:43.459Z"
   },
   {
    "duration": 23,
    "start_time": "2023-06-04T21:01:43.615Z"
   },
   {
    "duration": 7,
    "start_time": "2023-06-04T21:01:43.640Z"
   },
   {
    "duration": 31,
    "start_time": "2023-06-04T21:01:43.648Z"
   },
   {
    "duration": 6,
    "start_time": "2023-06-04T21:01:43.680Z"
   },
   {
    "duration": 11,
    "start_time": "2023-06-04T21:01:43.687Z"
   },
   {
    "duration": 263,
    "start_time": "2023-06-04T21:01:43.700Z"
   },
   {
    "duration": 261,
    "start_time": "2023-06-04T21:01:43.965Z"
   },
   {
    "duration": 19,
    "start_time": "2023-06-04T21:01:44.228Z"
   },
   {
    "duration": 8,
    "start_time": "2023-06-04T21:01:44.249Z"
   },
   {
    "duration": 19,
    "start_time": "2023-06-04T21:01:44.258Z"
   },
   {
    "duration": 10,
    "start_time": "2023-06-04T21:01:44.278Z"
   },
   {
    "duration": 193,
    "start_time": "2023-06-04T21:01:44.290Z"
   },
   {
    "duration": 16,
    "start_time": "2023-06-04T21:01:44.485Z"
   },
   {
    "duration": 6,
    "start_time": "2023-06-04T21:01:44.503Z"
   },
   {
    "duration": 5,
    "start_time": "2023-06-04T21:01:44.510Z"
   },
   {
    "duration": 8,
    "start_time": "2023-06-04T21:01:44.516Z"
   },
   {
    "duration": 245,
    "start_time": "2023-06-04T21:01:44.525Z"
   },
   {
    "duration": 5,
    "start_time": "2023-06-04T21:01:44.772Z"
   },
   {
    "duration": 4,
    "start_time": "2023-06-04T21:09:06.654Z"
   },
   {
    "duration": 7,
    "start_time": "2023-06-04T21:09:39.849Z"
   },
   {
    "duration": 105,
    "start_time": "2023-06-05T10:21:04.819Z"
   },
   {
    "duration": 44,
    "start_time": "2023-06-05T10:32:25.487Z"
   },
   {
    "duration": 1205,
    "start_time": "2023-06-05T10:32:32.146Z"
   },
   {
    "duration": 147,
    "start_time": "2023-06-05T10:32:33.354Z"
   },
   {
    "duration": 13,
    "start_time": "2023-06-05T10:32:33.503Z"
   },
   {
    "duration": 222,
    "start_time": "2023-06-05T10:32:33.517Z"
   },
   {
    "duration": 59,
    "start_time": "2023-06-05T10:41:21.900Z"
   },
   {
    "duration": 3,
    "start_time": "2023-06-05T10:41:28.498Z"
   },
   {
    "duration": 39,
    "start_time": "2023-06-05T10:41:28.502Z"
   },
   {
    "duration": 11,
    "start_time": "2023-06-05T10:41:28.542Z"
   },
   {
    "duration": 217,
    "start_time": "2023-06-05T10:41:28.554Z"
   },
   {
    "duration": 368,
    "start_time": "2023-06-05T10:41:28.773Z"
   },
   {
    "duration": 18,
    "start_time": "2023-06-05T10:41:29.142Z"
   },
   {
    "duration": 12,
    "start_time": "2023-06-05T10:41:29.161Z"
   },
   {
    "duration": 242,
    "start_time": "2023-06-05T10:41:29.175Z"
   },
   {
    "duration": 260,
    "start_time": "2023-06-05T10:43:24.092Z"
   },
   {
    "duration": 217,
    "start_time": "2023-06-05T10:44:56.219Z"
   },
   {
    "duration": 202,
    "start_time": "2023-06-05T10:45:29.725Z"
   },
   {
    "duration": 191,
    "start_time": "2023-06-05T10:54:45.608Z"
   },
   {
    "duration": 4,
    "start_time": "2023-06-05T11:04:34.549Z"
   },
   {
    "duration": 4,
    "start_time": "2023-06-05T11:05:02.653Z"
   },
   {
    "duration": 9,
    "start_time": "2023-06-05T11:05:26.492Z"
   },
   {
    "duration": 2,
    "start_time": "2023-06-05T11:05:38.729Z"
   },
   {
    "duration": 36,
    "start_time": "2023-06-05T11:05:38.735Z"
   },
   {
    "duration": 11,
    "start_time": "2023-06-05T11:05:38.773Z"
   },
   {
    "duration": 235,
    "start_time": "2023-06-05T11:05:38.785Z"
   },
   {
    "duration": 36,
    "start_time": "2023-06-05T11:05:39.022Z"
   },
   {
    "duration": 18,
    "start_time": "2023-06-05T11:05:39.060Z"
   },
   {
    "duration": 18,
    "start_time": "2023-06-05T11:05:39.080Z"
   },
   {
    "duration": 196,
    "start_time": "2023-06-05T11:05:39.099Z"
   },
   {
    "duration": 206,
    "start_time": "2023-06-05T11:05:39.296Z"
   },
   {
    "duration": 57,
    "start_time": "2023-06-05T11:05:39.504Z"
   },
   {
    "duration": 9,
    "start_time": "2023-06-05T11:05:39.562Z"
   },
   {
    "duration": 10,
    "start_time": "2023-06-05T11:05:39.573Z"
   },
   {
    "duration": 9,
    "start_time": "2023-06-05T11:05:39.585Z"
   },
   {
    "duration": 5,
    "start_time": "2023-06-05T11:05:39.596Z"
   },
   {
    "duration": 86,
    "start_time": "2023-06-05T11:05:39.605Z"
   },
   {
    "duration": 10,
    "start_time": "2023-06-05T11:05:39.692Z"
   },
   {
    "duration": 5,
    "start_time": "2023-06-05T11:05:39.703Z"
   },
   {
    "duration": 16,
    "start_time": "2023-06-05T11:05:39.709Z"
   },
   {
    "duration": 5,
    "start_time": "2023-06-05T11:05:39.726Z"
   },
   {
    "duration": 5,
    "start_time": "2023-06-05T11:05:39.733Z"
   },
   {
    "duration": 12,
    "start_time": "2023-06-05T11:05:39.739Z"
   },
   {
    "duration": 6,
    "start_time": "2023-06-05T11:05:39.753Z"
   },
   {
    "duration": 22,
    "start_time": "2023-06-05T11:05:39.761Z"
   },
   {
    "duration": 5,
    "start_time": "2023-06-05T11:05:39.785Z"
   },
   {
    "duration": 9,
    "start_time": "2023-06-05T11:05:39.791Z"
   },
   {
    "duration": 6,
    "start_time": "2023-06-05T11:05:39.802Z"
   },
   {
    "duration": 6,
    "start_time": "2023-06-05T11:05:39.810Z"
   },
   {
    "duration": 20,
    "start_time": "2023-06-05T11:05:39.817Z"
   },
   {
    "duration": 11,
    "start_time": "2023-06-05T11:05:39.838Z"
   },
   {
    "duration": 28,
    "start_time": "2023-06-05T11:05:39.850Z"
   },
   {
    "duration": 5,
    "start_time": "2023-06-05T11:05:39.879Z"
   },
   {
    "duration": 5,
    "start_time": "2023-06-05T11:05:39.886Z"
   },
   {
    "duration": 173,
    "start_time": "2023-06-05T11:05:39.892Z"
   },
   {
    "duration": 9,
    "start_time": "2023-06-05T11:05:40.067Z"
   },
   {
    "duration": 5,
    "start_time": "2023-06-05T11:05:40.078Z"
   },
   {
    "duration": 11,
    "start_time": "2023-06-05T11:05:40.085Z"
   },
   {
    "duration": 15,
    "start_time": "2023-06-05T11:05:40.097Z"
   },
   {
    "duration": 4,
    "start_time": "2023-06-05T11:05:40.114Z"
   },
   {
    "duration": 4,
    "start_time": "2023-06-05T11:05:40.119Z"
   },
   {
    "duration": 5,
    "start_time": "2023-06-05T11:05:40.124Z"
   },
   {
    "duration": 4,
    "start_time": "2023-06-05T11:05:40.130Z"
   },
   {
    "duration": 77,
    "start_time": "2023-06-05T11:05:40.137Z"
   },
   {
    "duration": 118,
    "start_time": "2023-06-05T11:05:40.216Z"
   },
   {
    "duration": 4,
    "start_time": "2023-06-05T11:05:40.336Z"
   },
   {
    "duration": 162,
    "start_time": "2023-06-05T11:05:40.341Z"
   },
   {
    "duration": 5,
    "start_time": "2023-06-05T11:05:40.504Z"
   },
   {
    "duration": 154,
    "start_time": "2023-06-05T11:05:40.510Z"
   },
   {
    "duration": 29,
    "start_time": "2023-06-05T11:05:40.665Z"
   },
   {
    "duration": 4,
    "start_time": "2023-06-05T11:05:40.695Z"
   },
   {
    "duration": 8,
    "start_time": "2023-06-05T11:05:40.700Z"
   },
   {
    "duration": 16,
    "start_time": "2023-06-05T11:05:40.710Z"
   },
   {
    "duration": 4,
    "start_time": "2023-06-05T11:11:50.169Z"
   },
   {
    "duration": 10,
    "start_time": "2023-06-05T11:19:26.903Z"
   },
   {
    "duration": 4,
    "start_time": "2023-06-05T11:19:40.970Z"
   },
   {
    "duration": 5,
    "start_time": "2023-06-05T11:23:08.268Z"
   },
   {
    "duration": 110,
    "start_time": "2023-06-05T11:28:19.182Z"
   },
   {
    "duration": 24,
    "start_time": "2023-06-05T11:29:46.194Z"
   },
   {
    "duration": 4,
    "start_time": "2023-06-05T11:29:54.765Z"
   },
   {
    "duration": 28,
    "start_time": "2023-06-05T11:30:00.863Z"
   },
   {
    "duration": 4,
    "start_time": "2023-06-05T11:30:03.805Z"
   },
   {
    "duration": 3,
    "start_time": "2023-06-05T11:30:15.423Z"
   },
   {
    "duration": 40,
    "start_time": "2023-06-05T11:30:15.429Z"
   },
   {
    "duration": 10,
    "start_time": "2023-06-05T11:30:15.471Z"
   },
   {
    "duration": 240,
    "start_time": "2023-06-05T11:30:15.483Z"
   },
   {
    "duration": 29,
    "start_time": "2023-06-05T11:30:15.724Z"
   },
   {
    "duration": 26,
    "start_time": "2023-06-05T11:30:15.755Z"
   },
   {
    "duration": 12,
    "start_time": "2023-06-05T11:30:15.785Z"
   },
   {
    "duration": 216,
    "start_time": "2023-06-05T11:30:15.798Z"
   },
   {
    "duration": 216,
    "start_time": "2023-06-05T11:30:16.016Z"
   },
   {
    "duration": 19,
    "start_time": "2023-06-05T11:30:16.235Z"
   },
   {
    "duration": 31,
    "start_time": "2023-06-05T11:30:16.256Z"
   },
   {
    "duration": 16,
    "start_time": "2023-06-05T11:30:16.289Z"
   },
   {
    "duration": 10,
    "start_time": "2023-06-05T11:30:16.307Z"
   },
   {
    "duration": 4,
    "start_time": "2023-06-05T11:30:16.319Z"
   },
   {
    "duration": 22,
    "start_time": "2023-06-05T11:30:16.326Z"
   },
   {
    "duration": 6,
    "start_time": "2023-06-05T11:30:16.350Z"
   },
   {
    "duration": 11,
    "start_time": "2023-06-05T11:30:16.358Z"
   },
   {
    "duration": 16,
    "start_time": "2023-06-05T11:30:16.370Z"
   },
   {
    "duration": 7,
    "start_time": "2023-06-05T11:30:16.387Z"
   },
   {
    "duration": 9,
    "start_time": "2023-06-05T11:30:16.396Z"
   },
   {
    "duration": 8,
    "start_time": "2023-06-05T11:30:16.406Z"
   },
   {
    "duration": 10,
    "start_time": "2023-06-05T11:30:16.415Z"
   },
   {
    "duration": 10,
    "start_time": "2023-06-05T11:30:16.426Z"
   },
   {
    "duration": 4,
    "start_time": "2023-06-05T11:30:16.438Z"
   },
   {
    "duration": 9,
    "start_time": "2023-06-05T11:30:16.443Z"
   },
   {
    "duration": 7,
    "start_time": "2023-06-05T11:30:16.453Z"
   },
   {
    "duration": 20,
    "start_time": "2023-06-05T11:30:16.462Z"
   },
   {
    "duration": 12,
    "start_time": "2023-06-05T11:30:16.489Z"
   },
   {
    "duration": 12,
    "start_time": "2023-06-05T11:30:16.502Z"
   },
   {
    "duration": 8,
    "start_time": "2023-06-05T11:30:16.515Z"
   },
   {
    "duration": 6,
    "start_time": "2023-06-05T11:30:16.525Z"
   },
   {
    "duration": 13,
    "start_time": "2023-06-05T11:30:16.533Z"
   },
   {
    "duration": 197,
    "start_time": "2023-06-05T11:30:16.548Z"
   },
   {
    "duration": 6,
    "start_time": "2023-06-05T11:30:16.747Z"
   },
   {
    "duration": 18,
    "start_time": "2023-06-05T11:30:16.754Z"
   },
   {
    "duration": 18,
    "start_time": "2023-06-05T11:30:16.775Z"
   },
   {
    "duration": 17,
    "start_time": "2023-06-05T11:30:16.794Z"
   },
   {
    "duration": 11,
    "start_time": "2023-06-05T11:30:16.812Z"
   },
   {
    "duration": 7,
    "start_time": "2023-06-05T11:30:16.824Z"
   },
   {
    "duration": 8,
    "start_time": "2023-06-05T11:30:16.832Z"
   },
   {
    "duration": 8,
    "start_time": "2023-06-05T11:30:16.841Z"
   },
   {
    "duration": 90,
    "start_time": "2023-06-05T11:30:16.852Z"
   },
   {
    "duration": 144,
    "start_time": "2023-06-05T11:30:16.944Z"
   },
   {
    "duration": 4,
    "start_time": "2023-06-05T11:30:17.090Z"
   },
   {
    "duration": 230,
    "start_time": "2023-06-05T11:30:17.095Z"
   },
   {
    "duration": 5,
    "start_time": "2023-06-05T11:30:17.326Z"
   },
   {
    "duration": 156,
    "start_time": "2023-06-05T11:30:17.333Z"
   },
   {
    "duration": 24,
    "start_time": "2023-06-05T11:30:17.491Z"
   },
   {
    "duration": 4,
    "start_time": "2023-06-05T11:30:17.516Z"
   },
   {
    "duration": 4,
    "start_time": "2023-06-05T11:31:59.091Z"
   },
   {
    "duration": 4,
    "start_time": "2023-06-05T11:32:23.614Z"
   },
   {
    "duration": 4,
    "start_time": "2023-06-05T11:32:41.985Z"
   },
   {
    "duration": 4,
    "start_time": "2023-06-05T11:33:02.471Z"
   },
   {
    "duration": 73,
    "start_time": "2023-06-05T12:29:16.027Z"
   },
   {
    "duration": 100,
    "start_time": "2023-06-05T12:29:40.715Z"
   },
   {
    "duration": 72,
    "start_time": "2023-06-05T12:34:25.244Z"
   },
   {
    "duration": 9,
    "start_time": "2023-06-05T16:34:20.655Z"
   },
   {
    "duration": 3,
    "start_time": "2023-06-05T16:34:28.283Z"
   },
   {
    "duration": 38,
    "start_time": "2023-06-05T16:34:28.291Z"
   },
   {
    "duration": 13,
    "start_time": "2023-06-05T16:34:28.331Z"
   },
   {
    "duration": 233,
    "start_time": "2023-06-05T16:34:28.346Z"
   },
   {
    "duration": 28,
    "start_time": "2023-06-05T16:34:28.580Z"
   },
   {
    "duration": 18,
    "start_time": "2023-06-05T16:34:28.610Z"
   },
   {
    "duration": 10,
    "start_time": "2023-06-05T16:34:28.630Z"
   },
   {
    "duration": 250,
    "start_time": "2023-06-05T16:34:28.642Z"
   },
   {
    "duration": 205,
    "start_time": "2023-06-05T16:34:28.894Z"
   },
   {
    "duration": 19,
    "start_time": "2023-06-05T16:34:29.100Z"
   },
   {
    "duration": 10,
    "start_time": "2023-06-05T16:34:29.120Z"
   },
   {
    "duration": 10,
    "start_time": "2023-06-05T16:34:29.132Z"
   },
   {
    "duration": 18,
    "start_time": "2023-06-05T16:34:29.144Z"
   },
   {
    "duration": 14,
    "start_time": "2023-06-05T16:34:29.164Z"
   },
   {
    "duration": 16,
    "start_time": "2023-06-05T16:34:29.181Z"
   },
   {
    "duration": 7,
    "start_time": "2023-06-05T16:34:29.199Z"
   },
   {
    "duration": 4,
    "start_time": "2023-06-05T16:34:29.208Z"
   },
   {
    "duration": 10,
    "start_time": "2023-06-05T16:34:29.213Z"
   },
   {
    "duration": 4,
    "start_time": "2023-06-05T16:34:29.225Z"
   },
   {
    "duration": 6,
    "start_time": "2023-06-05T16:34:29.230Z"
   },
   {
    "duration": 6,
    "start_time": "2023-06-05T16:34:29.237Z"
   },
   {
    "duration": 5,
    "start_time": "2023-06-05T16:34:29.244Z"
   },
   {
    "duration": 29,
    "start_time": "2023-06-05T16:34:29.251Z"
   },
   {
    "duration": 5,
    "start_time": "2023-06-05T16:34:29.281Z"
   },
   {
    "duration": 7,
    "start_time": "2023-06-05T16:34:29.287Z"
   },
   {
    "duration": 10,
    "start_time": "2023-06-05T16:34:29.295Z"
   },
   {
    "duration": 5,
    "start_time": "2023-06-05T16:34:29.306Z"
   },
   {
    "duration": 7,
    "start_time": "2023-06-05T16:34:29.312Z"
   },
   {
    "duration": 3,
    "start_time": "2023-06-05T16:34:29.320Z"
   },
   {
    "duration": 6,
    "start_time": "2023-06-05T16:34:29.324Z"
   },
   {
    "duration": 43,
    "start_time": "2023-06-05T16:34:29.332Z"
   },
   {
    "duration": 5,
    "start_time": "2023-06-05T16:34:29.377Z"
   },
   {
    "duration": 175,
    "start_time": "2023-06-05T16:34:29.384Z"
   },
   {
    "duration": 15,
    "start_time": "2023-06-05T16:34:29.561Z"
   },
   {
    "duration": 5,
    "start_time": "2023-06-05T16:34:29.578Z"
   },
   {
    "duration": 6,
    "start_time": "2023-06-05T16:34:29.584Z"
   },
   {
    "duration": 6,
    "start_time": "2023-06-05T16:34:29.592Z"
   },
   {
    "duration": 7,
    "start_time": "2023-06-05T16:34:29.599Z"
   },
   {
    "duration": 19,
    "start_time": "2023-06-05T16:34:29.607Z"
   },
   {
    "duration": 25,
    "start_time": "2023-06-05T16:34:29.628Z"
   },
   {
    "duration": 9,
    "start_time": "2023-06-05T16:34:29.655Z"
   },
   {
    "duration": 76,
    "start_time": "2023-06-05T16:34:29.668Z"
   },
   {
    "duration": 115,
    "start_time": "2023-06-05T16:34:29.746Z"
   },
   {
    "duration": 13,
    "start_time": "2023-06-05T16:34:29.862Z"
   },
   {
    "duration": 158,
    "start_time": "2023-06-05T16:34:29.877Z"
   },
   {
    "duration": 5,
    "start_time": "2023-06-05T16:34:30.036Z"
   },
   {
    "duration": 171,
    "start_time": "2023-06-05T16:34:30.042Z"
   },
   {
    "duration": 22,
    "start_time": "2023-06-05T16:34:30.215Z"
   },
   {
    "duration": 12,
    "start_time": "2023-06-05T16:34:30.239Z"
   },
   {
    "duration": 25,
    "start_time": "2023-06-05T16:34:30.253Z"
   },
   {
    "duration": 30,
    "start_time": "2023-06-05T16:34:30.280Z"
   },
   {
    "duration": 40,
    "start_time": "2023-06-05T16:34:30.312Z"
   },
   {
    "duration": 69,
    "start_time": "2023-06-05T16:34:30.354Z"
   },
   {
    "duration": 49,
    "start_time": "2023-06-05T16:34:30.425Z"
   },
   {
    "duration": 71,
    "start_time": "2023-06-05T16:34:30.476Z"
   },
   {
    "duration": 56,
    "start_time": "2023-06-05T16:34:30.549Z"
   },
   {
    "duration": 320,
    "start_time": "2023-06-05T16:34:30.607Z"
   },
   {
    "duration": 302,
    "start_time": "2023-06-05T16:34:30.929Z"
   },
   {
    "duration": 19,
    "start_time": "2023-06-05T16:34:31.233Z"
   },
   {
    "duration": 25,
    "start_time": "2023-06-05T16:34:31.254Z"
   },
   {
    "duration": 32,
    "start_time": "2023-06-05T16:34:31.280Z"
   },
   {
    "duration": 37,
    "start_time": "2023-06-05T16:34:31.314Z"
   },
   {
    "duration": 132,
    "start_time": "2023-06-05T16:34:31.353Z"
   },
   {
    "duration": 17,
    "start_time": "2023-06-05T16:34:31.486Z"
   },
   {
    "duration": 20,
    "start_time": "2023-06-05T16:34:31.505Z"
   },
   {
    "duration": 57,
    "start_time": "2023-06-05T16:34:31.527Z"
   },
   {
    "duration": 30,
    "start_time": "2023-06-05T16:34:31.585Z"
   },
   {
    "duration": 243,
    "start_time": "2023-06-05T16:34:31.617Z"
   },
   {
    "duration": 105,
    "start_time": "2023-06-05T16:34:31.861Z"
   },
   {
    "duration": 0,
    "start_time": "2023-06-05T16:34:31.968Z"
   },
   {
    "duration": 10,
    "start_time": "2023-06-05T16:34:44.512Z"
   },
   {
    "duration": 10,
    "start_time": "2023-06-05T16:42:43.995Z"
   },
   {
    "duration": 9,
    "start_time": "2023-06-05T16:42:53.788Z"
   },
   {
    "duration": 2,
    "start_time": "2023-06-05T16:42:59.349Z"
   },
   {
    "duration": 3,
    "start_time": "2023-06-05T17:01:36.417Z"
   },
   {
    "duration": 33,
    "start_time": "2023-06-05T17:01:36.424Z"
   },
   {
    "duration": 12,
    "start_time": "2023-06-05T17:01:36.458Z"
   },
   {
    "duration": 220,
    "start_time": "2023-06-05T17:01:36.471Z"
   },
   {
    "duration": 30,
    "start_time": "2023-06-05T17:01:36.693Z"
   },
   {
    "duration": 18,
    "start_time": "2023-06-05T17:01:36.724Z"
   },
   {
    "duration": 10,
    "start_time": "2023-06-05T17:01:36.743Z"
   },
   {
    "duration": 219,
    "start_time": "2023-06-05T17:01:36.754Z"
   },
   {
    "duration": 204,
    "start_time": "2023-06-05T17:01:36.975Z"
   },
   {
    "duration": 19,
    "start_time": "2023-06-05T17:01:37.181Z"
   },
   {
    "duration": 9,
    "start_time": "2023-06-05T17:01:37.202Z"
   },
   {
    "duration": 1032,
    "start_time": "2023-06-06T11:26:01.584Z"
   },
   {
    "duration": 152,
    "start_time": "2023-06-06T11:26:02.618Z"
   },
   {
    "duration": 22,
    "start_time": "2023-06-06T11:26:02.773Z"
   },
   {
    "duration": 220,
    "start_time": "2023-06-06T11:26:02.796Z"
   },
   {
    "duration": 173,
    "start_time": "2023-06-06T11:26:03.018Z"
   },
   {
    "duration": 23,
    "start_time": "2023-06-06T11:26:03.193Z"
   },
   {
    "duration": 12,
    "start_time": "2023-06-06T11:26:03.217Z"
   },
   {
    "duration": 205,
    "start_time": "2023-06-06T11:26:03.231Z"
   },
   {
    "duration": 205,
    "start_time": "2023-06-06T11:26:03.438Z"
   },
   {
    "duration": 72,
    "start_time": "2023-06-06T11:26:03.645Z"
   },
   {
    "duration": 9,
    "start_time": "2023-06-06T11:26:03.719Z"
   },
   {
    "duration": 7,
    "start_time": "2023-06-06T11:26:03.729Z"
   },
   {
    "duration": 11,
    "start_time": "2023-06-06T11:26:03.737Z"
   },
   {
    "duration": 5,
    "start_time": "2023-06-06T11:26:03.751Z"
   },
   {
    "duration": 11,
    "start_time": "2023-06-06T11:26:03.758Z"
   },
   {
    "duration": 18,
    "start_time": "2023-06-06T11:26:03.771Z"
   },
   {
    "duration": 8,
    "start_time": "2023-06-06T11:26:03.790Z"
   },
   {
    "duration": 6,
    "start_time": "2023-06-06T11:26:03.800Z"
   },
   {
    "duration": 5,
    "start_time": "2023-06-06T11:26:03.807Z"
   },
   {
    "duration": 7,
    "start_time": "2023-06-06T11:26:03.813Z"
   },
   {
    "duration": 3,
    "start_time": "2023-06-06T11:26:03.822Z"
   },
   {
    "duration": 11,
    "start_time": "2023-06-06T11:26:03.826Z"
   },
   {
    "duration": 8,
    "start_time": "2023-06-06T11:26:03.838Z"
   },
   {
    "duration": 5,
    "start_time": "2023-06-06T11:26:03.847Z"
   },
   {
    "duration": 39,
    "start_time": "2023-06-06T11:26:03.853Z"
   },
   {
    "duration": 9,
    "start_time": "2023-06-06T11:26:03.894Z"
   },
   {
    "duration": 10,
    "start_time": "2023-06-06T11:26:03.905Z"
   },
   {
    "duration": 6,
    "start_time": "2023-06-06T11:26:03.917Z"
   },
   {
    "duration": 7,
    "start_time": "2023-06-06T11:26:03.925Z"
   },
   {
    "duration": 8,
    "start_time": "2023-06-06T11:26:03.933Z"
   },
   {
    "duration": 5,
    "start_time": "2023-06-06T11:26:03.942Z"
   },
   {
    "duration": 10,
    "start_time": "2023-06-06T11:26:03.948Z"
   },
   {
    "duration": 166,
    "start_time": "2023-06-06T11:26:03.982Z"
   },
   {
    "duration": 5,
    "start_time": "2023-06-06T11:26:04.150Z"
   },
   {
    "duration": 6,
    "start_time": "2023-06-06T11:26:04.157Z"
   },
   {
    "duration": 23,
    "start_time": "2023-06-06T11:26:04.164Z"
   },
   {
    "duration": 8,
    "start_time": "2023-06-06T11:26:04.189Z"
   },
   {
    "duration": 4,
    "start_time": "2023-06-06T11:26:04.198Z"
   },
   {
    "duration": 4,
    "start_time": "2023-06-06T11:26:04.204Z"
   },
   {
    "duration": 14,
    "start_time": "2023-06-06T11:26:04.209Z"
   },
   {
    "duration": 3,
    "start_time": "2023-06-06T11:26:04.227Z"
   },
   {
    "duration": 76,
    "start_time": "2023-06-06T11:26:04.232Z"
   },
   {
    "duration": 130,
    "start_time": "2023-06-06T11:26:04.310Z"
   },
   {
    "duration": 4,
    "start_time": "2023-06-06T11:26:04.442Z"
   },
   {
    "duration": 168,
    "start_time": "2023-06-06T11:26:04.447Z"
   },
   {
    "duration": 5,
    "start_time": "2023-06-06T11:26:04.616Z"
   },
   {
    "duration": 172,
    "start_time": "2023-06-06T11:26:04.622Z"
   },
   {
    "duration": 25,
    "start_time": "2023-06-06T11:26:04.796Z"
   },
   {
    "duration": 4,
    "start_time": "2023-06-06T11:26:04.822Z"
   },
   {
    "duration": 5,
    "start_time": "2023-06-06T11:26:04.828Z"
   },
   {
    "duration": 5,
    "start_time": "2023-06-06T11:26:04.834Z"
   },
   {
    "duration": 4,
    "start_time": "2023-06-06T11:26:04.841Z"
   },
   {
    "duration": 18,
    "start_time": "2023-06-06T11:26:04.878Z"
   },
   {
    "duration": 20,
    "start_time": "2023-06-06T11:26:04.897Z"
   },
   {
    "duration": 7,
    "start_time": "2023-06-06T11:26:04.919Z"
   },
   {
    "duration": 12,
    "start_time": "2023-06-06T11:26:04.927Z"
   },
   {
    "duration": 260,
    "start_time": "2023-06-06T11:26:04.940Z"
   },
   {
    "duration": 234,
    "start_time": "2023-06-06T11:26:05.202Z"
   },
   {
    "duration": 19,
    "start_time": "2023-06-06T11:26:05.438Z"
   },
   {
    "duration": 34,
    "start_time": "2023-06-06T11:26:05.459Z"
   },
   {
    "duration": 4,
    "start_time": "2023-06-06T11:26:05.495Z"
   },
   {
    "duration": 16,
    "start_time": "2023-06-06T11:26:05.500Z"
   },
   {
    "duration": 219,
    "start_time": "2023-06-06T11:26:05.518Z"
   },
   {
    "duration": 18,
    "start_time": "2023-06-06T11:26:05.739Z"
   },
   {
    "duration": 19,
    "start_time": "2023-06-06T11:26:05.759Z"
   },
   {
    "duration": 12,
    "start_time": "2023-06-06T11:26:05.780Z"
   },
   {
    "duration": 11,
    "start_time": "2023-06-06T11:26:05.794Z"
   },
   {
    "duration": 241,
    "start_time": "2023-06-06T11:26:05.807Z"
   },
   {
    "duration": 5,
    "start_time": "2023-06-06T11:26:06.049Z"
   },
   {
    "duration": 5,
    "start_time": "2023-06-06T12:20:21.171Z"
   },
   {
    "duration": 14,
    "start_time": "2023-06-06T12:20:26.683Z"
   },
   {
    "duration": 11,
    "start_time": "2023-06-06T12:20:33.302Z"
   },
   {
    "duration": 14,
    "start_time": "2023-06-06T12:20:35.504Z"
   },
   {
    "duration": 5,
    "start_time": "2023-06-06T12:21:30.314Z"
   },
   {
    "duration": 21,
    "start_time": "2023-06-06T12:21:36.873Z"
   },
   {
    "duration": 117,
    "start_time": "2023-06-06T12:25:16.635Z"
   },
   {
    "duration": 59,
    "start_time": "2023-06-06T13:43:22.116Z"
   },
   {
    "duration": 1304,
    "start_time": "2023-06-06T13:43:27.044Z"
   },
   {
    "duration": 189,
    "start_time": "2023-06-06T13:43:28.351Z"
   },
   {
    "duration": 10,
    "start_time": "2023-06-06T13:43:28.541Z"
   },
   {
    "duration": 233,
    "start_time": "2023-06-06T13:43:28.554Z"
   },
   {
    "duration": 467,
    "start_time": "2023-06-06T13:43:28.789Z"
   },
   {
    "duration": 18,
    "start_time": "2023-06-06T13:43:29.257Z"
   },
   {
    "duration": 11,
    "start_time": "2023-06-06T13:43:29.276Z"
   },
   {
    "duration": 215,
    "start_time": "2023-06-06T13:43:29.289Z"
   },
   {
    "duration": 227,
    "start_time": "2023-06-06T13:43:29.506Z"
   },
   {
    "duration": 74,
    "start_time": "2023-06-06T13:43:29.737Z"
   },
   {
    "duration": 14,
    "start_time": "2023-06-06T13:43:29.816Z"
   },
   {
    "duration": 8,
    "start_time": "2023-06-06T13:43:29.835Z"
   },
   {
    "duration": 16,
    "start_time": "2023-06-06T13:43:29.845Z"
   },
   {
    "duration": 5,
    "start_time": "2023-06-06T13:43:29.864Z"
   },
   {
    "duration": 13,
    "start_time": "2023-06-06T13:43:29.870Z"
   },
   {
    "duration": 11,
    "start_time": "2023-06-06T13:43:29.885Z"
   },
   {
    "duration": 27,
    "start_time": "2023-06-06T13:43:29.897Z"
   },
   {
    "duration": 8,
    "start_time": "2023-06-06T13:43:29.932Z"
   },
   {
    "duration": 4,
    "start_time": "2023-06-06T13:43:29.944Z"
   },
   {
    "duration": 28,
    "start_time": "2023-06-06T13:43:29.950Z"
   },
   {
    "duration": 21,
    "start_time": "2023-06-06T13:43:29.980Z"
   },
   {
    "duration": 64,
    "start_time": "2023-06-06T13:43:30.003Z"
   },
   {
    "duration": 65,
    "start_time": "2023-06-06T13:43:30.069Z"
   },
   {
    "duration": 56,
    "start_time": "2023-06-06T13:43:30.137Z"
   },
   {
    "duration": 51,
    "start_time": "2023-06-06T13:43:30.195Z"
   },
   {
    "duration": 63,
    "start_time": "2023-06-06T13:43:30.248Z"
   },
   {
    "duration": 74,
    "start_time": "2023-06-06T13:43:30.312Z"
   },
   {
    "duration": 57,
    "start_time": "2023-06-06T13:43:30.387Z"
   },
   {
    "duration": 59,
    "start_time": "2023-06-06T13:43:30.446Z"
   },
   {
    "duration": 68,
    "start_time": "2023-06-06T13:43:30.507Z"
   },
   {
    "duration": 78,
    "start_time": "2023-06-06T13:43:30.577Z"
   },
   {
    "duration": 42,
    "start_time": "2023-06-06T13:43:30.656Z"
   },
   {
    "duration": 227,
    "start_time": "2023-06-06T13:43:30.700Z"
   },
   {
    "duration": 10,
    "start_time": "2023-06-06T13:43:30.929Z"
   },
   {
    "duration": 76,
    "start_time": "2023-06-06T13:43:30.941Z"
   },
   {
    "duration": 44,
    "start_time": "2023-06-06T13:43:31.020Z"
   },
   {
    "duration": 118,
    "start_time": "2023-06-06T13:43:31.066Z"
   },
   {
    "duration": 58,
    "start_time": "2023-06-06T13:43:31.186Z"
   },
   {
    "duration": 51,
    "start_time": "2023-06-06T13:43:31.245Z"
   },
   {
    "duration": 48,
    "start_time": "2023-06-06T13:43:31.298Z"
   },
   {
    "duration": 38,
    "start_time": "2023-06-06T13:43:31.351Z"
   },
   {
    "duration": 182,
    "start_time": "2023-06-06T13:43:31.390Z"
   },
   {
    "duration": 161,
    "start_time": "2023-06-06T13:43:31.573Z"
   },
   {
    "duration": 9,
    "start_time": "2023-06-06T13:43:31.748Z"
   },
   {
    "duration": 199,
    "start_time": "2023-06-06T13:43:31.761Z"
   },
   {
    "duration": 5,
    "start_time": "2023-06-06T13:43:31.962Z"
   },
   {
    "duration": 195,
    "start_time": "2023-06-06T13:43:31.968Z"
   },
   {
    "duration": 25,
    "start_time": "2023-06-06T13:43:32.165Z"
   },
   {
    "duration": 13,
    "start_time": "2023-06-06T13:43:32.192Z"
   },
   {
    "duration": 59,
    "start_time": "2023-06-06T13:43:32.208Z"
   },
   {
    "duration": 45,
    "start_time": "2023-06-06T13:43:32.269Z"
   },
   {
    "duration": 39,
    "start_time": "2023-06-06T13:43:32.317Z"
   },
   {
    "duration": 35,
    "start_time": "2023-06-06T13:43:32.358Z"
   },
   {
    "duration": 24,
    "start_time": "2023-06-06T13:43:32.395Z"
   },
   {
    "duration": 33,
    "start_time": "2023-06-06T13:43:32.420Z"
   },
   {
    "duration": 18,
    "start_time": "2023-06-06T13:43:32.455Z"
   },
   {
    "duration": 291,
    "start_time": "2023-06-06T13:43:32.474Z"
   },
   {
    "duration": 252,
    "start_time": "2023-06-06T13:43:32.767Z"
   },
   {
    "duration": 24,
    "start_time": "2023-06-06T13:43:33.023Z"
   },
   {
    "duration": 25,
    "start_time": "2023-06-06T13:43:33.049Z"
   },
   {
    "duration": 40,
    "start_time": "2023-06-06T13:43:33.076Z"
   },
   {
    "duration": 28,
    "start_time": "2023-06-06T13:43:33.117Z"
   },
   {
    "duration": 198,
    "start_time": "2023-06-06T13:43:33.147Z"
   },
   {
    "duration": 16,
    "start_time": "2023-06-06T13:43:33.347Z"
   },
   {
    "duration": 23,
    "start_time": "2023-06-06T13:43:33.364Z"
   },
   {
    "duration": 6,
    "start_time": "2023-06-06T13:45:04.435Z"
   },
   {
    "duration": 6,
    "start_time": "2023-06-06T13:50:19.627Z"
   },
   {
    "duration": 76,
    "start_time": "2023-06-06T14:04:12.277Z"
   }
  ],
  "kernelspec": {
   "display_name": "Python 3 (ipykernel)",
   "language": "python",
   "name": "python3"
  },
  "language_info": {
   "codemirror_mode": {
    "name": "ipython",
    "version": 3
   },
   "file_extension": ".py",
   "mimetype": "text/x-python",
   "name": "python",
   "nbconvert_exporter": "python",
   "pygments_lexer": "ipython3",
   "version": "3.11.4"
  },
  "toc": {
   "base_numbering": 1,
   "nav_menu": {},
   "number_sections": true,
   "sideBar": true,
   "skip_h1_title": true,
   "title_cell": "Table of Contents",
   "title_sidebar": "Contents",
   "toc_cell": false,
   "toc_position": {},
   "toc_section_display": true,
   "toc_window_display": true
  }
 },
 "nbformat": 4,
 "nbformat_minor": 5
}
